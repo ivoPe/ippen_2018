{
 "cells": [
  {
   "cell_type": "markdown",
   "metadata": {},
   "source": [
    "# IFPEN Data: Training models and and evaluation on test set for submission (Data Challenge) \n",
    "### Features are computed using the notebook Feature_IFPEN_Data"
   ]
  },
  {
   "cell_type": "code",
   "execution_count": 1,
   "metadata": {
    "collapsed": true
   },
   "outputs": [],
   "source": [
    "import os\n",
    "import numpy as np\n",
    "import pandas as pd\n",
    "import matplotlib.pyplot as plt\n",
    "import gudhi as gd\n",
    "import pickle\n",
    "\n",
    "from sklearn.preprocessing import LabelEncoder\n",
    "\n",
    "%matplotlib inline\n",
    "\n",
    "#Paths \n",
    "CHALLENGE_PATH = \"C:/Chazal/ChallengeIFPEN2018/\"\n",
    "DATA_PATH = \"C:/Chazal/ChallengeIFPEN2018/challenge_fichier_dentrees_dentrainement_prediction_de_la_saturation_dhuile_residuelle/Data/\"\n",
    "TOOLS_PATH = \"C:/Chazal/ChallengeIFPEN2018/challenge_fichier_dentrees_dentrainement_prediction_de_la_saturation_dhuile_residuelle/Tools/\"\n",
    "\n",
    "#Some constants\n",
    "DEFAULT_SIZE = [175,152,152]\n",
    "NB_INPUT_IMG = 400\n",
    "\n",
    "#Home made tools for persistence features\n",
    "os.chdir(\"C:/Seafile/Ma bibliothèque/Chazal2/MyPython36\") \n",
    "from DTM import *\n",
    "#from persistent_surface import *\n",
    "from PdiagFeatures import *\n",
    "\n",
    "#Classes provided with the data \n",
    "os.chdir(TOOLS_PATH)\n",
    "from Image3D import Image3D\n",
    "from ImageIO import ImageIO"
   ]
  },
  {
   "cell_type": "code",
   "execution_count": 2,
   "metadata": {},
   "outputs": [
    {
     "name": "stdout",
     "output_type": "stream",
     "text": [
      "Requirement already satisfied: xgboost in c:\\users\\fred\\xgboost\n",
      "Requirement already satisfied: numpy in c:\\programdata\\anaconda3\\lib\\site-packages (from xgboost)\n",
      "Requirement already satisfied: scipy in c:\\programdata\\anaconda3\\lib\\site-packages (from xgboost)\n"
     ]
    }
   ],
   "source": [
    "! pip install xgboost"
   ]
  },
  {
   "cell_type": "code",
   "execution_count": 5,
   "metadata": {},
   "outputs": [],
   "source": [
    "import xgboost as xgb\n",
    "xr = xgb.XGBRegressor()"
   ]
  },
  {
   "cell_type": "code",
   "execution_count": 6,
   "metadata": {
    "collapsed": true
   },
   "outputs": [],
   "source": [
    "#sklearn stuff\n",
    "from sklearn.ensemble import RandomForestClassifier, GradientBoostingClassifier\n",
    "from sklearn.ensemble import RandomForestRegressor, GradientBoostingRegressor\n",
    "from sklearn.model_selection import train_test_split\n",
    "from sklearn.metrics import confusion_matrix    \n",
    "from sklearn.linear_model import SGDClassifier\n",
    "from sklearn.linear_model import ElasticNet\n",
    "from sklearn.pipeline import Pipeline\n",
    "from sklearn.preprocessing import StandardScaler\n",
    "from sklearn.preprocessing import MinMaxScaler\n",
    "from sklearn.pipeline import FeatureUnion\n",
    "from sklearn.model_selection import cross_val_score\n",
    "from sklearn.metrics import mean_squared_error\n",
    "from sklearn.metrics import mean_absolute_error\n",
    "from sklearn.model_selection import GridSearchCV\n",
    "from sklearn.externals import joblib\n",
    "from sklearn.decomposition import PCA\n",
    "from sklearn.neighbors import KNeighborsRegressor"
   ]
  },
  {
   "cell_type": "markdown",
   "metadata": {},
   "source": [
    "### Functions to load the data and the output files"
   ]
  },
  {
   "cell_type": "code",
   "execution_count": 7,
   "metadata": {
    "collapsed": true
   },
   "outputs": [],
   "source": [
    "def load_outputs(output_path=CHALLENGE_PATH):\n",
    "    csv_path = os.path.join(output_path,\"challenge_fichier_de_sortie_dentrainement_prediction_de_la_saturation_dhuile_residuelle.csv\")\n",
    "    return pd.read_csv(csv_path,sep=';')\n",
    "\n",
    "DEFAULT_SIZE = [175,152,152]\n",
    "\n",
    "def load_data(data_path=DATA_PATH, nb_files=400, size=DEFAULT_SIZE):\n",
    "    list_img3D = []\n",
    "    for nb in range(400):\n",
    "        file_name = data_path + \"input_\" + str(nb) + \".raw\"\n",
    "        io = ImageIO(file_name)\n",
    "        img = io.read(size[0], size[1], size[2])\n",
    "        list_img3D.append(img)\n",
    "    return list_img3D\n",
    "\n",
    "def load_output_data(data_path=DATA_PATH, nb_files=400, size=DEFAULT_SIZE):\n",
    "    list_out_img3D = []\n",
    "    for nb in range(400):\n",
    "        file_name = data_path + \"output_\" + str(nb) + \".raw\"\n",
    "        io = ImageIO(file_name)\n",
    "        img = io.read(size[0], size[1], size[2])\n",
    "        list_out_img3D.append(img)\n",
    "    return list_out_img3D"
   ]
  },
  {
   "cell_type": "markdown",
   "metadata": {},
   "source": [
    "### Load input training data and labels"
   ]
  },
  {
   "cell_type": "code",
   "execution_count": 8,
   "metadata": {},
   "outputs": [
    {
     "name": "stdout",
     "output_type": "stream",
     "text": [
      ".read file C:/Chazal/ChallengeIFPEN2018/challenge_fichier_dentrees_dentrainement_prediction_de_la_saturation_dhuile_residuelle/Data/input_0.raw with dim 175x152x152\n",
      ".read file C:/Chazal/ChallengeIFPEN2018/challenge_fichier_dentrees_dentrainement_prediction_de_la_saturation_dhuile_residuelle/Data/input_1.raw with dim 175x152x152\n",
      ".read file C:/Chazal/ChallengeIFPEN2018/challenge_fichier_dentrees_dentrainement_prediction_de_la_saturation_dhuile_residuelle/Data/input_2.raw with dim 175x152x152\n",
      ".read file C:/Chazal/ChallengeIFPEN2018/challenge_fichier_dentrees_dentrainement_prediction_de_la_saturation_dhuile_residuelle/Data/input_3.raw with dim 175x152x152\n",
      ".read file C:/Chazal/ChallengeIFPEN2018/challenge_fichier_dentrees_dentrainement_prediction_de_la_saturation_dhuile_residuelle/Data/input_4.raw with dim 175x152x152\n",
      ".read file C:/Chazal/ChallengeIFPEN2018/challenge_fichier_dentrees_dentrainement_prediction_de_la_saturation_dhuile_residuelle/Data/input_5.raw with dim 175x152x152\n",
      ".read file C:/Chazal/ChallengeIFPEN2018/challenge_fichier_dentrees_dentrainement_prediction_de_la_saturation_dhuile_residuelle/Data/input_6.raw with dim 175x152x152\n",
      ".read file C:/Chazal/ChallengeIFPEN2018/challenge_fichier_dentrees_dentrainement_prediction_de_la_saturation_dhuile_residuelle/Data/input_7.raw with dim 175x152x152\n",
      ".read file C:/Chazal/ChallengeIFPEN2018/challenge_fichier_dentrees_dentrainement_prediction_de_la_saturation_dhuile_residuelle/Data/input_8.raw with dim 175x152x152\n",
      ".read file C:/Chazal/ChallengeIFPEN2018/challenge_fichier_dentrees_dentrainement_prediction_de_la_saturation_dhuile_residuelle/Data/input_9.raw with dim 175x152x152\n",
      ".read file C:/Chazal/ChallengeIFPEN2018/challenge_fichier_dentrees_dentrainement_prediction_de_la_saturation_dhuile_residuelle/Data/input_10.raw with dim 175x152x152\n",
      ".read file C:/Chazal/ChallengeIFPEN2018/challenge_fichier_dentrees_dentrainement_prediction_de_la_saturation_dhuile_residuelle/Data/input_11.raw with dim 175x152x152\n",
      ".read file C:/Chazal/ChallengeIFPEN2018/challenge_fichier_dentrees_dentrainement_prediction_de_la_saturation_dhuile_residuelle/Data/input_12.raw with dim 175x152x152\n",
      ".read file C:/Chazal/ChallengeIFPEN2018/challenge_fichier_dentrees_dentrainement_prediction_de_la_saturation_dhuile_residuelle/Data/input_13.raw with dim 175x152x152\n",
      ".read file C:/Chazal/ChallengeIFPEN2018/challenge_fichier_dentrees_dentrainement_prediction_de_la_saturation_dhuile_residuelle/Data/input_14.raw with dim 175x152x152\n",
      ".read file C:/Chazal/ChallengeIFPEN2018/challenge_fichier_dentrees_dentrainement_prediction_de_la_saturation_dhuile_residuelle/Data/input_15.raw with dim 175x152x152\n",
      ".read file C:/Chazal/ChallengeIFPEN2018/challenge_fichier_dentrees_dentrainement_prediction_de_la_saturation_dhuile_residuelle/Data/input_16.raw with dim 175x152x152\n",
      ".read file C:/Chazal/ChallengeIFPEN2018/challenge_fichier_dentrees_dentrainement_prediction_de_la_saturation_dhuile_residuelle/Data/input_17.raw with dim 175x152x152\n",
      ".read file C:/Chazal/ChallengeIFPEN2018/challenge_fichier_dentrees_dentrainement_prediction_de_la_saturation_dhuile_residuelle/Data/input_18.raw with dim 175x152x152\n",
      ".read file C:/Chazal/ChallengeIFPEN2018/challenge_fichier_dentrees_dentrainement_prediction_de_la_saturation_dhuile_residuelle/Data/input_19.raw with dim 175x152x152\n",
      ".read file C:/Chazal/ChallengeIFPEN2018/challenge_fichier_dentrees_dentrainement_prediction_de_la_saturation_dhuile_residuelle/Data/input_20.raw with dim 175x152x152\n",
      ".read file C:/Chazal/ChallengeIFPEN2018/challenge_fichier_dentrees_dentrainement_prediction_de_la_saturation_dhuile_residuelle/Data/input_21.raw with dim 175x152x152\n",
      ".read file C:/Chazal/ChallengeIFPEN2018/challenge_fichier_dentrees_dentrainement_prediction_de_la_saturation_dhuile_residuelle/Data/input_22.raw with dim 175x152x152\n",
      ".read file C:/Chazal/ChallengeIFPEN2018/challenge_fichier_dentrees_dentrainement_prediction_de_la_saturation_dhuile_residuelle/Data/input_23.raw with dim 175x152x152\n",
      ".read file C:/Chazal/ChallengeIFPEN2018/challenge_fichier_dentrees_dentrainement_prediction_de_la_saturation_dhuile_residuelle/Data/input_24.raw with dim 175x152x152\n",
      ".read file C:/Chazal/ChallengeIFPEN2018/challenge_fichier_dentrees_dentrainement_prediction_de_la_saturation_dhuile_residuelle/Data/input_25.raw with dim 175x152x152\n",
      ".read file C:/Chazal/ChallengeIFPEN2018/challenge_fichier_dentrees_dentrainement_prediction_de_la_saturation_dhuile_residuelle/Data/input_26.raw with dim 175x152x152\n",
      ".read file C:/Chazal/ChallengeIFPEN2018/challenge_fichier_dentrees_dentrainement_prediction_de_la_saturation_dhuile_residuelle/Data/input_27.raw with dim 175x152x152\n",
      ".read file C:/Chazal/ChallengeIFPEN2018/challenge_fichier_dentrees_dentrainement_prediction_de_la_saturation_dhuile_residuelle/Data/input_28.raw with dim 175x152x152\n",
      ".read file C:/Chazal/ChallengeIFPEN2018/challenge_fichier_dentrees_dentrainement_prediction_de_la_saturation_dhuile_residuelle/Data/input_29.raw with dim 175x152x152\n",
      ".read file C:/Chazal/ChallengeIFPEN2018/challenge_fichier_dentrees_dentrainement_prediction_de_la_saturation_dhuile_residuelle/Data/input_30.raw with dim 175x152x152\n",
      ".read file C:/Chazal/ChallengeIFPEN2018/challenge_fichier_dentrees_dentrainement_prediction_de_la_saturation_dhuile_residuelle/Data/input_31.raw with dim 175x152x152\n",
      ".read file C:/Chazal/ChallengeIFPEN2018/challenge_fichier_dentrees_dentrainement_prediction_de_la_saturation_dhuile_residuelle/Data/input_32.raw with dim 175x152x152\n",
      ".read file C:/Chazal/ChallengeIFPEN2018/challenge_fichier_dentrees_dentrainement_prediction_de_la_saturation_dhuile_residuelle/Data/input_33.raw with dim 175x152x152\n",
      ".read file C:/Chazal/ChallengeIFPEN2018/challenge_fichier_dentrees_dentrainement_prediction_de_la_saturation_dhuile_residuelle/Data/input_34.raw with dim 175x152x152\n",
      ".read file C:/Chazal/ChallengeIFPEN2018/challenge_fichier_dentrees_dentrainement_prediction_de_la_saturation_dhuile_residuelle/Data/input_35.raw with dim 175x152x152\n",
      ".read file C:/Chazal/ChallengeIFPEN2018/challenge_fichier_dentrees_dentrainement_prediction_de_la_saturation_dhuile_residuelle/Data/input_36.raw with dim 175x152x152\n",
      ".read file C:/Chazal/ChallengeIFPEN2018/challenge_fichier_dentrees_dentrainement_prediction_de_la_saturation_dhuile_residuelle/Data/input_37.raw with dim 175x152x152\n",
      ".read file C:/Chazal/ChallengeIFPEN2018/challenge_fichier_dentrees_dentrainement_prediction_de_la_saturation_dhuile_residuelle/Data/input_38.raw with dim 175x152x152\n",
      ".read file C:/Chazal/ChallengeIFPEN2018/challenge_fichier_dentrees_dentrainement_prediction_de_la_saturation_dhuile_residuelle/Data/input_39.raw with dim 175x152x152\n",
      ".read file C:/Chazal/ChallengeIFPEN2018/challenge_fichier_dentrees_dentrainement_prediction_de_la_saturation_dhuile_residuelle/Data/input_40.raw with dim 175x152x152\n",
      ".read file C:/Chazal/ChallengeIFPEN2018/challenge_fichier_dentrees_dentrainement_prediction_de_la_saturation_dhuile_residuelle/Data/input_41.raw with dim 175x152x152\n",
      ".read file C:/Chazal/ChallengeIFPEN2018/challenge_fichier_dentrees_dentrainement_prediction_de_la_saturation_dhuile_residuelle/Data/input_42.raw with dim 175x152x152\n",
      ".read file C:/Chazal/ChallengeIFPEN2018/challenge_fichier_dentrees_dentrainement_prediction_de_la_saturation_dhuile_residuelle/Data/input_43.raw with dim 175x152x152\n",
      ".read file C:/Chazal/ChallengeIFPEN2018/challenge_fichier_dentrees_dentrainement_prediction_de_la_saturation_dhuile_residuelle/Data/input_44.raw with dim 175x152x152\n",
      ".read file C:/Chazal/ChallengeIFPEN2018/challenge_fichier_dentrees_dentrainement_prediction_de_la_saturation_dhuile_residuelle/Data/input_45.raw with dim 175x152x152\n",
      ".read file C:/Chazal/ChallengeIFPEN2018/challenge_fichier_dentrees_dentrainement_prediction_de_la_saturation_dhuile_residuelle/Data/input_46.raw with dim 175x152x152\n",
      ".read file C:/Chazal/ChallengeIFPEN2018/challenge_fichier_dentrees_dentrainement_prediction_de_la_saturation_dhuile_residuelle/Data/input_47.raw with dim 175x152x152\n",
      ".read file C:/Chazal/ChallengeIFPEN2018/challenge_fichier_dentrees_dentrainement_prediction_de_la_saturation_dhuile_residuelle/Data/input_48.raw with dim 175x152x152\n",
      ".read file C:/Chazal/ChallengeIFPEN2018/challenge_fichier_dentrees_dentrainement_prediction_de_la_saturation_dhuile_residuelle/Data/input_49.raw with dim 175x152x152\n",
      ".read file C:/Chazal/ChallengeIFPEN2018/challenge_fichier_dentrees_dentrainement_prediction_de_la_saturation_dhuile_residuelle/Data/input_50.raw with dim 175x152x152\n",
      ".read file C:/Chazal/ChallengeIFPEN2018/challenge_fichier_dentrees_dentrainement_prediction_de_la_saturation_dhuile_residuelle/Data/input_51.raw with dim 175x152x152\n",
      ".read file C:/Chazal/ChallengeIFPEN2018/challenge_fichier_dentrees_dentrainement_prediction_de_la_saturation_dhuile_residuelle/Data/input_52.raw with dim 175x152x152\n",
      ".read file C:/Chazal/ChallengeIFPEN2018/challenge_fichier_dentrees_dentrainement_prediction_de_la_saturation_dhuile_residuelle/Data/input_53.raw with dim 175x152x152\n",
      ".read file C:/Chazal/ChallengeIFPEN2018/challenge_fichier_dentrees_dentrainement_prediction_de_la_saturation_dhuile_residuelle/Data/input_54.raw with dim 175x152x152\n"
     ]
    },
    {
     "name": "stdout",
     "output_type": "stream",
     "text": [
      ".read file C:/Chazal/ChallengeIFPEN2018/challenge_fichier_dentrees_dentrainement_prediction_de_la_saturation_dhuile_residuelle/Data/input_55.raw with dim 175x152x152\n",
      ".read file C:/Chazal/ChallengeIFPEN2018/challenge_fichier_dentrees_dentrainement_prediction_de_la_saturation_dhuile_residuelle/Data/input_56.raw with dim 175x152x152\n",
      ".read file C:/Chazal/ChallengeIFPEN2018/challenge_fichier_dentrees_dentrainement_prediction_de_la_saturation_dhuile_residuelle/Data/input_57.raw with dim 175x152x152\n",
      ".read file C:/Chazal/ChallengeIFPEN2018/challenge_fichier_dentrees_dentrainement_prediction_de_la_saturation_dhuile_residuelle/Data/input_58.raw with dim 175x152x152\n",
      ".read file C:/Chazal/ChallengeIFPEN2018/challenge_fichier_dentrees_dentrainement_prediction_de_la_saturation_dhuile_residuelle/Data/input_59.raw with dim 175x152x152\n",
      ".read file C:/Chazal/ChallengeIFPEN2018/challenge_fichier_dentrees_dentrainement_prediction_de_la_saturation_dhuile_residuelle/Data/input_60.raw with dim 175x152x152\n",
      ".read file C:/Chazal/ChallengeIFPEN2018/challenge_fichier_dentrees_dentrainement_prediction_de_la_saturation_dhuile_residuelle/Data/input_61.raw with dim 175x152x152\n",
      ".read file C:/Chazal/ChallengeIFPEN2018/challenge_fichier_dentrees_dentrainement_prediction_de_la_saturation_dhuile_residuelle/Data/input_62.raw with dim 175x152x152\n",
      ".read file C:/Chazal/ChallengeIFPEN2018/challenge_fichier_dentrees_dentrainement_prediction_de_la_saturation_dhuile_residuelle/Data/input_63.raw with dim 175x152x152\n",
      ".read file C:/Chazal/ChallengeIFPEN2018/challenge_fichier_dentrees_dentrainement_prediction_de_la_saturation_dhuile_residuelle/Data/input_64.raw with dim 175x152x152\n",
      ".read file C:/Chazal/ChallengeIFPEN2018/challenge_fichier_dentrees_dentrainement_prediction_de_la_saturation_dhuile_residuelle/Data/input_65.raw with dim 175x152x152\n",
      ".read file C:/Chazal/ChallengeIFPEN2018/challenge_fichier_dentrees_dentrainement_prediction_de_la_saturation_dhuile_residuelle/Data/input_66.raw with dim 175x152x152\n",
      ".read file C:/Chazal/ChallengeIFPEN2018/challenge_fichier_dentrees_dentrainement_prediction_de_la_saturation_dhuile_residuelle/Data/input_67.raw with dim 175x152x152\n",
      ".read file C:/Chazal/ChallengeIFPEN2018/challenge_fichier_dentrees_dentrainement_prediction_de_la_saturation_dhuile_residuelle/Data/input_68.raw with dim 175x152x152\n",
      ".read file C:/Chazal/ChallengeIFPEN2018/challenge_fichier_dentrees_dentrainement_prediction_de_la_saturation_dhuile_residuelle/Data/input_69.raw with dim 175x152x152\n",
      ".read file C:/Chazal/ChallengeIFPEN2018/challenge_fichier_dentrees_dentrainement_prediction_de_la_saturation_dhuile_residuelle/Data/input_70.raw with dim 175x152x152\n",
      ".read file C:/Chazal/ChallengeIFPEN2018/challenge_fichier_dentrees_dentrainement_prediction_de_la_saturation_dhuile_residuelle/Data/input_71.raw with dim 175x152x152\n",
      ".read file C:/Chazal/ChallengeIFPEN2018/challenge_fichier_dentrees_dentrainement_prediction_de_la_saturation_dhuile_residuelle/Data/input_72.raw with dim 175x152x152\n",
      ".read file C:/Chazal/ChallengeIFPEN2018/challenge_fichier_dentrees_dentrainement_prediction_de_la_saturation_dhuile_residuelle/Data/input_73.raw with dim 175x152x152\n",
      ".read file C:/Chazal/ChallengeIFPEN2018/challenge_fichier_dentrees_dentrainement_prediction_de_la_saturation_dhuile_residuelle/Data/input_74.raw with dim 175x152x152\n",
      ".read file C:/Chazal/ChallengeIFPEN2018/challenge_fichier_dentrees_dentrainement_prediction_de_la_saturation_dhuile_residuelle/Data/input_75.raw with dim 175x152x152\n",
      ".read file C:/Chazal/ChallengeIFPEN2018/challenge_fichier_dentrees_dentrainement_prediction_de_la_saturation_dhuile_residuelle/Data/input_76.raw with dim 175x152x152\n",
      ".read file C:/Chazal/ChallengeIFPEN2018/challenge_fichier_dentrees_dentrainement_prediction_de_la_saturation_dhuile_residuelle/Data/input_77.raw with dim 175x152x152\n",
      ".read file C:/Chazal/ChallengeIFPEN2018/challenge_fichier_dentrees_dentrainement_prediction_de_la_saturation_dhuile_residuelle/Data/input_78.raw with dim 175x152x152\n",
      ".read file C:/Chazal/ChallengeIFPEN2018/challenge_fichier_dentrees_dentrainement_prediction_de_la_saturation_dhuile_residuelle/Data/input_79.raw with dim 175x152x152\n",
      ".read file C:/Chazal/ChallengeIFPEN2018/challenge_fichier_dentrees_dentrainement_prediction_de_la_saturation_dhuile_residuelle/Data/input_80.raw with dim 175x152x152\n",
      ".read file C:/Chazal/ChallengeIFPEN2018/challenge_fichier_dentrees_dentrainement_prediction_de_la_saturation_dhuile_residuelle/Data/input_81.raw with dim 175x152x152\n",
      ".read file C:/Chazal/ChallengeIFPEN2018/challenge_fichier_dentrees_dentrainement_prediction_de_la_saturation_dhuile_residuelle/Data/input_82.raw with dim 175x152x152\n",
      ".read file C:/Chazal/ChallengeIFPEN2018/challenge_fichier_dentrees_dentrainement_prediction_de_la_saturation_dhuile_residuelle/Data/input_83.raw with dim 175x152x152\n",
      ".read file C:/Chazal/ChallengeIFPEN2018/challenge_fichier_dentrees_dentrainement_prediction_de_la_saturation_dhuile_residuelle/Data/input_84.raw with dim 175x152x152\n",
      ".read file C:/Chazal/ChallengeIFPEN2018/challenge_fichier_dentrees_dentrainement_prediction_de_la_saturation_dhuile_residuelle/Data/input_85.raw with dim 175x152x152\n",
      ".read file C:/Chazal/ChallengeIFPEN2018/challenge_fichier_dentrees_dentrainement_prediction_de_la_saturation_dhuile_residuelle/Data/input_86.raw with dim 175x152x152\n",
      ".read file C:/Chazal/ChallengeIFPEN2018/challenge_fichier_dentrees_dentrainement_prediction_de_la_saturation_dhuile_residuelle/Data/input_87.raw with dim 175x152x152\n",
      ".read file C:/Chazal/ChallengeIFPEN2018/challenge_fichier_dentrees_dentrainement_prediction_de_la_saturation_dhuile_residuelle/Data/input_88.raw with dim 175x152x152\n",
      ".read file C:/Chazal/ChallengeIFPEN2018/challenge_fichier_dentrees_dentrainement_prediction_de_la_saturation_dhuile_residuelle/Data/input_89.raw with dim 175x152x152\n",
      ".read file C:/Chazal/ChallengeIFPEN2018/challenge_fichier_dentrees_dentrainement_prediction_de_la_saturation_dhuile_residuelle/Data/input_90.raw with dim 175x152x152\n",
      ".read file C:/Chazal/ChallengeIFPEN2018/challenge_fichier_dentrees_dentrainement_prediction_de_la_saturation_dhuile_residuelle/Data/input_91.raw with dim 175x152x152\n",
      ".read file C:/Chazal/ChallengeIFPEN2018/challenge_fichier_dentrees_dentrainement_prediction_de_la_saturation_dhuile_residuelle/Data/input_92.raw with dim 175x152x152\n",
      ".read file C:/Chazal/ChallengeIFPEN2018/challenge_fichier_dentrees_dentrainement_prediction_de_la_saturation_dhuile_residuelle/Data/input_93.raw with dim 175x152x152\n",
      ".read file C:/Chazal/ChallengeIFPEN2018/challenge_fichier_dentrees_dentrainement_prediction_de_la_saturation_dhuile_residuelle/Data/input_94.raw with dim 175x152x152\n",
      ".read file C:/Chazal/ChallengeIFPEN2018/challenge_fichier_dentrees_dentrainement_prediction_de_la_saturation_dhuile_residuelle/Data/input_95.raw with dim 175x152x152\n",
      ".read file C:/Chazal/ChallengeIFPEN2018/challenge_fichier_dentrees_dentrainement_prediction_de_la_saturation_dhuile_residuelle/Data/input_96.raw with dim 175x152x152\n",
      ".read file C:/Chazal/ChallengeIFPEN2018/challenge_fichier_dentrees_dentrainement_prediction_de_la_saturation_dhuile_residuelle/Data/input_97.raw with dim 175x152x152\n",
      ".read file C:/Chazal/ChallengeIFPEN2018/challenge_fichier_dentrees_dentrainement_prediction_de_la_saturation_dhuile_residuelle/Data/input_98.raw with dim 175x152x152\n",
      ".read file C:/Chazal/ChallengeIFPEN2018/challenge_fichier_dentrees_dentrainement_prediction_de_la_saturation_dhuile_residuelle/Data/input_99.raw with dim 175x152x152\n",
      ".read file C:/Chazal/ChallengeIFPEN2018/challenge_fichier_dentrees_dentrainement_prediction_de_la_saturation_dhuile_residuelle/Data/input_100.raw with dim 175x152x152\n",
      ".read file C:/Chazal/ChallengeIFPEN2018/challenge_fichier_dentrees_dentrainement_prediction_de_la_saturation_dhuile_residuelle/Data/input_101.raw with dim 175x152x152\n",
      ".read file C:/Chazal/ChallengeIFPEN2018/challenge_fichier_dentrees_dentrainement_prediction_de_la_saturation_dhuile_residuelle/Data/input_102.raw with dim 175x152x152\n",
      ".read file C:/Chazal/ChallengeIFPEN2018/challenge_fichier_dentrees_dentrainement_prediction_de_la_saturation_dhuile_residuelle/Data/input_103.raw with dim 175x152x152\n",
      ".read file C:/Chazal/ChallengeIFPEN2018/challenge_fichier_dentrees_dentrainement_prediction_de_la_saturation_dhuile_residuelle/Data/input_104.raw with dim 175x152x152\n",
      ".read file C:/Chazal/ChallengeIFPEN2018/challenge_fichier_dentrees_dentrainement_prediction_de_la_saturation_dhuile_residuelle/Data/input_105.raw with dim 175x152x152\n",
      ".read file C:/Chazal/ChallengeIFPEN2018/challenge_fichier_dentrees_dentrainement_prediction_de_la_saturation_dhuile_residuelle/Data/input_106.raw with dim 175x152x152\n",
      ".read file C:/Chazal/ChallengeIFPEN2018/challenge_fichier_dentrees_dentrainement_prediction_de_la_saturation_dhuile_residuelle/Data/input_107.raw with dim 175x152x152\n",
      ".read file C:/Chazal/ChallengeIFPEN2018/challenge_fichier_dentrees_dentrainement_prediction_de_la_saturation_dhuile_residuelle/Data/input_108.raw with dim 175x152x152\n",
      ".read file C:/Chazal/ChallengeIFPEN2018/challenge_fichier_dentrees_dentrainement_prediction_de_la_saturation_dhuile_residuelle/Data/input_109.raw with dim 175x152x152\n",
      ".read file C:/Chazal/ChallengeIFPEN2018/challenge_fichier_dentrees_dentrainement_prediction_de_la_saturation_dhuile_residuelle/Data/input_110.raw with dim 175x152x152\n",
      ".read file C:/Chazal/ChallengeIFPEN2018/challenge_fichier_dentrees_dentrainement_prediction_de_la_saturation_dhuile_residuelle/Data/input_111.raw with dim 175x152x152\n",
      ".read file C:/Chazal/ChallengeIFPEN2018/challenge_fichier_dentrees_dentrainement_prediction_de_la_saturation_dhuile_residuelle/Data/input_112.raw with dim 175x152x152\n"
     ]
    },
    {
     "name": "stdout",
     "output_type": "stream",
     "text": [
      ".read file C:/Chazal/ChallengeIFPEN2018/challenge_fichier_dentrees_dentrainement_prediction_de_la_saturation_dhuile_residuelle/Data/input_113.raw with dim 175x152x152\n",
      ".read file C:/Chazal/ChallengeIFPEN2018/challenge_fichier_dentrees_dentrainement_prediction_de_la_saturation_dhuile_residuelle/Data/input_114.raw with dim 175x152x152\n",
      ".read file C:/Chazal/ChallengeIFPEN2018/challenge_fichier_dentrees_dentrainement_prediction_de_la_saturation_dhuile_residuelle/Data/input_115.raw with dim 175x152x152\n",
      ".read file C:/Chazal/ChallengeIFPEN2018/challenge_fichier_dentrees_dentrainement_prediction_de_la_saturation_dhuile_residuelle/Data/input_116.raw with dim 175x152x152\n",
      ".read file C:/Chazal/ChallengeIFPEN2018/challenge_fichier_dentrees_dentrainement_prediction_de_la_saturation_dhuile_residuelle/Data/input_117.raw with dim 175x152x152\n",
      ".read file C:/Chazal/ChallengeIFPEN2018/challenge_fichier_dentrees_dentrainement_prediction_de_la_saturation_dhuile_residuelle/Data/input_118.raw with dim 175x152x152\n",
      ".read file C:/Chazal/ChallengeIFPEN2018/challenge_fichier_dentrees_dentrainement_prediction_de_la_saturation_dhuile_residuelle/Data/input_119.raw with dim 175x152x152\n",
      ".read file C:/Chazal/ChallengeIFPEN2018/challenge_fichier_dentrees_dentrainement_prediction_de_la_saturation_dhuile_residuelle/Data/input_120.raw with dim 175x152x152\n",
      ".read file C:/Chazal/ChallengeIFPEN2018/challenge_fichier_dentrees_dentrainement_prediction_de_la_saturation_dhuile_residuelle/Data/input_121.raw with dim 175x152x152\n",
      ".read file C:/Chazal/ChallengeIFPEN2018/challenge_fichier_dentrees_dentrainement_prediction_de_la_saturation_dhuile_residuelle/Data/input_122.raw with dim 175x152x152\n",
      ".read file C:/Chazal/ChallengeIFPEN2018/challenge_fichier_dentrees_dentrainement_prediction_de_la_saturation_dhuile_residuelle/Data/input_123.raw with dim 175x152x152\n",
      ".read file C:/Chazal/ChallengeIFPEN2018/challenge_fichier_dentrees_dentrainement_prediction_de_la_saturation_dhuile_residuelle/Data/input_124.raw with dim 175x152x152\n",
      ".read file C:/Chazal/ChallengeIFPEN2018/challenge_fichier_dentrees_dentrainement_prediction_de_la_saturation_dhuile_residuelle/Data/input_125.raw with dim 175x152x152\n",
      ".read file C:/Chazal/ChallengeIFPEN2018/challenge_fichier_dentrees_dentrainement_prediction_de_la_saturation_dhuile_residuelle/Data/input_126.raw with dim 175x152x152\n",
      ".read file C:/Chazal/ChallengeIFPEN2018/challenge_fichier_dentrees_dentrainement_prediction_de_la_saturation_dhuile_residuelle/Data/input_127.raw with dim 175x152x152\n",
      ".read file C:/Chazal/ChallengeIFPEN2018/challenge_fichier_dentrees_dentrainement_prediction_de_la_saturation_dhuile_residuelle/Data/input_128.raw with dim 175x152x152\n",
      ".read file C:/Chazal/ChallengeIFPEN2018/challenge_fichier_dentrees_dentrainement_prediction_de_la_saturation_dhuile_residuelle/Data/input_129.raw with dim 175x152x152\n",
      ".read file C:/Chazal/ChallengeIFPEN2018/challenge_fichier_dentrees_dentrainement_prediction_de_la_saturation_dhuile_residuelle/Data/input_130.raw with dim 175x152x152\n",
      ".read file C:/Chazal/ChallengeIFPEN2018/challenge_fichier_dentrees_dentrainement_prediction_de_la_saturation_dhuile_residuelle/Data/input_131.raw with dim 175x152x152\n",
      ".read file C:/Chazal/ChallengeIFPEN2018/challenge_fichier_dentrees_dentrainement_prediction_de_la_saturation_dhuile_residuelle/Data/input_132.raw with dim 175x152x152\n",
      ".read file C:/Chazal/ChallengeIFPEN2018/challenge_fichier_dentrees_dentrainement_prediction_de_la_saturation_dhuile_residuelle/Data/input_133.raw with dim 175x152x152\n",
      ".read file C:/Chazal/ChallengeIFPEN2018/challenge_fichier_dentrees_dentrainement_prediction_de_la_saturation_dhuile_residuelle/Data/input_134.raw with dim 175x152x152\n",
      ".read file C:/Chazal/ChallengeIFPEN2018/challenge_fichier_dentrees_dentrainement_prediction_de_la_saturation_dhuile_residuelle/Data/input_135.raw with dim 175x152x152\n",
      ".read file C:/Chazal/ChallengeIFPEN2018/challenge_fichier_dentrees_dentrainement_prediction_de_la_saturation_dhuile_residuelle/Data/input_136.raw with dim 175x152x152\n",
      ".read file C:/Chazal/ChallengeIFPEN2018/challenge_fichier_dentrees_dentrainement_prediction_de_la_saturation_dhuile_residuelle/Data/input_137.raw with dim 175x152x152\n",
      ".read file C:/Chazal/ChallengeIFPEN2018/challenge_fichier_dentrees_dentrainement_prediction_de_la_saturation_dhuile_residuelle/Data/input_138.raw with dim 175x152x152\n",
      ".read file C:/Chazal/ChallengeIFPEN2018/challenge_fichier_dentrees_dentrainement_prediction_de_la_saturation_dhuile_residuelle/Data/input_139.raw with dim 175x152x152\n",
      ".read file C:/Chazal/ChallengeIFPEN2018/challenge_fichier_dentrees_dentrainement_prediction_de_la_saturation_dhuile_residuelle/Data/input_140.raw with dim 175x152x152\n",
      ".read file C:/Chazal/ChallengeIFPEN2018/challenge_fichier_dentrees_dentrainement_prediction_de_la_saturation_dhuile_residuelle/Data/input_141.raw with dim 175x152x152\n",
      ".read file C:/Chazal/ChallengeIFPEN2018/challenge_fichier_dentrees_dentrainement_prediction_de_la_saturation_dhuile_residuelle/Data/input_142.raw with dim 175x152x152\n",
      ".read file C:/Chazal/ChallengeIFPEN2018/challenge_fichier_dentrees_dentrainement_prediction_de_la_saturation_dhuile_residuelle/Data/input_143.raw with dim 175x152x152\n",
      ".read file C:/Chazal/ChallengeIFPEN2018/challenge_fichier_dentrees_dentrainement_prediction_de_la_saturation_dhuile_residuelle/Data/input_144.raw with dim 175x152x152\n",
      ".read file C:/Chazal/ChallengeIFPEN2018/challenge_fichier_dentrees_dentrainement_prediction_de_la_saturation_dhuile_residuelle/Data/input_145.raw with dim 175x152x152\n",
      ".read file C:/Chazal/ChallengeIFPEN2018/challenge_fichier_dentrees_dentrainement_prediction_de_la_saturation_dhuile_residuelle/Data/input_146.raw with dim 175x152x152\n",
      ".read file C:/Chazal/ChallengeIFPEN2018/challenge_fichier_dentrees_dentrainement_prediction_de_la_saturation_dhuile_residuelle/Data/input_147.raw with dim 175x152x152\n",
      ".read file C:/Chazal/ChallengeIFPEN2018/challenge_fichier_dentrees_dentrainement_prediction_de_la_saturation_dhuile_residuelle/Data/input_148.raw with dim 175x152x152\n",
      ".read file C:/Chazal/ChallengeIFPEN2018/challenge_fichier_dentrees_dentrainement_prediction_de_la_saturation_dhuile_residuelle/Data/input_149.raw with dim 175x152x152\n",
      ".read file C:/Chazal/ChallengeIFPEN2018/challenge_fichier_dentrees_dentrainement_prediction_de_la_saturation_dhuile_residuelle/Data/input_150.raw with dim 175x152x152\n",
      ".read file C:/Chazal/ChallengeIFPEN2018/challenge_fichier_dentrees_dentrainement_prediction_de_la_saturation_dhuile_residuelle/Data/input_151.raw with dim 175x152x152\n",
      ".read file C:/Chazal/ChallengeIFPEN2018/challenge_fichier_dentrees_dentrainement_prediction_de_la_saturation_dhuile_residuelle/Data/input_152.raw with dim 175x152x152\n",
      ".read file C:/Chazal/ChallengeIFPEN2018/challenge_fichier_dentrees_dentrainement_prediction_de_la_saturation_dhuile_residuelle/Data/input_153.raw with dim 175x152x152\n",
      ".read file C:/Chazal/ChallengeIFPEN2018/challenge_fichier_dentrees_dentrainement_prediction_de_la_saturation_dhuile_residuelle/Data/input_154.raw with dim 175x152x152\n",
      ".read file C:/Chazal/ChallengeIFPEN2018/challenge_fichier_dentrees_dentrainement_prediction_de_la_saturation_dhuile_residuelle/Data/input_155.raw with dim 175x152x152\n",
      ".read file C:/Chazal/ChallengeIFPEN2018/challenge_fichier_dentrees_dentrainement_prediction_de_la_saturation_dhuile_residuelle/Data/input_156.raw with dim 175x152x152\n",
      ".read file C:/Chazal/ChallengeIFPEN2018/challenge_fichier_dentrees_dentrainement_prediction_de_la_saturation_dhuile_residuelle/Data/input_157.raw with dim 175x152x152\n",
      ".read file C:/Chazal/ChallengeIFPEN2018/challenge_fichier_dentrees_dentrainement_prediction_de_la_saturation_dhuile_residuelle/Data/input_158.raw with dim 175x152x152\n",
      ".read file C:/Chazal/ChallengeIFPEN2018/challenge_fichier_dentrees_dentrainement_prediction_de_la_saturation_dhuile_residuelle/Data/input_159.raw with dim 175x152x152\n",
      ".read file C:/Chazal/ChallengeIFPEN2018/challenge_fichier_dentrees_dentrainement_prediction_de_la_saturation_dhuile_residuelle/Data/input_160.raw with dim 175x152x152\n",
      ".read file C:/Chazal/ChallengeIFPEN2018/challenge_fichier_dentrees_dentrainement_prediction_de_la_saturation_dhuile_residuelle/Data/input_161.raw with dim 175x152x152\n",
      ".read file C:/Chazal/ChallengeIFPEN2018/challenge_fichier_dentrees_dentrainement_prediction_de_la_saturation_dhuile_residuelle/Data/input_162.raw with dim 175x152x152\n",
      ".read file C:/Chazal/ChallengeIFPEN2018/challenge_fichier_dentrees_dentrainement_prediction_de_la_saturation_dhuile_residuelle/Data/input_163.raw with dim 175x152x152\n",
      ".read file C:/Chazal/ChallengeIFPEN2018/challenge_fichier_dentrees_dentrainement_prediction_de_la_saturation_dhuile_residuelle/Data/input_164.raw with dim 175x152x152\n",
      ".read file C:/Chazal/ChallengeIFPEN2018/challenge_fichier_dentrees_dentrainement_prediction_de_la_saturation_dhuile_residuelle/Data/input_165.raw with dim 175x152x152\n",
      ".read file C:/Chazal/ChallengeIFPEN2018/challenge_fichier_dentrees_dentrainement_prediction_de_la_saturation_dhuile_residuelle/Data/input_166.raw with dim 175x152x152\n",
      ".read file C:/Chazal/ChallengeIFPEN2018/challenge_fichier_dentrees_dentrainement_prediction_de_la_saturation_dhuile_residuelle/Data/input_167.raw with dim 175x152x152\n",
      ".read file C:/Chazal/ChallengeIFPEN2018/challenge_fichier_dentrees_dentrainement_prediction_de_la_saturation_dhuile_residuelle/Data/input_168.raw with dim 175x152x152\n",
      ".read file C:/Chazal/ChallengeIFPEN2018/challenge_fichier_dentrees_dentrainement_prediction_de_la_saturation_dhuile_residuelle/Data/input_169.raw with dim 175x152x152\n",
      ".read file C:/Chazal/ChallengeIFPEN2018/challenge_fichier_dentrees_dentrainement_prediction_de_la_saturation_dhuile_residuelle/Data/input_170.raw with dim 175x152x152\n"
     ]
    },
    {
     "name": "stdout",
     "output_type": "stream",
     "text": [
      ".read file C:/Chazal/ChallengeIFPEN2018/challenge_fichier_dentrees_dentrainement_prediction_de_la_saturation_dhuile_residuelle/Data/input_171.raw with dim 175x152x152\n",
      ".read file C:/Chazal/ChallengeIFPEN2018/challenge_fichier_dentrees_dentrainement_prediction_de_la_saturation_dhuile_residuelle/Data/input_172.raw with dim 175x152x152\n",
      ".read file C:/Chazal/ChallengeIFPEN2018/challenge_fichier_dentrees_dentrainement_prediction_de_la_saturation_dhuile_residuelle/Data/input_173.raw with dim 175x152x152\n",
      ".read file C:/Chazal/ChallengeIFPEN2018/challenge_fichier_dentrees_dentrainement_prediction_de_la_saturation_dhuile_residuelle/Data/input_174.raw with dim 175x152x152\n",
      ".read file C:/Chazal/ChallengeIFPEN2018/challenge_fichier_dentrees_dentrainement_prediction_de_la_saturation_dhuile_residuelle/Data/input_175.raw with dim 175x152x152\n",
      ".read file C:/Chazal/ChallengeIFPEN2018/challenge_fichier_dentrees_dentrainement_prediction_de_la_saturation_dhuile_residuelle/Data/input_176.raw with dim 175x152x152\n",
      ".read file C:/Chazal/ChallengeIFPEN2018/challenge_fichier_dentrees_dentrainement_prediction_de_la_saturation_dhuile_residuelle/Data/input_177.raw with dim 175x152x152\n",
      ".read file C:/Chazal/ChallengeIFPEN2018/challenge_fichier_dentrees_dentrainement_prediction_de_la_saturation_dhuile_residuelle/Data/input_178.raw with dim 175x152x152\n",
      ".read file C:/Chazal/ChallengeIFPEN2018/challenge_fichier_dentrees_dentrainement_prediction_de_la_saturation_dhuile_residuelle/Data/input_179.raw with dim 175x152x152\n",
      ".read file C:/Chazal/ChallengeIFPEN2018/challenge_fichier_dentrees_dentrainement_prediction_de_la_saturation_dhuile_residuelle/Data/input_180.raw with dim 175x152x152\n",
      ".read file C:/Chazal/ChallengeIFPEN2018/challenge_fichier_dentrees_dentrainement_prediction_de_la_saturation_dhuile_residuelle/Data/input_181.raw with dim 175x152x152\n",
      ".read file C:/Chazal/ChallengeIFPEN2018/challenge_fichier_dentrees_dentrainement_prediction_de_la_saturation_dhuile_residuelle/Data/input_182.raw with dim 175x152x152\n",
      ".read file C:/Chazal/ChallengeIFPEN2018/challenge_fichier_dentrees_dentrainement_prediction_de_la_saturation_dhuile_residuelle/Data/input_183.raw with dim 175x152x152\n",
      ".read file C:/Chazal/ChallengeIFPEN2018/challenge_fichier_dentrees_dentrainement_prediction_de_la_saturation_dhuile_residuelle/Data/input_184.raw with dim 175x152x152\n",
      ".read file C:/Chazal/ChallengeIFPEN2018/challenge_fichier_dentrees_dentrainement_prediction_de_la_saturation_dhuile_residuelle/Data/input_185.raw with dim 175x152x152\n",
      ".read file C:/Chazal/ChallengeIFPEN2018/challenge_fichier_dentrees_dentrainement_prediction_de_la_saturation_dhuile_residuelle/Data/input_186.raw with dim 175x152x152\n",
      ".read file C:/Chazal/ChallengeIFPEN2018/challenge_fichier_dentrees_dentrainement_prediction_de_la_saturation_dhuile_residuelle/Data/input_187.raw with dim 175x152x152\n",
      ".read file C:/Chazal/ChallengeIFPEN2018/challenge_fichier_dentrees_dentrainement_prediction_de_la_saturation_dhuile_residuelle/Data/input_188.raw with dim 175x152x152\n",
      ".read file C:/Chazal/ChallengeIFPEN2018/challenge_fichier_dentrees_dentrainement_prediction_de_la_saturation_dhuile_residuelle/Data/input_189.raw with dim 175x152x152\n",
      ".read file C:/Chazal/ChallengeIFPEN2018/challenge_fichier_dentrees_dentrainement_prediction_de_la_saturation_dhuile_residuelle/Data/input_190.raw with dim 175x152x152\n",
      ".read file C:/Chazal/ChallengeIFPEN2018/challenge_fichier_dentrees_dentrainement_prediction_de_la_saturation_dhuile_residuelle/Data/input_191.raw with dim 175x152x152\n",
      ".read file C:/Chazal/ChallengeIFPEN2018/challenge_fichier_dentrees_dentrainement_prediction_de_la_saturation_dhuile_residuelle/Data/input_192.raw with dim 175x152x152\n",
      ".read file C:/Chazal/ChallengeIFPEN2018/challenge_fichier_dentrees_dentrainement_prediction_de_la_saturation_dhuile_residuelle/Data/input_193.raw with dim 175x152x152\n",
      ".read file C:/Chazal/ChallengeIFPEN2018/challenge_fichier_dentrees_dentrainement_prediction_de_la_saturation_dhuile_residuelle/Data/input_194.raw with dim 175x152x152\n",
      ".read file C:/Chazal/ChallengeIFPEN2018/challenge_fichier_dentrees_dentrainement_prediction_de_la_saturation_dhuile_residuelle/Data/input_195.raw with dim 175x152x152\n",
      ".read file C:/Chazal/ChallengeIFPEN2018/challenge_fichier_dentrees_dentrainement_prediction_de_la_saturation_dhuile_residuelle/Data/input_196.raw with dim 175x152x152\n",
      ".read file C:/Chazal/ChallengeIFPEN2018/challenge_fichier_dentrees_dentrainement_prediction_de_la_saturation_dhuile_residuelle/Data/input_197.raw with dim 175x152x152\n",
      ".read file C:/Chazal/ChallengeIFPEN2018/challenge_fichier_dentrees_dentrainement_prediction_de_la_saturation_dhuile_residuelle/Data/input_198.raw with dim 175x152x152\n",
      ".read file C:/Chazal/ChallengeIFPEN2018/challenge_fichier_dentrees_dentrainement_prediction_de_la_saturation_dhuile_residuelle/Data/input_199.raw with dim 175x152x152\n",
      ".read file C:/Chazal/ChallengeIFPEN2018/challenge_fichier_dentrees_dentrainement_prediction_de_la_saturation_dhuile_residuelle/Data/input_200.raw with dim 175x152x152\n",
      ".read file C:/Chazal/ChallengeIFPEN2018/challenge_fichier_dentrees_dentrainement_prediction_de_la_saturation_dhuile_residuelle/Data/input_201.raw with dim 175x152x152\n",
      ".read file C:/Chazal/ChallengeIFPEN2018/challenge_fichier_dentrees_dentrainement_prediction_de_la_saturation_dhuile_residuelle/Data/input_202.raw with dim 175x152x152\n",
      ".read file C:/Chazal/ChallengeIFPEN2018/challenge_fichier_dentrees_dentrainement_prediction_de_la_saturation_dhuile_residuelle/Data/input_203.raw with dim 175x152x152\n",
      ".read file C:/Chazal/ChallengeIFPEN2018/challenge_fichier_dentrees_dentrainement_prediction_de_la_saturation_dhuile_residuelle/Data/input_204.raw with dim 175x152x152\n",
      ".read file C:/Chazal/ChallengeIFPEN2018/challenge_fichier_dentrees_dentrainement_prediction_de_la_saturation_dhuile_residuelle/Data/input_205.raw with dim 175x152x152\n",
      ".read file C:/Chazal/ChallengeIFPEN2018/challenge_fichier_dentrees_dentrainement_prediction_de_la_saturation_dhuile_residuelle/Data/input_206.raw with dim 175x152x152\n",
      ".read file C:/Chazal/ChallengeIFPEN2018/challenge_fichier_dentrees_dentrainement_prediction_de_la_saturation_dhuile_residuelle/Data/input_207.raw with dim 175x152x152\n",
      ".read file C:/Chazal/ChallengeIFPEN2018/challenge_fichier_dentrees_dentrainement_prediction_de_la_saturation_dhuile_residuelle/Data/input_208.raw with dim 175x152x152\n",
      ".read file C:/Chazal/ChallengeIFPEN2018/challenge_fichier_dentrees_dentrainement_prediction_de_la_saturation_dhuile_residuelle/Data/input_209.raw with dim 175x152x152\n",
      ".read file C:/Chazal/ChallengeIFPEN2018/challenge_fichier_dentrees_dentrainement_prediction_de_la_saturation_dhuile_residuelle/Data/input_210.raw with dim 175x152x152\n",
      ".read file C:/Chazal/ChallengeIFPEN2018/challenge_fichier_dentrees_dentrainement_prediction_de_la_saturation_dhuile_residuelle/Data/input_211.raw with dim 175x152x152\n",
      ".read file C:/Chazal/ChallengeIFPEN2018/challenge_fichier_dentrees_dentrainement_prediction_de_la_saturation_dhuile_residuelle/Data/input_212.raw with dim 175x152x152\n",
      ".read file C:/Chazal/ChallengeIFPEN2018/challenge_fichier_dentrees_dentrainement_prediction_de_la_saturation_dhuile_residuelle/Data/input_213.raw with dim 175x152x152\n",
      ".read file C:/Chazal/ChallengeIFPEN2018/challenge_fichier_dentrees_dentrainement_prediction_de_la_saturation_dhuile_residuelle/Data/input_214.raw with dim 175x152x152\n",
      ".read file C:/Chazal/ChallengeIFPEN2018/challenge_fichier_dentrees_dentrainement_prediction_de_la_saturation_dhuile_residuelle/Data/input_215.raw with dim 175x152x152\n",
      ".read file C:/Chazal/ChallengeIFPEN2018/challenge_fichier_dentrees_dentrainement_prediction_de_la_saturation_dhuile_residuelle/Data/input_216.raw with dim 175x152x152\n",
      ".read file C:/Chazal/ChallengeIFPEN2018/challenge_fichier_dentrees_dentrainement_prediction_de_la_saturation_dhuile_residuelle/Data/input_217.raw with dim 175x152x152\n",
      ".read file C:/Chazal/ChallengeIFPEN2018/challenge_fichier_dentrees_dentrainement_prediction_de_la_saturation_dhuile_residuelle/Data/input_218.raw with dim 175x152x152\n",
      ".read file C:/Chazal/ChallengeIFPEN2018/challenge_fichier_dentrees_dentrainement_prediction_de_la_saturation_dhuile_residuelle/Data/input_219.raw with dim 175x152x152\n",
      ".read file C:/Chazal/ChallengeIFPEN2018/challenge_fichier_dentrees_dentrainement_prediction_de_la_saturation_dhuile_residuelle/Data/input_220.raw with dim 175x152x152\n",
      ".read file C:/Chazal/ChallengeIFPEN2018/challenge_fichier_dentrees_dentrainement_prediction_de_la_saturation_dhuile_residuelle/Data/input_221.raw with dim 175x152x152\n",
      ".read file C:/Chazal/ChallengeIFPEN2018/challenge_fichier_dentrees_dentrainement_prediction_de_la_saturation_dhuile_residuelle/Data/input_222.raw with dim 175x152x152\n",
      ".read file C:/Chazal/ChallengeIFPEN2018/challenge_fichier_dentrees_dentrainement_prediction_de_la_saturation_dhuile_residuelle/Data/input_223.raw with dim 175x152x152\n",
      ".read file C:/Chazal/ChallengeIFPEN2018/challenge_fichier_dentrees_dentrainement_prediction_de_la_saturation_dhuile_residuelle/Data/input_224.raw with dim 175x152x152\n",
      ".read file C:/Chazal/ChallengeIFPEN2018/challenge_fichier_dentrees_dentrainement_prediction_de_la_saturation_dhuile_residuelle/Data/input_225.raw with dim 175x152x152\n",
      ".read file C:/Chazal/ChallengeIFPEN2018/challenge_fichier_dentrees_dentrainement_prediction_de_la_saturation_dhuile_residuelle/Data/input_226.raw with dim 175x152x152\n",
      ".read file C:/Chazal/ChallengeIFPEN2018/challenge_fichier_dentrees_dentrainement_prediction_de_la_saturation_dhuile_residuelle/Data/input_227.raw with dim 175x152x152\n"
     ]
    },
    {
     "name": "stdout",
     "output_type": "stream",
     "text": [
      ".read file C:/Chazal/ChallengeIFPEN2018/challenge_fichier_dentrees_dentrainement_prediction_de_la_saturation_dhuile_residuelle/Data/input_228.raw with dim 175x152x152\n",
      ".read file C:/Chazal/ChallengeIFPEN2018/challenge_fichier_dentrees_dentrainement_prediction_de_la_saturation_dhuile_residuelle/Data/input_229.raw with dim 175x152x152\n",
      ".read file C:/Chazal/ChallengeIFPEN2018/challenge_fichier_dentrees_dentrainement_prediction_de_la_saturation_dhuile_residuelle/Data/input_230.raw with dim 175x152x152\n",
      ".read file C:/Chazal/ChallengeIFPEN2018/challenge_fichier_dentrees_dentrainement_prediction_de_la_saturation_dhuile_residuelle/Data/input_231.raw with dim 175x152x152\n",
      ".read file C:/Chazal/ChallengeIFPEN2018/challenge_fichier_dentrees_dentrainement_prediction_de_la_saturation_dhuile_residuelle/Data/input_232.raw with dim 175x152x152\n",
      ".read file C:/Chazal/ChallengeIFPEN2018/challenge_fichier_dentrees_dentrainement_prediction_de_la_saturation_dhuile_residuelle/Data/input_233.raw with dim 175x152x152\n",
      ".read file C:/Chazal/ChallengeIFPEN2018/challenge_fichier_dentrees_dentrainement_prediction_de_la_saturation_dhuile_residuelle/Data/input_234.raw with dim 175x152x152\n",
      ".read file C:/Chazal/ChallengeIFPEN2018/challenge_fichier_dentrees_dentrainement_prediction_de_la_saturation_dhuile_residuelle/Data/input_235.raw with dim 175x152x152\n",
      ".read file C:/Chazal/ChallengeIFPEN2018/challenge_fichier_dentrees_dentrainement_prediction_de_la_saturation_dhuile_residuelle/Data/input_236.raw with dim 175x152x152\n",
      ".read file C:/Chazal/ChallengeIFPEN2018/challenge_fichier_dentrees_dentrainement_prediction_de_la_saturation_dhuile_residuelle/Data/input_237.raw with dim 175x152x152\n",
      ".read file C:/Chazal/ChallengeIFPEN2018/challenge_fichier_dentrees_dentrainement_prediction_de_la_saturation_dhuile_residuelle/Data/input_238.raw with dim 175x152x152\n",
      ".read file C:/Chazal/ChallengeIFPEN2018/challenge_fichier_dentrees_dentrainement_prediction_de_la_saturation_dhuile_residuelle/Data/input_239.raw with dim 175x152x152\n",
      ".read file C:/Chazal/ChallengeIFPEN2018/challenge_fichier_dentrees_dentrainement_prediction_de_la_saturation_dhuile_residuelle/Data/input_240.raw with dim 175x152x152\n",
      ".read file C:/Chazal/ChallengeIFPEN2018/challenge_fichier_dentrees_dentrainement_prediction_de_la_saturation_dhuile_residuelle/Data/input_241.raw with dim 175x152x152\n",
      ".read file C:/Chazal/ChallengeIFPEN2018/challenge_fichier_dentrees_dentrainement_prediction_de_la_saturation_dhuile_residuelle/Data/input_242.raw with dim 175x152x152\n",
      ".read file C:/Chazal/ChallengeIFPEN2018/challenge_fichier_dentrees_dentrainement_prediction_de_la_saturation_dhuile_residuelle/Data/input_243.raw with dim 175x152x152\n",
      ".read file C:/Chazal/ChallengeIFPEN2018/challenge_fichier_dentrees_dentrainement_prediction_de_la_saturation_dhuile_residuelle/Data/input_244.raw with dim 175x152x152\n",
      ".read file C:/Chazal/ChallengeIFPEN2018/challenge_fichier_dentrees_dentrainement_prediction_de_la_saturation_dhuile_residuelle/Data/input_245.raw with dim 175x152x152\n",
      ".read file C:/Chazal/ChallengeIFPEN2018/challenge_fichier_dentrees_dentrainement_prediction_de_la_saturation_dhuile_residuelle/Data/input_246.raw with dim 175x152x152\n",
      ".read file C:/Chazal/ChallengeIFPEN2018/challenge_fichier_dentrees_dentrainement_prediction_de_la_saturation_dhuile_residuelle/Data/input_247.raw with dim 175x152x152\n",
      ".read file C:/Chazal/ChallengeIFPEN2018/challenge_fichier_dentrees_dentrainement_prediction_de_la_saturation_dhuile_residuelle/Data/input_248.raw with dim 175x152x152\n",
      ".read file C:/Chazal/ChallengeIFPEN2018/challenge_fichier_dentrees_dentrainement_prediction_de_la_saturation_dhuile_residuelle/Data/input_249.raw with dim 175x152x152\n",
      ".read file C:/Chazal/ChallengeIFPEN2018/challenge_fichier_dentrees_dentrainement_prediction_de_la_saturation_dhuile_residuelle/Data/input_250.raw with dim 175x152x152\n",
      ".read file C:/Chazal/ChallengeIFPEN2018/challenge_fichier_dentrees_dentrainement_prediction_de_la_saturation_dhuile_residuelle/Data/input_251.raw with dim 175x152x152\n",
      ".read file C:/Chazal/ChallengeIFPEN2018/challenge_fichier_dentrees_dentrainement_prediction_de_la_saturation_dhuile_residuelle/Data/input_252.raw with dim 175x152x152\n",
      ".read file C:/Chazal/ChallengeIFPEN2018/challenge_fichier_dentrees_dentrainement_prediction_de_la_saturation_dhuile_residuelle/Data/input_253.raw with dim 175x152x152\n",
      ".read file C:/Chazal/ChallengeIFPEN2018/challenge_fichier_dentrees_dentrainement_prediction_de_la_saturation_dhuile_residuelle/Data/input_254.raw with dim 175x152x152\n",
      ".read file C:/Chazal/ChallengeIFPEN2018/challenge_fichier_dentrees_dentrainement_prediction_de_la_saturation_dhuile_residuelle/Data/input_255.raw with dim 175x152x152\n",
      ".read file C:/Chazal/ChallengeIFPEN2018/challenge_fichier_dentrees_dentrainement_prediction_de_la_saturation_dhuile_residuelle/Data/input_256.raw with dim 175x152x152\n",
      ".read file C:/Chazal/ChallengeIFPEN2018/challenge_fichier_dentrees_dentrainement_prediction_de_la_saturation_dhuile_residuelle/Data/input_257.raw with dim 175x152x152\n",
      ".read file C:/Chazal/ChallengeIFPEN2018/challenge_fichier_dentrees_dentrainement_prediction_de_la_saturation_dhuile_residuelle/Data/input_258.raw with dim 175x152x152\n",
      ".read file C:/Chazal/ChallengeIFPEN2018/challenge_fichier_dentrees_dentrainement_prediction_de_la_saturation_dhuile_residuelle/Data/input_259.raw with dim 175x152x152\n",
      ".read file C:/Chazal/ChallengeIFPEN2018/challenge_fichier_dentrees_dentrainement_prediction_de_la_saturation_dhuile_residuelle/Data/input_260.raw with dim 175x152x152\n",
      ".read file C:/Chazal/ChallengeIFPEN2018/challenge_fichier_dentrees_dentrainement_prediction_de_la_saturation_dhuile_residuelle/Data/input_261.raw with dim 175x152x152\n",
      ".read file C:/Chazal/ChallengeIFPEN2018/challenge_fichier_dentrees_dentrainement_prediction_de_la_saturation_dhuile_residuelle/Data/input_262.raw with dim 175x152x152\n",
      ".read file C:/Chazal/ChallengeIFPEN2018/challenge_fichier_dentrees_dentrainement_prediction_de_la_saturation_dhuile_residuelle/Data/input_263.raw with dim 175x152x152\n",
      ".read file C:/Chazal/ChallengeIFPEN2018/challenge_fichier_dentrees_dentrainement_prediction_de_la_saturation_dhuile_residuelle/Data/input_264.raw with dim 175x152x152\n",
      ".read file C:/Chazal/ChallengeIFPEN2018/challenge_fichier_dentrees_dentrainement_prediction_de_la_saturation_dhuile_residuelle/Data/input_265.raw with dim 175x152x152\n",
      ".read file C:/Chazal/ChallengeIFPEN2018/challenge_fichier_dentrees_dentrainement_prediction_de_la_saturation_dhuile_residuelle/Data/input_266.raw with dim 175x152x152\n",
      ".read file C:/Chazal/ChallengeIFPEN2018/challenge_fichier_dentrees_dentrainement_prediction_de_la_saturation_dhuile_residuelle/Data/input_267.raw with dim 175x152x152\n",
      ".read file C:/Chazal/ChallengeIFPEN2018/challenge_fichier_dentrees_dentrainement_prediction_de_la_saturation_dhuile_residuelle/Data/input_268.raw with dim 175x152x152\n",
      ".read file C:/Chazal/ChallengeIFPEN2018/challenge_fichier_dentrees_dentrainement_prediction_de_la_saturation_dhuile_residuelle/Data/input_269.raw with dim 175x152x152\n",
      ".read file C:/Chazal/ChallengeIFPEN2018/challenge_fichier_dentrees_dentrainement_prediction_de_la_saturation_dhuile_residuelle/Data/input_270.raw with dim 175x152x152\n",
      ".read file C:/Chazal/ChallengeIFPEN2018/challenge_fichier_dentrees_dentrainement_prediction_de_la_saturation_dhuile_residuelle/Data/input_271.raw with dim 175x152x152\n",
      ".read file C:/Chazal/ChallengeIFPEN2018/challenge_fichier_dentrees_dentrainement_prediction_de_la_saturation_dhuile_residuelle/Data/input_272.raw with dim 175x152x152\n",
      ".read file C:/Chazal/ChallengeIFPEN2018/challenge_fichier_dentrees_dentrainement_prediction_de_la_saturation_dhuile_residuelle/Data/input_273.raw with dim 175x152x152\n",
      ".read file C:/Chazal/ChallengeIFPEN2018/challenge_fichier_dentrees_dentrainement_prediction_de_la_saturation_dhuile_residuelle/Data/input_274.raw with dim 175x152x152\n",
      ".read file C:/Chazal/ChallengeIFPEN2018/challenge_fichier_dentrees_dentrainement_prediction_de_la_saturation_dhuile_residuelle/Data/input_275.raw with dim 175x152x152\n",
      ".read file C:/Chazal/ChallengeIFPEN2018/challenge_fichier_dentrees_dentrainement_prediction_de_la_saturation_dhuile_residuelle/Data/input_276.raw with dim 175x152x152\n",
      ".read file C:/Chazal/ChallengeIFPEN2018/challenge_fichier_dentrees_dentrainement_prediction_de_la_saturation_dhuile_residuelle/Data/input_277.raw with dim 175x152x152\n",
      ".read file C:/Chazal/ChallengeIFPEN2018/challenge_fichier_dentrees_dentrainement_prediction_de_la_saturation_dhuile_residuelle/Data/input_278.raw with dim 175x152x152\n",
      ".read file C:/Chazal/ChallengeIFPEN2018/challenge_fichier_dentrees_dentrainement_prediction_de_la_saturation_dhuile_residuelle/Data/input_279.raw with dim 175x152x152\n",
      ".read file C:/Chazal/ChallengeIFPEN2018/challenge_fichier_dentrees_dentrainement_prediction_de_la_saturation_dhuile_residuelle/Data/input_280.raw with dim 175x152x152\n",
      ".read file C:/Chazal/ChallengeIFPEN2018/challenge_fichier_dentrees_dentrainement_prediction_de_la_saturation_dhuile_residuelle/Data/input_281.raw with dim 175x152x152\n",
      ".read file C:/Chazal/ChallengeIFPEN2018/challenge_fichier_dentrees_dentrainement_prediction_de_la_saturation_dhuile_residuelle/Data/input_282.raw with dim 175x152x152\n",
      ".read file C:/Chazal/ChallengeIFPEN2018/challenge_fichier_dentrees_dentrainement_prediction_de_la_saturation_dhuile_residuelle/Data/input_283.raw with dim 175x152x152\n",
      ".read file C:/Chazal/ChallengeIFPEN2018/challenge_fichier_dentrees_dentrainement_prediction_de_la_saturation_dhuile_residuelle/Data/input_284.raw with dim 175x152x152\n",
      ".read file C:/Chazal/ChallengeIFPEN2018/challenge_fichier_dentrees_dentrainement_prediction_de_la_saturation_dhuile_residuelle/Data/input_285.raw with dim 175x152x152\n",
      ".read file C:/Chazal/ChallengeIFPEN2018/challenge_fichier_dentrees_dentrainement_prediction_de_la_saturation_dhuile_residuelle/Data/input_286.raw with dim 175x152x152\n"
     ]
    },
    {
     "name": "stdout",
     "output_type": "stream",
     "text": [
      ".read file C:/Chazal/ChallengeIFPEN2018/challenge_fichier_dentrees_dentrainement_prediction_de_la_saturation_dhuile_residuelle/Data/input_287.raw with dim 175x152x152\n",
      ".read file C:/Chazal/ChallengeIFPEN2018/challenge_fichier_dentrees_dentrainement_prediction_de_la_saturation_dhuile_residuelle/Data/input_288.raw with dim 175x152x152\n",
      ".read file C:/Chazal/ChallengeIFPEN2018/challenge_fichier_dentrees_dentrainement_prediction_de_la_saturation_dhuile_residuelle/Data/input_289.raw with dim 175x152x152\n",
      ".read file C:/Chazal/ChallengeIFPEN2018/challenge_fichier_dentrees_dentrainement_prediction_de_la_saturation_dhuile_residuelle/Data/input_290.raw with dim 175x152x152\n",
      ".read file C:/Chazal/ChallengeIFPEN2018/challenge_fichier_dentrees_dentrainement_prediction_de_la_saturation_dhuile_residuelle/Data/input_291.raw with dim 175x152x152\n",
      ".read file C:/Chazal/ChallengeIFPEN2018/challenge_fichier_dentrees_dentrainement_prediction_de_la_saturation_dhuile_residuelle/Data/input_292.raw with dim 175x152x152\n",
      ".read file C:/Chazal/ChallengeIFPEN2018/challenge_fichier_dentrees_dentrainement_prediction_de_la_saturation_dhuile_residuelle/Data/input_293.raw with dim 175x152x152\n",
      ".read file C:/Chazal/ChallengeIFPEN2018/challenge_fichier_dentrees_dentrainement_prediction_de_la_saturation_dhuile_residuelle/Data/input_294.raw with dim 175x152x152\n",
      ".read file C:/Chazal/ChallengeIFPEN2018/challenge_fichier_dentrees_dentrainement_prediction_de_la_saturation_dhuile_residuelle/Data/input_295.raw with dim 175x152x152\n",
      ".read file C:/Chazal/ChallengeIFPEN2018/challenge_fichier_dentrees_dentrainement_prediction_de_la_saturation_dhuile_residuelle/Data/input_296.raw with dim 175x152x152\n",
      ".read file C:/Chazal/ChallengeIFPEN2018/challenge_fichier_dentrees_dentrainement_prediction_de_la_saturation_dhuile_residuelle/Data/input_297.raw with dim 175x152x152\n",
      ".read file C:/Chazal/ChallengeIFPEN2018/challenge_fichier_dentrees_dentrainement_prediction_de_la_saturation_dhuile_residuelle/Data/input_298.raw with dim 175x152x152\n",
      ".read file C:/Chazal/ChallengeIFPEN2018/challenge_fichier_dentrees_dentrainement_prediction_de_la_saturation_dhuile_residuelle/Data/input_299.raw with dim 175x152x152\n",
      ".read file C:/Chazal/ChallengeIFPEN2018/challenge_fichier_dentrees_dentrainement_prediction_de_la_saturation_dhuile_residuelle/Data/input_300.raw with dim 175x152x152\n",
      ".read file C:/Chazal/ChallengeIFPEN2018/challenge_fichier_dentrees_dentrainement_prediction_de_la_saturation_dhuile_residuelle/Data/input_301.raw with dim 175x152x152\n",
      ".read file C:/Chazal/ChallengeIFPEN2018/challenge_fichier_dentrees_dentrainement_prediction_de_la_saturation_dhuile_residuelle/Data/input_302.raw with dim 175x152x152\n",
      ".read file C:/Chazal/ChallengeIFPEN2018/challenge_fichier_dentrees_dentrainement_prediction_de_la_saturation_dhuile_residuelle/Data/input_303.raw with dim 175x152x152\n",
      ".read file C:/Chazal/ChallengeIFPEN2018/challenge_fichier_dentrees_dentrainement_prediction_de_la_saturation_dhuile_residuelle/Data/input_304.raw with dim 175x152x152\n",
      ".read file C:/Chazal/ChallengeIFPEN2018/challenge_fichier_dentrees_dentrainement_prediction_de_la_saturation_dhuile_residuelle/Data/input_305.raw with dim 175x152x152\n",
      ".read file C:/Chazal/ChallengeIFPEN2018/challenge_fichier_dentrees_dentrainement_prediction_de_la_saturation_dhuile_residuelle/Data/input_306.raw with dim 175x152x152\n",
      ".read file C:/Chazal/ChallengeIFPEN2018/challenge_fichier_dentrees_dentrainement_prediction_de_la_saturation_dhuile_residuelle/Data/input_307.raw with dim 175x152x152\n",
      ".read file C:/Chazal/ChallengeIFPEN2018/challenge_fichier_dentrees_dentrainement_prediction_de_la_saturation_dhuile_residuelle/Data/input_308.raw with dim 175x152x152\n",
      ".read file C:/Chazal/ChallengeIFPEN2018/challenge_fichier_dentrees_dentrainement_prediction_de_la_saturation_dhuile_residuelle/Data/input_309.raw with dim 175x152x152\n",
      ".read file C:/Chazal/ChallengeIFPEN2018/challenge_fichier_dentrees_dentrainement_prediction_de_la_saturation_dhuile_residuelle/Data/input_310.raw with dim 175x152x152\n",
      ".read file C:/Chazal/ChallengeIFPEN2018/challenge_fichier_dentrees_dentrainement_prediction_de_la_saturation_dhuile_residuelle/Data/input_311.raw with dim 175x152x152\n",
      ".read file C:/Chazal/ChallengeIFPEN2018/challenge_fichier_dentrees_dentrainement_prediction_de_la_saturation_dhuile_residuelle/Data/input_312.raw with dim 175x152x152\n",
      ".read file C:/Chazal/ChallengeIFPEN2018/challenge_fichier_dentrees_dentrainement_prediction_de_la_saturation_dhuile_residuelle/Data/input_313.raw with dim 175x152x152\n",
      ".read file C:/Chazal/ChallengeIFPEN2018/challenge_fichier_dentrees_dentrainement_prediction_de_la_saturation_dhuile_residuelle/Data/input_314.raw with dim 175x152x152\n",
      ".read file C:/Chazal/ChallengeIFPEN2018/challenge_fichier_dentrees_dentrainement_prediction_de_la_saturation_dhuile_residuelle/Data/input_315.raw with dim 175x152x152\n",
      ".read file C:/Chazal/ChallengeIFPEN2018/challenge_fichier_dentrees_dentrainement_prediction_de_la_saturation_dhuile_residuelle/Data/input_316.raw with dim 175x152x152\n",
      ".read file C:/Chazal/ChallengeIFPEN2018/challenge_fichier_dentrees_dentrainement_prediction_de_la_saturation_dhuile_residuelle/Data/input_317.raw with dim 175x152x152\n",
      ".read file C:/Chazal/ChallengeIFPEN2018/challenge_fichier_dentrees_dentrainement_prediction_de_la_saturation_dhuile_residuelle/Data/input_318.raw with dim 175x152x152\n",
      ".read file C:/Chazal/ChallengeIFPEN2018/challenge_fichier_dentrees_dentrainement_prediction_de_la_saturation_dhuile_residuelle/Data/input_319.raw with dim 175x152x152\n",
      ".read file C:/Chazal/ChallengeIFPEN2018/challenge_fichier_dentrees_dentrainement_prediction_de_la_saturation_dhuile_residuelle/Data/input_320.raw with dim 175x152x152\n",
      ".read file C:/Chazal/ChallengeIFPEN2018/challenge_fichier_dentrees_dentrainement_prediction_de_la_saturation_dhuile_residuelle/Data/input_321.raw with dim 175x152x152\n",
      ".read file C:/Chazal/ChallengeIFPEN2018/challenge_fichier_dentrees_dentrainement_prediction_de_la_saturation_dhuile_residuelle/Data/input_322.raw with dim 175x152x152\n",
      ".read file C:/Chazal/ChallengeIFPEN2018/challenge_fichier_dentrees_dentrainement_prediction_de_la_saturation_dhuile_residuelle/Data/input_323.raw with dim 175x152x152\n",
      ".read file C:/Chazal/ChallengeIFPEN2018/challenge_fichier_dentrees_dentrainement_prediction_de_la_saturation_dhuile_residuelle/Data/input_324.raw with dim 175x152x152\n",
      ".read file C:/Chazal/ChallengeIFPEN2018/challenge_fichier_dentrees_dentrainement_prediction_de_la_saturation_dhuile_residuelle/Data/input_325.raw with dim 175x152x152\n",
      ".read file C:/Chazal/ChallengeIFPEN2018/challenge_fichier_dentrees_dentrainement_prediction_de_la_saturation_dhuile_residuelle/Data/input_326.raw with dim 175x152x152\n",
      ".read file C:/Chazal/ChallengeIFPEN2018/challenge_fichier_dentrees_dentrainement_prediction_de_la_saturation_dhuile_residuelle/Data/input_327.raw with dim 175x152x152\n",
      ".read file C:/Chazal/ChallengeIFPEN2018/challenge_fichier_dentrees_dentrainement_prediction_de_la_saturation_dhuile_residuelle/Data/input_328.raw with dim 175x152x152\n",
      ".read file C:/Chazal/ChallengeIFPEN2018/challenge_fichier_dentrees_dentrainement_prediction_de_la_saturation_dhuile_residuelle/Data/input_329.raw with dim 175x152x152\n",
      ".read file C:/Chazal/ChallengeIFPEN2018/challenge_fichier_dentrees_dentrainement_prediction_de_la_saturation_dhuile_residuelle/Data/input_330.raw with dim 175x152x152\n",
      ".read file C:/Chazal/ChallengeIFPEN2018/challenge_fichier_dentrees_dentrainement_prediction_de_la_saturation_dhuile_residuelle/Data/input_331.raw with dim 175x152x152\n",
      ".read file C:/Chazal/ChallengeIFPEN2018/challenge_fichier_dentrees_dentrainement_prediction_de_la_saturation_dhuile_residuelle/Data/input_332.raw with dim 175x152x152\n",
      ".read file C:/Chazal/ChallengeIFPEN2018/challenge_fichier_dentrees_dentrainement_prediction_de_la_saturation_dhuile_residuelle/Data/input_333.raw with dim 175x152x152\n",
      ".read file C:/Chazal/ChallengeIFPEN2018/challenge_fichier_dentrees_dentrainement_prediction_de_la_saturation_dhuile_residuelle/Data/input_334.raw with dim 175x152x152\n",
      ".read file C:/Chazal/ChallengeIFPEN2018/challenge_fichier_dentrees_dentrainement_prediction_de_la_saturation_dhuile_residuelle/Data/input_335.raw with dim 175x152x152\n",
      ".read file C:/Chazal/ChallengeIFPEN2018/challenge_fichier_dentrees_dentrainement_prediction_de_la_saturation_dhuile_residuelle/Data/input_336.raw with dim 175x152x152\n",
      ".read file C:/Chazal/ChallengeIFPEN2018/challenge_fichier_dentrees_dentrainement_prediction_de_la_saturation_dhuile_residuelle/Data/input_337.raw with dim 175x152x152\n",
      ".read file C:/Chazal/ChallengeIFPEN2018/challenge_fichier_dentrees_dentrainement_prediction_de_la_saturation_dhuile_residuelle/Data/input_338.raw with dim 175x152x152\n",
      ".read file C:/Chazal/ChallengeIFPEN2018/challenge_fichier_dentrees_dentrainement_prediction_de_la_saturation_dhuile_residuelle/Data/input_339.raw with dim 175x152x152\n",
      ".read file C:/Chazal/ChallengeIFPEN2018/challenge_fichier_dentrees_dentrainement_prediction_de_la_saturation_dhuile_residuelle/Data/input_340.raw with dim 175x152x152\n",
      ".read file C:/Chazal/ChallengeIFPEN2018/challenge_fichier_dentrees_dentrainement_prediction_de_la_saturation_dhuile_residuelle/Data/input_341.raw with dim 175x152x152\n",
      ".read file C:/Chazal/ChallengeIFPEN2018/challenge_fichier_dentrees_dentrainement_prediction_de_la_saturation_dhuile_residuelle/Data/input_342.raw with dim 175x152x152\n",
      ".read file C:/Chazal/ChallengeIFPEN2018/challenge_fichier_dentrees_dentrainement_prediction_de_la_saturation_dhuile_residuelle/Data/input_343.raw with dim 175x152x152\n",
      ".read file C:/Chazal/ChallengeIFPEN2018/challenge_fichier_dentrees_dentrainement_prediction_de_la_saturation_dhuile_residuelle/Data/input_344.raw with dim 175x152x152\n",
      ".read file C:/Chazal/ChallengeIFPEN2018/challenge_fichier_dentrees_dentrainement_prediction_de_la_saturation_dhuile_residuelle/Data/input_345.raw with dim 175x152x152\n",
      ".read file C:/Chazal/ChallengeIFPEN2018/challenge_fichier_dentrees_dentrainement_prediction_de_la_saturation_dhuile_residuelle/Data/input_346.raw with dim 175x152x152\n",
      ".read file C:/Chazal/ChallengeIFPEN2018/challenge_fichier_dentrees_dentrainement_prediction_de_la_saturation_dhuile_residuelle/Data/input_347.raw with dim 175x152x152\n"
     ]
    },
    {
     "name": "stdout",
     "output_type": "stream",
     "text": [
      ".read file C:/Chazal/ChallengeIFPEN2018/challenge_fichier_dentrees_dentrainement_prediction_de_la_saturation_dhuile_residuelle/Data/input_348.raw with dim 175x152x152\n",
      ".read file C:/Chazal/ChallengeIFPEN2018/challenge_fichier_dentrees_dentrainement_prediction_de_la_saturation_dhuile_residuelle/Data/input_349.raw with dim 175x152x152\n",
      ".read file C:/Chazal/ChallengeIFPEN2018/challenge_fichier_dentrees_dentrainement_prediction_de_la_saturation_dhuile_residuelle/Data/input_350.raw with dim 175x152x152\n",
      ".read file C:/Chazal/ChallengeIFPEN2018/challenge_fichier_dentrees_dentrainement_prediction_de_la_saturation_dhuile_residuelle/Data/input_351.raw with dim 175x152x152\n",
      ".read file C:/Chazal/ChallengeIFPEN2018/challenge_fichier_dentrees_dentrainement_prediction_de_la_saturation_dhuile_residuelle/Data/input_352.raw with dim 175x152x152\n",
      ".read file C:/Chazal/ChallengeIFPEN2018/challenge_fichier_dentrees_dentrainement_prediction_de_la_saturation_dhuile_residuelle/Data/input_353.raw with dim 175x152x152\n",
      ".read file C:/Chazal/ChallengeIFPEN2018/challenge_fichier_dentrees_dentrainement_prediction_de_la_saturation_dhuile_residuelle/Data/input_354.raw with dim 175x152x152\n",
      ".read file C:/Chazal/ChallengeIFPEN2018/challenge_fichier_dentrees_dentrainement_prediction_de_la_saturation_dhuile_residuelle/Data/input_355.raw with dim 175x152x152\n",
      ".read file C:/Chazal/ChallengeIFPEN2018/challenge_fichier_dentrees_dentrainement_prediction_de_la_saturation_dhuile_residuelle/Data/input_356.raw with dim 175x152x152\n",
      ".read file C:/Chazal/ChallengeIFPEN2018/challenge_fichier_dentrees_dentrainement_prediction_de_la_saturation_dhuile_residuelle/Data/input_357.raw with dim 175x152x152\n",
      ".read file C:/Chazal/ChallengeIFPEN2018/challenge_fichier_dentrees_dentrainement_prediction_de_la_saturation_dhuile_residuelle/Data/input_358.raw with dim 175x152x152\n",
      ".read file C:/Chazal/ChallengeIFPEN2018/challenge_fichier_dentrees_dentrainement_prediction_de_la_saturation_dhuile_residuelle/Data/input_359.raw with dim 175x152x152\n",
      ".read file C:/Chazal/ChallengeIFPEN2018/challenge_fichier_dentrees_dentrainement_prediction_de_la_saturation_dhuile_residuelle/Data/input_360.raw with dim 175x152x152\n",
      ".read file C:/Chazal/ChallengeIFPEN2018/challenge_fichier_dentrees_dentrainement_prediction_de_la_saturation_dhuile_residuelle/Data/input_361.raw with dim 175x152x152\n",
      ".read file C:/Chazal/ChallengeIFPEN2018/challenge_fichier_dentrees_dentrainement_prediction_de_la_saturation_dhuile_residuelle/Data/input_362.raw with dim 175x152x152\n",
      ".read file C:/Chazal/ChallengeIFPEN2018/challenge_fichier_dentrees_dentrainement_prediction_de_la_saturation_dhuile_residuelle/Data/input_363.raw with dim 175x152x152\n",
      ".read file C:/Chazal/ChallengeIFPEN2018/challenge_fichier_dentrees_dentrainement_prediction_de_la_saturation_dhuile_residuelle/Data/input_364.raw with dim 175x152x152\n",
      ".read file C:/Chazal/ChallengeIFPEN2018/challenge_fichier_dentrees_dentrainement_prediction_de_la_saturation_dhuile_residuelle/Data/input_365.raw with dim 175x152x152\n",
      ".read file C:/Chazal/ChallengeIFPEN2018/challenge_fichier_dentrees_dentrainement_prediction_de_la_saturation_dhuile_residuelle/Data/input_366.raw with dim 175x152x152\n",
      ".read file C:/Chazal/ChallengeIFPEN2018/challenge_fichier_dentrees_dentrainement_prediction_de_la_saturation_dhuile_residuelle/Data/input_367.raw with dim 175x152x152\n",
      ".read file C:/Chazal/ChallengeIFPEN2018/challenge_fichier_dentrees_dentrainement_prediction_de_la_saturation_dhuile_residuelle/Data/input_368.raw with dim 175x152x152\n",
      ".read file C:/Chazal/ChallengeIFPEN2018/challenge_fichier_dentrees_dentrainement_prediction_de_la_saturation_dhuile_residuelle/Data/input_369.raw with dim 175x152x152\n",
      ".read file C:/Chazal/ChallengeIFPEN2018/challenge_fichier_dentrees_dentrainement_prediction_de_la_saturation_dhuile_residuelle/Data/input_370.raw with dim 175x152x152\n",
      ".read file C:/Chazal/ChallengeIFPEN2018/challenge_fichier_dentrees_dentrainement_prediction_de_la_saturation_dhuile_residuelle/Data/input_371.raw with dim 175x152x152\n",
      ".read file C:/Chazal/ChallengeIFPEN2018/challenge_fichier_dentrees_dentrainement_prediction_de_la_saturation_dhuile_residuelle/Data/input_372.raw with dim 175x152x152\n",
      ".read file C:/Chazal/ChallengeIFPEN2018/challenge_fichier_dentrees_dentrainement_prediction_de_la_saturation_dhuile_residuelle/Data/input_373.raw with dim 175x152x152\n",
      ".read file C:/Chazal/ChallengeIFPEN2018/challenge_fichier_dentrees_dentrainement_prediction_de_la_saturation_dhuile_residuelle/Data/input_374.raw with dim 175x152x152\n",
      ".read file C:/Chazal/ChallengeIFPEN2018/challenge_fichier_dentrees_dentrainement_prediction_de_la_saturation_dhuile_residuelle/Data/input_375.raw with dim 175x152x152\n",
      ".read file C:/Chazal/ChallengeIFPEN2018/challenge_fichier_dentrees_dentrainement_prediction_de_la_saturation_dhuile_residuelle/Data/input_376.raw with dim 175x152x152\n",
      ".read file C:/Chazal/ChallengeIFPEN2018/challenge_fichier_dentrees_dentrainement_prediction_de_la_saturation_dhuile_residuelle/Data/input_377.raw with dim 175x152x152\n",
      ".read file C:/Chazal/ChallengeIFPEN2018/challenge_fichier_dentrees_dentrainement_prediction_de_la_saturation_dhuile_residuelle/Data/input_378.raw with dim 175x152x152\n",
      ".read file C:/Chazal/ChallengeIFPEN2018/challenge_fichier_dentrees_dentrainement_prediction_de_la_saturation_dhuile_residuelle/Data/input_379.raw with dim 175x152x152\n",
      ".read file C:/Chazal/ChallengeIFPEN2018/challenge_fichier_dentrees_dentrainement_prediction_de_la_saturation_dhuile_residuelle/Data/input_380.raw with dim 175x152x152\n",
      ".read file C:/Chazal/ChallengeIFPEN2018/challenge_fichier_dentrees_dentrainement_prediction_de_la_saturation_dhuile_residuelle/Data/input_381.raw with dim 175x152x152\n",
      ".read file C:/Chazal/ChallengeIFPEN2018/challenge_fichier_dentrees_dentrainement_prediction_de_la_saturation_dhuile_residuelle/Data/input_382.raw with dim 175x152x152\n",
      ".read file C:/Chazal/ChallengeIFPEN2018/challenge_fichier_dentrees_dentrainement_prediction_de_la_saturation_dhuile_residuelle/Data/input_383.raw with dim 175x152x152\n",
      ".read file C:/Chazal/ChallengeIFPEN2018/challenge_fichier_dentrees_dentrainement_prediction_de_la_saturation_dhuile_residuelle/Data/input_384.raw with dim 175x152x152\n",
      ".read file C:/Chazal/ChallengeIFPEN2018/challenge_fichier_dentrees_dentrainement_prediction_de_la_saturation_dhuile_residuelle/Data/input_385.raw with dim 175x152x152\n",
      ".read file C:/Chazal/ChallengeIFPEN2018/challenge_fichier_dentrees_dentrainement_prediction_de_la_saturation_dhuile_residuelle/Data/input_386.raw with dim 175x152x152\n",
      ".read file C:/Chazal/ChallengeIFPEN2018/challenge_fichier_dentrees_dentrainement_prediction_de_la_saturation_dhuile_residuelle/Data/input_387.raw with dim 175x152x152\n",
      ".read file C:/Chazal/ChallengeIFPEN2018/challenge_fichier_dentrees_dentrainement_prediction_de_la_saturation_dhuile_residuelle/Data/input_388.raw with dim 175x152x152\n",
      ".read file C:/Chazal/ChallengeIFPEN2018/challenge_fichier_dentrees_dentrainement_prediction_de_la_saturation_dhuile_residuelle/Data/input_389.raw with dim 175x152x152\n",
      ".read file C:/Chazal/ChallengeIFPEN2018/challenge_fichier_dentrees_dentrainement_prediction_de_la_saturation_dhuile_residuelle/Data/input_390.raw with dim 175x152x152\n",
      ".read file C:/Chazal/ChallengeIFPEN2018/challenge_fichier_dentrees_dentrainement_prediction_de_la_saturation_dhuile_residuelle/Data/input_391.raw with dim 175x152x152\n",
      ".read file C:/Chazal/ChallengeIFPEN2018/challenge_fichier_dentrees_dentrainement_prediction_de_la_saturation_dhuile_residuelle/Data/input_392.raw with dim 175x152x152\n",
      ".read file C:/Chazal/ChallengeIFPEN2018/challenge_fichier_dentrees_dentrainement_prediction_de_la_saturation_dhuile_residuelle/Data/input_393.raw with dim 175x152x152\n",
      ".read file C:/Chazal/ChallengeIFPEN2018/challenge_fichier_dentrees_dentrainement_prediction_de_la_saturation_dhuile_residuelle/Data/input_394.raw with dim 175x152x152\n",
      ".read file C:/Chazal/ChallengeIFPEN2018/challenge_fichier_dentrees_dentrainement_prediction_de_la_saturation_dhuile_residuelle/Data/input_395.raw with dim 175x152x152\n",
      ".read file C:/Chazal/ChallengeIFPEN2018/challenge_fichier_dentrees_dentrainement_prediction_de_la_saturation_dhuile_residuelle/Data/input_396.raw with dim 175x152x152\n",
      ".read file C:/Chazal/ChallengeIFPEN2018/challenge_fichier_dentrees_dentrainement_prediction_de_la_saturation_dhuile_residuelle/Data/input_397.raw with dim 175x152x152\n",
      ".read file C:/Chazal/ChallengeIFPEN2018/challenge_fichier_dentrees_dentrainement_prediction_de_la_saturation_dhuile_residuelle/Data/input_398.raw with dim 175x152x152\n",
      ".read file C:/Chazal/ChallengeIFPEN2018/challenge_fichier_dentrees_dentrainement_prediction_de_la_saturation_dhuile_residuelle/Data/input_399.raw with dim 175x152x152\n"
     ]
    }
   ],
   "source": [
    "list_img3D = load_data()\n",
    "outputs = load_outputs()"
   ]
  },
  {
   "cell_type": "markdown",
   "metadata": {},
   "source": [
    "## 1. Load all computed features on training data"
   ]
  },
  {
   "cell_type": "markdown",
   "metadata": {},
   "source": [
    "### Load all non persistent features"
   ]
  },
  {
   "cell_type": "code",
   "execution_count": 711,
   "metadata": {
    "collapsed": true
   },
   "outputs": [],
   "source": [
    "Feat_vol_voids = pickle.load(open(CHALLENGE_PATH + \"Feat_vol_voids.dat\", \"rb\"), encoding=\"latin1\")\n",
    "kNN=1\n",
    "Feat_volDTM_voids = pickle.load(open(CHALLENGE_PATH + \"Feat_volDTM\"+ str(kNN) +\"_voids.dat\", \"rb\"), encoding=\"latin1\")\n",
    "Feat_area_bd = pickle.load(open(CHALLENGE_PATH + \"Feat_area_bd.dat\", \"rb\"), encoding=\"latin1\")\n",
    "Feat_vol_slices = pickle.load(open(CHALLENGE_PATH + \"Voids_slices.dat\", \"rb\"), encoding=\"latin1\")\n",
    "Feat_length_slices = pickle.load(open(CHALLENGE_PATH + \"Length_slices.dat\",\"rb\"),encoding=\"latin1\")\n",
    "Feat_loc_max = pickle.load(open(CHALLENGE_PATH + \"Feat_Locmax.dat\", \"rb\"),encoding=\"latin1\")\n",
    "Feat_density_hist = pickle.load(open(CHALLENGE_PATH + \"SetDensity2_hist.dat\", \"rb\"),encoding=\"latin1\")\n",
    "#Not saved but easy and fast to compute (from cells above):\n",
    "# Feat_mat"
   ]
  },
  {
   "cell_type": "markdown",
   "metadata": {},
   "source": [
    "### Load persistence images features"
   ]
  },
  {
   "cell_type": "code",
   "execution_count": 100,
   "metadata": {
    "collapsed": true
   },
   "outputs": [],
   "source": [
    "file_name_dgm = \"Feat_DTM30_pers0.dat\"\n",
    "Feat_DTM30_pers0 = pickle.load(open(CHALLENGE_PATH + file_name_dgm, \"rb\"), encoding=\"latin 1\")\n",
    "file_name_dgm = \"Feat_DTM30_pers1.dat\"\n",
    "Feat_DTM30_pers1 = pickle.load(open(CHALLENGE_PATH + file_name_dgm, \"rb\"), encoding=\"latin 1\")\n",
    "file_name_dgm = \"Feat_DTM30_pers2.dat\"\n",
    "Feat_DTM30_pers2 = pickle.load(open(CHALLENGE_PATH + file_name_dgm, \"rb\"), encoding=\"latin 1\")\n",
    "\n",
    "file_name_dgm = \"Feat_DTM1_pers0.dat\"\n",
    "Feat_DTM1_pers0 = pickle.load(open(CHALLENGE_PATH + file_name_dgm, \"rb\"), encoding=\"latin 1\")\n",
    "file_name_dgm = \"Feat_DTM1_pers1.dat\"\n",
    "Feat_DTM1_pers1 = pickle.load(open(CHALLENGE_PATH + file_name_dgm, \"rb\"), encoding=\"latin 1\")\n",
    "file_name_dgm = \"Feat_DTM1_pers2.dat\"\n",
    "Feat_DTM1_pers2 = pickle.load(open(CHALLENGE_PATH + file_name_dgm, \"rb\"), encoding=\"latin 1\")\n",
    "\n",
    "file_name_dgm = \"Feat_locmax_pers0.dat\"\n",
    "Feat_locmax_pers0 = pickle.load(open(CHALLENGE_PATH + file_name_dgm, \"rb\"), encoding=\"latin 1\")\n",
    "file_name_dgm = \"Feat_locmax_pers1.dat\"\n",
    "Feat_locmax_pers1 = pickle.load(open(CHALLENGE_PATH + file_name_dgm, \"rb\"), encoding=\"latin 1\")\n",
    "file_name_dgm = \"Feat_locmax_pers2.dat\"\n",
    "Feat_locmax_pers2 = pickle.load(open(CHALLENGE_PATH + file_name_dgm, \"rb\"), encoding=\"latin 1\")\n",
    "\n",
    "file_name_dgm = \"Feat_locmax_dist_pers0.dat\"\n",
    "Feat_locmax_dist_pers0 = pickle.load(open(CHALLENGE_PATH + file_name_dgm, \"rb\"), encoding=\"latin 1\")\n",
    "file_name_dgm = \"Feat_locmax_dist_pers1.dat\"\n",
    "Feat_locmax_dist_pers1 = pickle.load(open(CHALLENGE_PATH + file_name_dgm, \"rb\"), encoding=\"latin 1\")\n",
    "file_name_dgm = \"Feat_locmax_dist_pers2.dat\"\n",
    "Feat_locmax_dist_pers2 = pickle.load(open(CHALLENGE_PATH + file_name_dgm, \"rb\"), encoding=\"latin 1\")\n",
    "\n",
    "file_name_dgm = \"Feat_SetIntensity2_pers0.dat\"\n",
    "Feat_SetIntensity2_pers0 = pickle.load(open(CHALLENGE_PATH + file_name_dgm, \"rb\"), encoding=\"latin 1\")\n",
    "file_name_dgm = \"Feat_SetIntensity2_pers1.dat\"\n",
    "Feat_SetIntensity2_pers1 = pickle.load(open(CHALLENGE_PATH + file_name_dgm, \"rb\"), encoding=\"latin 1\")\n",
    "file_name_dgm = \"Feat_SetIntensity2_pers2.dat\"\n",
    "Feat_SetIntensity2_pers2 = pickle.load(open(CHALLENGE_PATH + file_name_dgm, \"rb\"), encoding=\"latin 1\")\n",
    "\n",
    "file_name_dgm = \"Feat_hX_pers0.dat\"\n",
    "Feat_hX_pers0 = pickle.load(open(CHALLENGE_PATH + file_name_dgm, \"rb\"), encoding=\"latin 1\")\n",
    "file_name_dgm = \"Feat_hX_pers1.dat\"\n",
    "Feat_hX_pers1 = pickle.load(open(CHALLENGE_PATH + file_name_dgm, \"rb\"), encoding=\"latin 1\")\n",
    "file_name_dgm = \"Feat_hX_pers2.dat\"\n",
    "Feat_hX_pers2 = pickle.load(open(CHALLENGE_PATH + file_name_dgm, \"rb\"), encoding=\"latin 1\")\n",
    "\n",
    "file_name_dgm = \"Feat_hY_pers0.dat\"\n",
    "Feat_hY_pers0 = pickle.load(open(CHALLENGE_PATH + file_name_dgm, \"rb\"), encoding=\"latin 1\")\n",
    "file_name_dgm = \"Feat_hY_pers1.dat\"\n",
    "Feat_hY_pers1 = pickle.load(open(CHALLENGE_PATH + file_name_dgm, \"rb\"), encoding=\"latin 1\")\n",
    "file_name_dgm = \"Feat_hY_pers2.dat\"\n",
    "Feat_hY_pers2 = pickle.load(open(CHALLENGE_PATH + file_name_dgm, \"rb\"), encoding=\"latin 1\")\n",
    "\n",
    "file_name_dgm = \"Feat_hZ_pers0.dat\"\n",
    "Feat_hZ_pers0 = pickle.load(open(CHALLENGE_PATH + file_name_dgm, \"rb\"), encoding=\"latin 1\")\n",
    "file_name_dgm = \"Feat_hZ_pers1.dat\"\n",
    "Feat_hZ_pers1 = pickle.load(open(CHALLENGE_PATH + file_name_dgm, \"rb\"), encoding=\"latin 1\")\n",
    "file_name_dgm = \"Feat_hZ_pers2.dat\"\n",
    "Feat_hZ_pers2 = pickle.load(open(CHALLENGE_PATH + file_name_dgm, \"rb\"), encoding=\"latin 1\")"
   ]
  },
  {
   "cell_type": "markdown",
   "metadata": {},
   "source": [
    "### Load persistence images from scaled diagrams"
   ]
  },
  {
   "cell_type": "code",
   "execution_count": 712,
   "metadata": {},
   "outputs": [],
   "source": [
    "file_names = [\"Feat_DTM1_scaled_\",\"Feat_SetIntensity2_scaled_\",\"Feat_hX_scaled_\",\"Feat_hY_scaled_\",\"Feat_hZ_scaled_\",\\\n",
    "             \"Feat_locmax_dist_scaled_\"]\n",
    "\n",
    "#pers_test = [\"pers0_test.dat\",\"pers1_test.dat\",\"pers2_test.dat\"]\n",
    "pers_train = [\"pers0.dat\",\"pers1.dat\",\"pers2.dat\"]\n",
    "\n",
    "pers = pers_train\n",
    "\n",
    "Feat_names = [\"Feat_DTM1_\",\"Feat_SetIntensity2_\",\"Feat_hX_\",\"Feat_hY_\",\"Feat_hZ_\",\"Feat_locmax_dist_scaled_\"]\n",
    "Feat_names_pers = [\"pers0\",\"pers1\",\"pers2\"]\n",
    "\n",
    "variable_file_names=[]\n",
    "for idx in range(len(file_names)):\n",
    "    for jdx in range(len(pers)):\n",
    "        vn = Feat_names[idx] + Feat_names_pers[jdx]\n",
    "        fn = file_names[idx] + pers[jdx]\n",
    "        variable_file_names.append([vn,fn])\n",
    "            \n",
    "#Create the variables            \n",
    "dct = dict()\n",
    "for vn in variable_file_names:\n",
    "    dct[vn[0]] = []\n",
    "for k,v in dct.items():\n",
    "    exec(\"%s=%s\" % (k,v))\n",
    "\n",
    "v = locals()\n",
    "for vn in variable_file_names:\n",
    "    file_name = vn[1]\n",
    "    v[vn[0]] = pickle.load(open(CHALLENGE_PATH+file_name, \"rb\"), encoding=\"latin1\") "
   ]
  },
  {
   "cell_type": "markdown",
   "metadata": {},
   "source": [
    "### Load min_max birth death features"
   ]
  },
  {
   "cell_type": "code",
   "execution_count": 713,
   "metadata": {},
   "outputs": [],
   "source": [
    "file_names = [\"Feat_DTM1_\",\"Feat_SetIntensity2_\",\"Feat_hX_\",\"Feat_hY_\",\"Feat_hZ_\",\\\n",
    "             \"Feat_locmax_dist_\"]\n",
    "\n",
    "bd_test = [\"bd0_test.dat\",\"bd1_test.dat\",\"bd2_test.dat\"]\n",
    "bd_train = [\"bd0.dat\",\"bd1.dat\",\"bd2.dat\"]\n",
    "\n",
    "#if TrainTest == \"Train\":\n",
    "bd = bd_train\n",
    "#else:\n",
    "#    bd = bd_test\n",
    "\n",
    "Feat_names = [\"Feat_DTM1_\",\"Feat_SetIntensity2_\",\"Feat_hX_\",\"Feat_hY_\",\"Feat_hZ_\",\"Feat_locmax_dist_\"]\n",
    "Feat_names_bd = [\"bd0\",\"bd1\",\"bd2\"]\n",
    "\n",
    "variable_file_names=[]\n",
    "for idx in range(len(file_names)):\n",
    "    for jdx in range(len(bd)):\n",
    "        vn = Feat_names[idx] + Feat_names_bd[jdx]\n",
    "        fn = file_names[idx] + bd[jdx]\n",
    "        variable_file_names.append([vn,fn])\n",
    "            \n",
    "#Create the variables            \n",
    "dct = dict()\n",
    "for vn in variable_file_names:\n",
    "    dct[vn[0]] = []\n",
    "for k,v in dct.items():\n",
    "    exec(\"%s=%s\" % (k,v))\n",
    "\n",
    "list_Feat_bd = []\n",
    "v = locals()\n",
    "for vn in variable_file_names:\n",
    "    file_name = vn[1]\n",
    "    v[vn[0]] = pickle.load(open(CHALLENGE_PATH+file_name, \"rb\"), encoding=\"latin1\") \n",
    "    list_Feat_bd.append(v[vn[0]])\n",
    "\n",
    "Feat_bd = np.concatenate(list_Feat_bd,axis=1)\n",
    "#print(np.shape(Feat_bd))"
   ]
  },
  {
   "cell_type": "markdown",
   "metadata": {},
   "source": [
    "### Load entropy features"
   ]
  },
  {
   "cell_type": "code",
   "execution_count": 714,
   "metadata": {},
   "outputs": [],
   "source": [
    "file_names = [\"Feat_DTM1_\",\"Feat_SetIntensity2_\",\"Feat_hX_\",\"Feat_hY_\",\"Feat_hZ_\",\\\n",
    "             \"Feat_locmax_dist_\"]\n",
    "\n",
    "ent_test = [\"ent0_test.dat\",\"ent1_test.dat\",\"ent2_test.dat\"]\n",
    "ent_train = [\"ent0.dat\",\"ent1.dat\",\"ent2.dat\"]\n",
    "\n",
    "#if TrainTest == \"Train\":\n",
    "ent = ent_train\n",
    "#else:\n",
    "#    ent = ent_test\n",
    "\n",
    "Feat_names = [\"Feat_DTM1_\",\"Feat_SetIntensity2_\",\"Feat_hX_\",\"Feat_hY_\",\"Feat_hZ_\",\"Feat_locmax_dist_\"]\n",
    "Feat_names_ent = [\"ent0\",\"ent1\",\"ent2\"]\n",
    "\n",
    "variable_file_names=[]\n",
    "for idx in range(len(file_names)):\n",
    "    for jdx in range(len(bd)):\n",
    "        vn = Feat_names[idx] + Feat_names_ent[jdx]\n",
    "        fn = file_names[idx] + ent[jdx]\n",
    "        variable_file_names.append([vn,fn])\n",
    "            \n",
    "#Create the variables            \n",
    "dct = dict()\n",
    "for vn in variable_file_names:\n",
    "    dct[vn[0]] = []\n",
    "for k,v in dct.items():\n",
    "    exec(\"%s=%s\" % (k,v))\n",
    "\n",
    "list_Feat_ent = []\n",
    "v = locals()\n",
    "for vn in variable_file_names:\n",
    "    file_name = vn[1]\n",
    "    v[vn[0]] = pickle.load(open(CHALLENGE_PATH+file_name, \"rb\"), encoding=\"latin1\") \n",
    "    list_Feat_ent.append(v[vn[0]])\n",
    "Feat_ent = np.concatenate(list_Feat_ent,axis=1)"
   ]
  },
  {
   "cell_type": "markdown",
   "metadata": {},
   "source": [
    "#### Create a feature vector with the material type"
   ]
  },
  {
   "cell_type": "code",
   "execution_count": 715,
   "metadata": {
    "collapsed": true
   },
   "outputs": [],
   "source": [
    "encoder = LabelEncoder()\n",
    "material_cat = outputs[\"material\"]\n",
    "Feat_mat = encoder.fit_transform(material_cat)\n",
    "Feat_mat = np.reshape(Feat_mat,(400,1))"
   ]
  },
  {
   "cell_type": "markdown",
   "metadata": {},
   "source": [
    "## 2. Concatenate Features and create features for each task "
   ]
  },
  {
   "cell_type": "code",
   "execution_count": 716,
   "metadata": {
    "collapsed": true
   },
   "outputs": [],
   "source": [
    "Feat_vol_voids = np.reshape(Feat_vol_voids,(NB_INPUT_IMG,1))\n",
    "Feat_volDTM_voids = np.reshape(Feat_volDTM_voids,(NB_INPUT_IMG,1))\n",
    "\n",
    "#Feat_mat: encode material. WARNING! This is not a real feature, it needs to be predicted first.  \n",
    "\n",
    "\n",
    "#Feat_bd has been defined while laoding all the min_max birth_death above. \n",
    "#Feat_ent has been defined while loading all the entropy features above\n",
    "\n",
    "#Subselect some of the Entropy curves: \n",
    "nb_x_steps = 20\n",
    "Feat_ent_DTM1 = Feat_ent[:,0:3*nb_x_steps]\n",
    "Feat_ent_Intensity2 = Feat_ent[:,3*nb_x_steps:6*nb_x_steps]\n",
    "Feat_ent_hX = Feat_ent[:,6*nb_x_steps:9*nb_x_steps]\n",
    "Feat_ent_hY = Feat_ent[:,9*nb_x_steps:12*nb_x_steps]\n",
    "Feat_ent_hZ = Feat_ent[:,12*nb_x_steps:15*nb_x_steps]\n",
    "Feat_ent_locmax_dist = Feat_ent[:,15*nb_x_steps:18*nb_x_steps]\n",
    "\n",
    "Feat_density = Feat_density_hist\n",
    "Feat_slices = np.concatenate([Feat_vol_slices,Feat_length_slices],axis=1)\n",
    "Feat_Voids = np.concatenate([Feat_vol_voids,Feat_volDTM_voids,Feat_area_bd],axis=1)\n",
    "#Feat_DTM30_pers = np.concatenate([Feat_DTM30_pers0,Feat_DTM30_pers1,Feat_DTM30_pers2],axis=1)\n",
    "Feat_DTM1_pers = np.concatenate([Feat_DTM1_pers0,Feat_DTM1_pers1,Feat_DTM1_pers2],axis=1)\n",
    "#Feat_locmax_pers = np.concatenate([Feat_locmax_pers0,Feat_locmax_pers1,Feat_locmax_pers2],axis=1)\n",
    "Feat_locmax_dist_pers = np.concatenate([Feat_locmax_dist_pers0,Feat_locmax_dist_pers1,Feat_locmax_dist_pers2],axis=1)\n",
    "Feat_SetIntensity2_pers = np.concatenate([Feat_SetIntensity2_pers0,Feat_SetIntensity2_pers1,Feat_SetIntensity2_pers2],axis=1)\n",
    "Feat_hX_pers =np.concatenate([Feat_hX_pers0,Feat_hX_pers1,Feat_hX_pers2],axis=1)\n",
    "Feat_hY_pers =np.concatenate([Feat_hY_pers0,Feat_hY_pers1,Feat_hY_pers2],axis=1)\n",
    "Feat_hZ_pers =np.concatenate([Feat_hZ_pers0,Feat_hZ_pers1,Feat_hZ_pers2],axis=1)"
   ]
  },
  {
   "cell_type": "markdown",
   "metadata": {},
   "source": [
    "## 3. Material classification"
   ]
  },
  {
   "cell_type": "markdown",
   "metadata": {},
   "source": [
    "#### Selected features for classification"
   ]
  },
  {
   "cell_type": "code",
   "execution_count": 792,
   "metadata": {},
   "outputs": [
    {
     "name": "stdout",
     "output_type": "stream",
     "text": [
      "(400, 306)\n"
     ]
    }
   ],
   "source": [
    "#Feat = np.concatenate([Feat_Voids,Feat_loc_max,Feat_density,Feat_DTM1_pers,Feat_hX_pers,Feat_hY_pers,Feat_hZ_pers,\\\n",
    "#                       Feat_SetIntensity2_pers],axis=1)\n",
    "\n",
    "#Feat = np.concatenate([Feat_Voids,Feat_loc_max,Feat_density,Feat_DTM1_pers,\\\n",
    "#                       Feat_SetIntensity2_pers,Feat_locmax_dist_pers],axis=1)\n",
    "\n",
    "Feat = np.concatenate([Feat_Voids,Feat_loc_max,Feat_density,\\\n",
    "                       Feat_bd,Feat_ent_DTM1, Feat_ent_Intensity2,Feat_ent_locmax_dist],axis=1)\n",
    "\n",
    "#Feat = np.concatenate([Feat_Voids,Feat_loc_max,Feat_density,Feat_bd,Feat_ent],axis=1)\n",
    "\n",
    "\n",
    "print(np.shape(Feat))"
   ]
  },
  {
   "cell_type": "code",
   "execution_count": 739,
   "metadata": {},
   "outputs": [
    {
     "name": "stdout",
     "output_type": "stream",
     "text": [
      "(400, 54)\n",
      "(400, 90)\n",
      "(400, 90)\n",
      "(400, 90)\n",
      "(400, 72)\n",
      "(400, 360)\n"
     ]
    }
   ],
   "source": [
    "print(np.shape(np.concatenate([Feat_Voids,Feat_loc_max,Feat_density],axis=1)))\n",
    "print(np.shape(Feat_DTM1_pers))\n",
    "print(np.shape(Feat_SetIntensity2_pers))\n",
    "print(np.shape(Feat_locmax_dist_pers))\n",
    "print(np.shape(Feat_bd))\n",
    "print(np.shape(Feat_ent))"
   ]
  },
  {
   "cell_type": "code",
   "execution_count": 786,
   "metadata": {
    "collapsed": true
   },
   "outputs": [],
   "source": [
    "#To encode the material labels\n",
    "encoder = LabelEncoder()\n",
    "material_cat_encoded = encoder.fit_transform(outputs[\"material\"])"
   ]
  },
  {
   "cell_type": "markdown",
   "metadata": {},
   "source": [
    "### 3.1 Split training data into train/test to experiments models"
   ]
  },
  {
   "cell_type": "code",
   "execution_count": 787,
   "metadata": {
    "collapsed": true
   },
   "outputs": [],
   "source": [
    "#Feature_train, Feature_test, y_train, y_test = train_test_split(Feat, outputs[\"sor\"], test_size = 0.2) \n",
    "Feature_train, Feature_test, y_train, y_test, mat_train, mat_test, mat_encod_train, mat_encod_test, outputs_train, outputs_test\\\n",
    "= train_test_split(Feat, outputs[\"sor\"], outputs[\"material\"], material_cat_encoded, outputs, test_size = 0.2)"
   ]
  },
  {
   "cell_type": "code",
   "execution_count": 788,
   "metadata": {},
   "outputs": [
    {
     "name": "stdout",
     "output_type": "stream",
     "text": [
      "{'n_estimators': 40}\n"
     ]
    }
   ],
   "source": [
    "#param_grid = [{'n_estimators': [30, 40, 50, 70, 100, 200, 400],\\\n",
    "#               'learning_rate': [0.05, 0.07, 0.1, 0.12, 0.14, 0.15] }]\n",
    "#RF = GradientBoostingClassifier()\n",
    "\n",
    "param_grid = [{'n_estimators': [30, 40, 50, 70, 100, 200, 400]}]\n",
    "RF = RandomForestClassifier()\n",
    "grid_search = GridSearchCV(RF, param_grid, cv=4,\n",
    "                           scoring='neg_mean_squared_error', return_train_score=True)\n",
    "grid_search.fit(Feature_train, mat_encod_train)\n",
    "\n",
    "print(grid_search.best_params_)\n"
   ]
  },
  {
   "cell_type": "code",
   "execution_count": 789,
   "metadata": {},
   "outputs": [
    {
     "name": "stdout",
     "output_type": "stream",
     "text": [
      "Test:  0.015625  - Train:  -0.0    {'n_estimators': 30}\n",
      "Test:  0.009375  - Train:  -0.0    {'n_estimators': 40}\n",
      "Test:  0.0125  - Train:  -0.0    {'n_estimators': 50}\n",
      "Test:  0.0125  - Train:  -0.0    {'n_estimators': 70}\n",
      "Test:  0.009375  - Train:  -0.0    {'n_estimators': 100}\n",
      "Test:  0.0125  - Train:  -0.0    {'n_estimators': 200}\n",
      "Test:  0.009375  - Train:  -0.0    {'n_estimators': 400}\n"
     ]
    }
   ],
   "source": [
    "cvres = grid_search.cv_results_\n",
    "for sc1, sc2, sc3 in zip(cvres[\"mean_test_score\"], cvres[\"mean_train_score\"], cvres[\"params\"]):\n",
    "    print(\"Test: \", -sc1, \" - Train: \", -sc2, \"  \", sc3)"
   ]
  },
  {
   "cell_type": "code",
   "execution_count": 790,
   "metadata": {},
   "outputs": [
    {
     "name": "stdout",
     "output_type": "stream",
     "text": [
      "[[35  0]\n",
      " [ 0 45]]\n",
      "1.0\n",
      "[<matplotlib.lines.Line2D object at 0x0000021084E28588>]\n",
      "(80, 1)\n",
      "(80, 2)\n",
      "[]\n"
     ]
    },
    {
     "name": "stderr",
     "output_type": "stream",
     "text": [
      "C:\\ProgramData\\Anaconda3\\lib\\site-packages\\ipykernel_launcher.py:16: FutureWarning: reshape is deprecated and will raise in a subsequent release. Please use .values.reshape(...) instead\n",
      "  app.launch_new_instance()\n"
     ]
    },
    {
     "data": {
      "image/png": "[encoded data removed]",
      "text/plain": [
       "<matplotlib.figure.Figure at 0x2108ab219e8>"
      ]
     },
     "metadata": {},
     "output_type": "display_data"
    }
   ],
   "source": [
    "#Chose best estimator \n",
    "#RFbest = grid_search.best_estimator_\n",
    "#or chose and train another one\n",
    "RFbest = RandomForestClassifier(n_estimators=200)\n",
    "RFbest.fit(Feature_train,mat_encod_train)\n",
    "\n",
    "print(confusion_matrix(RFbest.predict(Feature_test), mat_encod_test))\n",
    "print(np.mean(RFbest.predict(Feature_test) == mat_encod_test))\n",
    "print(plt.plot(RFbest.feature_importances_))\n",
    "A = RFbest.predict(Feature_test) == mat_encod_test\n",
    "print(np.shape(A.reshape((len(A),1))))\n",
    "print(np.shape(RFbest.predict_proba(Feature_test)))\n",
    "#print(np.concatenate([RFbest.predict_proba(Feature_test),A.reshape((len(A),1)),mat_test.reshape((len(mat_test),1))],axis=1))\n",
    "\n",
    "B = RFbest.predict(Feat) == material_cat_encoded\n",
    "C = np.concatenate([RFbest.predict_proba(Feat),B.reshape((len(B),1)),outputs[\"material\"].reshape((len(outputs[\"material\"]),1))],\\\n",
    "                   axis=1)\n",
    "D = np.argwhere(C[:,2] == False)\n",
    "print(D)\n",
    "#print(np.concatenate([RFbest.predict_proba(Feat),B.reshape((len(B),1)),outputs[\"material\"].reshape((len(outputs[\"material\"]),1))],axis=1))\n",
    "#print (np.concatenate([RFbest.predict(Feat),outputs[\"material\"]],axis=1))\n",
    "#for i in range(0,40):\n",
    "#    print( RFbest.predict(Feat)[i], \"  \", outputs[\"material\"][i])"
   ]
  },
  {
   "cell_type": "code",
   "execution_count": 791,
   "metadata": {},
   "outputs": [
    {
     "name": "stdout",
     "output_type": "stream",
     "text": [
      "[0.19 0.81 True 'Clash']\n",
      "[0.695 0.305 True 'Benth']\n"
     ]
    }
   ],
   "source": [
    "# indices that were misclassified in some cases:\n",
    "# 134 : proba 0.53 - 0.47\n",
    "# 339 : proba 0.53 - 0.47 (several times)\n",
    "# 381 : proba 0.25 - 0.75 (11)\n",
    "print(C[339,:])\n",
    "print(C[381,:])"
   ]
  },
  {
   "cell_type": "markdown",
   "metadata": {},
   "source": [
    "### 3.2 Select a model and train it on the whole input data"
   ]
  },
  {
   "cell_type": "code",
   "execution_count": 757,
   "metadata": {},
   "outputs": [
    {
     "data": {
      "text/plain": [
       "RandomForestClassifier(bootstrap=True, class_weight=None, criterion='gini',\n",
       "            max_depth=None, max_features='auto', max_leaf_nodes=None,\n",
       "            min_impurity_decrease=0.0, min_impurity_split=None,\n",
       "            min_samples_leaf=1, min_samples_split=2,\n",
       "            min_weight_fraction_leaf=0.0, n_estimators=150, n_jobs=1,\n",
       "            oob_score=False, random_state=None, verbose=0,\n",
       "            warm_start=False)"
      ]
     },
     "execution_count": 757,
     "metadata": {},
     "output_type": "execute_result"
    }
   ],
   "source": [
    "#Chose the model parameters (from the above experiments or in another way)\n",
    "nb_estim = 150\n",
    "\n",
    "RFclassif = RandomForestClassifier(n_estimators=nb_estim)\n",
    "RFclassif.fit(Feat,material_cat_encoded)"
   ]
  },
  {
   "cell_type": "markdown",
   "metadata": {},
   "source": [
    "#### Save the classification model"
   ]
  },
  {
   "cell_type": "code",
   "execution_count": 758,
   "metadata": {},
   "outputs": [
    {
     "data": {
      "text/plain": [
       "['C:/Chazal/ChallengeIFPEN2018/ModelClassif.pkl']"
      ]
     },
     "execution_count": 758,
     "metadata": {},
     "output_type": "execute_result"
    }
   ],
   "source": [
    "joblib.dump(RFclassif, CHALLENGE_PATH + \"ModelClassif.pkl\")"
   ]
  },
  {
   "cell_type": "markdown",
   "metadata": {},
   "source": [
    "## 4. Regression on sor, splitting the data into 2 parts to consider material separately"
   ]
  },
  {
   "cell_type": "code",
   "execution_count": 793,
   "metadata": {},
   "outputs": [
    {
     "name": "stdout",
     "output_type": "stream",
     "text": [
      "(400, 306)\n"
     ]
    }
   ],
   "source": [
    "#Feat = np.concatenate([Feat_Voids,Feat_loc_max,Feat_density,Feat_DTM1_pers,Feat_hX_pers,Feat_hZ_pers,\\\n",
    "#                       Feat_SetIntensity2_pers],axis=1)\n",
    "\n",
    "Feat = np.concatenate([Feat_Voids,Feat_loc_max,Feat_density,\\\n",
    "                       Feat_bd,Feat_ent_DTM1, Feat_ent_Intensity2,Feat_ent_locmax_dist],axis=1)\n",
    "\n",
    "\n",
    "print(np.shape(Feat))"
   ]
  },
  {
   "cell_type": "markdown",
   "metadata": {},
   "source": [
    "### 4.1 Splitting data into train/test to experiments"
   ]
  },
  {
   "cell_type": "code",
   "execution_count": 794,
   "metadata": {
    "collapsed": true
   },
   "outputs": [],
   "source": [
    "Feature_train, Feature_test, y_train, y_test, mat_train, mat_test, mat_encod_train, mat_encod_test, outputs_train, outputs_test\\\n",
    "= train_test_split(Feat, outputs[\"sor\"], outputs[\"material\"], material_cat_encoded, outputs, test_size = 0.2)"
   ]
  },
  {
   "cell_type": "code",
   "execution_count": 795,
   "metadata": {
    "collapsed": true
   },
   "outputs": [],
   "source": [
    "Fdim = np.shape(Feat)[1]\n",
    "\n",
    "Tag_train0 = mat_encod_train == 0 \n",
    "Wtrain0 = np.argwhere(Tag_train0)\n",
    "X_train0 = Feature_train[Tag_train0]\n",
    "y_train0 = y_train[Tag_train0]\n",
    "\n",
    "Tag_test0 = mat_encod_test == 0\n",
    "Wtest0 = np.argwhere(Tag_test0)\n",
    "X_test0 = Feature_test[Tag_test0]\n",
    "y_test0 = y_test[Tag_test0]\n",
    "\n",
    "Tag_train1 = mat_encod_train == 1\n",
    "Wtrain1 = np.argwhere(Tag_train1)\n",
    "X_train1 = Feature_train[Tag_train1]\n",
    "y_train1 = y_train[Tag_train1]\n",
    "\n",
    "Tag_test1 = mat_encod_test == 1\n",
    "Wtest1 = np.argwhere(Tag_test1)\n",
    "X_test1 = Feature_test[Tag_test1]\n",
    "y_test1 = y_test[Tag_test1]"
   ]
  },
  {
   "cell_type": "markdown",
   "metadata": {},
   "source": [
    "#### Regression on class 0 (with scaling)"
   ]
  },
  {
   "cell_type": "code",
   "execution_count": 796,
   "metadata": {},
   "outputs": [
    {
     "name": "stdout",
     "output_type": "stream",
     "text": [
      "Best parameters:   {'learning_rate': 0.06, 'n_estimators': 70}\n"
     ]
    }
   ],
   "source": [
    "###### Class 0  ####\n",
    "#scaler = StandardScaler()\n",
    "scaler = MinMaxScaler()\n",
    "scaler.fit(X_train0)\n",
    "X_train0 = scaler.transform(X_train0)\n",
    "\n",
    "param_grid = [{'n_estimators': [30, 40, 50, 70, 100, 200, 250], 'learning_rate': [0.04, 0.06, 0.07, 0.1, 0.12, 0.16] }]\n",
    "#RF = GradientBoostingRegressor()\n",
    "RF = xgb.XGBRegressor()\n",
    "grid_search = GridSearchCV(RF, param_grid, cv=4,\n",
    "                           scoring='neg_mean_squared_error', return_train_score=True)\n",
    "\n",
    "grid_search.fit(X_train0, y_train0)\n",
    "\n",
    "print(\"Best parameters:  \", grid_search.best_params_)\n",
    "\n",
    "X_test0 = scaler.transform(X_test0)\n",
    "\n",
    "RFbest0 = grid_search.best_estimator_"
   ]
  },
  {
   "cell_type": "code",
   "execution_count": 797,
   "metadata": {},
   "outputs": [
    {
     "data": {
      "text/plain": [
       "<matplotlib.collections.PathCollection at 0x21081feb5c0>"
      ]
     },
     "execution_count": 797,
     "metadata": {},
     "output_type": "execute_result"
    },
    {
     "data": {
      "image/png": "[encoded data removed]",
      "text/plain": [
       "<matplotlib.figure.Figure at 0x2108a458eb8>"
      ]
     },
     "metadata": {},
     "output_type": "display_data"
    }
   ],
   "source": [
    "plt.scatter(y_train0,RFbest0.predict(X_train0))\n",
    "plt.scatter(y_test0,RFbest0.predict(X_test0))"
   ]
  },
  {
   "cell_type": "code",
   "execution_count": 798,
   "metadata": {},
   "outputs": [
    {
     "data": {
      "text/plain": [
       "<matplotlib.collections.PathCollection at 0x21084f3b940>"
      ]
     },
     "execution_count": 798,
     "metadata": {},
     "output_type": "execute_result"
    },
    {
     "data": {
      "image/png": "[encoded data removed]",
      "text/plain": [
       "<matplotlib.figure.Figure at 0x2108c78deb8>"
      ]
     },
     "metadata": {},
     "output_type": "display_data"
    }
   ],
   "source": [
    "plt.scatter(y_train0,RFbest0.predict(X_train0)-y_train0)\n",
    "plt.scatter(y_test0,RFbest0.predict(X_test0)-y_test0)"
   ]
  },
  {
   "cell_type": "code",
   "execution_count": 802,
   "metadata": {},
   "outputs": [
    {
     "name": "stdout",
     "output_type": "stream",
     "text": [
      "Best parameters:   {'learning_rate': 0.06, 'n_estimators': 200}\n"
     ]
    }
   ],
   "source": [
    "###### Class 1  ####\n",
    "#scaler = StandardScaler()\n",
    "scaler = MinMaxScaler()\n",
    "scaler.fit(X_train1)\n",
    "X_train1 = scaler.transform(X_train1)\n",
    "\n",
    "param_grid = [{'n_estimators': [30, 40, 50, 70, 100, 200, 250], 'learning_rate': [0.04, 0.06, 0.07, 0.1, 0.12, 0.16] }]\n",
    "#RF = GradientBoostingRegressor()\n",
    "RF = xgb.XGBRegressor()\n",
    "grid_search = GridSearchCV(RF, param_grid, cv=4,\n",
    "                           scoring='neg_mean_squared_error', return_train_score=True)\n",
    "\n",
    "grid_search.fit(X_train1, y_train1)\n",
    "\n",
    "print(\"Best parameters:  \", grid_search.best_params_)\n",
    "\n",
    "X_test1 = scaler.transform(X_test1)\n",
    "RFbest1 = grid_search.best_estimator_"
   ]
  },
  {
   "cell_type": "code",
   "execution_count": 803,
   "metadata": {},
   "outputs": [
    {
     "data": {
      "text/plain": [
       "<matplotlib.collections.PathCollection at 0x21084fe72b0>"
      ]
     },
     "execution_count": 803,
     "metadata": {},
     "output_type": "execute_result"
    },
    {
     "data": {
      "image/png": "[encoded data removed]",
      "text/plain": [
       "<matplotlib.figure.Figure at 0x21081feb9b0>"
      ]
     },
     "metadata": {},
     "output_type": "display_data"
    }
   ],
   "source": [
    "plt.scatter(y_train1,RFbest1.predict(X_train1))\n",
    "plt.scatter(y_test1,RFbest1.predict(X_test1))"
   ]
  },
  {
   "cell_type": "code",
   "execution_count": 804,
   "metadata": {},
   "outputs": [
    {
     "data": {
      "text/plain": [
       "<matplotlib.collections.PathCollection at 0x21087cdef98>"
      ]
     },
     "execution_count": 804,
     "metadata": {},
     "output_type": "execute_result"
    },
    {
     "data": {
      "image/png": "[encoded data removed]",
      "text/plain": [
       "<matplotlib.figure.Figure at 0x21087c7c4a8>"
      ]
     },
     "metadata": {},
     "output_type": "display_data"
    }
   ],
   "source": [
    "plt.scatter(y_train1,RFbest1.predict(X_train1)-y_train1)\n",
    "plt.scatter(y_test1,RFbest1.predict(X_test1)-y_test1)"
   ]
  },
  {
   "cell_type": "markdown",
   "metadata": {},
   "source": [
    "### 4.2 Training the two models on the whole input data splitted in two classes"
   ]
  },
  {
   "cell_type": "code",
   "execution_count": 207,
   "metadata": {
    "collapsed": true
   },
   "outputs": [],
   "source": [
    "#Scale the data\n",
    "scaler = MinMaxScaler()\n",
    "scaler.fit(Feat)\n",
    "Feat_scaled = scaler.transform(Feat)"
   ]
  },
  {
   "cell_type": "code",
   "execution_count": 208,
   "metadata": {
    "collapsed": true
   },
   "outputs": [],
   "source": [
    "Fdim = np.shape(Feat)[1]\n",
    "\n",
    "#y = outputs[\"sor\"].values.reshape(NB_INPUT_IMG,1)\n",
    "y = outputs[\"sor\"]\n",
    "\n",
    "Tag0 = material_cat_encoded == 0 \n",
    "W0 = np.argwhere(Tag0)\n",
    "X0 = Feat_scaled[Tag0]\n",
    "y0 = y[Tag0]\n",
    "\n",
    "\n",
    "Tag1 = material_cat_encoded == 1\n",
    "W1 = np.argwhere(Tag1)\n",
    "X1 = Feat_scaled[Tag1]\n",
    "y1 = y[Tag1]"
   ]
  },
  {
   "cell_type": "code",
   "execution_count": 209,
   "metadata": {},
   "outputs": [
    {
     "name": "stdout",
     "output_type": "stream",
     "text": [
      "Best parameters:   {'learning_rate': 0.07, 'n_estimators': 200}\n"
     ]
    }
   ],
   "source": [
    "###### Class 0  ####\n",
    "\n",
    "param_grid = [{'n_estimators': [30, 40, 50, 70, 100, 200, 250], 'learning_rate': [0.04, 0.06, 0.07, 0.1, 0.12, 0.16] }]\n",
    "RF = GradientBoostingRegressor()\n",
    "grid_search = GridSearchCV(RF, param_grid, cv=4,\n",
    "                           scoring='neg_mean_squared_error', return_train_score=True)\n",
    "\n",
    "grid_search.fit(X0, y0)\n",
    "\n",
    "print(\"Best parameters:  \", grid_search.best_params_)\n",
    "\n",
    "RFbest0 = grid_search.best_estimator_"
   ]
  },
  {
   "cell_type": "code",
   "execution_count": 210,
   "metadata": {},
   "outputs": [
    {
     "name": "stdout",
     "output_type": "stream",
     "text": [
      "Best parameters:   {'learning_rate': 0.06, 'n_estimators': 200}\n"
     ]
    }
   ],
   "source": [
    "###### Class 1  ####\n",
    "\n",
    "param_grid = [{'n_estimators': [30, 40, 50, 70, 100, 200, 250], 'learning_rate': [0.04, 0.06, 0.07, 0.1, 0.12, 0.16] }]\n",
    "RF = GradientBoostingRegressor()\n",
    "grid_search = GridSearchCV(RF, param_grid, cv=4,\n",
    "                           scoring='neg_mean_squared_error', return_train_score=True)\n",
    "\n",
    "grid_search.fit(X1, y1)\n",
    "\n",
    "print(\"Best parameters:  \", grid_search.best_params_)\n",
    "\n",
    "RFbest1 = grid_search.best_estimator_"
   ]
  },
  {
   "cell_type": "code",
   "execution_count": 211,
   "metadata": {},
   "outputs": [
    {
     "data": {
      "text/plain": [
       "['C:/Chazal/ChallengeIFPEN2018/modelSor1.pkl']"
      ]
     },
     "execution_count": 211,
     "metadata": {},
     "output_type": "execute_result"
    }
   ],
   "source": [
    "#To save the best model \n",
    "joblib.dump(scaler,CHALLENGE_PATH + \"scalerSor.pkl\")\n",
    "joblib.dump(RFbest0, CHALLENGE_PATH + \"modelSor0.pkl\")\n",
    "joblib.dump(RFbest1, CHALLENGE_PATH + \"modelSor1.pkl\")"
   ]
  },
  {
   "cell_type": "markdown",
   "metadata": {},
   "source": [
    "## 4bis. Regression on sor without splitting the data"
   ]
  },
  {
   "cell_type": "code",
   "execution_count": 778,
   "metadata": {},
   "outputs": [
    {
     "name": "stdout",
     "output_type": "stream",
     "text": [
      "(400, 337)\n"
     ]
    }
   ],
   "source": [
    "#Feat = np.concatenate([Feat_mat,Feat_Voids,Feat_loc_max,Feat_density,Feat_DTM1_pers,Feat_hX_pers,Feat_hZ_pers,\\\n",
    "#                       Feat_SetIntensity2_pers,Feat_locmax_dist_pers,Feat_bd,Feat_ent],axis=1)\n",
    "\n",
    "#Feat = np.concatenate([Feat_Voids,Feat_loc_max,Feat_density,Feat_DTM1_pers,\\\n",
    "#                       Feat_SetIntensity2_pers,Feat_locmax_dist_pers],axis=1)\n",
    "\n",
    "#Feat = np.concatenate([Feat_mat,Feat_Voids,Feat_loc_max,Feat_density,Feat_DTM1_pers,Feat_SetIntensity2_pers],axis=1)\n",
    "#Feat = np.concatenate([Feat_mat,Feat_Voids,Feat_loc_max,Feat_density],axis=1)\n",
    "\n",
    "#Feat = np.concatenate([Feat_Voids,Feat_loc_max,Feat_density,Feat_DTM1_pers,\\\n",
    "#                       Feat_SetIntensity2_pers,Feat_bd],axis=1)\n",
    "\n",
    "#Feat = np.concatenate([Feat_Voids,Feat_loc_max,Feat_density,Feat_bd,Feat_ent],axis=1)\n",
    "\n",
    "Feat = np.concatenate([Feat_mat,Feat_Voids,Feat_loc_max,Feat_density,Feat_DTM1_pers,\\\n",
    "                       Feat_bd,Feat_ent_Intensity2,Feat_ent_locmax_dist],axis=1)\n",
    "\n",
    "\n",
    "print(np.shape(Feat))"
   ]
  },
  {
   "cell_type": "markdown",
   "metadata": {},
   "source": [
    "### If one wants to do a PCA"
   ]
  },
  {
   "cell_type": "code",
   "execution_count": 779,
   "metadata": {},
   "outputs": [
    {
     "name": "stdout",
     "output_type": "stream",
     "text": [
      "(400, 60)\n",
      "[3.51411636 1.91899935 0.92381103 0.54029995 0.4642601  0.38560164\n",
      " 0.32532702 0.26104963 0.22665766 0.16012416 0.14281352 0.11478694\n",
      " 0.100626   0.09725853 0.08799703 0.0830439  0.07132144 0.06933056\n",
      " 0.05890305 0.05659682 0.052715   0.04665261 0.0452123  0.04210321\n",
      " 0.04191328 0.03938987 0.03834935 0.03627021 0.03442456 0.0327032\n",
      " 0.03079965 0.02997835 0.02894062 0.02821358 0.02607502 0.02506681\n",
      " 0.02448481 0.02300502 0.02285882 0.02185553 0.02072157 0.02013493\n",
      " 0.01949832 0.018899   0.01840903 0.01814588 0.01809286 0.01746309\n",
      " 0.01698657 0.01661011 0.01566489 0.01514044 0.01448225 0.01401591\n",
      " 0.01347472 0.01330399 0.01299052 0.01249355 0.01239985 0.01204729]\n",
      "-------\n",
      "[0.32070579 0.175132   0.08430898 0.04930893 0.04236937 0.03519083\n",
      " 0.02969004 0.02382395 0.02068526 0.01461327 0.01303347 0.0104757\n",
      " 0.00918334 0.00887602 0.0080308  0.00757876 0.00650895 0.00632726\n",
      " 0.00537562 0.00516515 0.00481088 0.00425762 0.00412617 0.00384243\n",
      " 0.0038251  0.0035948  0.00349984 0.0033101  0.00314166 0.00298456\n",
      " 0.00281084 0.00273589 0.00264118 0.00257483 0.00237966 0.00228765\n",
      " 0.00223454 0.00209949 0.00208614 0.00199458 0.00189109 0.00183756\n",
      " 0.00177946 0.00172476 0.00168005 0.00165603 0.00165119 0.00159372\n",
      " 0.00155023 0.00151587 0.00142961 0.00138175 0.00132168 0.00127912\n",
      " 0.00122973 0.00121415 0.00118554 0.00114019 0.00113164 0.00109946]\n",
      "-------\n",
      "0.9669143179571137\n",
      "-------\n",
      "[37.44505877 27.67093677 19.19897399 14.68263199 13.6102822  12.4038323\n",
      " 11.3932209  10.20582193  9.50980577  7.99309316  7.54868161  6.76756892\n",
      "  6.33638499  6.2294586   5.92543792  5.75625893  5.33453424  5.2595525\n",
      "  4.84791891  4.7520662   4.5862061   4.31443972  4.24731753  4.0986806\n",
      "  4.08942501  3.9644114   3.91169923  3.80418394  3.70613017  3.61228138\n",
      "  3.50557542  3.45851989  3.39813308  3.35517799  3.22551299  3.16253936\n",
      "  3.12560994  3.0296867   3.02004433  2.95302482  2.87539664  2.83440239\n",
      "  2.78923467  2.7460334   2.71020343  2.69076287  2.68682945  2.639654\n",
      "  2.60339071  2.57438037  2.50005788  2.45785151  2.40383386  2.36481466\n",
      "  2.31870965  2.30397305  2.27666802  2.23269446  2.22430701  2.19245763]\n"
     ]
    }
   ],
   "source": [
    "scaler = MinMaxScaler()\n",
    "scaler.fit(Feat)\n",
    "Feat = scaler.transform(Feat)\n",
    "\n",
    "pca = PCA(n_components=60)\n",
    "Feat = pca.fit_transform(Feat)\n",
    "print(np.shape(Feat))\n",
    "print(pca.explained_variance_)\n",
    "print(\"-------\")\n",
    "print(pca.explained_variance_ratio_)\n",
    "print(\"-------\")\n",
    "print(np.sum(pca.explained_variance_ratio_))\n",
    "print(\"-------\")\n",
    "print(pca.singular_values_)\n",
    "\n",
    "#Feat = np.concatenate([Feat_mat,Feat],axis=1)"
   ]
  },
  {
   "cell_type": "code",
   "execution_count": 780,
   "metadata": {
    "collapsed": true
   },
   "outputs": [],
   "source": [
    "Feature_train, Feature_test, y_train, y_test, mat_train, mat_test, mat_encod_train, mat_encod_test, outputs_train, outputs_test\\\n",
    "= train_test_split(Feat, outputs[\"sor\"], outputs[\"material\"], material_cat_encoded, outputs, test_size = 0.2)"
   ]
  },
  {
   "cell_type": "code",
   "execution_count": 781,
   "metadata": {},
   "outputs": [
    {
     "name": "stdout",
     "output_type": "stream",
     "text": [
      "Best parameters:   {'booster': 'dart', 'learning_rate': 0.06, 'max_depth': 3, 'n_estimators': 100}\n"
     ]
    }
   ],
   "source": [
    "#scaler = StandardScale#r()\n",
    "scaler = MinMaxScaler()\n",
    "scaler.fit(Feature_train)\n",
    "X = scaler.transform(Feature_train)\n",
    "\n",
    "\n",
    "#param_grid = [{'n_estimators': [30, 40, 50, 70, 100, 200, 250], 'learning_rate': [0.05, 0.07, 0.1, 0.12, 0.14] }]\n",
    "param_grid = [{'n_estimators': [30, 40, 50, 60, 80, 100, 150], 'learning_rate': [0.04, 0.06, 0.07, 0.1, 0.12] ,\\\n",
    "               'max_depth': [3, 4], 'booster': [\"gbtree\", \"dart\"]}]\n",
    "\n",
    "#RF = GradientBoostingRegressor()\n",
    "RF = xgb.XGBRegressor()\n",
    "grid_search = GridSearchCV(RF, param_grid, cv=4,\n",
    "                           scoring='neg_mean_squared_error', return_train_score=True)\n",
    "\n",
    "#grid_search = GridSearchCV(RF, param_grid, cv=4,\n",
    "#                           scoring='neg_mean_absolute_error', return_train_score=True)\n",
    "\n",
    "\n",
    "\n",
    "grid_search.fit(X, y_train)\n",
    "\n",
    "\n",
    "print(\"Best parameters:  \", grid_search.best_params_)\n",
    "\n",
    "X_train = X\n",
    "X_test = scaler.transform(Feature_test)"
   ]
  },
  {
   "cell_type": "code",
   "execution_count": 589,
   "metadata": {},
   "outputs": [
    {
     "data": {
      "text/plain": [
       "<matplotlib.axes._subplots.AxesSubplot at 0x2108a148ef0>"
      ]
     },
     "execution_count": 589,
     "metadata": {},
     "output_type": "execute_result"
    },
    {
     "data": {
      "image/png": "[encoded data removed]",
      "text/plain": [
       "<matplotlib.figure.Figure at 0x21088f0a6d8>"
      ]
     },
     "metadata": {},
     "output_type": "display_data"
    }
   ],
   "source": [
    "xgb.plot_importance(grid_search.best_estimator_)"
   ]
  },
  {
   "cell_type": "code",
   "execution_count": 782,
   "metadata": {},
   "outputs": [
    {
     "name": "stdout",
     "output_type": "stream",
     "text": [
      "Test:  0.010509792795737315  - Train:  0.009060631693844618    {'booster': 'gbtree', 'learning_rate': 0.04, 'max_depth': 3, 'n_estimators': 30}\n",
      "Test:  0.006645565753022472  - Train:  0.004881146824108741    {'booster': 'gbtree', 'learning_rate': 0.04, 'max_depth': 3, 'n_estimators': 40}\n",
      "Test:  0.004894346975176494  - Train:  0.0028814714970256602    {'booster': 'gbtree', 'learning_rate': 0.04, 'max_depth': 3, 'n_estimators': 50}\n",
      "Test:  0.004133695561402072  - Train:  0.0018715211830340585    {'booster': 'gbtree', 'learning_rate': 0.04, 'max_depth': 3, 'n_estimators': 60}\n",
      "Test:  0.003630204607249087  - Train:  0.0010196547057785207    {'booster': 'gbtree', 'learning_rate': 0.04, 'max_depth': 3, 'n_estimators': 80}\n",
      "Test:  0.0035583459288457383  - Train:  0.000679734323925153    {'booster': 'gbtree', 'learning_rate': 0.04, 'max_depth': 3, 'n_estimators': 100}\n",
      "Test:  0.003521464672779015  - Train:  0.0003505443964195632    {'booster': 'gbtree', 'learning_rate': 0.04, 'max_depth': 3, 'n_estimators': 150}\n",
      "Test:  0.010725039591932986  - Train:  0.008865784087363186    {'booster': 'gbtree', 'learning_rate': 0.04, 'max_depth': 4, 'n_estimators': 30}\n",
      "Test:  0.006892173894641892  - Train:  0.004567527695044507    {'booster': 'gbtree', 'learning_rate': 0.04, 'max_depth': 4, 'n_estimators': 40}\n",
      "Test:  0.005122352327895952  - Train:  0.0024803892346262515    {'booster': 'gbtree', 'learning_rate': 0.04, 'max_depth': 4, 'n_estimators': 50}\n",
      "Test:  0.004302543856876237  - Train:  0.0014276702058377718    {'booster': 'gbtree', 'learning_rate': 0.04, 'max_depth': 4, 'n_estimators': 60}\n",
      "Test:  0.003768500739140272  - Train:  0.0005663689642095569    {'booster': 'gbtree', 'learning_rate': 0.04, 'max_depth': 4, 'n_estimators': 80}\n",
      "Test:  0.0036902891943731845  - Train:  0.0002881352036613064    {'booster': 'gbtree', 'learning_rate': 0.04, 'max_depth': 4, 'n_estimators': 100}\n",
      "Test:  0.0037180080589083605  - Train:  8.651547893621142e-05    {'booster': 'gbtree', 'learning_rate': 0.04, 'max_depth': 4, 'n_estimators': 150}\n",
      "Test:  0.005505742160144011  - Train:  0.003622897266541852    {'booster': 'gbtree', 'learning_rate': 0.06, 'max_depth': 3, 'n_estimators': 30}\n",
      "Test:  0.0040392780710470574  - Train:  0.0018365508153679975    {'booster': 'gbtree', 'learning_rate': 0.06, 'max_depth': 3, 'n_estimators': 40}\n",
      "Test:  0.003595790328173638  - Train:  0.001140968516751347    {'booster': 'gbtree', 'learning_rate': 0.06, 'max_depth': 3, 'n_estimators': 50}\n",
      "Test:  0.003504364917648469  - Train:  0.0008236934844360676    {'booster': 'gbtree', 'learning_rate': 0.06, 'max_depth': 3, 'n_estimators': 60}\n",
      "Test:  0.003467163908987753  - Train:  0.0005110010492671176    {'booster': 'gbtree', 'learning_rate': 0.06, 'max_depth': 3, 'n_estimators': 80}\n",
      "Test:  0.0034587314660285405  - Train:  0.0003551321137968534    {'booster': 'gbtree', 'learning_rate': 0.06, 'max_depth': 3, 'n_estimators': 100}\n",
      "Test:  0.0034959084741889982  - Train:  0.00015657325782823112    {'booster': 'gbtree', 'learning_rate': 0.06, 'max_depth': 3, 'n_estimators': 150}\n",
      "Test:  0.005719519254682335  - Train:  0.0032601737230342916    {'booster': 'gbtree', 'learning_rate': 0.06, 'max_depth': 4, 'n_estimators': 30}\n",
      "Test:  0.004225666085428299  - Train:  0.0013947354517927016    {'booster': 'gbtree', 'learning_rate': 0.06, 'max_depth': 4, 'n_estimators': 40}\n",
      "Test:  0.003759065434093169  - Train:  0.000688800028496189    {'booster': 'gbtree', 'learning_rate': 0.06, 'max_depth': 4, 'n_estimators': 50}\n",
      "Test:  0.003635482126029386  - Train:  0.0003932564079035159    {'booster': 'gbtree', 'learning_rate': 0.06, 'max_depth': 4, 'n_estimators': 60}\n",
      "Test:  0.003634989779551625  - Train:  0.00016693058541709837    {'booster': 'gbtree', 'learning_rate': 0.06, 'max_depth': 4, 'n_estimators': 80}\n",
      "Test:  0.0036275474096171324  - Train:  8.907898549429446e-05    {'booster': 'gbtree', 'learning_rate': 0.06, 'max_depth': 4, 'n_estimators': 100}\n",
      "Test:  0.003631407361461162  - Train:  2.000240332545135e-05    {'booster': 'gbtree', 'learning_rate': 0.06, 'max_depth': 4, 'n_estimators': 150}\n",
      "Test:  0.004584758095203133  - Train:  0.002483882743722963    {'booster': 'gbtree', 'learning_rate': 0.07, 'max_depth': 3, 'n_estimators': 30}\n",
      "Test:  0.0037573020694050253  - Train:  0.0013020008401811642    {'booster': 'gbtree', 'learning_rate': 0.07, 'max_depth': 3, 'n_estimators': 40}\n",
      "Test:  0.003573558339399987  - Train:  0.0008591910757517478    {'booster': 'gbtree', 'learning_rate': 0.07, 'max_depth': 3, 'n_estimators': 50}\n",
      "Test:  0.0035227197088146893  - Train:  0.0006333500901034272    {'booster': 'gbtree', 'learning_rate': 0.07, 'max_depth': 3, 'n_estimators': 60}\n",
      "Test:  0.0035277655424158652  - Train:  0.0003904033121190239    {'booster': 'gbtree', 'learning_rate': 0.07, 'max_depth': 3, 'n_estimators': 80}\n",
      "Test:  0.0035515143499033003  - Train:  0.00026270464086923094    {'booster': 'gbtree', 'learning_rate': 0.07, 'max_depth': 3, 'n_estimators': 100}\n",
      "Test:  0.003571785338633171  - Train:  0.00010659001124082305    {'booster': 'gbtree', 'learning_rate': 0.07, 'max_depth': 3, 'n_estimators': 150}\n",
      "Test:  0.004745055590039453  - Train:  0.0020664519636454377    {'booster': 'gbtree', 'learning_rate': 0.07, 'max_depth': 4, 'n_estimators': 30}\n",
      "Test:  0.0038669069196208515  - Train:  0.0008442952140980336    {'booster': 'gbtree', 'learning_rate': 0.07, 'max_depth': 4, 'n_estimators': 40}\n",
      "Test:  0.0036552720265945167  - Train:  0.00041833825397661316    {'booster': 'gbtree', 'learning_rate': 0.07, 'max_depth': 4, 'n_estimators': 50}\n",
      "Test:  0.003622367525894105  - Train:  0.00024297945255697875    {'booster': 'gbtree', 'learning_rate': 0.07, 'max_depth': 4, 'n_estimators': 60}\n",
      "Test:  0.003637361682491614  - Train:  0.00010648354701011409    {'booster': 'gbtree', 'learning_rate': 0.07, 'max_depth': 4, 'n_estimators': 80}\n",
      "Test:  0.0036252654230437007  - Train:  5.5243746716918536e-05    {'booster': 'gbtree', 'learning_rate': 0.07, 'max_depth': 4, 'n_estimators': 100}\n",
      "Test:  0.003645210051746485  - Train:  1.228670743202177e-05    {'booster': 'gbtree', 'learning_rate': 0.07, 'max_depth': 4, 'n_estimators': 150}\n",
      "Test:  0.003621550684777096  - Train:  0.0011039979553119287    {'booster': 'gbtree', 'learning_rate': 0.1, 'max_depth': 3, 'n_estimators': 30}\n",
      "Test:  0.0035098539711379204  - Train:  0.000660860265891735    {'booster': 'gbtree', 'learning_rate': 0.1, 'max_depth': 3, 'n_estimators': 40}\n",
      "Test:  0.0034827072476208308  - Train:  0.00046188410368659563    {'booster': 'gbtree', 'learning_rate': 0.1, 'max_depth': 3, 'n_estimators': 50}\n",
      "Test:  0.0035112053139764758  - Train:  0.0003366198926686255    {'booster': 'gbtree', 'learning_rate': 0.1, 'max_depth': 3, 'n_estimators': 60}\n",
      "Test:  0.0035201893583103557  - Train:  0.0001926883446311609    {'booster': 'gbtree', 'learning_rate': 0.1, 'max_depth': 3, 'n_estimators': 80}\n",
      "Test:  0.0035153492056134673  - Train:  0.00011270002453795174    {'booster': 'gbtree', 'learning_rate': 0.1, 'max_depth': 3, 'n_estimators': 100}\n",
      "Test:  0.0035465374297924852  - Train:  3.30806310735965e-05    {'booster': 'gbtree', 'learning_rate': 0.1, 'max_depth': 3, 'n_estimators': 150}\n",
      "Test:  0.003778789527517653  - Train:  0.0006465317115824825    {'booster': 'gbtree', 'learning_rate': 0.1, 'max_depth': 4, 'n_estimators': 30}\n",
      "Test:  0.0036028212370431746  - Train:  0.00027906374417898186    {'booster': 'gbtree', 'learning_rate': 0.1, 'max_depth': 4, 'n_estimators': 40}\n",
      "Test:  0.0035996660228467744  - Train:  0.00014173753532689923    {'booster': 'gbtree', 'learning_rate': 0.1, 'max_depth': 4, 'n_estimators': 50}\n",
      "Test:  0.0035995325305518766  - Train:  8.168440962391674e-05    {'booster': 'gbtree', 'learning_rate': 0.1, 'max_depth': 4, 'n_estimators': 60}\n",
      "Test:  0.0036055965227567684  - Train:  3.1068237652905426e-05    {'booster': 'gbtree', 'learning_rate': 0.1, 'max_depth': 4, 'n_estimators': 80}\n",
      "Test:  0.0036063703301566245  - Train:  1.2558422806627536e-05    {'booster': 'gbtree', 'learning_rate': 0.1, 'max_depth': 4, 'n_estimators': 100}\n",
      "Test:  0.003611549918585341  - Train:  1.6209823904706294e-06    {'booster': 'gbtree', 'learning_rate': 0.1, 'max_depth': 4, 'n_estimators': 150}\n",
      "Test:  0.0035771718425177497  - Train:  0.0007948017426865823    {'booster': 'gbtree', 'learning_rate': 0.12, 'max_depth': 3, 'n_estimators': 30}\n",
      "Test:  0.0035356777106007402  - Train:  0.0004821056254473644    {'booster': 'gbtree', 'learning_rate': 0.12, 'max_depth': 3, 'n_estimators': 40}\n",
      "Test:  0.003554762126250927  - Train:  0.0003389059027978769    {'booster': 'gbtree', 'learning_rate': 0.12, 'max_depth': 3, 'n_estimators': 50}\n",
      "Test:  0.003589121403571819  - Train:  0.0002446358391237023    {'booster': 'gbtree', 'learning_rate': 0.12, 'max_depth': 3, 'n_estimators': 60}\n",
      "Test:  0.0036202618749722236  - Train:  0.0001268975537819291    {'booster': 'gbtree', 'learning_rate': 0.12, 'max_depth': 3, 'n_estimators': 80}\n",
      "Test:  0.003643386377629519  - Train:  6.751741981087134e-05    {'booster': 'gbtree', 'learning_rate': 0.12, 'max_depth': 3, 'n_estimators': 100}\n",
      "Test:  0.003680842684067819  - Train:  1.777617582529553e-05    {'booster': 'gbtree', 'learning_rate': 0.12, 'max_depth': 3, 'n_estimators': 150}\n",
      "Test:  0.0036549955261344228  - Train:  0.0003665845700974352    {'booster': 'gbtree', 'learning_rate': 0.12, 'max_depth': 4, 'n_estimators': 30}\n",
      "Test:  0.0036997132121040833  - Train:  0.0001642297526437784    {'booster': 'gbtree', 'learning_rate': 0.12, 'max_depth': 4, 'n_estimators': 40}\n",
      "Test:  0.003712144554862859  - Train:  8.687363055461054e-05    {'booster': 'gbtree', 'learning_rate': 0.12, 'max_depth': 4, 'n_estimators': 50}\n",
      "Test:  0.0037192103987682343  - Train:  4.800060793601936e-05    {'booster': 'gbtree', 'learning_rate': 0.12, 'max_depth': 4, 'n_estimators': 60}\n",
      "Test:  0.0037162530046824945  - Train:  1.561007442907718e-05    {'booster': 'gbtree', 'learning_rate': 0.12, 'max_depth': 4, 'n_estimators': 80}\n",
      "Test:  0.0037262683638887074  - Train:  5.641094708933376e-06    {'booster': 'gbtree', 'learning_rate': 0.12, 'max_depth': 4, 'n_estimators': 100}\n",
      "Test:  0.0037330249757441536  - Train:  5.387285699827789e-07    {'booster': 'gbtree', 'learning_rate': 0.12, 'max_depth': 4, 'n_estimators': 150}\n",
      "Test:  0.010509790875351265  - Train:  0.009060629769890551    {'booster': 'dart', 'learning_rate': 0.04, 'max_depth': 3, 'n_estimators': 30}\n",
      "Test:  0.006645563400931762  - Train:  0.004881144608506297    {'booster': 'dart', 'learning_rate': 0.04, 'max_depth': 3, 'n_estimators': 40}\n",
      "Test:  0.004894345245784014  - Train:  0.0028814697703310934    {'booster': 'dart', 'learning_rate': 0.04, 'max_depth': 3, 'n_estimators': 50}\n",
      "Test:  0.004133693873666727  - Train:  0.0018715196694871804    {'booster': 'dart', 'learning_rate': 0.04, 'max_depth': 3, 'n_estimators': 60}\n",
      "Test:  0.003630203590464949  - Train:  0.0010196538297415328    {'booster': 'dart', 'learning_rate': 0.04, 'max_depth': 3, 'n_estimators': 80}\n",
      "Test:  0.0035583452720620865  - Train:  0.0006797337739741291    {'booster': 'dart', 'learning_rate': 0.04, 'max_depth': 3, 'n_estimators': 100}\n",
      "Test:  0.003521464663681859  - Train:  0.00035054430910056627    {'booster': 'dart', 'learning_rate': 0.04, 'max_depth': 3, 'n_estimators': 150}\n",
      "Test:  0.010725040571602026  - Train:  0.008865785510436439    {'booster': 'dart', 'learning_rate': 0.04, 'max_depth': 4, 'n_estimators': 30}\n",
      "Test:  0.006892174329023423  - Train:  0.004567528480768269    {'booster': 'dart', 'learning_rate': 0.04, 'max_depth': 4, 'n_estimators': 40}\n",
      "Test:  0.005122352742418073  - Train:  0.00248038988785253    {'booster': 'dart', 'learning_rate': 0.04, 'max_depth': 4, 'n_estimators': 50}\n",
      "Test:  0.004302544087264965  - Train:  0.0014276704274580692    {'booster': 'dart', 'learning_rate': 0.04, 'max_depth': 4, 'n_estimators': 60}\n",
      "Test:  0.0037685006921067696  - Train:  0.0005663689661355778    {'booster': 'dart', 'learning_rate': 0.04, 'max_depth': 4, 'n_estimators': 80}\n",
      "Test:  0.0036902888009579535  - Train:  0.0002881352653268718    {'booster': 'dart', 'learning_rate': 0.04, 'max_depth': 4, 'n_estimators': 100}\n",
      "Test:  0.0037180071837484715  - Train:  8.651549962772134e-05    {'booster': 'dart', 'learning_rate': 0.04, 'max_depth': 4, 'n_estimators': 150}\n",
      "Test:  0.005505741161096186  - Train:  0.0036228962256913914    {'booster': 'dart', 'learning_rate': 0.06, 'max_depth': 3, 'n_estimators': 30}\n",
      "Test:  0.00403927769791306  - Train:  0.0018365502320384414    {'booster': 'dart', 'learning_rate': 0.06, 'max_depth': 3, 'n_estimators': 40}\n",
      "Test:  0.0035957901985273653  - Train:  0.0011409682339540675    {'booster': 'dart', 'learning_rate': 0.06, 'max_depth': 3, 'n_estimators': 50}\n",
      "Test:  0.003504364939947981  - Train:  0.0008236935336012593    {'booster': 'dart', 'learning_rate': 0.06, 'max_depth': 3, 'n_estimators': 60}\n",
      "Test:  0.0034671638457186723  - Train:  0.0005110012336963336    {'booster': 'dart', 'learning_rate': 0.06, 'max_depth': 3, 'n_estimators': 80}\n",
      "Test:  0.003458731383709896  - Train:  0.00035513233794413896    {'booster': 'dart', 'learning_rate': 0.06, 'max_depth': 3, 'n_estimators': 100}\n",
      "Test:  0.0034959082612218404  - Train:  0.00015657344120306073    {'booster': 'dart', 'learning_rate': 0.06, 'max_depth': 3, 'n_estimators': 150}\n",
      "Test:  0.005719519907520633  - Train:  0.0032601742252246044    {'booster': 'dart', 'learning_rate': 0.06, 'max_depth': 4, 'n_estimators': 30}\n",
      "Test:  0.004225666284328128  - Train:  0.0013947357394926098    {'booster': 'dart', 'learning_rate': 0.06, 'max_depth': 4, 'n_estimators': 40}\n",
      "Test:  0.003759065503012611  - Train:  0.0006888002610458399    {'booster': 'dart', 'learning_rate': 0.06, 'max_depth': 4, 'n_estimators': 50}\n",
      "Test:  0.0036354820279028755  - Train:  0.00039325650427895944    {'booster': 'dart', 'learning_rate': 0.06, 'max_depth': 4, 'n_estimators': 60}\n",
      "Test:  0.003634989602136012  - Train:  0.00016693053342596104    {'booster': 'dart', 'learning_rate': 0.06, 'max_depth': 4, 'n_estimators': 80}\n",
      "Test:  0.0036275471407647064  - Train:  8.907892773464344e-05    {'booster': 'dart', 'learning_rate': 0.06, 'max_depth': 4, 'n_estimators': 100}\n",
      "Test:  0.0036314067094448997  - Train:  2.0002354999901697e-05    {'booster': 'dart', 'learning_rate': 0.06, 'max_depth': 4, 'n_estimators': 150}\n",
      "Test:  0.004584756101654726  - Train:  0.002483881080940212    {'booster': 'dart', 'learning_rate': 0.07, 'max_depth': 3, 'n_estimators': 30}\n",
      "Test:  0.0037573007764690296  - Train:  0.0013019998289278524    {'booster': 'dart', 'learning_rate': 0.07, 'max_depth': 3, 'n_estimators': 40}\n",
      "Test:  0.003573557542331156  - Train:  0.0008591905556341052    {'booster': 'dart', 'learning_rate': 0.07, 'max_depth': 3, 'n_estimators': 50}\n",
      "Test:  0.0035227192639658957  - Train:  0.0006333498039744118    {'booster': 'dart', 'learning_rate': 0.07, 'max_depth': 3, 'n_estimators': 60}\n",
      "Test:  0.003527765224960061  - Train:  0.00039040327774322967    {'booster': 'dart', 'learning_rate': 0.07, 'max_depth': 3, 'n_estimators': 80}\n",
      "Test:  0.003551514008384248  - Train:  0.0002627046620974828    {'booster': 'dart', 'learning_rate': 0.07, 'max_depth': 3, 'n_estimators': 100}\n",
      "Test:  0.0035713197263088  - Train:  0.00010641583205282242    {'booster': 'dart', 'learning_rate': 0.07, 'max_depth': 3, 'n_estimators': 150}\n",
      "Test:  0.004748703744337323  - Train:  0.002066300903353412    {'booster': 'dart', 'learning_rate': 0.07, 'max_depth': 4, 'n_estimators': 30}\n",
      "Test:  0.0038736582798723656  - Train:  0.0008415684246795951    {'booster': 'dart', 'learning_rate': 0.07, 'max_depth': 4, 'n_estimators': 40}\n",
      "Test:  0.00366637888764514  - Train:  0.00041523894949449465    {'booster': 'dart', 'learning_rate': 0.07, 'max_depth': 4, 'n_estimators': 50}\n",
      "Test:  0.003628168528793268  - Train:  0.00024171732036015018    {'booster': 'dart', 'learning_rate': 0.07, 'max_depth': 4, 'n_estimators': 60}\n",
      "Test:  0.003648241716143189  - Train:  0.00010619645716495209    {'booster': 'dart', 'learning_rate': 0.07, 'max_depth': 4, 'n_estimators': 80}\n",
      "Test:  0.0036538049061210914  - Train:  5.484921452862397e-05    {'booster': 'dart', 'learning_rate': 0.07, 'max_depth': 4, 'n_estimators': 100}\n",
      "Test:  0.0036729205679597006  - Train:  1.2566514130397779e-05    {'booster': 'dart', 'learning_rate': 0.07, 'max_depth': 4, 'n_estimators': 150}\n",
      "Test:  0.003621550971432232  - Train:  0.0011039985323097812    {'booster': 'dart', 'learning_rate': 0.1, 'max_depth': 3, 'n_estimators': 30}\n",
      "Test:  0.0035098539664052365  - Train:  0.0006608606498545101    {'booster': 'dart', 'learning_rate': 0.1, 'max_depth': 3, 'n_estimators': 40}\n",
      "Test:  0.0034827070310717496  - Train:  0.0004618842152135893    {'booster': 'dart', 'learning_rate': 0.1, 'max_depth': 3, 'n_estimators': 50}\n",
      "Test:  0.003511205072715935  - Train:  0.00033661994948916993    {'booster': 'dart', 'learning_rate': 0.1, 'max_depth': 3, 'n_estimators': 60}\n",
      "Test:  0.003520188847529944  - Train:  0.0001926883241949432    {'booster': 'dart', 'learning_rate': 0.1, 'max_depth': 3, 'n_estimators': 80}\n",
      "Test:  0.00351534882617035  - Train:  0.00011269998626944582    {'booster': 'dart', 'learning_rate': 0.1, 'max_depth': 3, 'n_estimators': 100}\n",
      "Test:  0.00354653672486591  - Train:  3.30806437328158e-05    {'booster': 'dart', 'learning_rate': 0.1, 'max_depth': 3, 'n_estimators': 150}\n",
      "Test:  0.0037787898896791314  - Train:  0.0006465323325448411    {'booster': 'dart', 'learning_rate': 0.1, 'max_depth': 4, 'n_estimators': 30}\n",
      "Test:  0.00360282135951817  - Train:  0.0002790640031764566    {'booster': 'dart', 'learning_rate': 0.1, 'max_depth': 4, 'n_estimators': 40}\n",
      "Test:  0.0035996659251837197  - Train:  0.00014173764579326328    {'booster': 'dart', 'learning_rate': 0.1, 'max_depth': 4, 'n_estimators': 50}\n",
      "Test:  0.0035995323962134153  - Train:  8.16844766402273e-05    {'booster': 'dart', 'learning_rate': 0.1, 'max_depth': 4, 'n_estimators': 60}\n",
      "Test:  0.003605596285559204  - Train:  3.1068274804915214e-05    {'booster': 'dart', 'learning_rate': 0.1, 'max_depth': 4, 'n_estimators': 80}\n",
      "Test:  0.003606370141090638  - Train:  1.2558452184157772e-05    {'booster': 'dart', 'learning_rate': 0.1, 'max_depth': 4, 'n_estimators': 100}\n",
      "Test:  0.003611662749291022  - Train:  1.6343055882478987e-06    {'booster': 'dart', 'learning_rate': 0.1, 'max_depth': 4, 'n_estimators': 150}\n",
      "Test:  0.0035771719365601086  - Train:  0.0007948018437355512    {'booster': 'dart', 'learning_rate': 0.12, 'max_depth': 3, 'n_estimators': 30}\n",
      "Test:  0.003535677771104405  - Train:  0.0004821057077054054    {'booster': 'dart', 'learning_rate': 0.12, 'max_depth': 3, 'n_estimators': 40}\n",
      "Test:  0.0035547620569084696  - Train:  0.0003389059343134228    {'booster': 'dart', 'learning_rate': 0.12, 'max_depth': 3, 'n_estimators': 50}\n",
      "Test:  0.0035891212151066636  - Train:  0.0002446358698395768    {'booster': 'dart', 'learning_rate': 0.12, 'max_depth': 3, 'n_estimators': 60}\n",
      "Test:  0.003620261508925626  - Train:  0.00012689754596250692    {'booster': 'dart', 'learning_rate': 0.12, 'max_depth': 3, 'n_estimators': 80}\n",
      "Test:  0.0036433858601351713  - Train:  6.751741262951217e-05    {'booster': 'dart', 'learning_rate': 0.12, 'max_depth': 3, 'n_estimators': 100}\n",
      "Test:  0.003680842227825995  - Train:  1.777617951650917e-05    {'booster': 'dart', 'learning_rate': 0.12, 'max_depth': 3, 'n_estimators': 150}\n",
      "Test:  0.0036549956701003236  - Train:  0.0003665849908681883    {'booster': 'dart', 'learning_rate': 0.12, 'max_depth': 4, 'n_estimators': 30}\n",
      "Test:  0.00369971288400966  - Train:  0.0001642299113169015    {'booster': 'dart', 'learning_rate': 0.12, 'max_depth': 4, 'n_estimators': 40}\n",
      "Test:  0.003712144258069667  - Train:  8.687373866912917e-05    {'booster': 'dart', 'learning_rate': 0.12, 'max_depth': 4, 'n_estimators': 50}\n",
      "Test:  0.003719210134325364  - Train:  4.8000675409897764e-05    {'booster': 'dart', 'learning_rate': 0.12, 'max_depth': 4, 'n_estimators': 60}\n",
      "Test:  0.0037162527361153342  - Train:  1.5610135472398898e-05    {'booster': 'dart', 'learning_rate': 0.12, 'max_depth': 4, 'n_estimators': 80}\n",
      "Test:  0.003726268110206256  - Train:  5.641134499525146e-06    {'booster': 'dart', 'learning_rate': 0.12, 'max_depth': 4, 'n_estimators': 100}\n",
      "Test:  0.003734395337570967  - Train:  5.3290670192765e-07    {'booster': 'dart', 'learning_rate': 0.12, 'max_depth': 4, 'n_estimators': 150}\n"
     ]
    }
   ],
   "source": [
    "#To plot all the scores from grid search\n",
    "cvres = grid_search.cv_results_\n",
    "for sc1, sc2, sc3 in zip(cvres[\"mean_test_score\"], cvres[\"mean_train_score\"], cvres[\"params\"]):\n",
    "    print(\"Test: \", -sc1, \" - Train: \", -sc2, \"  \", sc3)"
   ]
  },
  {
   "cell_type": "markdown",
   "metadata": {},
   "source": [
    "#### Some plots to see the results on test set"
   ]
  },
  {
   "cell_type": "code",
   "execution_count": 783,
   "metadata": {},
   "outputs": [
    {
     "data": {
      "text/plain": [
       "<matplotlib.collections.PathCollection at 0x21084d6a400>"
      ]
     },
     "execution_count": 783,
     "metadata": {},
     "output_type": "execute_result"
    },
    {
     "data": {
      "image/png": "[encoded data removed]",
      "text/plain": [
       "<matplotlib.figure.Figure at 0x21084d6a4a8>"
      ]
     },
     "metadata": {},
     "output_type": "display_data"
    }
   ],
   "source": [
    "RFbest = grid_search.best_estimator_\n",
    "plt.scatter(y_train,RFbest.predict(X_train))\n",
    "plt.scatter(y_test,RFbest.predict(X_test))"
   ]
  },
  {
   "cell_type": "code",
   "execution_count": 784,
   "metadata": {},
   "outputs": [
    {
     "data": {
      "text/plain": [
       "<matplotlib.collections.PathCollection at 0x2108c78dfd0>"
      ]
     },
     "execution_count": 784,
     "metadata": {},
     "output_type": "execute_result"
    },
    {
     "data": {
      "image/png": "[encoded data removed]",
      "text/plain": [
       "<matplotlib.figure.Figure at 0x2108a410cf8>"
      ]
     },
     "metadata": {},
     "output_type": "display_data"
    }
   ],
   "source": [
    "plt.scatter(y_train,RFbest.predict(X_train)-y_train)\n",
    "plt.scatter(y_test,RFbest.predict(X_test)-y_test)"
   ]
  },
  {
   "cell_type": "markdown",
   "metadata": {},
   "source": [
    "#### Train the model on the whole input data"
   ]
  },
  {
   "cell_type": "code",
   "execution_count": 760,
   "metadata": {},
   "outputs": [
    {
     "name": "stdout",
     "output_type": "stream",
     "text": [
      "Best parameters:   {'booster': 'dart', 'learning_rate': 0.06, 'max_depth': 3, 'n_estimators': 80}\n",
      "Best score:   -0.0024401852045780855\n"
     ]
    }
   ],
   "source": [
    "#scaler = StandardScaler()\n",
    "scaler = MinMaxScaler()\n",
    "scaler.fit(Feat)\n",
    "X = scaler.transform(Feat)\n",
    "\n",
    "\n",
    "#param_grid = [{'n_estimators': [10, 30, 40, 70, 100, 200, 250, 350, 450, 600],\\\n",
    "#               'learning_rate': [0.03, 0.05, 0.07, 0.1, 0.12, 0.14] }]\n",
    "param_grid = [{'n_estimators': [30, 40, 50, 60, 80, 100, 150, 200, 250], 'learning_rate': [0.04, 0.06, 0.07, 0.1, 0.12, 0.14] ,\\\n",
    "               'max_depth': [3, 4], 'booster': [\"gbtree\", \"gblinear\", \"dart\"]}]\n",
    "#RF = GradientBoostingRegressor()\n",
    "RF = xgb.XGBRegressor()\n",
    "grid_search = GridSearchCV(RF, param_grid, cv=4,\n",
    "                           scoring='neg_mean_squared_error', return_train_score=True)\n",
    "\n",
    "#grid_search = GridSearchCV(RF, param_grid, cv=4,\n",
    "#                           scoring='neg_mean_absolute_error', return_train_score=True)\n",
    "\n",
    "\n",
    "\n",
    "grid_search.fit(X, outputs[\"sor\"])\n",
    "\n",
    "\n",
    "print(\"Best parameters:  \", grid_search.best_params_)\n",
    "print(\"Best score:  \", grid_search.best_score_)"
   ]
  },
  {
   "cell_type": "code",
   "execution_count": 763,
   "metadata": {},
   "outputs": [
    {
     "data": {
      "text/plain": [
       "['C:/Chazal/ChallengeIFPEN2018/modelSorBis.pkl']"
      ]
     },
     "execution_count": 763,
     "metadata": {},
     "output_type": "execute_result"
    }
   ],
   "source": [
    "#To save the best model \n",
    "joblib.dump(scaler,CHALLENGE_PATH + \"scalerSor.pkl\")\n",
    "joblib.dump(grid_search.best_estimator_, CHALLENGE_PATH + \"modelSorBis.pkl\")"
   ]
  },
  {
   "cell_type": "markdown",
   "metadata": {},
   "source": [
    "## 5. Regression on the sum of bins"
   ]
  },
  {
   "cell_type": "code",
   "execution_count": 768,
   "metadata": {},
   "outputs": [],
   "source": [
    "###Warning Classif_pred is added as a new feature!\n",
    "#Feat_bin = np.concatenate([Feat_mat,Feat_Voids,Feat_loc_max,Feat_density,Feat_DTM1_pers,Feat_hX_pers,Feat_hZ_pers,\\\n",
    "#                       Feat_SetIntensity2_pers],axis=1)\n",
    "\n",
    "Feat_bin = np.concatenate([Feat_mat,Feat_Voids,Feat_loc_max,Feat_density,Feat_DTM1_pers,\\\n",
    "                       Feat_bd,Feat_ent_Intensity2,Feat_ent_locmax_dist],axis=1)"
   ]
  },
  {
   "cell_type": "code",
   "execution_count": 769,
   "metadata": {},
   "outputs": [
    {
     "name": "stdout",
     "output_type": "stream",
     "text": [
      "Best parameters:   {'booster': 'gbtree', 'learning_rate': 0.04, 'n_estimators': 200}\n"
     ]
    }
   ],
   "source": [
    "scaler = MinMaxScaler()\n",
    "scaler.fit(Feat_bin)\n",
    "X_bin = scaler.transform(Feat_bin)\n",
    "\n",
    "b_sum = np.zeros((np.shape(X_bin)[0],1))\n",
    "\n",
    "for idx in range(12):\n",
    "    bin = \"bin \" + str(idx+1)\n",
    "    b_sum = b_sum + outputs[bin].values.reshape(np.shape(b_sum))\n",
    "    \n",
    "#param_grid = [{'n_neighbors':[1,2,3,4,5,8,10,12,15,16,17,18,19,20,25], 'weights':['uniform', 'distance']}]\n",
    "#RF_bin = KNeighborsRegressor()\n",
    "\n",
    "param_grid = [{'n_estimators':[30,50,70,100,150,200], 'learning_rate': [0.04, 0.06, 0.07, 0.1, 0.12, 0.14],\\\n",
    "              'booster': [\"gbtree\", \"gblinear\", \"dart\"]}]\n",
    "RF_bin = xgb.XGBRegressor()\n",
    "\n",
    "grid_search = GridSearchCV(RF_bin, param_grid, cv=4, scoring='neg_mean_squared_error', return_train_score=True)\n",
    "grid_search.fit(X_bin,b_sum)\n",
    "print(\"Best parameters:  \", grid_search.best_params_)\n",
    "bin_best = grid_search.best_estimator_"
   ]
  },
  {
   "cell_type": "code",
   "execution_count": 770,
   "metadata": {},
   "outputs": [
    {
     "data": {
      "text/plain": [
       "['C:/Chazal/ChallengeIFPEN2018/modelBins.pkl']"
      ]
     },
     "execution_count": 770,
     "metadata": {},
     "output_type": "execute_result"
    }
   ],
   "source": [
    "#To save the best model \n",
    "joblib.dump(scaler,CHALLENGE_PATH + \"scalerBins.pkl\")\n",
    "joblib.dump(bin_best, CHALLENGE_PATH + \"modelBins.pkl\")"
   ]
  },
  {
   "cell_type": "markdown",
   "metadata": {},
   "source": [
    "## ---------------------------------------------------------------------"
   ]
  },
  {
   "cell_type": "markdown",
   "metadata": {
    "collapsed": true
   },
   "source": [
    "## 6. Computing the IFPEN challenge score"
   ]
  },
  {
   "cell_type": "markdown",
   "metadata": {},
   "source": [
    "### 6.1 IFPEN functions to compute score"
   ]
  },
  {
   "cell_type": "code",
   "execution_count": 337,
   "metadata": {
    "collapsed": true
   },
   "outputs": [],
   "source": [
    "def compute_q2(y_true, y_pred):\n",
    "\n",
    "    if y_true.shape[0] != y_pred.shape[0]:\n",
    "        sys.exit(\"Error : number of elements in prediction not equal to number of elements in test\")\n",
    "    elif y_true.shape[1] != y_pred.shape[1]:\n",
    "        sys.exit(\"Error : number of features in prediction not equal to number of features in test\")\n",
    "\n",
    "    y_mean = compute_ymean(y_true)\n",
    "\n",
    "    score_data = compute_score(y_true, y_pred, 10, 0.01)\n",
    "\n",
    "    score_mean = compute_score(y_true, y_mean, 10, 0.01)\n",
    "\n",
    "    return 1 - sum(score_data)/sum(score_mean)\n",
    "\n",
    "\n",
    "def compute_ymean(y_true):\n",
    "    row_y_mean = np.mean(y_true, 0)\n",
    "    return np.tile(row_y_mean, (np.size(y_true, 0), 1))\n",
    "\n",
    "\n",
    "def compute_score(y_true, y_pred, scaling_sor, scaling_bins):\n",
    "    score_material = (y_true[:, 0] - y_pred[:, 0])**2\n",
    "\n",
    "    sor_mean_true = np.mean(y_true[:, 1])\n",
    "\n",
    "    score_sor = ((y_true[:, 1] - y_pred[:, 1])/sor_mean_true)**2\n",
    "    row_bin_mean_true = np.mean(y_true[:, 2:14], 1)\n",
    "    #print(np.shape(row_bin_mean_true))\n",
    "    row_bin_mean_pred = np.mean(y_pred[:, 2:14], 1)\n",
    "    bin_mean_true = np.mean(row_bin_mean_true)\n",
    "    score_bins = ((row_bin_mean_true-row_bin_mean_pred)/bin_mean_true)**2\n",
    "    #print(np.shape(score_bins))\n",
    "    #return score_material + scaling_sor * score_sor + scaling_bins * score_bins\n",
    "    return score_material + scaling_sor * score_sor + scaling_bins * score_bins"
   ]
  },
  {
   "cell_type": "markdown",
   "metadata": {},
   "source": [
    "### 6.2 Split data and create output on the test part "
   ]
  },
  {
   "cell_type": "code",
   "execution_count": 772,
   "metadata": {},
   "outputs": [
    {
     "name": "stdout",
     "output_type": "stream",
     "text": [
      "(400, 937)\n"
     ]
    }
   ],
   "source": [
    "Feat = np.concatenate([Feat_mat,Feat_Voids,Feat_loc_max,Feat_density,Feat_DTM1_pers,Feat_hX_pers, Feat_hY_pers,\\\n",
    "                       Feat_hZ_pers,Feat_SetIntensity2_pers,Feat_bd,Feat_ent],axis=1)\n",
    "\n",
    "#Feat = np.concatenate([Feat_mat,Feat_Voids,Feat_loc_max,Feat_density,Feat_DTM1_pers,\\\n",
    "#                       Feat_SetIntensity2_pers,Feat_locmax_dist_pers],axis=1)\n",
    "\n",
    "#Feat = np.concatenate([Feat_mat,Feat_Voids,Feat_loc_max,Feat_density],axis=1)\n",
    "\n",
    "#Feat = np.concatenate([Feat_mat,Feat_Voids,Feat_loc_max,Feat_density,Feat_DTM1_pers,\\\n",
    "#                       Feat_SetIntensity2_pers,Feat_bd,Feat_ent],axis=1)\n",
    "\n",
    "#Feat = np.concatenate([Feat_Voids,Feat_loc_max,Feat_density,Feat_DTM1_pers,\\\n",
    "#                       Feat_bd,Feat_ent_Intensity2,Feat_ent_locmax_dist],axis=1)\n",
    "\n",
    "#Feat = np.concatenate([Feat_Voids,Feat_loc_max,Feat_density,Feat_bd],axis=1)\n",
    "\n",
    "\n",
    "print(np.shape(Feat))\n",
    "\n",
    "\n",
    "Feature_train, Feature_test, y_train, y_test, mat_train, mat_test, mat_encod_train, mat_encod_test, outputs_train, outputs_test\\\n",
    "= train_test_split(Feat, outputs[\"sor\"], outputs[\"material\"], material_cat_encoded, outputs, test_size = 0.2)"
   ]
  },
  {
   "cell_type": "markdown",
   "metadata": {},
   "source": [
    "#### Classification"
   ]
  },
  {
   "cell_type": "code",
   "execution_count": 773,
   "metadata": {},
   "outputs": [
    {
     "name": "stdout",
     "output_type": "stream",
     "text": [
      "[[39  0]\n",
      " [ 0 41]]\n"
     ]
    }
   ],
   "source": [
    "#Compute material prediction \n",
    "#Remove Feat_mat here\n",
    "X_train = Feature_train[:,1:]\n",
    "X_test = Feature_test[:,1:]\n",
    "\n",
    "RF = RandomForestClassifier(n_estimators=200)\n",
    "RF.fit(X_train,mat_encod_train)\n",
    "mat_pred = RF.predict(X_test)\n",
    "\n",
    "#print(np.mean(RF.predict(Feature_train) == label_train) )\n",
    "print(confusion_matrix(RF.predict(X_test), mat_encod_test))\n",
    "#print(np.shape(mat_pred))\n",
    "#print(mat_pred)"
   ]
  },
  {
   "cell_type": "markdown",
   "metadata": {},
   "source": [
    "#### Regression on sor"
   ]
  },
  {
   "cell_type": "code",
   "execution_count": 774,
   "metadata": {},
   "outputs": [
    {
     "name": "stdout",
     "output_type": "stream",
     "text": [
      "Best parameters:   {'booster': 'gbtree', 'learning_rate': 0.06, 'max_depth': 3, 'n_estimators': 150}\n"
     ]
    }
   ],
   "source": [
    "X_train = Feature_train\n",
    "X_test = Feature_test\n",
    "\n",
    "scaler = StandardScaler()\n",
    "#scaler = MinMaxScaler()\n",
    "scaler.fit(X_train)\n",
    "X_train_scaled = scaler.transform(X_train)\n",
    "\n",
    "\n",
    "param_grid = [{'n_estimators': [40, 50, 60, 80, 100, 150, 200, 250], 'learning_rate': [0.04, 0.06, 0.07, 0.1, 0.12] ,\\\n",
    "               'max_depth': [3, 4], 'booster': [\"gbtree\", \"gblinear\", \"dart\"]}]\n",
    "#RF = GradientBoostingRegressor()\n",
    "RF = xgb.XGBRegressor()\n",
    "grid_search = GridSearchCV(RF, param_grid, cv=4,\n",
    "                           scoring='neg_mean_squared_error', return_train_score=True)\n",
    "\n",
    "#grid_search = GridSearchCV(RF, param_grid, cv=4,\n",
    "#                           scoring='neg_mean_absolute_error', return_train_score=True)\n",
    "\n",
    "\n",
    "\n",
    "grid_search.fit(X_train_scaled, y_train)\n",
    "\n",
    "RFsor = grid_search.best_estimator_\n",
    "\n",
    "print(\"Best parameters:  \", grid_search.best_params_)\n",
    "\n",
    "X_test_scaled = scaler.transform(X_test)\n",
    "y_sor = grid_search.best_estimator_.predict(X_test_scaled)"
   ]
  },
  {
   "cell_type": "code",
   "execution_count": 486,
   "metadata": {},
   "outputs": [
    {
     "data": {
      "text/plain": [
       "<matplotlib.axes._subplots.AxesSubplot at 0x210812475f8>"
      ]
     },
     "execution_count": 486,
     "metadata": {},
     "output_type": "execute_result"
    },
    {
     "data": {
      "image/png": "[encoded data removed]",
      "text/plain": [
       "<matplotlib.figure.Figure at 0x21081406d68>"
      ]
     },
     "metadata": {},
     "output_type": "display_data"
    }
   ],
   "source": [
    "xgb.plot_importance(RFsor)"
   ]
  },
  {
   "cell_type": "code",
   "execution_count": 775,
   "metadata": {
    "scrolled": true
   },
   "outputs": [
    {
     "name": "stdout",
     "output_type": "stream",
     "text": [
      "Test:  0.005526943862198044  - Train:  0.004295475921198795    {'booster': 'gbtree', 'learning_rate': 0.04, 'max_depth': 3, 'n_estimators': 40}\n",
      "Test:  0.003710904933002854  - Train:  0.002321753751281573    {'booster': 'gbtree', 'learning_rate': 0.04, 'max_depth': 3, 'n_estimators': 50}\n",
      "Test:  0.002853875741042601  - Train:  0.0013570996052076811    {'booster': 'gbtree', 'learning_rate': 0.04, 'max_depth': 3, 'n_estimators': 60}\n",
      "Test:  0.002304132730312715  - Train:  0.0005807615865271538    {'booster': 'gbtree', 'learning_rate': 0.04, 'max_depth': 3, 'n_estimators': 80}\n",
      "Test:  0.0021488600842023845  - Train:  0.00033331889814549405    {'booster': 'gbtree', 'learning_rate': 0.04, 'max_depth': 3, 'n_estimators': 100}\n",
      "Test:  0.0020880990443756845  - Train:  0.00014660014824551687    {'booster': 'gbtree', 'learning_rate': 0.04, 'max_depth': 3, 'n_estimators': 150}\n",
      "Test:  0.002085424687382386  - Train:  8.041605725678942e-05    {'booster': 'gbtree', 'learning_rate': 0.04, 'max_depth': 3, 'n_estimators': 200}\n",
      "Test:  0.0020856870367075993  - Train:  4.622437983371704e-05    {'booster': 'gbtree', 'learning_rate': 0.04, 'max_depth': 3, 'n_estimators': 250}\n",
      "Test:  0.005645314630124458  - Train:  0.004081315637502054    {'booster': 'gbtree', 'learning_rate': 0.04, 'max_depth': 4, 'n_estimators': 40}\n",
      "Test:  0.003815712864009553  - Train:  0.0020753144756331283    {'booster': 'gbtree', 'learning_rate': 0.04, 'max_depth': 4, 'n_estimators': 50}\n",
      "Test:  0.002967238820132611  - Train:  0.0010923559193249464    {'booster': 'gbtree', 'learning_rate': 0.04, 'max_depth': 4, 'n_estimators': 60}\n",
      "Test:  0.0023577831990615715  - Train:  0.0003454446187982616    {'booster': 'gbtree', 'learning_rate': 0.04, 'max_depth': 4, 'n_estimators': 80}\n",
      "Test:  0.0022047995735695195  - Train:  0.000133476856880113    {'booster': 'gbtree', 'learning_rate': 0.04, 'max_depth': 4, 'n_estimators': 100}\n",
      "Test:  0.002152958275637365  - Train:  2.9969354479901765e-05    {'booster': 'gbtree', 'learning_rate': 0.04, 'max_depth': 4, 'n_estimators': 150}\n",
      "Test:  0.0021488018925140606  - Train:  1.0359643668858719e-05    {'booster': 'gbtree', 'learning_rate': 0.04, 'max_depth': 4, 'n_estimators': 200}\n",
      "Test:  0.002149236526606056  - Train:  3.84905495295753e-06    {'booster': 'gbtree', 'learning_rate': 0.04, 'max_depth': 4, 'n_estimators': 250}\n",
      "Test:  0.0028067970987978217  - Train:  0.0013176744726588353    {'booster': 'gbtree', 'learning_rate': 0.06, 'max_depth': 3, 'n_estimators': 40}\n",
      "Test:  0.0023556839743628807  - Train:  0.0006791536934495843    {'booster': 'gbtree', 'learning_rate': 0.06, 'max_depth': 3, 'n_estimators': 50}\n",
      "Test:  0.002190436406623639  - Train:  0.00042175667666797444    {'booster': 'gbtree', 'learning_rate': 0.06, 'max_depth': 3, 'n_estimators': 60}\n",
      "Test:  0.002101234079001749  - Train:  0.00023062068598551908    {'booster': 'gbtree', 'learning_rate': 0.06, 'max_depth': 3, 'n_estimators': 80}\n",
      "Test:  0.0020801972062040684  - Train:  0.0001492513192132327    {'booster': 'gbtree', 'learning_rate': 0.06, 'max_depth': 3, 'n_estimators': 100}\n",
      "Test:  0.0020742611058857745  - Train:  6.03579810347552e-05    {'booster': 'gbtree', 'learning_rate': 0.06, 'max_depth': 3, 'n_estimators': 150}\n",
      "Test:  0.0020838878678271344  - Train:  2.3680521657421832e-05    {'booster': 'gbtree', 'learning_rate': 0.06, 'max_depth': 3, 'n_estimators': 200}\n",
      "Test:  0.002083326220736008  - Train:  9.832367883872373e-06    {'booster': 'gbtree', 'learning_rate': 0.06, 'max_depth': 3, 'n_estimators': 250}\n",
      "Test:  0.002967524433914708  - Train:  0.0010489562447168587    {'booster': 'gbtree', 'learning_rate': 0.06, 'max_depth': 4, 'n_estimators': 40}\n",
      "Test:  0.002491501711852216  - Train:  0.0004357839485328796    {'booster': 'gbtree', 'learning_rate': 0.06, 'max_depth': 4, 'n_estimators': 50}\n",
      "Test:  0.002325470719302949  - Train:  0.00020293242539273025    {'booster': 'gbtree', 'learning_rate': 0.06, 'max_depth': 4, 'n_estimators': 60}\n",
      "Test:  0.002229186115428973  - Train:  6.606715861155799e-05    {'booster': 'gbtree', 'learning_rate': 0.06, 'max_depth': 4, 'n_estimators': 80}\n",
      "Test:  0.0022118557227536204  - Train:  3.0983844042003964e-05    {'booster': 'gbtree', 'learning_rate': 0.06, 'max_depth': 4, 'n_estimators': 100}\n",
      "Test:  0.002216689095192428  - Train:  6.492155813086962e-06    {'booster': 'gbtree', 'learning_rate': 0.06, 'max_depth': 4, 'n_estimators': 150}\n",
      "Test:  0.0022194800368242106  - Train:  1.5353217668868476e-06    {'booster': 'gbtree', 'learning_rate': 0.06, 'max_depth': 4, 'n_estimators': 200}\n",
      "Test:  0.0022187799246324866  - Train:  3.774818270831502e-07    {'booster': 'gbtree', 'learning_rate': 0.06, 'max_depth': 4, 'n_estimators': 250}\n",
      "Test:  0.0024551984761698223  - Train:  0.0008196779233662478    {'booster': 'gbtree', 'learning_rate': 0.07, 'max_depth': 3, 'n_estimators': 40}\n",
      "Test:  0.0022174664811156785  - Train:  0.00044272512212121954    {'booster': 'gbtree', 'learning_rate': 0.07, 'max_depth': 3, 'n_estimators': 50}\n",
      "Test:  0.0021457998098053576  - Train:  0.0002971712122363773    {'booster': 'gbtree', 'learning_rate': 0.07, 'max_depth': 3, 'n_estimators': 60}\n",
      "Test:  0.0021086218551905726  - Train:  0.00016681696583515534    {'booster': 'gbtree', 'learning_rate': 0.07, 'max_depth': 3, 'n_estimators': 80}\n",
      "Test:  0.0020887155181272044  - Train:  0.00010648408834572905    {'booster': 'gbtree', 'learning_rate': 0.07, 'max_depth': 3, 'n_estimators': 100}\n",
      "Test:  0.0020848954152900955  - Train:  3.8350568796758876e-05    {'booster': 'gbtree', 'learning_rate': 0.07, 'max_depth': 3, 'n_estimators': 150}\n",
      "Test:  0.0020815773217269405  - Train:  1.3680507543685422e-05    {'booster': 'gbtree', 'learning_rate': 0.07, 'max_depth': 3, 'n_estimators': 200}\n",
      "Test:  0.0020787107445415795  - Train:  5.317865191958256e-06    {'booster': 'gbtree', 'learning_rate': 0.07, 'max_depth': 3, 'n_estimators': 250}\n",
      "Test:  0.002549686987849884  - Train:  0.0005622995231359632    {'booster': 'gbtree', 'learning_rate': 0.07, 'max_depth': 4, 'n_estimators': 40}\n",
      "Test:  0.0022999956250828067  - Train:  0.0002195783634749922    {'booster': 'gbtree', 'learning_rate': 0.07, 'max_depth': 4, 'n_estimators': 50}\n",
      "Test:  0.0022295611728677805  - Train:  0.00010511258219555233    {'booster': 'gbtree', 'learning_rate': 0.07, 'max_depth': 4, 'n_estimators': 60}\n",
      "Test:  0.002202927052641166  - Train:  3.736951108669464e-05    {'booster': 'gbtree', 'learning_rate': 0.07, 'max_depth': 4, 'n_estimators': 80}\n",
      "Test:  0.0021970235947706774  - Train:  1.6872606305102807e-05    {'booster': 'gbtree', 'learning_rate': 0.07, 'max_depth': 4, 'n_estimators': 100}\n",
      "Test:  0.002202563266073426  - Train:  2.7561452841207985e-06    {'booster': 'gbtree', 'learning_rate': 0.07, 'max_depth': 4, 'n_estimators': 150}\n",
      "Test:  0.0022051968827632735  - Train:  4.858950864188547e-07    {'booster': 'gbtree', 'learning_rate': 0.07, 'max_depth': 4, 'n_estimators': 200}\n",
      "Test:  0.0022055370546713504  - Train:  2.191954668378082e-07    {'booster': 'gbtree', 'learning_rate': 0.07, 'max_depth': 4, 'n_estimators': 250}\n",
      "Test:  0.002182512938716701  - Train:  0.00032628470438219453    {'booster': 'gbtree', 'learning_rate': 0.1, 'max_depth': 3, 'n_estimators': 40}\n",
      "Test:  0.0021470893607694248  - Train:  0.00020891688081758878    {'booster': 'gbtree', 'learning_rate': 0.1, 'max_depth': 3, 'n_estimators': 50}\n",
      "Test:  0.0021277095698143227  - Train:  0.00014766370779872374    {'booster': 'gbtree', 'learning_rate': 0.1, 'max_depth': 3, 'n_estimators': 60}\n",
      "Test:  0.0021223385138872284  - Train:  8.123313390549189e-05    {'booster': 'gbtree', 'learning_rate': 0.1, 'max_depth': 3, 'n_estimators': 80}\n",
      "Test:  0.0021308319876493084  - Train:  4.383014324552859e-05    {'booster': 'gbtree', 'learning_rate': 0.1, 'max_depth': 3, 'n_estimators': 100}\n",
      "Test:  0.002130194951138499  - Train:  1.0149616495461916e-05    {'booster': 'gbtree', 'learning_rate': 0.1, 'max_depth': 3, 'n_estimators': 150}\n",
      "Test:  0.002129885541593674  - Train:  2.3873565035268186e-06    {'booster': 'gbtree', 'learning_rate': 0.1, 'max_depth': 3, 'n_estimators': 200}\n",
      "Test:  0.0021315267683751733  - Train:  5.665379664384397e-07    {'booster': 'gbtree', 'learning_rate': 0.1, 'max_depth': 3, 'n_estimators': 250}\n",
      "Test:  0.0022553378381879783  - Train:  0.00012176756426616133    {'booster': 'gbtree', 'learning_rate': 0.1, 'max_depth': 4, 'n_estimators': 40}\n",
      "Test:  0.002216510126821664  - Train:  5.29701084485421e-05    {'booster': 'gbtree', 'learning_rate': 0.1, 'max_depth': 4, 'n_estimators': 50}\n",
      "Test:  0.0022173244309923665  - Train:  2.8567596511120975e-05    {'booster': 'gbtree', 'learning_rate': 0.1, 'max_depth': 4, 'n_estimators': 60}\n",
      "Test:  0.002206951133348186  - Train:  9.685055683335624e-06    {'booster': 'gbtree', 'learning_rate': 0.1, 'max_depth': 4, 'n_estimators': 80}\n",
      "Test:  0.0022098761636381477  - Train:  3.44518894004248e-06    {'booster': 'gbtree', 'learning_rate': 0.1, 'max_depth': 4, 'n_estimators': 100}\n",
      "Test:  0.002206981304827885  - Train:  2.8643446901161755e-07    {'booster': 'gbtree', 'learning_rate': 0.1, 'max_depth': 4, 'n_estimators': 150}\n",
      "Test:  0.0022067867112903965  - Train:  2.0769951832079519e-07    {'booster': 'gbtree', 'learning_rate': 0.1, 'max_depth': 4, 'n_estimators': 200}\n",
      "Test:  0.0022067867112903965  - Train:  2.077011934158967e-07    {'booster': 'gbtree', 'learning_rate': 0.1, 'max_depth': 4, 'n_estimators': 250}\n",
      "Test:  0.002185379053064277  - Train:  0.00023633195092905517    {'booster': 'gbtree', 'learning_rate': 0.12, 'max_depth': 3, 'n_estimators': 40}\n",
      "Test:  0.0021561494230761162  - Train:  0.00015124739207781894    {'booster': 'gbtree', 'learning_rate': 0.12, 'max_depth': 3, 'n_estimators': 50}\n",
      "Test:  0.0021516215293148283  - Train:  0.00010289070295627514    {'booster': 'gbtree', 'learning_rate': 0.12, 'max_depth': 3, 'n_estimators': 60}\n",
      "Test:  0.0021661151459610333  - Train:  4.854055552465185e-05    {'booster': 'gbtree', 'learning_rate': 0.12, 'max_depth': 3, 'n_estimators': 80}\n",
      "Test:  0.0021777475276163463  - Train:  2.263758737526713e-05    {'booster': 'gbtree', 'learning_rate': 0.12, 'max_depth': 3, 'n_estimators': 100}\n",
      "Test:  0.0021772121461544618  - Train:  3.462271588222308e-06    {'booster': 'gbtree', 'learning_rate': 0.12, 'max_depth': 3, 'n_estimators': 150}\n",
      "Test:  0.00217573180155832  - Train:  5.918799842626632e-07    {'booster': 'gbtree', 'learning_rate': 0.12, 'max_depth': 3, 'n_estimators': 200}\n",
      "Test:  0.002176381659287479  - Train:  2.4555860319789935e-07    {'booster': 'gbtree', 'learning_rate': 0.12, 'max_depth': 3, 'n_estimators': 250}\n",
      "Test:  0.002211722552706067  - Train:  5.989201634597508e-05    {'booster': 'gbtree', 'learning_rate': 0.12, 'max_depth': 4, 'n_estimators': 40}\n",
      "Test:  0.0021916832812501137  - Train:  2.9185389354260332e-05    {'booster': 'gbtree', 'learning_rate': 0.12, 'max_depth': 4, 'n_estimators': 50}\n",
      "Test:  0.0021902777756301083  - Train:  1.487017615736606e-05    {'booster': 'gbtree', 'learning_rate': 0.12, 'max_depth': 4, 'n_estimators': 60}\n",
      "Test:  0.002194082942436598  - Train:  4.413915834870469e-06    {'booster': 'gbtree', 'learning_rate': 0.12, 'max_depth': 4, 'n_estimators': 80}\n",
      "Test:  0.0021919955286046886  - Train:  1.4158748174380256e-06    {'booster': 'gbtree', 'learning_rate': 0.12, 'max_depth': 4, 'n_estimators': 100}\n",
      "Test:  0.002192034468782936  - Train:  2.0438239256588204e-07    {'booster': 'gbtree', 'learning_rate': 0.12, 'max_depth': 4, 'n_estimators': 150}\n",
      "Test:  0.002192034425816733  - Train:  2.0438618552581754e-07    {'booster': 'gbtree', 'learning_rate': 0.12, 'max_depth': 4, 'n_estimators': 200}\n",
      "Test:  0.002192034425816733  - Train:  2.0438618552581754e-07    {'booster': 'gbtree', 'learning_rate': 0.12, 'max_depth': 4, 'n_estimators': 250}\n",
      "Test:  0.006291743888221962  - Train:  0.0019302854682499448    {'booster': 'gblinear', 'learning_rate': 0.04, 'max_depth': 3, 'n_estimators': 40}\n",
      "Test:  0.005490218746396399  - Train:  0.0017718021272324362    {'booster': 'gblinear', 'learning_rate': 0.04, 'max_depth': 3, 'n_estimators': 50}\n",
      "Test:  0.004958726427513792  - Train:  0.001667887661454756    {'booster': 'gblinear', 'learning_rate': 0.04, 'max_depth': 3, 'n_estimators': 60}\n",
      "Test:  0.004278052571488474  - Train:  0.0015275702635088961    {'booster': 'gblinear', 'learning_rate': 0.04, 'max_depth': 3, 'n_estimators': 80}\n",
      "Test:  0.0038469590257386383  - Train:  0.0014328599377125342    {'booster': 'gblinear', 'learning_rate': 0.04, 'max_depth': 3, 'n_estimators': 100}\n",
      "Test:  0.003230766313397073  - Train:  0.0012927800514062654    {'booster': 'gblinear', 'learning_rate': 0.04, 'max_depth': 3, 'n_estimators': 150}\n",
      "Test:  0.00292045525202577  - Train:  0.0012219696338258816    {'booster': 'gblinear', 'learning_rate': 0.04, 'max_depth': 3, 'n_estimators': 200}\n",
      "Test:  0.0027557878870417747  - Train:  0.0011842612679594485    {'booster': 'gblinear', 'learning_rate': 0.04, 'max_depth': 3, 'n_estimators': 250}\n",
      "Test:  0.006291743888221962  - Train:  0.0019302854682499448    {'booster': 'gblinear', 'learning_rate': 0.04, 'max_depth': 4, 'n_estimators': 40}\n",
      "Test:  0.005490218746396399  - Train:  0.0017718021272324362    {'booster': 'gblinear', 'learning_rate': 0.04, 'max_depth': 4, 'n_estimators': 50}\n",
      "Test:  0.004958726427513792  - Train:  0.001667887661454756    {'booster': 'gblinear', 'learning_rate': 0.04, 'max_depth': 4, 'n_estimators': 60}\n",
      "Test:  0.004278052571488474  - Train:  0.0015275702635088961    {'booster': 'gblinear', 'learning_rate': 0.04, 'max_depth': 4, 'n_estimators': 80}\n",
      "Test:  0.0038469590257386383  - Train:  0.0014328599377125342    {'booster': 'gblinear', 'learning_rate': 0.04, 'max_depth': 4, 'n_estimators': 100}\n",
      "Test:  0.003230766313397073  - Train:  0.0012927800514062654    {'booster': 'gblinear', 'learning_rate': 0.04, 'max_depth': 4, 'n_estimators': 150}\n",
      "Test:  0.00292045525202577  - Train:  0.0012219696338258816    {'booster': 'gblinear', 'learning_rate': 0.04, 'max_depth': 4, 'n_estimators': 200}\n",
      "Test:  0.0027557878870417747  - Train:  0.0011842612679594485    {'booster': 'gblinear', 'learning_rate': 0.04, 'max_depth': 4, 'n_estimators': 250}\n",
      "Test:  0.004893181217410803  - Train:  0.0016602657491610413    {'booster': 'gblinear', 'learning_rate': 0.06, 'max_depth': 3, 'n_estimators': 40}\n",
      "Test:  0.004361251174192468  - Train:  0.0015506917764484664    {'booster': 'gblinear', 'learning_rate': 0.06, 'max_depth': 3, 'n_estimators': 50}\n",
      "Test:  0.0039939357519419415  - Train:  0.0014704914050028275    {'booster': 'gblinear', 'learning_rate': 0.06, 'max_depth': 3, 'n_estimators': 60}\n",
      "Test:  0.0035094949378543573  - Train:  0.001360053776923731    {'booster': 'gblinear', 'learning_rate': 0.06, 'max_depth': 3, 'n_estimators': 80}\n",
      "Test:  0.0032046972212672552  - Train:  0.001289320669589862    {'booster': 'gblinear', 'learning_rate': 0.06, 'max_depth': 3, 'n_estimators': 100}\n",
      "Test:  0.0028128446606108513  - Train:  0.0011983475126231822    {'booster': 'gblinear', 'learning_rate': 0.06, 'max_depth': 3, 'n_estimators': 150}\n",
      "Test:  0.002662130651896768  - Train:  0.0011627592396575525    {'booster': 'gblinear', 'learning_rate': 0.06, 'max_depth': 3, 'n_estimators': 200}\n",
      "Test:  0.0026046687396293726  - Train:  0.001148386862854385    {'booster': 'gblinear', 'learning_rate': 0.06, 'max_depth': 3, 'n_estimators': 250}\n",
      "Test:  0.004893181217410803  - Train:  0.0016602657491610413    {'booster': 'gblinear', 'learning_rate': 0.06, 'max_depth': 4, 'n_estimators': 40}\n",
      "Test:  0.004361251174192468  - Train:  0.0015506917764484664    {'booster': 'gblinear', 'learning_rate': 0.06, 'max_depth': 4, 'n_estimators': 50}\n",
      "Test:  0.0039939357519419415  - Train:  0.0014704914050028275    {'booster': 'gblinear', 'learning_rate': 0.06, 'max_depth': 4, 'n_estimators': 60}\n",
      "Test:  0.0035094949378543573  - Train:  0.001360053776923731    {'booster': 'gblinear', 'learning_rate': 0.06, 'max_depth': 4, 'n_estimators': 80}\n",
      "Test:  0.0032046972212672552  - Train:  0.001289320669589862    {'booster': 'gblinear', 'learning_rate': 0.06, 'max_depth': 4, 'n_estimators': 100}\n",
      "Test:  0.0028128446606108513  - Train:  0.0011983475126231822    {'booster': 'gblinear', 'learning_rate': 0.06, 'max_depth': 4, 'n_estimators': 150}\n",
      "Test:  0.002662130651896768  - Train:  0.0011627592396575525    {'booster': 'gblinear', 'learning_rate': 0.06, 'max_depth': 4, 'n_estimators': 200}\n",
      "Test:  0.0026046687396293726  - Train:  0.001148386862854385    {'booster': 'gblinear', 'learning_rate': 0.06, 'max_depth': 4, 'n_estimators': 250}\n",
      "Test:  0.004485643878064364  - Train:  0.0015796266745257215    {'booster': 'gblinear', 'learning_rate': 0.07, 'max_depth': 3, 'n_estimators': 40}\n",
      "Test:  0.004023069441822328  - Train:  0.0014794058630018298    {'booster': 'gblinear', 'learning_rate': 0.07, 'max_depth': 3, 'n_estimators': 50}\n",
      "Test:  0.0037009179202352853  - Train:  0.001406226321039985    {'booster': 'gblinear', 'learning_rate': 0.07, 'max_depth': 3, 'n_estimators': 60}\n",
      "Test:  0.003278267066559528  - Train:  0.001307800113566187    {'booster': 'gblinear', 'learning_rate': 0.07, 'max_depth': 3, 'n_estimators': 80}\n",
      "Test:  0.003020493233292919  - Train:  0.0012474508413511695    {'booster': 'gblinear', 'learning_rate': 0.07, 'max_depth': 3, 'n_estimators': 100}\n",
      "Test:  0.002715729684948817  - Train:  0.001175861289874656    {'booster': 'gblinear', 'learning_rate': 0.07, 'max_depth': 3, 'n_estimators': 150}\n",
      "Test:  0.0026163769091834465  - Train:  0.0011515255529865873    {'booster': 'gblinear', 'learning_rate': 0.07, 'max_depth': 3, 'n_estimators': 200}\n",
      "Test:  0.0025852311554365975  - Train:  0.0011430219475582694    {'booster': 'gblinear', 'learning_rate': 0.07, 'max_depth': 3, 'n_estimators': 250}\n",
      "Test:  0.004485643878064364  - Train:  0.0015796266745257215    {'booster': 'gblinear', 'learning_rate': 0.07, 'max_depth': 4, 'n_estimators': 40}\n",
      "Test:  0.004023069441822328  - Train:  0.0014794058630018298    {'booster': 'gblinear', 'learning_rate': 0.07, 'max_depth': 4, 'n_estimators': 50}\n",
      "Test:  0.0037009179202352853  - Train:  0.001406226321039985    {'booster': 'gblinear', 'learning_rate': 0.07, 'max_depth': 4, 'n_estimators': 60}\n",
      "Test:  0.003278267066559528  - Train:  0.001307800113566187    {'booster': 'gblinear', 'learning_rate': 0.07, 'max_depth': 4, 'n_estimators': 80}\n",
      "Test:  0.003020493233292919  - Train:  0.0012474508413511695    {'booster': 'gblinear', 'learning_rate': 0.07, 'max_depth': 4, 'n_estimators': 100}\n",
      "Test:  0.002715729684948817  - Train:  0.001175861289874656    {'booster': 'gblinear', 'learning_rate': 0.07, 'max_depth': 4, 'n_estimators': 150}\n",
      "Test:  0.0026163769091834465  - Train:  0.0011515255529865873    {'booster': 'gblinear', 'learning_rate': 0.07, 'max_depth': 4, 'n_estimators': 200}\n",
      "Test:  0.0025852311554365975  - Train:  0.0011430219475582694    {'booster': 'gblinear', 'learning_rate': 0.07, 'max_depth': 4, 'n_estimators': 250}\n",
      "Test:  0.0037192789933451877  - Train:  0.0014167117707503504    {'booster': 'gblinear', 'learning_rate': 0.1, 'max_depth': 3, 'n_estimators': 40}\n",
      "Test:  0.003383868790637569  - Train:  0.0013372185905715737    {'booster': 'gblinear', 'learning_rate': 0.1, 'max_depth': 3, 'n_estimators': 50}\n",
      "Test:  0.003154275055935571  - Train:  0.001282201829720562    {'booster': 'gblinear', 'learning_rate': 0.1, 'max_depth': 3, 'n_estimators': 60}\n",
      "Test:  0.002874378734946608  - Train:  0.0012150459404372048    {'booster': 'gblinear', 'learning_rate': 0.1, 'max_depth': 3, 'n_estimators': 80}\n",
      "Test:  0.0027281842430583276  - Train:  0.0011797323999576416    {'booster': 'gblinear', 'learning_rate': 0.1, 'max_depth': 3, 'n_estimators': 100}\n",
      "Test:  0.0026000537636118376  - Train:  0.0011473988396862476    {'booster': 'gblinear', 'learning_rate': 0.1, 'max_depth': 3, 'n_estimators': 150}\n",
      "Test:  0.002577135723284442  - Train:  0.0011403657495490929    {'booster': 'gblinear', 'learning_rate': 0.1, 'max_depth': 3, 'n_estimators': 200}\n",
      "Test:  0.0025743949331114265  - Train:  0.001138767325353685    {'booster': 'gblinear', 'learning_rate': 0.1, 'max_depth': 3, 'n_estimators': 250}\n",
      "Test:  0.0037192789933451877  - Train:  0.0014167117707503504    {'booster': 'gblinear', 'learning_rate': 0.1, 'max_depth': 4, 'n_estimators': 40}\n",
      "Test:  0.003383868790637569  - Train:  0.0013372185905715737    {'booster': 'gblinear', 'learning_rate': 0.1, 'max_depth': 4, 'n_estimators': 50}\n",
      "Test:  0.003154275055935571  - Train:  0.001282201829720562    {'booster': 'gblinear', 'learning_rate': 0.1, 'max_depth': 4, 'n_estimators': 60}\n",
      "Test:  0.002874378734946608  - Train:  0.0012150459404372048    {'booster': 'gblinear', 'learning_rate': 0.1, 'max_depth': 4, 'n_estimators': 80}\n",
      "Test:  0.0027281842430583276  - Train:  0.0011797323999576416    {'booster': 'gblinear', 'learning_rate': 0.1, 'max_depth': 4, 'n_estimators': 100}\n",
      "Test:  0.0026000537636118376  - Train:  0.0011473988396862476    {'booster': 'gblinear', 'learning_rate': 0.1, 'max_depth': 4, 'n_estimators': 150}\n",
      "Test:  0.002577135723284442  - Train:  0.0011403657495490929    {'booster': 'gblinear', 'learning_rate': 0.1, 'max_depth': 4, 'n_estimators': 200}\n",
      "Test:  0.0025743949331114265  - Train:  0.001138767325353685    {'booster': 'gblinear', 'learning_rate': 0.1, 'max_depth': 4, 'n_estimators': 250}\n",
      "Test:  0.0034064666402841164  - Train:  0.001345884836909274    {'booster': 'gblinear', 'learning_rate': 0.12, 'max_depth': 3, 'n_estimators': 40}\n",
      "Test:  0.003129284656578698  - Train:  0.0012783918096315448    {'booster': 'gblinear', 'learning_rate': 0.12, 'max_depth': 3, 'n_estimators': 50}\n",
      "Test:  0.002946975501689449  - Train:  0.0012339367316480964    {'booster': 'gblinear', 'learning_rate': 0.12, 'max_depth': 3, 'n_estimators': 60}\n",
      "Test:  0.002741441899271943  - Train:  0.0011835979681839195    {'booster': 'gblinear', 'learning_rate': 0.12, 'max_depth': 3, 'n_estimators': 80}\n",
      "Test:  0.0026471182782532546  - Train:  0.0011599301573097633    {'booster': 'gblinear', 'learning_rate': 0.12, 'max_depth': 3, 'n_estimators': 100}\n",
      "Test:  0.002580926351638385  - Train:  0.0011417697029595425    {'booster': 'gblinear', 'learning_rate': 0.12, 'max_depth': 3, 'n_estimators': 150}\n",
      "Test:  0.0025744012985557682  - Train:  0.0011388915551733127    {'booster': 'gblinear', 'learning_rate': 0.12, 'max_depth': 3, 'n_estimators': 200}\n",
      "Test:  0.0025748712231395843  - Train:  0.0011383739211733139    {'booster': 'gblinear', 'learning_rate': 0.12, 'max_depth': 3, 'n_estimators': 250}\n",
      "Test:  0.0034064666402841164  - Train:  0.001345884836909274    {'booster': 'gblinear', 'learning_rate': 0.12, 'max_depth': 4, 'n_estimators': 40}\n",
      "Test:  0.003129284656578698  - Train:  0.0012783918096315448    {'booster': 'gblinear', 'learning_rate': 0.12, 'max_depth': 4, 'n_estimators': 50}\n",
      "Test:  0.002946975501689449  - Train:  0.0012339367316480964    {'booster': 'gblinear', 'learning_rate': 0.12, 'max_depth': 4, 'n_estimators': 60}\n",
      "Test:  0.002741441899271943  - Train:  0.0011835979681839195    {'booster': 'gblinear', 'learning_rate': 0.12, 'max_depth': 4, 'n_estimators': 80}\n",
      "Test:  0.0026471182782532546  - Train:  0.0011599301573097633    {'booster': 'gblinear', 'learning_rate': 0.12, 'max_depth': 4, 'n_estimators': 100}\n",
      "Test:  0.002580926351638385  - Train:  0.0011417697029595425    {'booster': 'gblinear', 'learning_rate': 0.12, 'max_depth': 4, 'n_estimators': 150}\n",
      "Test:  0.0025744012985557682  - Train:  0.0011388915551733127    {'booster': 'gblinear', 'learning_rate': 0.12, 'max_depth': 4, 'n_estimators': 200}\n",
      "Test:  0.0025748712231395843  - Train:  0.0011383739211733139    {'booster': 'gblinear', 'learning_rate': 0.12, 'max_depth': 4, 'n_estimators': 250}\n",
      "Test:  0.005526944566570926  - Train:  0.004295476139768287    {'booster': 'dart', 'learning_rate': 0.04, 'max_depth': 3, 'n_estimators': 40}\n",
      "Test:  0.0037109060583609015  - Train:  0.0023217541121940627    {'booster': 'dart', 'learning_rate': 0.04, 'max_depth': 3, 'n_estimators': 50}\n",
      "Test:  0.002853876732845903  - Train:  0.0013571001033205478    {'booster': 'dart', 'learning_rate': 0.04, 'max_depth': 3, 'n_estimators': 60}\n",
      "Test:  0.0023041332836625282  - Train:  0.0005807616642533225    {'booster': 'dart', 'learning_rate': 0.04, 'max_depth': 3, 'n_estimators': 80}\n",
      "Test:  0.0021488603812162207  - Train:  0.00033331891823729375    {'booster': 'dart', 'learning_rate': 0.04, 'max_depth': 3, 'n_estimators': 100}\n",
      "Test:  0.002088099425163339  - Train:  0.00014660010454558512    {'booster': 'dart', 'learning_rate': 0.04, 'max_depth': 3, 'n_estimators': 150}\n",
      "Test:  0.002085425060856528  - Train:  8.041607150797326e-05    {'booster': 'dart', 'learning_rate': 0.04, 'max_depth': 3, 'n_estimators': 200}\n",
      "Test:  0.0020857841134622294  - Train:  4.624597170526789e-05    {'booster': 'dart', 'learning_rate': 0.04, 'max_depth': 3, 'n_estimators': 250}\n",
      "Test:  0.005645315468729009  - Train:  0.004081316759057053    {'booster': 'dart', 'learning_rate': 0.04, 'max_depth': 4, 'n_estimators': 40}\n",
      "Test:  0.003815713505413651  - Train:  0.002075315115546392    {'booster': 'dart', 'learning_rate': 0.04, 'max_depth': 4, 'n_estimators': 50}\n",
      "Test:  0.0029672393738440993  - Train:  0.0010923564936945517    {'booster': 'dart', 'learning_rate': 0.04, 'max_depth': 4, 'n_estimators': 60}\n",
      "Test:  0.0023577829733384915  - Train:  0.0003454448034569642    {'booster': 'dart', 'learning_rate': 0.04, 'max_depth': 4, 'n_estimators': 80}\n",
      "Test:  0.002204799423763976  - Train:  0.00013347686438772984    {'booster': 'dart', 'learning_rate': 0.04, 'max_depth': 4, 'n_estimators': 100}\n",
      "Test:  0.0021529579820661034  - Train:  2.9969306202548818e-05    {'booster': 'dart', 'learning_rate': 0.04, 'max_depth': 4, 'n_estimators': 150}\n",
      "Test:  0.0021488012315730005  - Train:  1.0359604653167911e-05    {'booster': 'dart', 'learning_rate': 0.04, 'max_depth': 4, 'n_estimators': 200}\n",
      "Test:  0.002149235867872434  - Train:  3.849025559159373e-06    {'booster': 'dart', 'learning_rate': 0.04, 'max_depth': 4, 'n_estimators': 250}\n",
      "Test:  0.0028067979756748016  - Train:  0.0013176750759817837    {'booster': 'dart', 'learning_rate': 0.06, 'max_depth': 3, 'n_estimators': 40}\n",
      "Test:  0.0023556847661912704  - Train:  0.0006791541497910146    {'booster': 'dart', 'learning_rate': 0.06, 'max_depth': 3, 'n_estimators': 50}\n",
      "Test:  0.002190437058045588  - Train:  0.00042175694257725173    {'booster': 'dart', 'learning_rate': 0.06, 'max_depth': 3, 'n_estimators': 60}\n",
      "Test:  0.0021012345044782383  - Train:  0.0002306207954298948    {'booster': 'dart', 'learning_rate': 0.06, 'max_depth': 3, 'n_estimators': 80}\n",
      "Test:  0.0020801976483712107  - Train:  0.00014925136742143378    {'booster': 'dart', 'learning_rate': 0.06, 'max_depth': 3, 'n_estimators': 100}\n",
      "Test:  0.002074261780379521  - Train:  6.035801051721027e-05    {'booster': 'dart', 'learning_rate': 0.06, 'max_depth': 3, 'n_estimators': 150}\n",
      "Test:  0.0020835242524460218  - Train:  2.356612730008137e-05    {'booster': 'dart', 'learning_rate': 0.06, 'max_depth': 3, 'n_estimators': 200}\n",
      "Test:  0.002081362730459232  - Train:  9.865712701322446e-06    {'booster': 'dart', 'learning_rate': 0.06, 'max_depth': 3, 'n_estimators': 250}\n",
      "Test:  0.0029675254922474025  - Train:  0.001048957276647455    {'booster': 'dart', 'learning_rate': 0.06, 'max_depth': 4, 'n_estimators': 40}\n",
      "Test:  0.0024915025110910276  - Train:  0.0004357846709490521    {'booster': 'dart', 'learning_rate': 0.06, 'max_depth': 4, 'n_estimators': 50}\n",
      "Test:  0.00232547128930014  - Train:  0.00020293301676275932    {'booster': 'dart', 'learning_rate': 0.06, 'max_depth': 4, 'n_estimators': 60}\n",
      "Test:  0.002229186330067427  - Train:  6.606741465760686e-05    {'booster': 'dart', 'learning_rate': 0.06, 'max_depth': 4, 'n_estimators': 80}\n",
      "Test:  0.002211855858047267  - Train:  3.098396127103967e-05    {'booster': 'dart', 'learning_rate': 0.06, 'max_depth': 4, 'n_estimators': 100}\n",
      "Test:  0.002217251740893043  - Train:  6.493324535575196e-06    {'booster': 'dart', 'learning_rate': 0.06, 'max_depth': 4, 'n_estimators': 150}\n",
      "Test:  0.0022213344060026804  - Train:  1.5667438118069274e-06    {'booster': 'dart', 'learning_rate': 0.06, 'max_depth': 4, 'n_estimators': 200}\n",
      "Test:  0.002221681838442882  - Train:  4.0568887337026866e-07    {'booster': 'dart', 'learning_rate': 0.06, 'max_depth': 4, 'n_estimators': 250}\n",
      "Test:  0.002455198305131678  - Train:  0.0008196774588997827    {'booster': 'dart', 'learning_rate': 0.07, 'max_depth': 3, 'n_estimators': 40}\n",
      "Test:  0.0022174665978723193  - Train:  0.00044272498860801877    {'booster': 'dart', 'learning_rate': 0.07, 'max_depth': 3, 'n_estimators': 50}\n",
      "Test:  0.002145800002010563  - Train:  0.0002971710991370338    {'booster': 'dart', 'learning_rate': 0.07, 'max_depth': 3, 'n_estimators': 60}\n",
      "Test:  0.002108621987818695  - Train:  0.00016681685133735537    {'booster': 'dart', 'learning_rate': 0.07, 'max_depth': 3, 'n_estimators': 80}\n",
      "Test:  0.0020887155126765042  - Train:  0.00010648397732146466    {'booster': 'dart', 'learning_rate': 0.07, 'max_depth': 3, 'n_estimators': 100}\n",
      "Test:  0.0020869674685110944  - Train:  3.8142712467921054e-05    {'booster': 'dart', 'learning_rate': 0.07, 'max_depth': 3, 'n_estimators': 150}\n",
      "Test:  0.0020804776948064514  - Train:  1.3822683716663419e-05    {'booster': 'dart', 'learning_rate': 0.07, 'max_depth': 3, 'n_estimators': 200}\n",
      "Test:  0.0020778182428978975  - Train:  5.386230960473202e-06    {'booster': 'dart', 'learning_rate': 0.07, 'max_depth': 3, 'n_estimators': 250}\n",
      "Test:  0.0025496868151333963  - Train:  0.0005622992117047827    {'booster': 'dart', 'learning_rate': 0.07, 'max_depth': 4, 'n_estimators': 40}\n",
      "Test:  0.0022999954802135816  - Train:  0.00021957824652596203    {'booster': 'dart', 'learning_rate': 0.07, 'max_depth': 4, 'n_estimators': 50}\n",
      "Test:  0.002229561015267573  - Train:  0.00010511250634132216    {'booster': 'dart', 'learning_rate': 0.07, 'max_depth': 4, 'n_estimators': 60}\n",
      "Test:  0.0022029269898760995  - Train:  3.736950470906767e-05    {'booster': 'dart', 'learning_rate': 0.07, 'max_depth': 4, 'n_estimators': 80}\n",
      "Test:  0.0021970235151703103  - Train:  1.6872596007823356e-05    {'booster': 'dart', 'learning_rate': 0.07, 'max_depth': 4, 'n_estimators': 100}\n",
      "Test:  0.002202563002481419  - Train:  2.756140482355779e-06    {'booster': 'dart', 'learning_rate': 0.07, 'max_depth': 4, 'n_estimators': 150}\n",
      "Test:  0.0022049972958498943  - Train:  4.883564215158626e-07    {'booster': 'dart', 'learning_rate': 0.07, 'max_depth': 4, 'n_estimators': 200}\n",
      "Test:  0.0022053352018877497  - Train:  2.2243642479881898e-07    {'booster': 'dart', 'learning_rate': 0.07, 'max_depth': 4, 'n_estimators': 250}\n",
      "Test:  0.0021825131108285413  - Train:  0.00032628488117486055    {'booster': 'dart', 'learning_rate': 0.1, 'max_depth': 3, 'n_estimators': 40}\n",
      "Test:  0.002147089409945585  - Train:  0.00020891693841934282    {'booster': 'dart', 'learning_rate': 0.1, 'max_depth': 3, 'n_estimators': 50}\n",
      "Test:  0.002127709604454831  - Train:  0.00014766376483812388    {'booster': 'dart', 'learning_rate': 0.1, 'max_depth': 3, 'n_estimators': 60}\n",
      "Test:  0.0021223385581011483  - Train:  8.123319060124778e-05    {'booster': 'dart', 'learning_rate': 0.1, 'max_depth': 3, 'n_estimators': 80}\n",
      "Test:  0.0021308317457282553  - Train:  4.383016639774505e-05    {'booster': 'dart', 'learning_rate': 0.1, 'max_depth': 3, 'n_estimators': 100}\n",
      "Test:  0.002130194760098046  - Train:  1.0149643780654336e-05    {'booster': 'dart', 'learning_rate': 0.1, 'max_depth': 3, 'n_estimators': 150}\n",
      "Test:  0.002129943478613364  - Train:  2.3873569483787088e-06    {'booster': 'dart', 'learning_rate': 0.1, 'max_depth': 3, 'n_estimators': 200}\n",
      "Test:  0.0021320439601454706  - Train:  5.719543513585494e-07    {'booster': 'dart', 'learning_rate': 0.1, 'max_depth': 3, 'n_estimators': 250}\n",
      "Test:  0.0022553378191008592  - Train:  0.00012176754623271244    {'booster': 'dart', 'learning_rate': 0.1, 'max_depth': 4, 'n_estimators': 40}\n",
      "Test:  0.002216509932744075  - Train:  5.297010445247103e-05    {'booster': 'dart', 'learning_rate': 0.1, 'max_depth': 4, 'n_estimators': 50}\n",
      "Test:  0.0022173243232795595  - Train:  2.8567593371434662e-05    {'booster': 'dart', 'learning_rate': 0.1, 'max_depth': 4, 'n_estimators': 60}\n",
      "Test:  0.0022069510048309754  - Train:  9.68506739434383e-06    {'booster': 'dart', 'learning_rate': 0.1, 'max_depth': 4, 'n_estimators': 80}\n",
      "Test:  0.0022098759579801336  - Train:  3.4452054729828665e-06    {'booster': 'dart', 'learning_rate': 0.1, 'max_depth': 4, 'n_estimators': 100}\n",
      "Test:  0.0022067710550852343  - Train:  2.858508154765184e-07    {'booster': 'dart', 'learning_rate': 0.1, 'max_depth': 4, 'n_estimators': 150}\n",
      "Test:  0.002207145997104197  - Train:  2.0497192702558655e-07    {'booster': 'dart', 'learning_rate': 0.1, 'max_depth': 4, 'n_estimators': 200}\n",
      "Test:  0.002207145997104197  - Train:  2.0497884523483763e-07    {'booster': 'dart', 'learning_rate': 0.1, 'max_depth': 4, 'n_estimators': 250}\n",
      "Test:  0.0021853786022033228  - Train:  0.00023633193701488823    {'booster': 'dart', 'learning_rate': 0.12, 'max_depth': 3, 'n_estimators': 40}\n",
      "Test:  0.00215614905465121  - Train:  0.00015124737332339918    {'booster': 'dart', 'learning_rate': 0.12, 'max_depth': 3, 'n_estimators': 50}\n",
      "Test:  0.0021516212354995455  - Train:  0.00010289069406316072    {'booster': 'dart', 'learning_rate': 0.12, 'max_depth': 3, 'n_estimators': 60}\n",
      "Test:  0.002166114807168231  - Train:  4.8540563195011e-05    {'booster': 'dart', 'learning_rate': 0.12, 'max_depth': 3, 'n_estimators': 80}\n",
      "Test:  0.002179658938445822  - Train:  2.2634942140769548e-05    {'booster': 'dart', 'learning_rate': 0.12, 'max_depth': 3, 'n_estimators': 100}\n",
      "Test:  0.002181354419608669  - Train:  3.3898310410866138e-06    {'booster': 'dart', 'learning_rate': 0.12, 'max_depth': 3, 'n_estimators': 150}\n",
      "Test:  0.0021782686696156235  - Train:  5.721939991862585e-07    {'booster': 'dart', 'learning_rate': 0.12, 'max_depth': 3, 'n_estimators': 200}\n",
      "Test:  0.0021798318170863718  - Train:  2.3302721091614595e-07    {'booster': 'dart', 'learning_rate': 0.12, 'max_depth': 3, 'n_estimators': 250}\n",
      "Test:  0.0022117224672148364  - Train:  5.9892138872257195e-05    {'booster': 'dart', 'learning_rate': 0.12, 'max_depth': 4, 'n_estimators': 40}\n",
      "Test:  0.002191683118881187  - Train:  2.9185471139115476e-05    {'booster': 'dart', 'learning_rate': 0.12, 'max_depth': 4, 'n_estimators': 50}\n",
      "Test:  0.0021902774337134432  - Train:  1.487023460361052e-05    {'booster': 'dart', 'learning_rate': 0.12, 'max_depth': 4, 'n_estimators': 60}\n",
      "Test:  0.0021940827467732235  - Train:  4.413955575976565e-06    {'booster': 'dart', 'learning_rate': 0.12, 'max_depth': 4, 'n_estimators': 80}\n",
      "Test:  0.002191995396810733  - Train:  1.4158926683429968e-06    {'booster': 'dart', 'learning_rate': 0.12, 'max_depth': 4, 'n_estimators': 100}\n",
      "Test:  0.0021920340148991043  - Train:  2.0438633219230848e-07    {'booster': 'dart', 'learning_rate': 0.12, 'max_depth': 4, 'n_estimators': 150}\n",
      "Test:  0.002192033969278177  - Train:  2.0439410384498493e-07    {'booster': 'dart', 'learning_rate': 0.12, 'max_depth': 4, 'n_estimators': 200}\n",
      "Test:  0.0021920338589016585  - Train:  2.0440294463571296e-07    {'booster': 'dart', 'learning_rate': 0.12, 'max_depth': 4, 'n_estimators': 250}\n"
     ]
    },
    {
     "data": {
      "text/plain": [
       "<matplotlib.collections.PathCollection at 0x2108ac57ef0>"
      ]
     },
     "execution_count": 775,
     "metadata": {},
     "output_type": "execute_result"
    },
    {
     "data": {
      "image/png": "[encoded data removed]",
      "text/plain": [
       "<matplotlib.figure.Figure at 0x2108a2dee10>"
      ]
     },
     "metadata": {},
     "output_type": "display_data"
    }
   ],
   "source": [
    "cvres = grid_search.cv_results_\n",
    "for sc1, sc2, sc3 in zip(cvres[\"mean_test_score\"], cvres[\"mean_train_score\"], cvres[\"params\"]):\n",
    "    print(\"Test: \", -sc1, \" - Train: \", -sc2, \"  \", sc3)\n",
    "    \n",
    "RFbest = grid_search.best_estimator_\n",
    "plt.scatter(y_train,RFbest.predict(X_train_scaled))\n",
    "plt.scatter(y_test,RFbest.predict(X_test_scaled))"
   ]
  },
  {
   "cell_type": "markdown",
   "metadata": {},
   "source": [
    "#### Regression on the sum of bins"
   ]
  },
  {
   "cell_type": "code",
   "execution_count": 776,
   "metadata": {},
   "outputs": [
    {
     "name": "stdout",
     "output_type": "stream",
     "text": [
      "Best parameters:   {'n_neighbors': 15, 'weights': 'uniform'}\n",
      "Test:  0.6137726102851848   Train:  0.660548311464508\n"
     ]
    }
   ],
   "source": [
    "scaler = MinMaxScaler()\n",
    "scaler.fit(Feature_train)\n",
    "X_train_bin = scaler.transform(Feature_train)\n",
    "X_test_bin = scaler.transform(Feature_test)\n",
    "\n",
    "bin_pred = np.zeros((np.shape(X_test_bin)[0],12))\n",
    "b_sum_train = np.zeros((np.shape(X_train_bin)[0],1))\n",
    "b_sum_test = np.zeros((np.shape(X_test_bin)[0],1))\n",
    "for idx in range(12):\n",
    "    bin = \"bin \" + str(idx+1)\n",
    "    b_sum_train = b_sum_train + outputs_train[bin].values.reshape(np.shape(b_sum_train))\n",
    "    b_sum_test = b_sum_test + outputs_test[bin].values.reshape(np.shape(b_sum_test))\n",
    "    \n",
    "param_grid = [{'n_neighbors':[1,2,3,4,5,8,10,12,15,16,17,18,19,20,25], 'weights':['uniform', 'distance']}]\n",
    "RF_bin = KNeighborsRegressor()\n",
    "\n",
    "#param_grid = [{'n_estimators':[30,50,70,100,150,200], 'learning_rate': [0.04, 0.06, 0.07, 0.1, 0.12, 0.14]}]\n",
    "#RF_bin = xgb.XGBRegressor()\n",
    "\n",
    "grid_search = GridSearchCV(RF_bin, param_grid, cv=4, scoring='neg_mean_squared_error', return_train_score=True)\n",
    "grid_search.fit(X_train_bin,b_sum_train)\n",
    "print(\"Best parameters:  \", grid_search.best_params_)\n",
    "RF_bin_best = grid_search.best_estimator_\n",
    "\n",
    "print(\"Test: \", RF_bin_best.score(X_test_bin,b_sum_test), \"  Train: \",  RF_bin_best.score(X_train_bin,b_sum_train))\n",
    "\n",
    "pred = np.ravel(RF_bin_best.predict(X_test_bin))\n",
    "for idx in range(12):\n",
    "    bin_pred[:,idx] = pred /12"
   ]
  },
  {
   "cell_type": "markdown",
   "metadata": {},
   "source": [
    "#### Evaluation of the score on the test set"
   ]
  },
  {
   "cell_type": "code",
   "execution_count": 777,
   "metadata": {},
   "outputs": [
    {
     "name": "stdout",
     "output_type": "stream",
     "text": [
      "0.8061976309731356\n"
     ]
    }
   ],
   "source": [
    "#Compute prediction output for score (bin pred are set to 0)\n",
    "y_all_true = np.ones((np.shape(Feature_test)[0],14))\n",
    "y_all_pred = np.ones((np.shape(Feature_test)[0],14))\n",
    "\n",
    "\n",
    "y_all_true[:,0] = mat_encod_test\n",
    "y_all_true[:,1] = y_test\n",
    "\n",
    "for idx in range(12):\n",
    "    bin = \"bin \" + str(idx+1)\n",
    "    y_all_true[:,idx+2] = outputs_test[bin]\n",
    "\n",
    "y_all_pred[:,0] = mat_pred\n",
    "y_all_pred[:,1] = y_sor\n",
    "#y_all_pred[:,1] = y_test\n",
    "\n",
    "y_all_pred[:,2:14] = bin_pred\n",
    "#For the moment, the pred value for the bins is the averaged one on the whole input data.\n",
    "#for idx in range(12):      \n",
    "    #bin = \"bin \" + str(idx+1)    \n",
    "    #y_all_pred[:,idx+2] = np.tile(np.mean(outputs[bin]),np.shape(y_all_pred)[0])\n",
    "    #y_all_pred[:,idx+2] = np.tile(0,np.shape(y_all_pred)[0])\n",
    "\n",
    "\n",
    "scr = compute_q2(y_all_true,y_all_pred)\n",
    "print(scr)"
   ]
  },
  {
   "cell_type": "code",
   "execution_count": null,
   "metadata": {
    "collapsed": true
   },
   "outputs": [],
   "source": []
  }
 ],
 "metadata": {
  "kernelspec": {
   "display_name": "Python 3",
   "language": "python",
   "name": "python3"
  },
  "language_info": {
   "codemirror_mode": {
    "name": "ipython",
    "version": 3
   },
   "file_extension": ".py",
   "mimetype": "text/x-python",
   "name": "python",
   "nbconvert_exporter": "python",
   "pygments_lexer": "ipython3",
   "version": "3.6.3"
  }
 },
 "nbformat": 4,
 "nbformat_minor": 2
}
