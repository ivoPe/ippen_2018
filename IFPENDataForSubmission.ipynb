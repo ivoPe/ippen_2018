{
 "cells": [
  {
   "cell_type": "markdown",
   "metadata": {},
   "source": [
    "# IFPEN Data: Training models and and evaluation on test set for submission (Data Challenge) \n",
    "### Features are computed using the notebook Feature_IFPEN_Data"
   ]
  },
  {
   "cell_type": "code",
   "execution_count": 11,
   "metadata": {
    "collapsed": true
   },
   "outputs": [],
   "source": [
    "import os\n",
    "import numpy as np\n",
    "import pandas as pd\n",
    "import matplotlib.pyplot as plt\n",
    "import gudhi as gd\n",
    "import pickle\n",
    "import sklearn.metrics as met\n",
    "\n",
    "from sklearn.preprocessing import LabelEncoder\n",
    "\n",
    "from skimage.measure import label, regionprops\n",
    "from skimage.morphology import remove_small_objects, erosion, skeletonize_3d\n",
    "\n",
    "%matplotlib inline\n",
    "\n",
    "#Paths \n",
    "CHALLENGE_PATH = \"C:/Chazal/ChallengeIFPEN2018/\"\n",
    "DATA_PATH = \"C:/Chazal/ChallengeIFPEN2018/challenge_fichier_dentrees_dentrainement_prediction_de_la_saturation_dhuile_residuelle/Data/\"\n",
    "TOOLS_PATH = \"C:/Chazal/ChallengeIFPEN2018/challenge_fichier_dentrees_dentrainement_prediction_de_la_saturation_dhuile_residuelle/Tools/\"\n",
    "\n",
    "#Some constants\n",
    "DEFAULT_SIZE = [175,152,152]\n",
    "NB_INPUT_IMG = 400\n",
    "\n",
    "#Home made tools for persistence features\n",
    "os.chdir(\"C:/Seafile/Ma bibliothèque/Chazal2/MyPython36\") \n",
    "from DTM import *\n",
    "#from persistent_surface import *\n",
    "from PdiagFeatures import *\n",
    "\n",
    "#Classes provided with the data \n",
    "os.chdir(TOOLS_PATH)\n",
    "from Image3D import Image3D\n",
    "from ImageIO import ImageIO"
   ]
  },
  {
   "cell_type": "code",
   "execution_count": 2,
   "metadata": {},
   "outputs": [
    {
     "name": "stdout",
     "output_type": "stream",
     "text": [
      "Requirement already satisfied: xgboost in c:\\users\\fred\\xgboost\n",
      "Requirement already satisfied: numpy in c:\\programdata\\anaconda3\\lib\\site-packages (from xgboost)\n",
      "Requirement already satisfied: scipy in c:\\programdata\\anaconda3\\lib\\site-packages (from xgboost)\n"
     ]
    }
   ],
   "source": [
    "! pip install xgboost"
   ]
  },
  {
   "cell_type": "code",
   "execution_count": 12,
   "metadata": {
    "collapsed": true
   },
   "outputs": [],
   "source": [
    "import xgboost as xgb\n",
    "xr = xgb.XGBRegressor()"
   ]
  },
  {
   "cell_type": "code",
   "execution_count": 258,
   "metadata": {},
   "outputs": [],
   "source": [
    "#sklearn stuff\n",
    "from sklearn.ensemble import RandomForestClassifier, GradientBoostingClassifier\n",
    "from sklearn.ensemble import RandomForestRegressor, GradientBoostingRegressor\n",
    "from sklearn.model_selection import train_test_split\n",
    "from sklearn.metrics import confusion_matrix    \n",
    "from sklearn.linear_model import SGDClassifier, LinearRegression, LogisticRegression, LassoCV\n",
    "from sklearn.linear_model import ElasticNet\n",
    "from sklearn.pipeline import Pipeline\n",
    "from sklearn.preprocessing import StandardScaler\n",
    "from sklearn.preprocessing import MinMaxScaler\n",
    "from sklearn.pipeline import FeatureUnion\n",
    "from sklearn.model_selection import cross_val_score\n",
    "from sklearn.metrics import mean_squared_error\n",
    "from sklearn.metrics import mean_absolute_error\n",
    "from sklearn.model_selection import GridSearchCV\n",
    "from sklearn.externals import joblib\n",
    "from sklearn.decomposition import PCA\n",
    "from sklearn.neighbors import KNeighborsRegressor\n",
    "from sklearn.feature_selection import VarianceThreshold, SelectKBest, f_regression, SelectFromModel"
   ]
  },
  {
   "cell_type": "code",
   "execution_count": 14,
   "metadata": {},
   "outputs": [],
   "source": [
    "#For 2D CNN experiments\n",
    "import os,cv2\n",
    "\n",
    "from sklearn.utils import shuffle\n",
    "from sklearn.cross_validation import train_test_split\n",
    "\n",
    "import keras\n",
    "\n",
    "from keras import backend as K\n",
    "K.set_image_dim_ordering('tf')\n",
    "\n",
    "from keras.utils import np_utils\n",
    "from keras.models import Sequential, Model\n",
    "#from keras.layers.core import Dense, Dropout, Activation, Flatten, Merge, BatchNormalization\n",
    "from keras.layers.convolutional import Convolution2D, MaxPooling2D\n",
    "from keras.optimizers import SGD,RMSprop,adam\n",
    "from keras.layers import Dense, Input, Dropout, Activation, Merge, BatchNormalization, Flatten\n",
    "from keras import optimizers"
   ]
  },
  {
   "cell_type": "markdown",
   "metadata": {},
   "source": [
    "### Functions to load the data and the output files"
   ]
  },
  {
   "cell_type": "code",
   "execution_count": 15,
   "metadata": {
    "collapsed": true
   },
   "outputs": [],
   "source": [
    "def load_outputs(output_path=CHALLENGE_PATH):\n",
    "    csv_path = os.path.join(output_path,\"challenge_fichier_de_sortie_dentrainement_prediction_de_la_saturation_dhuile_residuelle.csv\")\n",
    "    return pd.read_csv(csv_path,sep=';')\n",
    "\n",
    "DEFAULT_SIZE = [175,152,152]\n",
    "\n",
    "def load_data(data_path=DATA_PATH, nb_files=400, size=DEFAULT_SIZE):\n",
    "    list_img3D = []\n",
    "    for nb in range(400):\n",
    "        file_name = data_path + \"input_\" + str(nb) + \".raw\"\n",
    "        io = ImageIO(file_name)\n",
    "        img = io.read(size[0], size[1], size[2])\n",
    "        list_img3D.append(img)\n",
    "    return list_img3D\n",
    "\n",
    "def load_output_data(data_path=DATA_PATH, nb_files=400, size=DEFAULT_SIZE):\n",
    "    list_out_img3D = []\n",
    "    for nb in range(400):\n",
    "        file_name = data_path + \"output_\" + str(nb) + \".raw\"\n",
    "        io = ImageIO(file_name)\n",
    "        img = io.read(size[0], size[1], size[2])\n",
    "        list_out_img3D.append(img)\n",
    "    return list_out_img3D"
   ]
  },
  {
   "cell_type": "markdown",
   "metadata": {},
   "source": [
    "### Load input training data and labels"
   ]
  },
  {
   "cell_type": "code",
   "execution_count": 6,
   "metadata": {
    "collapsed": true
   },
   "outputs": [],
   "source": [
    "list_img3D = load_data()\n",
    "outputs = load_outputs()"
   ]
  },
  {
   "cell_type": "markdown",
   "metadata": {},
   "source": [
    "## 1. Load all computed features on training data"
   ]
  },
  {
   "cell_type": "markdown",
   "metadata": {},
   "source": [
    "### Load all non persistent features"
   ]
  },
  {
   "cell_type": "code",
   "execution_count": 17,
   "metadata": {
    "collapsed": true
   },
   "outputs": [],
   "source": [
    "Feat_vol_voids = pickle.load(open(CHALLENGE_PATH + \"Feat_vol_voids.dat\", \"rb\"), encoding=\"latin1\")\n",
    "kNN=1\n",
    "Feat_volDTM_voids = pickle.load(open(CHALLENGE_PATH + \"Feat_volDTM\"+ str(kNN) +\"_voids.dat\", \"rb\"), encoding=\"latin1\")\n",
    "Feat_area_bd = pickle.load(open(CHALLENGE_PATH + \"Feat_area_bd.dat\", \"rb\"), encoding=\"latin1\")\n",
    "Feat_vol_slices = pickle.load(open(CHALLENGE_PATH + \"Voids_slices.dat\", \"rb\"), encoding=\"latin1\")\n",
    "Feat_length_slices = pickle.load(open(CHALLENGE_PATH + \"Length_slices.dat\",\"rb\"),encoding=\"latin1\")\n",
    "Feat_loc_max = pickle.load(open(CHALLENGE_PATH + \"Feat_Locmax.dat\", \"rb\"),encoding=\"latin1\")\n",
    "Feat_density_hist = pickle.load(open(CHALLENGE_PATH + \"SetDensity2_hist.dat\", \"rb\"),encoding=\"latin1\")\n",
    "Feat_skel = pickle.load(open(CHALLENGE_PATH + \"Skeleton.dat\", \"rb\"),encoding=\"latin1\")\n",
    "#Not saved but easy and fast to compute (from cells above):\n",
    "# Feat_mat"
   ]
  },
  {
   "cell_type": "markdown",
   "metadata": {},
   "source": [
    "### Load persistence images features"
   ]
  },
  {
   "cell_type": "code",
   "execution_count": 100,
   "metadata": {
    "collapsed": true
   },
   "outputs": [],
   "source": [
    "file_name_dgm = \"Feat_DTM30_pers0.dat\"\n",
    "Feat_DTM30_pers0 = pickle.load(open(CHALLENGE_PATH + file_name_dgm, \"rb\"), encoding=\"latin 1\")\n",
    "file_name_dgm = \"Feat_DTM30_pers1.dat\"\n",
    "Feat_DTM30_pers1 = pickle.load(open(CHALLENGE_PATH + file_name_dgm, \"rb\"), encoding=\"latin 1\")\n",
    "file_name_dgm = \"Feat_DTM30_pers2.dat\"\n",
    "Feat_DTM30_pers2 = pickle.load(open(CHALLENGE_PATH + file_name_dgm, \"rb\"), encoding=\"latin 1\")\n",
    "\n",
    "file_name_dgm = \"Feat_DTM1_pers0.dat\"\n",
    "Feat_DTM1_pers0 = pickle.load(open(CHALLENGE_PATH + file_name_dgm, \"rb\"), encoding=\"latin 1\")\n",
    "file_name_dgm = \"Feat_DTM1_pers1.dat\"\n",
    "Feat_DTM1_pers1 = pickle.load(open(CHALLENGE_PATH + file_name_dgm, \"rb\"), encoding=\"latin 1\")\n",
    "file_name_dgm = \"Feat_DTM1_pers2.dat\"\n",
    "Feat_DTM1_pers2 = pickle.load(open(CHALLENGE_PATH + file_name_dgm, \"rb\"), encoding=\"latin 1\")\n",
    "\n",
    "file_name_dgm = \"Feat_locmax_pers0.dat\"\n",
    "Feat_locmax_pers0 = pickle.load(open(CHALLENGE_PATH + file_name_dgm, \"rb\"), encoding=\"latin 1\")\n",
    "file_name_dgm = \"Feat_locmax_pers1.dat\"\n",
    "Feat_locmax_pers1 = pickle.load(open(CHALLENGE_PATH + file_name_dgm, \"rb\"), encoding=\"latin 1\")\n",
    "file_name_dgm = \"Feat_locmax_pers2.dat\"\n",
    "Feat_locmax_pers2 = pickle.load(open(CHALLENGE_PATH + file_name_dgm, \"rb\"), encoding=\"latin 1\")\n",
    "\n",
    "file_name_dgm = \"Feat_locmax_dist_pers0.dat\"\n",
    "Feat_locmax_dist_pers0 = pickle.load(open(CHALLENGE_PATH + file_name_dgm, \"rb\"), encoding=\"latin 1\")\n",
    "file_name_dgm = \"Feat_locmax_dist_pers1.dat\"\n",
    "Feat_locmax_dist_pers1 = pickle.load(open(CHALLENGE_PATH + file_name_dgm, \"rb\"), encoding=\"latin 1\")\n",
    "file_name_dgm = \"Feat_locmax_dist_pers2.dat\"\n",
    "Feat_locmax_dist_pers2 = pickle.load(open(CHALLENGE_PATH + file_name_dgm, \"rb\"), encoding=\"latin 1\")\n",
    "\n",
    "file_name_dgm = \"Feat_SetIntensity2_pers0.dat\"\n",
    "Feat_SetIntensity2_pers0 = pickle.load(open(CHALLENGE_PATH + file_name_dgm, \"rb\"), encoding=\"latin 1\")\n",
    "file_name_dgm = \"Feat_SetIntensity2_pers1.dat\"\n",
    "Feat_SetIntensity2_pers1 = pickle.load(open(CHALLENGE_PATH + file_name_dgm, \"rb\"), encoding=\"latin 1\")\n",
    "file_name_dgm = \"Feat_SetIntensity2_pers2.dat\"\n",
    "Feat_SetIntensity2_pers2 = pickle.load(open(CHALLENGE_PATH + file_name_dgm, \"rb\"), encoding=\"latin 1\")\n",
    "\n",
    "file_name_dgm = \"Feat_hX_pers0.dat\"\n",
    "Feat_hX_pers0 = pickle.load(open(CHALLENGE_PATH + file_name_dgm, \"rb\"), encoding=\"latin 1\")\n",
    "file_name_dgm = \"Feat_hX_pers1.dat\"\n",
    "Feat_hX_pers1 = pickle.load(open(CHALLENGE_PATH + file_name_dgm, \"rb\"), encoding=\"latin 1\")\n",
    "file_name_dgm = \"Feat_hX_pers2.dat\"\n",
    "Feat_hX_pers2 = pickle.load(open(CHALLENGE_PATH + file_name_dgm, \"rb\"), encoding=\"latin 1\")\n",
    "\n",
    "file_name_dgm = \"Feat_hY_pers0.dat\"\n",
    "Feat_hY_pers0 = pickle.load(open(CHALLENGE_PATH + file_name_dgm, \"rb\"), encoding=\"latin 1\")\n",
    "file_name_dgm = \"Feat_hY_pers1.dat\"\n",
    "Feat_hY_pers1 = pickle.load(open(CHALLENGE_PATH + file_name_dgm, \"rb\"), encoding=\"latin 1\")\n",
    "file_name_dgm = \"Feat_hY_pers2.dat\"\n",
    "Feat_hY_pers2 = pickle.load(open(CHALLENGE_PATH + file_name_dgm, \"rb\"), encoding=\"latin 1\")\n",
    "\n",
    "file_name_dgm = \"Feat_hZ_pers0.dat\"\n",
    "Feat_hZ_pers0 = pickle.load(open(CHALLENGE_PATH + file_name_dgm, \"rb\"), encoding=\"latin 1\")\n",
    "file_name_dgm = \"Feat_hZ_pers1.dat\"\n",
    "Feat_hZ_pers1 = pickle.load(open(CHALLENGE_PATH + file_name_dgm, \"rb\"), encoding=\"latin 1\")\n",
    "file_name_dgm = \"Feat_hZ_pers2.dat\"\n",
    "Feat_hZ_pers2 = pickle.load(open(CHALLENGE_PATH + file_name_dgm, \"rb\"), encoding=\"latin 1\")"
   ]
  },
  {
   "cell_type": "markdown",
   "metadata": {},
   "source": [
    "### Load persistence images from scaled diagrams"
   ]
  },
  {
   "cell_type": "code",
   "execution_count": 18,
   "metadata": {
    "collapsed": true
   },
   "outputs": [],
   "source": [
    "file_names = [\"Feat_DTM1_scaled_\",\"Feat_SetIntensity2_scaled_\",\"Feat_hX_scaled_\",\"Feat_hY_scaled_\",\"Feat_hZ_scaled_\",\\\n",
    "             \"Feat_locmax_dist_scaled_\",\"Feat_skel_scaled_\"]\n",
    "\n",
    "#pers_test = [\"pers0_test.dat\",\"pers1_test.dat\",\"pers2_test.dat\"]\n",
    "pers_train = [\"pers0.dat\",\"pers1.dat\",\"pers2.dat\"]\n",
    "\n",
    "pers = pers_train\n",
    "\n",
    "Feat_names = [\"Feat_DTM1_\",\"Feat_SetIntensity2_\",\"Feat_hX_\",\"Feat_hY_\",\"Feat_hZ_\",\"Feat_locmax_dist_scaled_\",\"Feat_skel_\"]\n",
    "Feat_names_pers = [\"pers0\",\"pers1\",\"pers2\"]\n",
    "\n",
    "variable_file_names=[]\n",
    "for idx in range(len(file_names)):\n",
    "    for jdx in range(len(pers)):\n",
    "        vn = Feat_names[idx] + Feat_names_pers[jdx]\n",
    "        fn = file_names[idx] + pers[jdx]\n",
    "        variable_file_names.append([vn,fn])\n",
    "            \n",
    "#Create the variables            \n",
    "dct = dict()\n",
    "for vn in variable_file_names:\n",
    "    dct[vn[0]] = []\n",
    "for k,v in dct.items():\n",
    "    exec(\"%s=%s\" % (k,v))\n",
    "\n",
    "v = locals()\n",
    "for vn in variable_file_names:\n",
    "    file_name = vn[1]\n",
    "    v[vn[0]] = pickle.load(open(CHALLENGE_PATH+file_name, \"rb\"), encoding=\"latin1\") "
   ]
  },
  {
   "cell_type": "markdown",
   "metadata": {},
   "source": [
    "### Load min_max birth death features"
   ]
  },
  {
   "cell_type": "code",
   "execution_count": 19,
   "metadata": {
    "collapsed": true
   },
   "outputs": [],
   "source": [
    "file_names = [\"Feat_DTM1_\",\"Feat_SetIntensity2_\",\"Feat_hX_\",\"Feat_hY_\",\"Feat_hZ_\",\\\n",
    "             \"Feat_locmax_dist_\",\"Feat_skel_\"]\n",
    "\n",
    "bd_test = [\"bd0_test.dat\",\"bd1_test.dat\",\"bd2_test.dat\"]\n",
    "bd_train = [\"bd0.dat\",\"bd1.dat\",\"bd2.dat\"]\n",
    "\n",
    "#if TrainTest == \"Train\":\n",
    "bd = bd_train\n",
    "#else:\n",
    "#    bd = bd_test\n",
    "\n",
    "Feat_names = [\"Feat_DTM1_\",\"Feat_SetIntensity2_\",\"Feat_hX_\",\"Feat_hY_\",\"Feat_hZ_\",\"Feat_locmax_dist_\",\"Feat_skel_\"]\n",
    "Feat_names_bd = [\"bd0\",\"bd1\",\"bd2\"]\n",
    "\n",
    "variable_file_names=[]\n",
    "for idx in range(len(file_names)):\n",
    "    for jdx in range(len(bd)):\n",
    "        vn = Feat_names[idx] + Feat_names_bd[jdx]\n",
    "        fn = file_names[idx] + bd[jdx]\n",
    "        variable_file_names.append([vn,fn])\n",
    "            \n",
    "#Create the variables            \n",
    "dct = dict()\n",
    "for vn in variable_file_names:\n",
    "    dct[vn[0]] = []\n",
    "for k,v in dct.items():\n",
    "    exec(\"%s=%s\" % (k,v))\n",
    "\n",
    "list_Feat_bd = []\n",
    "v = locals()\n",
    "for vn in variable_file_names:\n",
    "    file_name = vn[1]\n",
    "    v[vn[0]] = pickle.load(open(CHALLENGE_PATH+file_name, \"rb\"), encoding=\"latin1\") \n",
    "    list_Feat_bd.append(v[vn[0]])\n",
    "\n",
    "Feat_bd = np.concatenate(list_Feat_bd,axis=1)\n",
    "#print(np.shape(Feat_bd))"
   ]
  },
  {
   "cell_type": "markdown",
   "metadata": {},
   "source": [
    "### Load entropy features"
   ]
  },
  {
   "cell_type": "code",
   "execution_count": 9,
   "metadata": {
    "collapsed": true
   },
   "outputs": [],
   "source": [
    "file_names = [\"Feat_DTM1_\",\"Feat_SetIntensity2_\",\"Feat_hX_\",\"Feat_hY_\",\"Feat_hZ_\",\\\n",
    "             \"Feat_locmax_dist_\"]\n",
    "\n",
    "ent_test = [\"ent0_test.dat\",\"ent1_test.dat\",\"ent2_test.dat\"]\n",
    "ent_train = [\"ent0.dat\",\"ent1.dat\",\"ent2.dat\"]\n",
    "\n",
    "#if TrainTest == \"Train\":\n",
    "ent = ent_train\n",
    "#else:\n",
    "#    ent = ent_test\n",
    "\n",
    "Feat_names = [\"Feat_DTM1_\",\"Feat_SetIntensity2_\",\"Feat_hX_\",\"Feat_hY_\",\"Feat_hZ_\",\"Feat_locmax_dist_\"]\n",
    "Feat_names_ent = [\"ent0\",\"ent1\",\"ent2\"]\n",
    "\n",
    "variable_file_names=[]\n",
    "for idx in range(len(file_names)):\n",
    "    for jdx in range(len(bd)):\n",
    "        vn = Feat_names[idx] + Feat_names_ent[jdx]\n",
    "        fn = file_names[idx] + ent[jdx]\n",
    "        variable_file_names.append([vn,fn])\n",
    "            \n",
    "#Create the variables            \n",
    "dct = dict()\n",
    "for vn in variable_file_names:\n",
    "    dct[vn[0]] = []\n",
    "for k,v in dct.items():\n",
    "    exec(\"%s=%s\" % (k,v))\n",
    "\n",
    "list_Feat_ent = []\n",
    "v = locals()\n",
    "for vn in variable_file_names:\n",
    "    file_name = vn[1]\n",
    "    v[vn[0]] = pickle.load(open(CHALLENGE_PATH+file_name, \"rb\"), encoding=\"latin1\") \n",
    "    list_Feat_ent.append(v[vn[0]])\n",
    "Feat_ent = np.concatenate(list_Feat_ent,axis=1)"
   ]
  },
  {
   "cell_type": "markdown",
   "metadata": {},
   "source": [
    "### Load Betti curves"
   ]
  },
  {
   "cell_type": "code",
   "execution_count": 424,
   "metadata": {},
   "outputs": [
    {
     "name": "stdout",
     "output_type": "stream",
     "text": [
      "(400, 1260)\n"
     ]
    }
   ],
   "source": [
    "file_names = [\"Feat_DTM1_\",\"Feat_SetIntensity2_\",\"Feat_hX_\",\"Feat_hY_\",\"Feat_hZ_\",\\\n",
    "             \"Feat_locmax_dist_\",\"Feat_skel_\"]\n",
    "\n",
    "betti_test = [\"bet_cv0_test.dat\",\"bet_cv1_test.dat\",\"bet_cv2_test.dat\"]\n",
    "betti_train = [\"bet_cv0.dat\",\"bet_cv1.dat\",\"bet_cv2.dat\"]\n",
    "\n",
    "#if TrainTest == \"Train\":\n",
    "betti = betti_train\n",
    "#else:\n",
    "#    betti = betti_test\n",
    "\n",
    "Feat_names = [\"Feat_DTM1_\",\"Feat_SetIntensity2_\",\"Feat_hX_\",\"Feat_hY_\",\"Feat_hZ_\",\"Feat_locmax_dist_\",\"Feat_skel_\"]\n",
    "Feat_names_ent = [\"bet_cv0\",\"bet_cv1\",\"bet_cv2\"]\n",
    "\n",
    "variable_file_names=[]\n",
    "for idx in range(len(file_names)):\n",
    "    for jdx in range(len(betti)):\n",
    "        vn = Feat_names[idx] + Feat_names_ent[jdx]\n",
    "        fn = file_names[idx] + betti[jdx]\n",
    "        variable_file_names.append([vn,fn])\n",
    "            \n",
    "#Create the variables            \n",
    "dct = dict()\n",
    "for vn in variable_file_names:\n",
    "    dct[vn[0]] = []\n",
    "for k,v in dct.items():\n",
    "    exec(\"%s=%s\" % (k,v))\n",
    "\n",
    "list_Feat_betti = []\n",
    "v = locals()\n",
    "for vn in variable_file_names:\n",
    "    file_name = vn[1]\n",
    "    v[vn[0]] = pickle.load(open(CHALLENGE_PATH+file_name, \"rb\"), encoding=\"latin1\") \n",
    "    list_Feat_betti.append(v[vn[0]])\n",
    "Feat_betti = np.concatenate(list_Feat_betti,axis=1)\n",
    "\n",
    "print(np.shape(Feat_betti))"
   ]
  },
  {
   "cell_type": "markdown",
   "metadata": {},
   "source": [
    "#### Create a feature vector with the material type"
   ]
  },
  {
   "cell_type": "code",
   "execution_count": 20,
   "metadata": {
    "collapsed": true
   },
   "outputs": [],
   "source": [
    "outputs = load_outputs()\n",
    "encoder = LabelEncoder()\n",
    "material_cat = outputs[\"material\"]\n",
    "Feat_mat = encoder.fit_transform(material_cat)\n",
    "Feat_mat = np.reshape(Feat_mat,(400,1))"
   ]
  },
  {
   "cell_type": "markdown",
   "metadata": {},
   "source": [
    "## 2. Concatenate Features and create features for each task "
   ]
  },
  {
   "cell_type": "code",
   "execution_count": 22,
   "metadata": {},
   "outputs": [],
   "source": [
    "Feat_vol_voids = np.reshape(Feat_vol_voids,(NB_INPUT_IMG,1))\n",
    "Feat_volDTM_voids = np.reshape(Feat_volDTM_voids,(NB_INPUT_IMG,1))\n",
    "\n",
    "#Feat_mat: encode material. WARNING! This is not a real feature, it needs to be predicted first.  \n",
    "\n",
    "\n",
    "#Feat_bd has been defined while laoding all the min_max birth_death above. \n",
    "#Feat_ent has been defined while loading all the entropy features above\n",
    "\n",
    "#Feat_skel\n",
    "\n",
    "#Subselect some of the Entropy curves: \n",
    "nb_x_steps = 20\n",
    "Feat_ent_DTM1 = Feat_ent[:,0:3*nb_x_steps]\n",
    "Feat_ent_Intensity2 = Feat_ent[:,3*nb_x_steps:6*nb_x_steps]\n",
    "Feat_ent_hX = Feat_ent[:,6*nb_x_steps:9*nb_x_steps]\n",
    "Feat_ent_hY = Feat_ent[:,9*nb_x_steps:12*nb_x_steps]\n",
    "Feat_ent_hZ = Feat_ent[:,12*nb_x_steps:15*nb_x_steps]\n",
    "Feat_ent_locmax_dist = Feat_ent[:,15*nb_x_steps:18*nb_x_steps]\n",
    "\n",
    "Feat_density = Feat_density_hist\n",
    "Feat_slices = np.concatenate([Feat_vol_slices,Feat_length_slices],axis=1)\n",
    "Feat_Voids = np.concatenate([Feat_vol_voids,Feat_volDTM_voids,Feat_area_bd],axis=1)\n",
    "#Feat_DTM30_pers = np.concatenate([Feat_DTM30_pers0,Feat_DTM30_pers1,Feat_DTM30_pers2],axis=1)\n",
    "Feat_DTM1_pers = np.concatenate([Feat_DTM1_pers0,Feat_DTM1_pers1,Feat_DTM1_pers2],axis=1)\n",
    "#Feat_locmax_pers = np.concatenate([Feat_locmax_pers0,Feat_locmax_pers1,Feat_locmax_pers2],axis=1)\n",
    "#Feat_locmax_dist_pers = np.concatenate([Feat_locmax_dist_pers0,Feat_locmax_dist_pers1,Feat_locmax_dist_pers2],axis=1)\n",
    "Feat_SetIntensity2_pers = np.concatenate([Feat_SetIntensity2_pers0,Feat_SetIntensity2_pers1,Feat_SetIntensity2_pers2],axis=1)\n",
    "Feat_hX_pers =np.concatenate([Feat_hX_pers0,Feat_hX_pers1,Feat_hX_pers2],axis=1)\n",
    "Feat_hY_pers =np.concatenate([Feat_hY_pers0,Feat_hY_pers1,Feat_hY_pers2],axis=1)\n",
    "Feat_hZ_pers =np.concatenate([Feat_hZ_pers0,Feat_hZ_pers1,Feat_hZ_pers2],axis=1)\n",
    "Feat_skel_pers = np.concatenate([Feat_skel_pers0, Feat_skel_pers1, Feat_skel_pers2],axis=1)"
   ]
  },
  {
   "cell_type": "markdown",
   "metadata": {},
   "source": [
    "## 3. Material classification"
   ]
  },
  {
   "cell_type": "markdown",
   "metadata": {},
   "source": [
    "#### Selected features for classification"
   ]
  },
  {
   "cell_type": "code",
   "execution_count": 35,
   "metadata": {},
   "outputs": [
    {
     "name": "stdout",
     "output_type": "stream",
     "text": [
      "(400, 324)\n"
     ]
    }
   ],
   "source": [
    "#Feat = np.concatenate([Feat_Voids,Feat_loc_max,Feat_density,Feat_DTM1_pers,Feat_hX_pers,Feat_hY_pers,Feat_hZ_pers,\\\n",
    "#                       Feat_SetIntensity2_pers],axis=1)\n",
    "\n",
    "#Feat = Feat_skel\n",
    "\n",
    "#Feat = np.concatenate([Feat_Voids,Feat_loc_max,Feat_density,Feat_DTM1_pers,\\\n",
    "#                       Feat_SetIntensity2_pers,Feat_locmax_dist_pers],axis=1)\n",
    "\n",
    "#Feat = np.concatenate([Feat_Voids,Feat_loc_max,Feat_density,\\\n",
    "#                       Feat_bd, Feat_ent_Intensity2,],axis=1)\n",
    "\n",
    "#Feat = np.concatenate([Feat_Voids,Feat_loc_max,Feat_density,Feat_bd,Feat_ent],axis=1)\n",
    "\n",
    "Feat = np.concatenate([Feat_DTM1_pers,\\\n",
    "                       Feat_SetIntensity2_pers,Feat_skel_pers],axis=1)\n",
    "\n",
    "\n",
    "print(np.shape(Feat))"
   ]
  },
  {
   "cell_type": "code",
   "execution_count": 24,
   "metadata": {},
   "outputs": [
    {
     "name": "stdout",
     "output_type": "stream",
     "text": [
      "(400, 54)\n",
      "(400, 108)\n",
      "(400, 108)\n",
      "(400, 84)\n",
      "(400, 2304)\n"
     ]
    }
   ],
   "source": [
    "print(np.shape(np.concatenate([Feat_Voids,Feat_loc_max,Feat_density],axis=1)))\n",
    "print(np.shape(Feat_DTM1_pers))\n",
    "print(np.shape(Feat_SetIntensity2_pers))\n",
    "#print(np.shape(Feat_locmax_dist_pers))\n",
    "print(np.shape(Feat_bd))\n",
    "print(np.shape(Feat_ent))"
   ]
  },
  {
   "cell_type": "code",
   "execution_count": 25,
   "metadata": {
    "collapsed": true
   },
   "outputs": [],
   "source": [
    "#To encode the material labels\n",
    "encoder = LabelEncoder()\n",
    "material_cat_encoded = encoder.fit_transform(outputs[\"material\"])"
   ]
  },
  {
   "cell_type": "code",
   "execution_count": 36,
   "metadata": {},
   "outputs": [
    {
     "name": "stdout",
     "output_type": "stream",
     "text": [
      "(400, 165)\n"
     ]
    }
   ],
   "source": [
    "#Variable selection according to variance threshold\n",
    "sel = VarianceThreshold(threshold=(.9 * (1 - .9)))\n",
    "Feat = sel.fit_transform(Feat)\n",
    "print(np.shape(Feat))"
   ]
  },
  {
   "cell_type": "markdown",
   "metadata": {},
   "source": [
    "### 3.1 Split training data into train/test to experiments models"
   ]
  },
  {
   "cell_type": "code",
   "execution_count": 37,
   "metadata": {
    "collapsed": true
   },
   "outputs": [],
   "source": [
    "#Feature_train, Feature_test, y_train, y_test = train_test_split(Feat, outputs[\"sor\"], test_size = 0.2) \n",
    "Feature_train, Feature_test, y_train, y_test, mat_train, mat_test, mat_encod_train, mat_encod_test, outputs_train, outputs_test\\\n",
    "= train_test_split(Feat, outputs[\"sor\"], outputs[\"material\"], material_cat_encoded, outputs, test_size = 0.2)"
   ]
  },
  {
   "cell_type": "code",
   "execution_count": 38,
   "metadata": {},
   "outputs": [
    {
     "name": "stdout",
     "output_type": "stream",
     "text": [
      "{'n_estimators': 40}\n"
     ]
    }
   ],
   "source": [
    "#param_grid = [{'n_estimators': [30, 40, 50, 70, 100, 200, 400],\\\n",
    "#               'learning_rate': [0.05, 0.07, 0.1, 0.12, 0.14, 0.15] }]\n",
    "#RF = GradientBoostingClassifier()\n",
    "\n",
    "param_grid = [{'n_estimators': [30, 40, 50, 70, 100, 200, 400]}]\n",
    "RF = RandomForestClassifier()\n",
    "grid_search = GridSearchCV(RF, param_grid, cv=4,\n",
    "                           scoring='neg_mean_squared_error', return_train_score=True)\n",
    "grid_search.fit(Feature_train, mat_encod_train)\n",
    "\n",
    "print(grid_search.best_params_)\n"
   ]
  },
  {
   "cell_type": "code",
   "execution_count": 39,
   "metadata": {},
   "outputs": [
    {
     "name": "stdout",
     "output_type": "stream",
     "text": [
      "Test:  0.01875  - Train:  -0.0    {'n_estimators': 30}\n",
      "Test:  0.0125  - Train:  -0.0    {'n_estimators': 40}\n",
      "Test:  0.0125  - Train:  -0.0    {'n_estimators': 50}\n",
      "Test:  0.015625  - Train:  -0.0    {'n_estimators': 70}\n",
      "Test:  0.015625  - Train:  -0.0    {'n_estimators': 100}\n",
      "Test:  0.01875  - Train:  -0.0    {'n_estimators': 200}\n",
      "Test:  0.015625  - Train:  -0.0    {'n_estimators': 400}\n"
     ]
    }
   ],
   "source": [
    "cvres = grid_search.cv_results_\n",
    "for sc1, sc2, sc3 in zip(cvres[\"mean_test_score\"], cvres[\"mean_train_score\"], cvres[\"params\"]):\n",
    "    print(\"Test: \", -sc1, \" - Train: \", -sc2, \"  \", sc3)"
   ]
  },
  {
   "cell_type": "code",
   "execution_count": 40,
   "metadata": {},
   "outputs": [
    {
     "name": "stdout",
     "output_type": "stream",
     "text": [
      "[[38  1]\n",
      " [ 0 41]]\n",
      "0.9875\n",
      "[<matplotlib.lines.Line2D object at 0x000002372DFAFB70>]\n",
      "(80, 1)\n",
      "(80, 2)\n",
      "[[191]]\n"
     ]
    },
    {
     "name": "stderr",
     "output_type": "stream",
     "text": [
      "C:\\ProgramData\\Anaconda3\\lib\\site-packages\\ipykernel_launcher.py:16: FutureWarning: reshape is deprecated and will raise in a subsequent release. Please use .values.reshape(...) instead\n",
      "  app.launch_new_instance()\n"
     ]
    },
    {
     "data": {
      "image/png": "[encoded data removed]",
      "text/plain": [
       "<matplotlib.figure.Figure at 0x2372df136d8>"
      ]
     },
     "metadata": {},
     "output_type": "display_data"
    }
   ],
   "source": [
    "#Chose best estimator \n",
    "#RFbest = grid_search.best_estimator_\n",
    "#or chose and train another one\n",
    "RFbest = RandomForestClassifier(n_estimators=50)\n",
    "RFbest.fit(Feature_train,mat_encod_train)\n",
    "\n",
    "print(confusion_matrix(RFbest.predict(Feature_test), mat_encod_test))\n",
    "print(np.mean(RFbest.predict(Feature_test) == mat_encod_test))\n",
    "print(plt.plot(RFbest.feature_importances_))\n",
    "A = RFbest.predict(Feature_test) == mat_encod_test\n",
    "print(np.shape(A.reshape((len(A),1))))\n",
    "print(np.shape(RFbest.predict_proba(Feature_test)))\n",
    "#print(np.concatenate([RFbest.predict_proba(Feature_test),A.reshape((len(A),1)),mat_test.reshape((len(mat_test),1))],axis=1))\n",
    "\n",
    "B = RFbest.predict(Feat) == material_cat_encoded\n",
    "C = np.concatenate([RFbest.predict_proba(Feat),B.reshape((len(B),1)),outputs[\"material\"].reshape((len(outputs[\"material\"]),1))],\\\n",
    "                   axis=1)\n",
    "D = np.argwhere(C[:,2] == False)\n",
    "print(D)\n",
    "#print(np.concatenate([RFbest.predict_proba(Feat),B.reshape((len(B),1)),outputs[\"material\"].reshape((len(outputs[\"material\"]),1))],axis=1))\n",
    "#print (np.concatenate([RFbest.predict(Feat),outputs[\"material\"]],axis=1))\n",
    "#for i in range(0,40):\n",
    "#    print( RFbest.predict(Feat)[i], \"  \", outputs[\"material\"][i])"
   ]
  },
  {
   "cell_type": "code",
   "execution_count": 72,
   "metadata": {},
   "outputs": [
    {
     "name": "stdout",
     "output_type": "stream",
     "text": [
      "[0.235 0.765 True 'Clash']\n",
      "[0.29 0.71 False 'Benth']\n"
     ]
    }
   ],
   "source": [
    "# indices that were misclassified in some cases:\n",
    "# 134 : proba 0.53 - 0.47\n",
    "# 339 : proba 0.53 - 0.47 (several times)\n",
    "# 381 : proba 0.25 - 0.75 (11)\n",
    "print(C[339,:])\n",
    "print(C[381,:])"
   ]
  },
  {
   "cell_type": "markdown",
   "metadata": {},
   "source": [
    "### 3.2 Select a model and train it on the whole input data"
   ]
  },
  {
   "cell_type": "code",
   "execution_count": 232,
   "metadata": {},
   "outputs": [
    {
     "data": {
      "text/plain": [
       "RandomForestClassifier(bootstrap=True, class_weight=None, criterion='gini',\n",
       "            max_depth=None, max_features='auto', max_leaf_nodes=None,\n",
       "            min_impurity_decrease=0.0, min_impurity_split=None,\n",
       "            min_samples_leaf=1, min_samples_split=2,\n",
       "            min_weight_fraction_leaf=0.0, n_estimators=100, n_jobs=1,\n",
       "            oob_score=False, random_state=None, verbose=0,\n",
       "            warm_start=False)"
      ]
     },
     "execution_count": 232,
     "metadata": {},
     "output_type": "execute_result"
    }
   ],
   "source": [
    "#Chose the model parameters (from the above experiments or in another way)\n",
    "nb_estim = 100\n",
    "\n",
    "RFclassif = RandomForestClassifier(n_estimators=nb_estim)\n",
    "RFclassif.fit(Feat,material_cat_encoded)"
   ]
  },
  {
   "cell_type": "markdown",
   "metadata": {},
   "source": [
    "#### Save the classification model"
   ]
  },
  {
   "cell_type": "code",
   "execution_count": 233,
   "metadata": {},
   "outputs": [
    {
     "data": {
      "text/plain": [
       "['C:/Chazal/ChallengeIFPEN2018/ModelClassif.pkl']"
      ]
     },
     "execution_count": 233,
     "metadata": {},
     "output_type": "execute_result"
    }
   ],
   "source": [
    "joblib.dump(RFclassif, CHALLENGE_PATH + \"ModelClassif.pkl\")"
   ]
  },
  {
   "cell_type": "markdown",
   "metadata": {},
   "source": [
    "## 4. Regression on sor, splitting the data into 2 parts to consider material separately"
   ]
  },
  {
   "cell_type": "code",
   "execution_count": 124,
   "metadata": {},
   "outputs": [
    {
     "name": "stdout",
     "output_type": "stream",
     "text": [
      "(400, 112)\n"
     ]
    }
   ],
   "source": [
    "#Feat = np.concatenate([Feat_Voids,Feat_loc_max,Feat_density,Feat_DTM1_pers,Feat_hX_pers,Feat_hZ_pers,\\\n",
    "#                       Feat_SetIntensity2_pers],axis=1)\n",
    "\n",
    "#Feat = np.concatenate([Feat_Voids,Feat_loc_max,Feat_density,\\\n",
    "#                       Feat_bd,Feat_ent_DTM1, Feat_ent_Intensity2,Feat_ent_locmax_dist],axis=1)\n",
    "\n",
    "#Feat = np.concatenate([Feat_mat,Feat_Voids,Feat_loc_max,Feat_density,Feat_DTM1_pers,Feat_hX_pers,Feat_hZ_pers,\\\n",
    "#                       Feat_SetIntensity2_pers,Feat_bd,Feat_skel_pers],axis=1)\n",
    "\n",
    "Feat = np.concatenate([Feat_mat,Feat_Voids,Feat_SetIntensity2_pers],axis=1)\n",
    "\n",
    "print(np.shape(Feat))"
   ]
  },
  {
   "cell_type": "markdown",
   "metadata": {},
   "source": [
    "### 4.1 Splitting data into train/test to experiments"
   ]
  },
  {
   "cell_type": "code",
   "execution_count": 125,
   "metadata": {
    "collapsed": true
   },
   "outputs": [],
   "source": [
    "Feature_train, Feature_test, y_train, y_test, mat_train, mat_test, mat_encod_train, mat_encod_test, outputs_train, outputs_test\\\n",
    "= train_test_split(Feat, outputs[\"sor\"], outputs[\"material\"], material_cat_encoded, outputs, test_size = 0.2)"
   ]
  },
  {
   "cell_type": "markdown",
   "metadata": {},
   "source": [
    "#### If variable selection "
   ]
  },
  {
   "cell_type": "code",
   "execution_count": 126,
   "metadata": {},
   "outputs": [
    {
     "name": "stdout",
     "output_type": "stream",
     "text": [
      "(320, 79)\n"
     ]
    }
   ],
   "source": [
    "#Variable selection according to variance threshold\n",
    "sel = VarianceThreshold(threshold=(.99 * (1 - .99)))\n",
    "Feature_train = sel.fit_transform(Feature_train)\n",
    "\n",
    "#sel = SelectKBest(f_regression, k=232)\n",
    "#Feature_train = sel.fit_transform(Feature_train,y_train)\n",
    "\n",
    "print(np.shape(Feature_train))\n",
    "mask = sel.get_support()\n",
    "Feature_test = Feature_test[:,mask]"
   ]
  },
  {
   "cell_type": "code",
   "execution_count": 127,
   "metadata": {
    "collapsed": true
   },
   "outputs": [],
   "source": [
    "Fdim = np.shape(Feat)[1]\n",
    "\n",
    "Tag_train0 = mat_encod_train == 0 \n",
    "Wtrain0 = np.argwhere(Tag_train0)\n",
    "X_train0 = Feature_train[Tag_train0]\n",
    "y_train0 = y_train[Tag_train0]\n",
    "\n",
    "Tag_test0 = mat_encod_test == 0\n",
    "Wtest0 = np.argwhere(Tag_test0)\n",
    "X_test0 = Feature_test[Tag_test0]\n",
    "y_test0 = y_test[Tag_test0]\n",
    "\n",
    "Tag_train1 = mat_encod_train == 1\n",
    "Wtrain1 = np.argwhere(Tag_train1)\n",
    "X_train1 = Feature_train[Tag_train1]\n",
    "y_train1 = y_train[Tag_train1]\n",
    "\n",
    "Tag_test1 = mat_encod_test == 1\n",
    "Wtest1 = np.argwhere(Tag_test1)\n",
    "X_test1 = Feature_test[Tag_test1]\n",
    "y_test1 = y_test[Tag_test1]"
   ]
  },
  {
   "cell_type": "markdown",
   "metadata": {},
   "source": [
    "#### Regression on class 0 (with scaling)"
   ]
  },
  {
   "cell_type": "code",
   "execution_count": 128,
   "metadata": {},
   "outputs": [
    {
     "name": "stdout",
     "output_type": "stream",
     "text": [
      "Best parameters:   {'learning_rate': 0.12, 'n_estimators': 30}\n"
     ]
    }
   ],
   "source": [
    "###### Class 0  ####\n",
    "#scaler = StandardScaler()\n",
    "scaler = MinMaxScaler()\n",
    "scaler.fit(X_train0)\n",
    "X_train0 = scaler.transform(X_train0)\n",
    "\n",
    "param_grid = [{'n_estimators': [30, 40, 50, 70, 100, 200, 250], 'learning_rate': [0.04, 0.06, 0.07, 0.1, 0.12, 0.16] }]\n",
    "#RF = GradientBoostingRegressor()\n",
    "RF = xgb.XGBRegressor()\n",
    "grid_search = GridSearchCV(RF, param_grid, cv=4,\n",
    "                           scoring='neg_mean_squared_error', return_train_score=True)\n",
    "\n",
    "grid_search.fit(X_train0, y_train0)\n",
    "\n",
    "print(\"Best parameters:  \", grid_search.best_params_)\n",
    "\n",
    "X_test0 = scaler.transform(X_test0)\n",
    "\n",
    "RFbest0 = grid_search.best_estimator_"
   ]
  },
  {
   "cell_type": "code",
   "execution_count": 129,
   "metadata": {},
   "outputs": [
    {
     "data": {
      "text/plain": [
       "<matplotlib.collections.PathCollection at 0x23732199c18>"
      ]
     },
     "execution_count": 129,
     "metadata": {},
     "output_type": "execute_result"
    },
    {
     "data": {
      "image/png": "[encoded data removed]",
      "text/plain": [
       "<matplotlib.figure.Figure at 0x2372e0154a8>"
      ]
     },
     "metadata": {},
     "output_type": "display_data"
    }
   ],
   "source": [
    "plt.scatter(y_train0,RFbest0.predict(X_train0))\n",
    "plt.scatter(y_test0,RFbest0.predict(X_test0))"
   ]
  },
  {
   "cell_type": "code",
   "execution_count": 130,
   "metadata": {},
   "outputs": [
    {
     "data": {
      "text/plain": [
       "<matplotlib.collections.PathCollection at 0x23732261ac8>"
      ]
     },
     "execution_count": 130,
     "metadata": {},
     "output_type": "execute_result"
    },
    {
     "data": {
      "image/png": "[encoded data removed]",
      "text/plain": [
       "<matplotlib.figure.Figure at 0x237320b5400>"
      ]
     },
     "metadata": {},
     "output_type": "display_data"
    }
   ],
   "source": [
    "plt.scatter(y_train0,RFbest0.predict(X_train0)-y_train0)\n",
    "plt.scatter(y_test0,RFbest0.predict(X_test0)-y_test0)"
   ]
  },
  {
   "cell_type": "code",
   "execution_count": 131,
   "metadata": {},
   "outputs": [
    {
     "name": "stdout",
     "output_type": "stream",
     "text": [
      "Best parameters:   {'learning_rate': 0.16, 'n_estimators': 40}\n"
     ]
    }
   ],
   "source": [
    "###### Class 1  ####\n",
    "#scaler = StandardScaler()\n",
    "scaler = MinMaxScaler()\n",
    "scaler.fit(X_train1)\n",
    "X_train1 = scaler.transform(X_train1)\n",
    "\n",
    "param_grid = [{'n_estimators': [30, 40, 50, 70, 100, 200, 250], 'learning_rate': [0.04, 0.06, 0.07, 0.1, 0.12, 0.16] }]\n",
    "#RF = GradientBoostingRegressor()\n",
    "RF = xgb.XGBRegressor()\n",
    "grid_search = GridSearchCV(RF, param_grid, cv=4,\n",
    "                           scoring='neg_mean_squared_error', return_train_score=True)\n",
    "\n",
    "grid_search.fit(X_train1, y_train1)\n",
    "\n",
    "print(\"Best parameters:  \", grid_search.best_params_)\n",
    "\n",
    "X_test1 = scaler.transform(X_test1)\n",
    "RFbest1 = grid_search.best_estimator_"
   ]
  },
  {
   "cell_type": "code",
   "execution_count": 132,
   "metadata": {},
   "outputs": [
    {
     "data": {
      "text/plain": [
       "<matplotlib.collections.PathCollection at 0x23732902390>"
      ]
     },
     "execution_count": 132,
     "metadata": {},
     "output_type": "execute_result"
    },
    {
     "data": {
      "image/png": "[encoded data removed]",
      "text/plain": [
       "<matplotlib.figure.Figure at 0x237327da5c0>"
      ]
     },
     "metadata": {},
     "output_type": "display_data"
    }
   ],
   "source": [
    "plt.scatter(y_train1,RFbest1.predict(X_train1))\n",
    "plt.scatter(y_test1,RFbest1.predict(X_test1))"
   ]
  },
  {
   "cell_type": "code",
   "execution_count": 133,
   "metadata": {},
   "outputs": [
    {
     "data": {
      "text/plain": [
       "<matplotlib.collections.PathCollection at 0x23732b67eb8>"
      ]
     },
     "execution_count": 133,
     "metadata": {},
     "output_type": "execute_result"
    },
    {
     "data": {
      "image/png": "[encoded data removed]",
      "text/plain": [
       "<matplotlib.figure.Figure at 0x2373287c668>"
      ]
     },
     "metadata": {},
     "output_type": "display_data"
    }
   ],
   "source": [
    "plt.scatter(y_train1,RFbest1.predict(X_train1)-y_train1)\n",
    "plt.scatter(y_test1,RFbest1.predict(X_test1)-y_test1)"
   ]
  },
  {
   "cell_type": "markdown",
   "metadata": {},
   "source": [
    "### 4.2 Training the two models on the whole input data splitted in two classes"
   ]
  },
  {
   "cell_type": "code",
   "execution_count": 207,
   "metadata": {
    "collapsed": true
   },
   "outputs": [],
   "source": [
    "#Scale the data\n",
    "scaler = MinMaxScaler()\n",
    "scaler.fit(Feat)\n",
    "Feat_scaled = scaler.transform(Feat)"
   ]
  },
  {
   "cell_type": "code",
   "execution_count": 208,
   "metadata": {
    "collapsed": true
   },
   "outputs": [],
   "source": [
    "Fdim = np.shape(Feat)[1]\n",
    "\n",
    "#y = outputs[\"sor\"].values.reshape(NB_INPUT_IMG,1)\n",
    "y = outputs[\"sor\"]\n",
    "\n",
    "Tag0 = material_cat_encoded == 0 \n",
    "W0 = np.argwhere(Tag0)\n",
    "X0 = Feat_scaled[Tag0]\n",
    "y0 = y[Tag0]\n",
    "\n",
    "\n",
    "Tag1 = material_cat_encoded == 1\n",
    "W1 = np.argwhere(Tag1)\n",
    "X1 = Feat_scaled[Tag1]\n",
    "y1 = y[Tag1]"
   ]
  },
  {
   "cell_type": "code",
   "execution_count": 209,
   "metadata": {},
   "outputs": [
    {
     "name": "stdout",
     "output_type": "stream",
     "text": [
      "Best parameters:   {'learning_rate': 0.07, 'n_estimators': 200}\n"
     ]
    }
   ],
   "source": [
    "###### Class 0  ####\n",
    "\n",
    "param_grid = [{'n_estimators': [30, 40, 50, 70, 100, 200, 250], 'learning_rate': [0.04, 0.06, 0.07, 0.1, 0.12, 0.16] }]\n",
    "RF = GradientBoostingRegressor()\n",
    "grid_search = GridSearchCV(RF, param_grid, cv=4,\n",
    "                           scoring='neg_mean_squared_error', return_train_score=True)\n",
    "\n",
    "grid_search.fit(X0, y0)\n",
    "\n",
    "print(\"Best parameters:  \", grid_search.best_params_)\n",
    "\n",
    "RFbest0 = grid_search.best_estimator_"
   ]
  },
  {
   "cell_type": "code",
   "execution_count": 210,
   "metadata": {},
   "outputs": [
    {
     "name": "stdout",
     "output_type": "stream",
     "text": [
      "Best parameters:   {'learning_rate': 0.06, 'n_estimators': 200}\n"
     ]
    }
   ],
   "source": [
    "###### Class 1  ####\n",
    "\n",
    "param_grid = [{'n_estimators': [30, 40, 50, 70, 100, 200, 250], 'learning_rate': [0.04, 0.06, 0.07, 0.1, 0.12, 0.16] }]\n",
    "RF = GradientBoostingRegressor()\n",
    "grid_search = GridSearchCV(RF, param_grid, cv=4,\n",
    "                           scoring='neg_mean_squared_error', return_train_score=True)\n",
    "\n",
    "grid_search.fit(X1, y1)\n",
    "\n",
    "print(\"Best parameters:  \", grid_search.best_params_)\n",
    "\n",
    "RFbest1 = grid_search.best_estimator_"
   ]
  },
  {
   "cell_type": "code",
   "execution_count": 211,
   "metadata": {},
   "outputs": [
    {
     "data": {
      "text/plain": [
       "['C:/Chazal/ChallengeIFPEN2018/modelSor1.pkl']"
      ]
     },
     "execution_count": 211,
     "metadata": {},
     "output_type": "execute_result"
    }
   ],
   "source": [
    "#To save the best model \n",
    "joblib.dump(scaler,CHALLENGE_PATH + \"scalerSor.pkl\")\n",
    "joblib.dump(RFbest0, CHALLENGE_PATH + \"modelSor0.pkl\")\n",
    "joblib.dump(RFbest1, CHALLENGE_PATH + \"modelSor1.pkl\")"
   ]
  },
  {
   "cell_type": "markdown",
   "metadata": {},
   "source": [
    "## 4bis. Regression on sor without splitting the data"
   ]
  },
  {
   "cell_type": "code",
   "execution_count": 41,
   "metadata": {},
   "outputs": [
    {
     "name": "stdout",
     "output_type": "stream",
     "text": [
      "(400, 463)\n"
     ]
    }
   ],
   "source": [
    "#Feat = np.concatenate([Feat_mat,Feat_Voids,Feat_loc_max,Feat_density,Feat_DTM1_pers,Feat_hX_pers,Feat_hZ_pers,\\\n",
    "#                       Feat_SetIntensity2_pers,Feat_locmax_dist_pers,Feat_bd,Feat_ent],axis=1)\n",
    "\n",
    "#Feat = np.concatenate([Feat_Voids,Feat_loc_max,Feat_density,Feat_DTM1_pers,\\\n",
    "#                       Feat_SetIntensity2_pers,Feat_locmax_dist_pers],axis=1)\n",
    "\n",
    "#Feat = np.concatenate([Feat_mat,Feat_Voids,Feat_loc_max,Feat_density,Feat_DTM1_pers,Feat_SetIntensity2_pers],axis=1)\n",
    "#Feat = np.concatenate([Feat_mat,Feat_Voids,Feat_loc_max,Feat_density],axis=1)\n",
    "\n",
    "#Feat = np.concatenate([Feat_Voids,Feat_loc_max,Feat_density,Feat_DTM1_pers,\\\n",
    "#                       Feat_SetIntensity2_pers,Feat_bd],axis=1)\n",
    "\n",
    "#Feat = np.concatenate([Feat_Voids,Feat_loc_max,Feat_density,Feat_bd,Feat_ent],axis=1)\n",
    "\n",
    "#Feat = np.concatenate([Feat_mat,Feat_Voids,Feat_loc_max,Feat_density,Feat_DTM1_pers,\\\n",
    "#                       Feat_bd,Feat_SetIntensity2_pers],axis=1)\n",
    "\n",
    "Feat = np.concatenate([Feat_mat,Feat_Voids,Feat_loc_max,Feat_density,Feat_DTM1_pers,\\\n",
    "                       Feat_SetIntensity2_pers,Feat_bd,Feat_skel_pers],axis=1)\n",
    "\n",
    "\n",
    "print(np.shape(Feat))"
   ]
  },
  {
   "cell_type": "markdown",
   "metadata": {},
   "source": [
    "### If one wants to first do variable selection"
   ]
  },
  {
   "cell_type": "code",
   "execution_count": 42,
   "metadata": {},
   "outputs": [
    {
     "name": "stdout",
     "output_type": "stream",
     "text": [
      "(400, 236)\n"
     ]
    }
   ],
   "source": [
    "#Variable selection according to variance threshold\n",
    "sel = VarianceThreshold(threshold=(.9 * (1 - .9)))\n",
    "Feat = sel.fit_transform(Feat)\n",
    "print(np.shape(Feat))"
   ]
  },
  {
   "cell_type": "markdown",
   "metadata": {},
   "source": [
    "### If one wants to do a PCA"
   ]
  },
  {
   "cell_type": "code",
   "execution_count": 779,
   "metadata": {},
   "outputs": [
    {
     "name": "stdout",
     "output_type": "stream",
     "text": [
      "(400, 60)\n",
      "[3.51411636 1.91899935 0.92381103 0.54029995 0.4642601  0.38560164\n",
      " 0.32532702 0.26104963 0.22665766 0.16012416 0.14281352 0.11478694\n",
      " 0.100626   0.09725853 0.08799703 0.0830439  0.07132144 0.06933056\n",
      " 0.05890305 0.05659682 0.052715   0.04665261 0.0452123  0.04210321\n",
      " 0.04191328 0.03938987 0.03834935 0.03627021 0.03442456 0.0327032\n",
      " 0.03079965 0.02997835 0.02894062 0.02821358 0.02607502 0.02506681\n",
      " 0.02448481 0.02300502 0.02285882 0.02185553 0.02072157 0.02013493\n",
      " 0.01949832 0.018899   0.01840903 0.01814588 0.01809286 0.01746309\n",
      " 0.01698657 0.01661011 0.01566489 0.01514044 0.01448225 0.01401591\n",
      " 0.01347472 0.01330399 0.01299052 0.01249355 0.01239985 0.01204729]\n",
      "-------\n",
      "[0.32070579 0.175132   0.08430898 0.04930893 0.04236937 0.03519083\n",
      " 0.02969004 0.02382395 0.02068526 0.01461327 0.01303347 0.0104757\n",
      " 0.00918334 0.00887602 0.0080308  0.00757876 0.00650895 0.00632726\n",
      " 0.00537562 0.00516515 0.00481088 0.00425762 0.00412617 0.00384243\n",
      " 0.0038251  0.0035948  0.00349984 0.0033101  0.00314166 0.00298456\n",
      " 0.00281084 0.00273589 0.00264118 0.00257483 0.00237966 0.00228765\n",
      " 0.00223454 0.00209949 0.00208614 0.00199458 0.00189109 0.00183756\n",
      " 0.00177946 0.00172476 0.00168005 0.00165603 0.00165119 0.00159372\n",
      " 0.00155023 0.00151587 0.00142961 0.00138175 0.00132168 0.00127912\n",
      " 0.00122973 0.00121415 0.00118554 0.00114019 0.00113164 0.00109946]\n",
      "-------\n",
      "0.9669143179571137\n",
      "-------\n",
      "[37.44505877 27.67093677 19.19897399 14.68263199 13.6102822  12.4038323\n",
      " 11.3932209  10.20582193  9.50980577  7.99309316  7.54868161  6.76756892\n",
      "  6.33638499  6.2294586   5.92543792  5.75625893  5.33453424  5.2595525\n",
      "  4.84791891  4.7520662   4.5862061   4.31443972  4.24731753  4.0986806\n",
      "  4.08942501  3.9644114   3.91169923  3.80418394  3.70613017  3.61228138\n",
      "  3.50557542  3.45851989  3.39813308  3.35517799  3.22551299  3.16253936\n",
      "  3.12560994  3.0296867   3.02004433  2.95302482  2.87539664  2.83440239\n",
      "  2.78923467  2.7460334   2.71020343  2.69076287  2.68682945  2.639654\n",
      "  2.60339071  2.57438037  2.50005788  2.45785151  2.40383386  2.36481466\n",
      "  2.31870965  2.30397305  2.27666802  2.23269446  2.22430701  2.19245763]\n"
     ]
    }
   ],
   "source": [
    "scaler = MinMaxScaler()\n",
    "scaler.fit(Feat)\n",
    "Feat = scaler.transform(Feat)\n",
    "\n",
    "pca = PCA(n_components=60)\n",
    "Feat = pca.fit_transform(Feat)\n",
    "print(np.shape(Feat))\n",
    "print(pca.explained_variance_)\n",
    "print(\"-------\")\n",
    "print(pca.explained_variance_ratio_)\n",
    "print(\"-------\")\n",
    "print(np.sum(pca.explained_variance_ratio_))\n",
    "print(\"-------\")\n",
    "print(pca.singular_values_)\n",
    "\n",
    "#Feat = np.concatenate([Feat_mat,Feat],axis=1)"
   ]
  },
  {
   "cell_type": "code",
   "execution_count": 43,
   "metadata": {
    "collapsed": true
   },
   "outputs": [],
   "source": [
    "Feature_train, Feature_test, y_train, y_test, mat_train, mat_test, mat_encod_train, mat_encod_test, outputs_train, outputs_test\\\n",
    "= train_test_split(Feat, outputs[\"sor\"], outputs[\"material\"], material_cat_encoded, outputs, test_size = 0.2)"
   ]
  },
  {
   "cell_type": "code",
   "execution_count": 44,
   "metadata": {},
   "outputs": [
    {
     "name": "stdout",
     "output_type": "stream",
     "text": [
      "Best parameters:   {'booster': 'dart', 'learning_rate': 0.04, 'max_depth': 3, 'n_estimators': 150}\n"
     ]
    }
   ],
   "source": [
    "#scaler = StandardScale#r()\n",
    "scaler = MinMaxScaler()\n",
    "scaler.fit(Feature_train)\n",
    "X = scaler.transform(Feature_train)\n",
    "\n",
    "\n",
    "#param_grid = [{'n_estimators': [30, 40, 50, 70, 100, 200, 250], 'learning_rate': [0.05, 0.07, 0.1, 0.12, 0.14] }]\n",
    "param_grid = [{'n_estimators': [30, 40, 50, 60, 80, 100, 150], 'learning_rate': [0.04, 0.06, 0.07, 0.1, 0.12] ,\\\n",
    "               'max_depth': [3, 4], 'booster': [\"gbtree\", \"dart\"]}]\n",
    "\n",
    "#RF = GradientBoostingRegressor()\n",
    "RF = xgb.XGBRegressor()\n",
    "grid_search = GridSearchCV(RF, param_grid, cv=4,\n",
    "                           scoring='neg_mean_squared_error', return_train_score=True)\n",
    "\n",
    "#grid_search = GridSearchCV(RF, param_grid, cv=4,\n",
    "#                           scoring='neg_mean_absolute_error', return_train_score=True)\n",
    "\n",
    "\n",
    "\n",
    "grid_search.fit(X, y_train)\n",
    "\n",
    "\n",
    "print(\"Best parameters:  \", grid_search.best_params_)\n",
    "\n",
    "X_train = X\n",
    "X_test = scaler.transform(Feature_test)"
   ]
  },
  {
   "cell_type": "code",
   "execution_count": 589,
   "metadata": {},
   "outputs": [
    {
     "data": {
      "text/plain": [
       "<matplotlib.axes._subplots.AxesSubplot at 0x2108a148ef0>"
      ]
     },
     "execution_count": 589,
     "metadata": {},
     "output_type": "execute_result"
    },
    {
     "data": {
      "image/png": "[encoded data removed]",
      "text/plain": [
       "<matplotlib.figure.Figure at 0x21088f0a6d8>"
      ]
     },
     "metadata": {},
     "output_type": "display_data"
    }
   ],
   "source": [
    "xgb.plot_importance(grid_search.best_estimator_)"
   ]
  },
  {
   "cell_type": "code",
   "execution_count": 45,
   "metadata": {},
   "outputs": [
    {
     "name": "stdout",
     "output_type": "stream",
     "text": [
      "Test:  0.010136736917250913  - Train:  0.008883276314777571    {'booster': 'gbtree', 'learning_rate': 0.04, 'max_depth': 3, 'n_estimators': 30}\n",
      "Test:  0.0060999771701881695  - Train:  0.004680326230481903    {'booster': 'gbtree', 'learning_rate': 0.04, 'max_depth': 3, 'n_estimators': 40}\n",
      "Test:  0.004244274714251301  - Train:  0.002670178931455669    {'booster': 'gbtree', 'learning_rate': 0.04, 'max_depth': 3, 'n_estimators': 50}\n",
      "Test:  0.003370241373149281  - Train:  0.0016629674663402453    {'booster': 'gbtree', 'learning_rate': 0.04, 'max_depth': 3, 'n_estimators': 60}\n",
      "Test:  0.0028186737641873296  - Train:  0.0008272367375858553    {'booster': 'gbtree', 'learning_rate': 0.04, 'max_depth': 3, 'n_estimators': 80}\n",
      "Test:  0.0026841338635105916  - Train:  0.0005385246620995797    {'booster': 'gbtree', 'learning_rate': 0.04, 'max_depth': 3, 'n_estimators': 100}\n",
      "Test:  0.0026149927734680626  - Train:  0.00025949584005050344    {'booster': 'gbtree', 'learning_rate': 0.04, 'max_depth': 3, 'n_estimators': 150}\n",
      "Test:  0.010444275636368395  - Train:  0.008682941553229566    {'booster': 'gbtree', 'learning_rate': 0.04, 'max_depth': 4, 'n_estimators': 30}\n",
      "Test:  0.006359782936823754  - Train:  0.004381416894373448    {'booster': 'gbtree', 'learning_rate': 0.04, 'max_depth': 4, 'n_estimators': 40}\n",
      "Test:  0.00446799884318938  - Train:  0.0023215799076661027    {'booster': 'gbtree', 'learning_rate': 0.04, 'max_depth': 4, 'n_estimators': 50}\n",
      "Test:  0.003572462230095861  - Train:  0.0012927059412871495    {'booster': 'gbtree', 'learning_rate': 0.04, 'max_depth': 4, 'n_estimators': 60}\n",
      "Test:  0.002939090671982842  - Train:  0.0004623870028788101    {'booster': 'gbtree', 'learning_rate': 0.04, 'max_depth': 4, 'n_estimators': 80}\n",
      "Test:  0.002786365198852569  - Train:  0.00020773289482117882    {'booster': 'gbtree', 'learning_rate': 0.04, 'max_depth': 4, 'n_estimators': 100}\n",
      "Test:  0.0026983024240384073  - Train:  5.978748169854695e-05    {'booster': 'gbtree', 'learning_rate': 0.04, 'max_depth': 4, 'n_estimators': 150}\n",
      "Test:  0.00490813001307964  - Train:  0.0034203458723509063    {'booster': 'gbtree', 'learning_rate': 0.06, 'max_depth': 3, 'n_estimators': 30}\n",
      "Test:  0.0033403687312429085  - Train:  0.0016223466735614113    {'booster': 'gbtree', 'learning_rate': 0.06, 'max_depth': 3, 'n_estimators': 40}\n",
      "Test:  0.0029160072461094687  - Train:  0.0009366154940374629    {'booster': 'gbtree', 'learning_rate': 0.06, 'max_depth': 3, 'n_estimators': 50}\n",
      "Test:  0.002754487820793478  - Train:  0.000651811265866327    {'booster': 'gbtree', 'learning_rate': 0.06, 'max_depth': 3, 'n_estimators': 60}\n",
      "Test:  0.0026635139128657914  - Train:  0.00038885848355426977    {'booster': 'gbtree', 'learning_rate': 0.06, 'max_depth': 3, 'n_estimators': 80}\n",
      "Test:  0.0026549588688249506  - Train:  0.00025574849629101044    {'booster': 'gbtree', 'learning_rate': 0.06, 'max_depth': 3, 'n_estimators': 100}\n",
      "Test:  0.0026563023484892333  - Train:  0.00010105492493183852    {'booster': 'gbtree', 'learning_rate': 0.06, 'max_depth': 3, 'n_estimators': 150}\n",
      "Test:  0.005174862260061955  - Train:  0.003094757543838382    {'booster': 'gbtree', 'learning_rate': 0.06, 'max_depth': 4, 'n_estimators': 30}\n",
      "Test:  0.0035323760683527066  - Train:  0.0012554146498662843    {'booster': 'gbtree', 'learning_rate': 0.06, 'max_depth': 4, 'n_estimators': 40}\n",
      "Test:  0.0030240280123177074  - Train:  0.0005757371353729446    {'booster': 'gbtree', 'learning_rate': 0.06, 'max_depth': 4, 'n_estimators': 50}\n",
      "Test:  0.0028603390057120185  - Train:  0.00029609992831588415    {'booster': 'gbtree', 'learning_rate': 0.06, 'max_depth': 4, 'n_estimators': 60}\n",
      "Test:  0.0027215394498346706  - Train:  0.0001160864910531101    {'booster': 'gbtree', 'learning_rate': 0.06, 'max_depth': 4, 'n_estimators': 80}\n",
      "Test:  0.0027005337792025577  - Train:  5.618323313924717e-05    {'booster': 'gbtree', 'learning_rate': 0.06, 'max_depth': 4, 'n_estimators': 100}\n",
      "Test:  0.0026850034436036686  - Train:  1.2118218536363417e-05    {'booster': 'gbtree', 'learning_rate': 0.06, 'max_depth': 4, 'n_estimators': 150}\n",
      "Test:  0.0039693320042412765  - Train:  0.0022942322715012245    {'booster': 'gbtree', 'learning_rate': 0.07, 'max_depth': 3, 'n_estimators': 30}\n",
      "Test:  0.003083379735273406  - Train:  0.001106092615931992    {'booster': 'gbtree', 'learning_rate': 0.07, 'max_depth': 3, 'n_estimators': 40}\n",
      "Test:  0.0028248577029694475  - Train:  0.0006870308076580141    {'booster': 'gbtree', 'learning_rate': 0.07, 'max_depth': 3, 'n_estimators': 50}\n",
      "Test:  0.0027185952074883085  - Train:  0.0004957497242164615    {'booster': 'gbtree', 'learning_rate': 0.07, 'max_depth': 3, 'n_estimators': 60}\n",
      "Test:  0.0026765798482964232  - Train:  0.0002970029732837012    {'booster': 'gbtree', 'learning_rate': 0.07, 'max_depth': 3, 'n_estimators': 80}\n",
      "Test:  0.002671616876290493  - Train:  0.0001892608467604925    {'booster': 'gbtree', 'learning_rate': 0.07, 'max_depth': 3, 'n_estimators': 100}\n",
      "Test:  0.0026589422582529105  - Train:  6.676642565448256e-05    {'booster': 'gbtree', 'learning_rate': 0.07, 'max_depth': 3, 'n_estimators': 150}\n",
      "Test:  0.004079203040397964  - Train:  0.0019186445187310218    {'booster': 'gbtree', 'learning_rate': 0.07, 'max_depth': 4, 'n_estimators': 30}\n",
      "Test:  0.003104746834967855  - Train:  0.0007314505863143468    {'booster': 'gbtree', 'learning_rate': 0.07, 'max_depth': 4, 'n_estimators': 40}\n",
      "Test:  0.002802735930332417  - Train:  0.00032651074439081674    {'booster': 'gbtree', 'learning_rate': 0.07, 'max_depth': 4, 'n_estimators': 50}\n",
      "Test:  0.002728349450397847  - Train:  0.0001788074972846058    {'booster': 'gbtree', 'learning_rate': 0.07, 'max_depth': 4, 'n_estimators': 60}\n",
      "Test:  0.002667141074561732  - Train:  7.336496704371889e-05    {'booster': 'gbtree', 'learning_rate': 0.07, 'max_depth': 4, 'n_estimators': 80}\n",
      "Test:  0.0026730280035273716  - Train:  3.45373785556217e-05    {'booster': 'gbtree', 'learning_rate': 0.07, 'max_depth': 4, 'n_estimators': 100}\n",
      "Test:  0.0026675952345362373  - Train:  5.969109716492867e-06    {'booster': 'gbtree', 'learning_rate': 0.07, 'max_depth': 4, 'n_estimators': 150}\n",
      "Test:  0.0029164845277581527  - Train:  0.0009047870372861479    {'booster': 'gbtree', 'learning_rate': 0.1, 'max_depth': 3, 'n_estimators': 30}\n",
      "Test:  0.002721143533360444  - Train:  0.0005371829251260156    {'booster': 'gbtree', 'learning_rate': 0.1, 'max_depth': 3, 'n_estimators': 40}\n",
      "Test:  0.0026639680728441245  - Train:  0.0003661215843256443    {'booster': 'gbtree', 'learning_rate': 0.1, 'max_depth': 3, 'n_estimators': 50}\n",
      "Test:  0.002659949754514683  - Train:  0.00025333053050849213    {'booster': 'gbtree', 'learning_rate': 0.1, 'max_depth': 3, 'n_estimators': 60}\n",
      "Test:  0.002645813769550794  - Train:  0.00013811298918024094    {'booster': 'gbtree', 'learning_rate': 0.1, 'max_depth': 3, 'n_estimators': 80}\n",
      "Test:  0.0026641244083780253  - Train:  7.864318672528957e-05    {'booster': 'gbtree', 'learning_rate': 0.1, 'max_depth': 3, 'n_estimators': 100}\n",
      "Test:  0.0026679665389063864  - Train:  2.00158067053772e-05    {'booster': 'gbtree', 'learning_rate': 0.1, 'max_depth': 3, 'n_estimators': 150}\n",
      "Test:  0.0030203437902893947  - Train:  0.0005394222334047012    {'booster': 'gbtree', 'learning_rate': 0.1, 'max_depth': 4, 'n_estimators': 30}\n",
      "Test:  0.0027973671233476397  - Train:  0.00020901275418780602    {'booster': 'gbtree', 'learning_rate': 0.1, 'max_depth': 4, 'n_estimators': 40}\n",
      "Test:  0.0027461815205695886  - Train:  0.00010550432384416176    {'booster': 'gbtree', 'learning_rate': 0.1, 'max_depth': 4, 'n_estimators': 50}\n",
      "Test:  0.002747295303800528  - Train:  5.760850833557773e-05    {'booster': 'gbtree', 'learning_rate': 0.1, 'max_depth': 4, 'n_estimators': 60}\n",
      "Test:  0.0027380015403982933  - Train:  2.138849678895046e-05    {'booster': 'gbtree', 'learning_rate': 0.1, 'max_depth': 4, 'n_estimators': 80}\n",
      "Test:  0.0027307388067881804  - Train:  8.621751194830953e-06    {'booster': 'gbtree', 'learning_rate': 0.1, 'max_depth': 4, 'n_estimators': 100}\n",
      "Test:  0.002731952530493531  - Train:  1.1754720088363888e-06    {'booster': 'gbtree', 'learning_rate': 0.1, 'max_depth': 4, 'n_estimators': 150}\n",
      "Test:  0.0027835864776643024  - Train:  0.0006368024794088996    {'booster': 'gbtree', 'learning_rate': 0.12, 'max_depth': 3, 'n_estimators': 30}\n",
      "Test:  0.0027240963046541414  - Train:  0.0003770657098471213    {'booster': 'gbtree', 'learning_rate': 0.12, 'max_depth': 3, 'n_estimators': 40}\n",
      "Test:  0.0026987928931923324  - Train:  0.0002464001385610269    {'booster': 'gbtree', 'learning_rate': 0.12, 'max_depth': 3, 'n_estimators': 50}\n",
      "Test:  0.002701966139994208  - Train:  0.0001658473191568304    {'booster': 'gbtree', 'learning_rate': 0.12, 'max_depth': 3, 'n_estimators': 60}\n",
      "Test:  0.00270736394104082  - Train:  8.375455357485844e-05    {'booster': 'gbtree', 'learning_rate': 0.12, 'max_depth': 3, 'n_estimators': 80}\n",
      "Test:  0.0027249638513069615  - Train:  4.402060863255686e-05    {'booster': 'gbtree', 'learning_rate': 0.12, 'max_depth': 3, 'n_estimators': 100}\n",
      "Test:  0.002734021843175284  - Train:  9.15014881086649e-06    {'booster': 'gbtree', 'learning_rate': 0.12, 'max_depth': 3, 'n_estimators': 150}\n",
      "Test:  0.0028591388014357656  - Train:  0.00028975949621089383    {'booster': 'gbtree', 'learning_rate': 0.12, 'max_depth': 4, 'n_estimators': 30}\n",
      "Test:  0.002757274930608293  - Train:  0.00012220570071393025    {'booster': 'gbtree', 'learning_rate': 0.12, 'max_depth': 4, 'n_estimators': 40}\n",
      "Test:  0.002738337519679173  - Train:  6.156184856838615e-05    {'booster': 'gbtree', 'learning_rate': 0.12, 'max_depth': 4, 'n_estimators': 50}\n",
      "Test:  0.0027240381767936095  - Train:  3.273617746232365e-05    {'booster': 'gbtree', 'learning_rate': 0.12, 'max_depth': 4, 'n_estimators': 60}\n",
      "Test:  0.0027343436920170845  - Train:  1.0424393557155906e-05    {'booster': 'gbtree', 'learning_rate': 0.12, 'max_depth': 4, 'n_estimators': 80}\n",
      "Test:  0.002739110749473189  - Train:  3.6797636084244605e-06    {'booster': 'gbtree', 'learning_rate': 0.12, 'max_depth': 4, 'n_estimators': 100}\n",
      "Test:  0.0027367961773942647  - Train:  3.061417757665427e-07    {'booster': 'gbtree', 'learning_rate': 0.12, 'max_depth': 4, 'n_estimators': 150}\n",
      "Test:  0.010136736871079135  - Train:  0.00888327669072951    {'booster': 'dart', 'learning_rate': 0.04, 'max_depth': 3, 'n_estimators': 30}\n",
      "Test:  0.006099976775325215  - Train:  0.004680326463956257    {'booster': 'dart', 'learning_rate': 0.04, 'max_depth': 3, 'n_estimators': 40}\n",
      "Test:  0.004244273975638832  - Train:  0.0026701789802549575    {'booster': 'dart', 'learning_rate': 0.04, 'max_depth': 3, 'n_estimators': 50}\n",
      "Test:  0.0033702405004479353  - Train:  0.001662967298728631    {'booster': 'dart', 'learning_rate': 0.04, 'max_depth': 3, 'n_estimators': 60}\n",
      "Test:  0.002818673212690498  - Train:  0.0008272366964701076    {'booster': 'dart', 'learning_rate': 0.04, 'max_depth': 3, 'n_estimators': 80}\n",
      "Test:  0.0026841334161041403  - Train:  0.0005385248397949415    {'booster': 'dart', 'learning_rate': 0.04, 'max_depth': 3, 'n_estimators': 100}\n",
      "Test:  0.0026149923192593724  - Train:  0.00025949610819006624    {'booster': 'dart', 'learning_rate': 0.04, 'max_depth': 3, 'n_estimators': 150}\n",
      "Test:  0.010444274817125801  - Train:  0.008682941402370904    {'booster': 'dart', 'learning_rate': 0.04, 'max_depth': 4, 'n_estimators': 30}\n",
      "Test:  0.006359782241311629  - Train:  0.004381416489117192    {'booster': 'dart', 'learning_rate': 0.04, 'max_depth': 4, 'n_estimators': 40}\n",
      "Test:  0.00446799783332366  - Train:  0.0023215792423263017    {'booster': 'dart', 'learning_rate': 0.04, 'max_depth': 4, 'n_estimators': 50}\n",
      "Test:  0.0035724613176413983  - Train:  0.0012927052997340983    {'booster': 'dart', 'learning_rate': 0.04, 'max_depth': 4, 'n_estimators': 60}\n",
      "Test:  0.002939089786572548  - Train:  0.0004623865170576367    {'booster': 'dart', 'learning_rate': 0.04, 'max_depth': 4, 'n_estimators': 80}\n",
      "Test:  0.002786364615679647  - Train:  0.00020773259509731495    {'booster': 'dart', 'learning_rate': 0.04, 'max_depth': 4, 'n_estimators': 100}\n",
      "Test:  0.0026983021106681297  - Train:  5.978736487769335e-05    {'booster': 'dart', 'learning_rate': 0.04, 'max_depth': 4, 'n_estimators': 150}\n",
      "Test:  0.004908130330321481  - Train:  0.0034203461933829723    {'booster': 'dart', 'learning_rate': 0.06, 'max_depth': 3, 'n_estimators': 30}\n",
      "Test:  0.003340368524081978  - Train:  0.0016223464755668357    {'booster': 'dart', 'learning_rate': 0.06, 'max_depth': 3, 'n_estimators': 40}\n",
      "Test:  0.002916007133153682  - Train:  0.0009366153620007022    {'booster': 'dart', 'learning_rate': 0.06, 'max_depth': 3, 'n_estimators': 50}\n",
      "Test:  0.002754487901064309  - Train:  0.0006518112936478426    {'booster': 'dart', 'learning_rate': 0.06, 'max_depth': 3, 'n_estimators': 60}\n",
      "Test:  0.002663513965435742  - Train:  0.00038885857591366285    {'booster': 'dart', 'learning_rate': 0.06, 'max_depth': 3, 'n_estimators': 80}\n",
      "Test:  0.0026549590142632496  - Train:  0.00025574857813910005    {'booster': 'dart', 'learning_rate': 0.06, 'max_depth': 3, 'n_estimators': 100}\n",
      "Test:  0.0026563025836245603  - Train:  0.00010105494712705124    {'booster': 'dart', 'learning_rate': 0.06, 'max_depth': 3, 'n_estimators': 150}\n",
      "Test:  0.0051748611024852505  - Train:  0.00309475622797781    {'booster': 'dart', 'learning_rate': 0.06, 'max_depth': 4, 'n_estimators': 30}\n",
      "Test:  0.0035323752279679196  - Train:  0.0012554138176358069    {'booster': 'dart', 'learning_rate': 0.06, 'max_depth': 4, 'n_estimators': 40}\n",
      "Test:  0.0030240274598410275  - Train:  0.0005757365802431651    {'booster': 'dart', 'learning_rate': 0.06, 'max_depth': 4, 'n_estimators': 50}\n",
      "Test:  0.0028603385514865687  - Train:  0.00029609951474812496    {'booster': 'dart', 'learning_rate': 0.06, 'max_depth': 4, 'n_estimators': 60}\n",
      "Test:  0.002721539051200364  - Train:  0.00011608623968913047    {'booster': 'dart', 'learning_rate': 0.06, 'max_depth': 4, 'n_estimators': 80}\n",
      "Test:  0.002700533360246073  - Train:  5.618302344514642e-05    {'booster': 'dart', 'learning_rate': 0.06, 'max_depth': 4, 'n_estimators': 100}\n",
      "Test:  0.0026850030895700233  - Train:  1.211814717309513e-05    {'booster': 'dart', 'learning_rate': 0.06, 'max_depth': 4, 'n_estimators': 150}\n",
      "Test:  0.003969331553718281  - Train:  0.002294231931222731    {'booster': 'dart', 'learning_rate': 0.07, 'max_depth': 3, 'n_estimators': 30}\n",
      "Test:  0.0030833795651793476  - Train:  0.0011060923400471757    {'booster': 'dart', 'learning_rate': 0.07, 'max_depth': 3, 'n_estimators': 40}\n",
      "Test:  0.0028248576635914895  - Train:  0.0006870306565620401    {'booster': 'dart', 'learning_rate': 0.07, 'max_depth': 3, 'n_estimators': 50}\n",
      "Test:  0.0027185951502779735  - Train:  0.0004957495902323283    {'booster': 'dart', 'learning_rate': 0.07, 'max_depth': 3, 'n_estimators': 60}\n",
      "Test:  0.002676579582854282  - Train:  0.0002970029242275101    {'booster': 'dart', 'learning_rate': 0.07, 'max_depth': 3, 'n_estimators': 80}\n",
      "Test:  0.0026716165987699567  - Train:  0.00018926079617609485    {'booster': 'dart', 'learning_rate': 0.07, 'max_depth': 3, 'n_estimators': 100}\n",
      "Test:  0.0026589417305936756  - Train:  6.67664060085974e-05    {'booster': 'dart', 'learning_rate': 0.07, 'max_depth': 3, 'n_estimators': 150}\n",
      "Test:  0.004079203236966914  - Train:  0.001918644640980857    {'booster': 'dart', 'learning_rate': 0.07, 'max_depth': 4, 'n_estimators': 30}\n",
      "Test:  0.0031047470226612034  - Train:  0.0007314506967889552    {'booster': 'dart', 'learning_rate': 0.07, 'max_depth': 4, 'n_estimators': 40}\n",
      "Test:  0.0028027358220887233  - Train:  0.00032651058590188524    {'booster': 'dart', 'learning_rate': 0.07, 'max_depth': 4, 'n_estimators': 50}\n",
      "Test:  0.002728349167103425  - Train:  0.00017880730984751842    {'booster': 'dart', 'learning_rate': 0.07, 'max_depth': 4, 'n_estimators': 60}\n",
      "Test:  0.0026671407435133374  - Train:  7.336481994015719e-05    {'booster': 'dart', 'learning_rate': 0.07, 'max_depth': 4, 'n_estimators': 80}\n",
      "Test:  0.0026730275059021814  - Train:  3.4537276293669846e-05    {'booster': 'dart', 'learning_rate': 0.07, 'max_depth': 4, 'n_estimators': 100}\n",
      "Test:  0.0026675944679801075  - Train:  5.969074871448018e-06    {'booster': 'dart', 'learning_rate': 0.07, 'max_depth': 4, 'n_estimators': 150}\n",
      "Test:  0.002916484004846511  - Train:  0.0009047865597256036    {'booster': 'dart', 'learning_rate': 0.1, 'max_depth': 3, 'n_estimators': 30}\n",
      "Test:  0.002721143347138673  - Train:  0.0005371825949035629    {'booster': 'dart', 'learning_rate': 0.1, 'max_depth': 3, 'n_estimators': 40}\n",
      "Test:  0.002663968006222045  - Train:  0.00036612143633419047    {'booster': 'dart', 'learning_rate': 0.1, 'max_depth': 3, 'n_estimators': 50}\n",
      "Test:  0.0026599498539112533  - Train:  0.00025333051861151085    {'booster': 'dart', 'learning_rate': 0.1, 'max_depth': 3, 'n_estimators': 60}\n",
      "Test:  0.002645813777350536  - Train:  0.00013811303636061958    {'booster': 'dart', 'learning_rate': 0.1, 'max_depth': 3, 'n_estimators': 80}\n",
      "Test:  0.0026641246566893803  - Train:  7.864323257888847e-05    {'booster': 'dart', 'learning_rate': 0.1, 'max_depth': 3, 'n_estimators': 100}\n",
      "Test:  0.0026679667984984947  - Train:  2.001581609760323e-05    {'booster': 'dart', 'learning_rate': 0.1, 'max_depth': 3, 'n_estimators': 150}\n",
      "Test:  0.0030203430185912748  - Train:  0.0005394218748165987    {'booster': 'dart', 'learning_rate': 0.1, 'max_depth': 4, 'n_estimators': 30}\n",
      "Test:  0.002797366705952845  - Train:  0.00020901263639712912    {'booster': 'dart', 'learning_rate': 0.1, 'max_depth': 4, 'n_estimators': 40}\n",
      "Test:  0.002746181044541951  - Train:  0.00010550429148965285    {'booster': 'dart', 'learning_rate': 0.1, 'max_depth': 4, 'n_estimators': 50}\n",
      "Test:  0.0027472948674590906  - Train:  5.7608504215820587e-05    {'booster': 'dart', 'learning_rate': 0.1, 'max_depth': 4, 'n_estimators': 60}\n",
      "Test:  0.0027380010493738612  - Train:  2.138852050225014e-05    {'booster': 'dart', 'learning_rate': 0.1, 'max_depth': 4, 'n_estimators': 80}\n",
      "Test:  0.00273073854064658  - Train:  8.621770298698011e-06    {'booster': 'dart', 'learning_rate': 0.1, 'max_depth': 4, 'n_estimators': 100}\n",
      "Test:  0.002731952409726391  - Train:  1.1754773133004519e-06    {'booster': 'dart', 'learning_rate': 0.1, 'max_depth': 4, 'n_estimators': 150}\n",
      "Test:  0.002783586529741376  - Train:  0.0006368025504439867    {'booster': 'dart', 'learning_rate': 0.12, 'max_depth': 3, 'n_estimators': 30}\n",
      "Test:  0.0027240962301424685  - Train:  0.00037706570033856226    {'booster': 'dart', 'learning_rate': 0.12, 'max_depth': 3, 'n_estimators': 40}\n",
      "Test:  0.002698792920712661  - Train:  0.00024640013416591907    {'booster': 'dart', 'learning_rate': 0.12, 'max_depth': 3, 'n_estimators': 50}\n",
      "Test:  0.002701966232102867  - Train:  0.0001658472917461732    {'booster': 'dart', 'learning_rate': 0.12, 'max_depth': 3, 'n_estimators': 60}\n",
      "Test:  0.002707364045755536  - Train:  8.375456848445191e-05    {'booster': 'dart', 'learning_rate': 0.12, 'max_depth': 3, 'n_estimators': 80}\n",
      "Test:  0.0027249636431093127  - Train:  4.4020633076235154e-05    {'booster': 'dart', 'learning_rate': 0.12, 'max_depth': 3, 'n_estimators': 100}\n",
      "Test:  0.002734021576705633  - Train:  9.150158932046604e-06    {'booster': 'dart', 'learning_rate': 0.12, 'max_depth': 3, 'n_estimators': 150}\n",
      "Test:  0.0028591387927397577  - Train:  0.00028975956280811744    {'booster': 'dart', 'learning_rate': 0.12, 'max_depth': 4, 'n_estimators': 30}\n",
      "Test:  0.0027572746566932415  - Train:  0.00012220571300746832    {'booster': 'dart', 'learning_rate': 0.12, 'max_depth': 4, 'n_estimators': 40}\n",
      "Test:  0.0027383372712837997  - Train:  6.156186939518352e-05    {'booster': 'dart', 'learning_rate': 0.12, 'max_depth': 4, 'n_estimators': 50}\n",
      "Test:  0.0027240377676759167  - Train:  3.273621075835735e-05    {'booster': 'dart', 'learning_rate': 0.12, 'max_depth': 4, 'n_estimators': 60}\n",
      "Test:  0.002734343289415017  - Train:  1.0424394588903328e-05    {'booster': 'dart', 'learning_rate': 0.12, 'max_depth': 4, 'n_estimators': 80}\n",
      "Test:  0.0027391103814240025  - Train:  3.6797668190387216e-06    {'booster': 'dart', 'learning_rate': 0.12, 'max_depth': 4, 'n_estimators': 100}\n",
      "Test:  0.002737548418419102  - Train:  3.0124489163226374e-07    {'booster': 'dart', 'learning_rate': 0.12, 'max_depth': 4, 'n_estimators': 150}\n"
     ]
    }
   ],
   "source": [
    "#To plot all the scores from grid search\n",
    "cvres = grid_search.cv_results_\n",
    "for sc1, sc2, sc3 in zip(cvres[\"mean_test_score\"], cvres[\"mean_train_score\"], cvres[\"params\"]):\n",
    "    print(\"Test: \", -sc1, \" - Train: \", -sc2, \"  \", sc3)"
   ]
  },
  {
   "cell_type": "markdown",
   "metadata": {},
   "source": [
    "#### Some plots to see the results on test set"
   ]
  },
  {
   "cell_type": "code",
   "execution_count": 46,
   "metadata": {},
   "outputs": [
    {
     "data": {
      "text/plain": [
       "<matplotlib.collections.PathCollection at 0x2372de4cfd0>"
      ]
     },
     "execution_count": 46,
     "metadata": {},
     "output_type": "execute_result"
    },
    {
     "data": {
      "image/png": "[encoded data removed]",
      "text/plain": [
       "<matplotlib.figure.Figure at 0x23722f0a7f0>"
      ]
     },
     "metadata": {},
     "output_type": "display_data"
    }
   ],
   "source": [
    "RFbest = grid_search.best_estimator_\n",
    "plt.scatter(y_train,RFbest.predict(X_train))\n",
    "plt.scatter(y_test,RFbest.predict(X_test))"
   ]
  },
  {
   "cell_type": "code",
   "execution_count": 47,
   "metadata": {},
   "outputs": [
    {
     "data": {
      "text/plain": [
       "<matplotlib.collections.PathCollection at 0x2372df65e10>"
      ]
     },
     "execution_count": 47,
     "metadata": {},
     "output_type": "execute_result"
    },
    {
     "data": {
      "image/png": "[encoded data removed]",
      "text/plain": [
       "<matplotlib.figure.Figure at 0x23712388ba8>"
      ]
     },
     "metadata": {},
     "output_type": "display_data"
    }
   ],
   "source": [
    "plt.scatter(y_train,RFbest.predict(X_train)-y_train)\n",
    "plt.scatter(y_test,RFbest.predict(X_test)-y_test)"
   ]
  },
  {
   "cell_type": "markdown",
   "metadata": {},
   "source": [
    "#### Train the model on the whole input data"
   ]
  },
  {
   "cell_type": "code",
   "execution_count": 212,
   "metadata": {},
   "outputs": [
    {
     "name": "stdout",
     "output_type": "stream",
     "text": [
      "(400, 332)\n",
      "nb features:  (400, 193)\n",
      "Best parameters:   {'booster': 'dart', 'learning_rate': 0.07, 'max_depth': 3, 'n_estimators': 100}\n",
      "Best score:   -0.0024373675274176176\n"
     ]
    }
   ],
   "source": [
    "#scaler = StandardScaler()\n",
    "scaler = MinMaxScaler()\n",
    "scaler.fit(Feat)\n",
    "X = scaler.transform(Feat)\n",
    "print(np.shape(X))\n",
    "\n",
    "#Feature selection\n",
    "#sel = SelectKBest(f_regression, k=240)\n",
    "#X_train_scaled = sel.fit_transform(X_train_scaled,y_train)\n",
    "sel = VarianceThreshold(threshold=(.98 * (1 - .98)))\n",
    "X = sel.fit_transform(X)\n",
    "mask = sel.get_support()\n",
    "print(\"nb features: \", np.shape(X))\n",
    "\n",
    "\n",
    "#param_grid = [{'n_estimators': [10, 30, 40, 70, 100, 200, 250, 350, 450, 600],\\\n",
    "#               'learning_rate': [0.03, 0.05, 0.07, 0.1, 0.12, 0.14] }]\n",
    "param_grid = [{'n_estimators': [30, 40, 50, 60, 80, 100, 150, 200, 250], 'learning_rate': [0.04, 0.06, 0.07, 0.1, 0.12, 0.14] ,\\\n",
    "               'max_depth': [3, 4], 'booster': [\"gbtree\", \"gblinear\", \"dart\"]}]\n",
    "#RF = GradientBoostingRegressor()\n",
    "RF = xgb.XGBRegressor()\n",
    "grid_search = GridSearchCV(RF, param_grid, cv=4,\n",
    "                           scoring='neg_mean_squared_error', return_train_score=True)\n",
    "\n",
    "#grid_search = GridSearchCV(RF, param_grid, cv=4,\n",
    "#                           scoring='neg_mean_absolute_error', return_train_score=True)\n",
    "\n",
    "\n",
    "\n",
    "grid_search.fit(X, outputs[\"sor\"])\n",
    "\n",
    "\n",
    "print(\"Best parameters:  \", grid_search.best_params_)\n",
    "print(\"Best score:  \", grid_search.best_score_)"
   ]
  },
  {
   "cell_type": "code",
   "execution_count": 214,
   "metadata": {
    "scrolled": true
   },
   "outputs": [
    {
     "data": {
      "text/plain": [
       "['C:/Chazal/ChallengeIFPEN2018/modelSorBis.pkl']"
      ]
     },
     "execution_count": 214,
     "metadata": {},
     "output_type": "execute_result"
    }
   ],
   "source": [
    "#To save the best model \n",
    "pickle.dump(mask,open(CHALLENGE_PATH + \"maskSor.dat\", \"wb\"))\n",
    "joblib.dump(scaler,CHALLENGE_PATH + \"scalerSor.pkl\")\n",
    "joblib.dump(grid_search.best_estimator_, CHALLENGE_PATH + \"modelSorBis.pkl\")"
   ]
  },
  {
   "cell_type": "markdown",
   "metadata": {},
   "source": [
    "## 5. Regression on the sum of bins"
   ]
  },
  {
   "cell_type": "code",
   "execution_count": 217,
   "metadata": {
    "collapsed": true
   },
   "outputs": [],
   "source": [
    "###Warning Classif_pred is added as a new feature!\n",
    "Feat_bin = np.concatenate([Feat_mat,Feat_Voids,Feat_loc_max,Feat_density,Feat_DTM1_pers,\\\n",
    "                       Feat_SetIntensity2_pers,Feat_bd,Feat_skel],axis=1)\n",
    "\n",
    "#Feat_bin = np.concatenate([Feat_mat,Feat_Voids,Feat_loc_max,Feat_density,Feat_DTM1_pers,Feat_hX_pers,Feat_hZ_pers,\\\n",
    "#                       Feat_SetIntensity2_pers],axis=1)\n",
    "\n",
    "#Feat_bin = np.concatenate([Feat_mat,Feat_Voids,Feat_loc_max,Feat_density,Feat_DTM1_pers,\\\n",
    "#                       Feat_bd,Feat_ent_Intensity2,Feat_ent_locmax_dist],axis=1)"
   ]
  },
  {
   "cell_type": "code",
   "execution_count": 218,
   "metadata": {},
   "outputs": [
    {
     "name": "stdout",
     "output_type": "stream",
     "text": [
      "Best parameters:   {'booster': 'dart', 'learning_rate': 0.04, 'n_estimators': 200}\n"
     ]
    }
   ],
   "source": [
    "scaler = MinMaxScaler()\n",
    "scaler.fit(Feat_bin)\n",
    "X_bin = scaler.transform(Feat_bin)\n",
    "\n",
    "b_sum = np.zeros((np.shape(X_bin)[0],1))\n",
    "\n",
    "for idx in range(12):\n",
    "    bin = \"bin \" + str(idx+1)\n",
    "    b_sum = b_sum + outputs[bin].values.reshape(np.shape(b_sum))\n",
    "    \n",
    "#param_grid = [{'n_neighbors':[1,2,3,4,5,8,10,12,15,16,17,18,19,20,25], 'weights':['uniform', 'distance']}]\n",
    "#RF_bin = KNeighborsRegressor()\n",
    "\n",
    "param_grid = [{'n_estimators':[30,50,70,100,150,200], 'learning_rate': [0.04, 0.06, 0.07, 0.1, 0.12, 0.14],\\\n",
    "              'booster': [\"gbtree\", \"gblinear\", \"dart\"]}]\n",
    "RF_bin = xgb.XGBRegressor()\n",
    "\n",
    "grid_search = GridSearchCV(RF_bin, param_grid, cv=4, scoring='neg_mean_squared_error', return_train_score=True)\n",
    "grid_search.fit(X_bin,b_sum)\n",
    "print(\"Best parameters:  \", grid_search.best_params_)\n",
    "bin_best = grid_search.best_estimator_"
   ]
  },
  {
   "cell_type": "code",
   "execution_count": 219,
   "metadata": {},
   "outputs": [
    {
     "data": {
      "text/plain": [
       "['C:/Chazal/ChallengeIFPEN2018/modelBins.pkl']"
      ]
     },
     "execution_count": 219,
     "metadata": {},
     "output_type": "execute_result"
    }
   ],
   "source": [
    "#To save the best model \n",
    "joblib.dump(scaler,CHALLENGE_PATH + \"scalerBins.pkl\")\n",
    "joblib.dump(bin_best, CHALLENGE_PATH + \"modelBins.pkl\")"
   ]
  },
  {
   "cell_type": "markdown",
   "metadata": {},
   "source": [
    "## ---------------------------------------------------------------------"
   ]
  },
  {
   "cell_type": "markdown",
   "metadata": {
    "collapsed": true
   },
   "source": [
    "## 6. Computing the IFPEN challenge score"
   ]
  },
  {
   "cell_type": "markdown",
   "metadata": {},
   "source": [
    "### 6.1 IFPEN functions to compute score"
   ]
  },
  {
   "cell_type": "code",
   "execution_count": 48,
   "metadata": {
    "collapsed": true
   },
   "outputs": [],
   "source": [
    "def compute_q2(y_true, y_pred):\n",
    "\n",
    "    if y_true.shape[0] != y_pred.shape[0]:\n",
    "        sys.exit(\"Error : number of elements in prediction not equal to number of elements in test\")\n",
    "    elif y_true.shape[1] != y_pred.shape[1]:\n",
    "        sys.exit(\"Error : number of features in prediction not equal to number of features in test\")\n",
    "\n",
    "    y_mean = compute_ymean(y_true)\n",
    "\n",
    "    score_data = compute_score(y_true, y_pred, 10, 0.01)\n",
    "\n",
    "    score_mean = compute_score(y_true, y_mean, 10, 0.01)\n",
    "\n",
    "    return 1 - sum(score_data)/sum(score_mean)\n",
    "\n",
    "\n",
    "def compute_ymean(y_true):\n",
    "    row_y_mean = np.mean(y_true, 0)\n",
    "    return np.tile(row_y_mean, (np.size(y_true, 0), 1))\n",
    "\n",
    "\n",
    "def compute_score(y_true, y_pred, scaling_sor, scaling_bins):\n",
    "    score_material = (y_true[:, 0] - y_pred[:, 0])**2\n",
    "\n",
    "    sor_mean_true = np.mean(y_true[:, 1])\n",
    "\n",
    "    score_sor = ((y_true[:, 1] - y_pred[:, 1])/sor_mean_true)**2\n",
    "    row_bin_mean_true = np.mean(y_true[:, 2:14], 1)\n",
    "    #print(np.shape(row_bin_mean_true))\n",
    "    row_bin_mean_pred = np.mean(y_pred[:, 2:14], 1)\n",
    "    bin_mean_true = np.mean(row_bin_mean_true)\n",
    "    score_bins = ((row_bin_mean_true-row_bin_mean_pred)/bin_mean_true)**2\n",
    "    #print(np.shape(score_bins))\n",
    "    #return score_material + scaling_sor * score_sor + scaling_bins * score_bins\n",
    "    return score_material + scaling_sor * score_sor + scaling_bins * score_bins"
   ]
  },
  {
   "cell_type": "markdown",
   "metadata": {},
   "source": [
    "### 6.2 Split data and create output on the test part "
   ]
  },
  {
   "cell_type": "code",
   "execution_count": 438,
   "metadata": {},
   "outputs": [
    {
     "name": "stdout",
     "output_type": "stream",
     "text": [
      "(400, 679)\n"
     ]
    }
   ],
   "source": [
    "#Feat = np.concatenate([Feat_mat,Feat_Voids,Feat_skel_pers,Feat_SetIntensity2_pers],axis=1)\n",
    "\n",
    "Feat = np.concatenate([Feat_mat,Feat_Voids,Feat_loc_max,Feat_density,Feat_DTM1_pers,Feat_hX_pers,Feat_hZ_pers,\\\n",
    "                       Feat_SetIntensity2_pers,Feat_bd,Feat_skel_pers],axis=1)\n",
    "\n",
    "#Feat = np.concatenate([Feat_mat,Feat_Voids,Feat_loc_max,Feat_density,Feat_DTM1_pers,Feat_hX_pers,Feat_hZ_pers,\\\n",
    "#                       Feat_SetIntensity2_pers,Feat_bd,Feat_skel_pers,Feat_ent],axis=1)\n",
    "\n",
    "#Feat = np.concatenate([Feat_mat,Feat_Voids,Feat_loc_max,Feat_density,\\\n",
    "#                       Feat_bd,Feat_skel],axis=1)\n",
    "\n",
    "#Feat = np.concatenate([Feat_mat,Feat_Voids,Feat_loc_max,Feat_density,Feat_DTM1_pers,\\\n",
    "#                       Feat_SetIntensity2_pers,Feat_locmax_dist_pers],axis=1)\n",
    "\n",
    "#Feat = np.concatenate([Feat_mat,Feat_Voids,Feat_loc_max,Feat_density],axis=1)\n",
    "\n",
    "#Feat = np.concatenate([Feat_mat,Feat_Voids,Feat_loc_max,Feat_density,Feat_DTM1_pers,\\\n",
    "#                       Feat_SetIntensity2_pers,Feat_bd,Feat_ent],axis=1)\n",
    "\n",
    "#Feat = np.concatenate([Feat_Voids,Feat_loc_max,Feat_density,Feat_DTM1_pers,\\\n",
    "#                       Feat_bd,Feat_ent_Intensity2,Feat_ent_locmax_dist],axis=1)\n",
    "\n",
    "#Feat = np.concatenate([Feat_Voids,Feat_loc_max,Feat_density,Feat_bd],axis=1)\n",
    "\n",
    "\n",
    "print(np.shape(Feat))\n",
    "\n",
    "\n",
    "Feature_train, Feature_test, y_train, y_test, mat_train, mat_test, mat_encod_train, mat_encod_test, outputs_train, outputs_test\\\n",
    "= train_test_split(Feat, outputs[\"sor\"], outputs[\"material\"], material_cat_encoded, outputs, test_size = 0.2)"
   ]
  },
  {
   "cell_type": "markdown",
   "metadata": {},
   "source": [
    "#### If variable selection"
   ]
  },
  {
   "cell_type": "code",
   "execution_count": 290,
   "metadata": {},
   "outputs": [
    {
     "name": "stdout",
     "output_type": "stream",
     "text": [
      "(320, 316)\n",
      "(320, 168)\n"
     ]
    }
   ],
   "source": [
    "sel0 = VarianceThreshold(threshold=0.005)\n",
    "Feature_train = sel0.fit_transform(Feature_train)\n",
    "mask0 = sel0.get_support()\n",
    "Feature_test = Feature_test[:,mask0]\n",
    "print(np.shape(Feature_train))\n",
    "\n",
    "scaler0 = MinMaxScaler()\n",
    "scaler0.fit(Feature_train)\n",
    "Feature_train = scaler0.transform(Feature_train)\n",
    "Feature_test = scaler0.transform(Feature_test)\n",
    "\n",
    "#Variable selection according to variance threshold\n",
    "sel = VarianceThreshold(threshold=(0.02))\n",
    "Feature_train = sel.fit_transform(Feature_train)\n",
    "\n",
    "#sel = SelectKBest(f_regression, k=232)\n",
    "#Feature_train = sel.fit_transform(Feature_train,y_train)\n",
    "\n",
    "print(np.shape(Feature_train))\n",
    "mask = sel.get_support()\n",
    "Feature_test = Feature_test[:,mask]"
   ]
  },
  {
   "cell_type": "code",
   "execution_count": 439,
   "metadata": {},
   "outputs": [
    {
     "name": "stdout",
     "output_type": "stream",
     "text": [
      "(320, 327)\n",
      "(320, 194)\n",
      "(80, 194)\n"
     ]
    },
    {
     "data": {
      "image/png": "[encoded data removed]",
      "text/plain": [
       "<matplotlib.figure.Figure at 0x23736cf8080>"
      ]
     },
     "metadata": {},
     "output_type": "display_data"
    }
   ],
   "source": [
    "sel0 = VarianceThreshold(threshold=0.001)\n",
    "Feature_train = sel0.fit_transform(Feature_train)\n",
    "mask0 = sel0.get_support()\n",
    "Feature_test = Feature_test[:,mask0]\n",
    "print(np.shape(Feature_train))\n",
    "\n",
    "scaler0 = MinMaxScaler()\n",
    "scaler0.fit(Feature_train)\n",
    "Feature_train = scaler0.transform(Feature_train)\n",
    "Feature_test = scaler0.transform(Feature_test)\n",
    "\n",
    "RFreg = xgb.XGBRegressor()\n",
    "#RFreg = RandomForestRegressor(n_estimators=100)\n",
    "RFreg.fit(Feature_train,y_train)\n",
    "plt.plot(RFreg.feature_importances_)\n",
    "#print(RFreg.feature_importances_[0:10])\n",
    "mask = RFreg.feature_importances_ > 0.0015\n",
    "Feature_train = Feature_train[:,mask]\n",
    "Feature_test = Feature_test[:,mask]\n",
    "print(np.shape(Feature_train))\n",
    "print(np.shape(Feature_test))\n"
   ]
  },
  {
   "cell_type": "code",
   "execution_count": 431,
   "metadata": {},
   "outputs": [
    {
     "name": "stdout",
     "output_type": "stream",
     "text": [
      "(320, 180)\n",
      "(320, 70)\n"
     ]
    }
   ],
   "source": [
    "sel0 = VarianceThreshold(threshold=0.005)\n",
    "Feature_train = sel0.fit_transform(Feature_train)\n",
    "mask0 = sel0.get_support()\n",
    "Feature_test = Feature_test[:,mask0]\n",
    "print(np.shape(Feature_train))\n",
    "\n",
    "scaler0 = MinMaxScaler()\n",
    "scaler0.fit(Feature_train)\n",
    "Feature_train = scaler0.transform(Feature_train)\n",
    "Feature_test = scaler0.transform(Feature_test)\n",
    "\n",
    "sel = SelectKBest(f_regression, k=70)\n",
    "Feature_train = sel.fit_transform(Feature_train, y_train)\n",
    "Feature_test = sel.transform(Feature_test)\n",
    "print(np.shape(Feature_train))"
   ]
  },
  {
   "cell_type": "markdown",
   "metadata": {},
   "source": [
    "#### Classification"
   ]
  },
  {
   "cell_type": "code",
   "execution_count": 440,
   "metadata": {},
   "outputs": [
    {
     "name": "stdout",
     "output_type": "stream",
     "text": [
      "[[36  2]\n",
      " [ 0 42]]\n"
     ]
    }
   ],
   "source": [
    "#Compute material prediction \n",
    "#Remove Feat_mat here\n",
    "X_train = Feature_train[:,1:]\n",
    "X_test = Feature_test[:,1:]\n",
    "\n",
    "RF = RandomForestClassifier(n_estimators=200)\n",
    "RF.fit(X_train,mat_encod_train)\n",
    "mat_pred = RF.predict(X_test)\n",
    "\n",
    "#print(np.mean(RF.predict(Feature_train) == label_train) )\n",
    "print(confusion_matrix(RF.predict(X_test), mat_encod_test))\n",
    "#print(np.shape(mat_pred))\n",
    "#print(mat_pred)"
   ]
  },
  {
   "cell_type": "markdown",
   "metadata": {},
   "source": [
    "#### Regression on sor"
   ]
  },
  {
   "cell_type": "code",
   "execution_count": null,
   "metadata": {},
   "outputs": [],
   "source": [
    "X_train = Feature_train\n",
    "X_test = Feature_test\n",
    "\n",
    "scaler = StandardScaler()\n",
    "#scaler = MinMaxScaler()\n",
    "scaler.fit(X_train)\n",
    "X_train_scaled = scaler.transform(X_train)\n",
    "X_test_scaled = scaler.transform(X_test)\n",
    "\n",
    "#X_train_scaled = X_train\n",
    "#X_test_scaled = X_test\n",
    "\n",
    "\n",
    "#Feature selection\n",
    "#sel = SelectKBest(f_regression, k=240)\n",
    "#X_train_scaled = sel.fit_transform(X_train_scaled,y_train)\n",
    "#sel = VarianceThreshold(threshold=(.95 * (1 - .95)))\n",
    "#X_train_scaled = sel.fit_transform(X_train_scaled)\n",
    "#mask = sel.get_support(),\n",
    "\n",
    "#param_grid = [{'n_estimators': [40, 50, 60, 80, 100, 150, 200, 250], 'learning_rate': [0.04, 0.06, 0.07, 0.1, 0.12] ,\\\n",
    "#               'max_depth': [3, 4], 'booster': [\"gbtree\", \"gblinear\", \"dart\"]}]\n",
    "param_grid = [{'n_estimators': [50, 80, 100, 150, 200], 'learning_rate': [0.04, 0.06, 0.07, 0.1] ,\\\n",
    "               'max_depth': [3], 'booster': [\"gbtree\", \"gblinear\", \"dart\"]}]\n",
    "#RF = GradientBoostingRegressor()\n",
    "RF = xgb.XGBRegressor()\n",
    "grid_search = GridSearchCV(RF, param_grid, cv=4,\n",
    "                           scoring='neg_mean_squared_error', return_train_score=True)\n",
    "\n",
    "#grid_search = GridSearchCV(RF, param_grid, cv=4,\n",
    "#                           scoring='neg_mean_absolute_error', return_train_score=True)\n",
    "\n",
    "\n",
    "\n",
    "grid_search.fit(X_train_scaled, y_train)\n",
    "\n",
    "RFsor = grid_search.best_estimator_\n",
    "\n",
    "print(\"Best parameters:  \", grid_search.best_params_)\n",
    "\n",
    "y_sor = grid_search.best_estimator_.predict(X_test_scaled)"
   ]
  },
  {
   "cell_type": "markdown",
   "metadata": {},
   "source": [
    "#### Linear regression on sor"
   ]
  },
  {
   "cell_type": "code",
   "execution_count": 331,
   "metadata": {
    "collapsed": true
   },
   "outputs": [
    {
     "name": "stdout",
     "output_type": "stream",
     "text": [
      "Train:\n",
      "0.8562717551031387\n",
      "0.03962064971381553\n",
      "Test:\n",
      "0.786430759921609\n",
      "0.05135351032682807\n"
     ]
    },
    {
     "data": {
      "image/png": "[encoded data removed]",
      "text/plain": [
       "<matplotlib.figure.Figure at 0x237326b1f98>"
      ]
     },
     "metadata": {},
     "output_type": "display_data"
    }
   ],
   "source": [
    "X_train = Feature_train\n",
    "X_test = Feature_test\n",
    "\n",
    "scaler = StandardScaler()\n",
    "#scaler = MinMaxScaler()\n",
    "scaler.fit(X_train)\n",
    "X_train_scaled = scaler.transform(X_train)\n",
    "X_test_scaled = scaler.transform(X_test)\n",
    "\n",
    "clf = LinearRegression()\n",
    "clf.fit(X_train_scaled, y_train)\n",
    "y_pred = clf.predict(X_test_scaled)\n",
    "\n",
    "print('Train:')\n",
    "print(met.r2_score(y_train, clf.predict(X_train_scaled)))\n",
    "print(np.sqrt(met.mean_squared_error(y_train, clf.predict(X_train_scaled))))\n",
    "print('Test:')\n",
    "print(met.r2_score(y_test, y_pred))\n",
    "print(np.sqrt(met.mean_squared_error(y_test, y_pred)))\n",
    "\n",
    "plt.scatter(y_train,clf.predict(X_train_scaled)-y_train)\n",
    "plt.scatter(y_test,clf.predict(X_test_scaled)-y_test)\n",
    "\n",
    "y_sor = y_pred"
   ]
  },
  {
   "cell_type": "code",
   "execution_count": 434,
   "metadata": {
    "scrolled": true
   },
   "outputs": [
    {
     "name": "stdout",
     "output_type": "stream",
     "text": [
      "Test:  0.004104267333984252  - Train:  0.0026192099101794092    {'booster': 'gbtree', 'learning_rate': 0.04, 'max_depth': 3, 'n_estimators': 50}\n",
      "Test:  0.0027717041423804163  - Train:  0.0008461937849017543    {'booster': 'gbtree', 'learning_rate': 0.04, 'max_depth': 3, 'n_estimators': 80}\n",
      "Test:  0.0026816480734678082  - Train:  0.0005576560058767762    {'booster': 'gbtree', 'learning_rate': 0.04, 'max_depth': 3, 'n_estimators': 100}\n",
      "Test:  0.002678807575108904  - Train:  0.00030364873532155457    {'booster': 'gbtree', 'learning_rate': 0.04, 'max_depth': 3, 'n_estimators': 150}\n",
      "Test:  0.002723432318103436  - Train:  0.0001853350698513944    {'booster': 'gbtree', 'learning_rate': 0.04, 'max_depth': 3, 'n_estimators': 200}\n",
      "Test:  0.002843208189775283  - Train:  0.00095877465694341    {'booster': 'gbtree', 'learning_rate': 0.06, 'max_depth': 3, 'n_estimators': 50}\n",
      "Test:  0.002683277764867446  - Train:  0.000424185481683709    {'booster': 'gbtree', 'learning_rate': 0.06, 'max_depth': 3, 'n_estimators': 80}\n",
      "Test:  0.0027050161662004668  - Train:  0.00029872510015892137    {'booster': 'gbtree', 'learning_rate': 0.06, 'max_depth': 3, 'n_estimators': 100}\n",
      "Test:  0.0027494767598706953  - Train:  0.0001459718928731328    {'booster': 'gbtree', 'learning_rate': 0.06, 'max_depth': 3, 'n_estimators': 150}\n",
      "Test:  0.0027844499029238017  - Train:  6.982979626212234e-05    {'booster': 'gbtree', 'learning_rate': 0.06, 'max_depth': 3, 'n_estimators': 200}\n",
      "Test:  0.002770047395854105  - Train:  0.0007016814398351454    {'booster': 'gbtree', 'learning_rate': 0.07, 'max_depth': 3, 'n_estimators': 50}\n",
      "Test:  0.0027169119194598843  - Train:  0.00033211255467674027    {'booster': 'gbtree', 'learning_rate': 0.07, 'max_depth': 3, 'n_estimators': 80}\n",
      "Test:  0.0027452244089671922  - Train:  0.00023458559803413485    {'booster': 'gbtree', 'learning_rate': 0.07, 'max_depth': 3, 'n_estimators': 100}\n",
      "Test:  0.002790945689376114  - Train:  0.00010219574209729845    {'booster': 'gbtree', 'learning_rate': 0.07, 'max_depth': 3, 'n_estimators': 150}\n",
      "Test:  0.002808311354651636  - Train:  4.719948264489703e-05    {'booster': 'gbtree', 'learning_rate': 0.07, 'max_depth': 3, 'n_estimators': 200}\n",
      "Test:  0.0027917065025431604  - Train:  0.00038622763823886725    {'booster': 'gbtree', 'learning_rate': 0.1, 'max_depth': 3, 'n_estimators': 50}\n",
      "Test:  0.0028761332536931202  - Train:  0.00017184974338411936    {'booster': 'gbtree', 'learning_rate': 0.1, 'max_depth': 3, 'n_estimators': 80}\n",
      "Test:  0.002895347536138778  - Train:  0.00010195712236311442    {'booster': 'gbtree', 'learning_rate': 0.1, 'max_depth': 3, 'n_estimators': 100}\n",
      "Test:  0.0029465953870895832  - Train:  3.149702816740123e-05    {'booster': 'gbtree', 'learning_rate': 0.1, 'max_depth': 3, 'n_estimators': 150}\n",
      "Test:  0.0029687407163760207  - Train:  1.0624809486228066e-05    {'booster': 'gbtree', 'learning_rate': 0.1, 'max_depth': 3, 'n_estimators': 200}\n",
      "Test:  0.004247713476258628  - Train:  0.0035762709532733443    {'booster': 'gblinear', 'learning_rate': 0.04, 'max_depth': 3, 'n_estimators': 50}\n",
      "Test:  0.0028653825889903917  - Train:  0.0024559107309571745    {'booster': 'gblinear', 'learning_rate': 0.04, 'max_depth': 3, 'n_estimators': 80}\n",
      "Test:  0.002734058545671526  - Train:  0.0023554074728010872    {'booster': 'gblinear', 'learning_rate': 0.04, 'max_depth': 3, 'n_estimators': 100}\n",
      "Test:  0.0026919734764685116  - Train:  0.002321257158643289    {'booster': 'gblinear', 'learning_rate': 0.04, 'max_depth': 3, 'n_estimators': 150}\n",
      "Test:  0.002689422786636854  - Train:  0.002318347720772115    {'booster': 'gblinear', 'learning_rate': 0.04, 'max_depth': 3, 'n_estimators': 200}\n",
      "Test:  0.002925278412954322  - Train:  0.002502878651277774    {'booster': 'gblinear', 'learning_rate': 0.06, 'max_depth': 3, 'n_estimators': 50}\n",
      "Test:  0.0027009736759487464  - Train:  0.0023294526126912325    {'booster': 'gblinear', 'learning_rate': 0.06, 'max_depth': 3, 'n_estimators': 80}\n",
      "Test:  0.0026916840751971772  - Train:  0.002320987863351699    {'booster': 'gblinear', 'learning_rate': 0.06, 'max_depth': 3, 'n_estimators': 100}\n",
      "Test:  0.0026890279041135827  - Train:  0.0023179019212075398    {'booster': 'gblinear', 'learning_rate': 0.06, 'max_depth': 3, 'n_estimators': 150}\n",
      "Test:  0.002688685708817792  - Train:  0.0023175605275519884    {'booster': 'gblinear', 'learning_rate': 0.06, 'max_depth': 3, 'n_estimators': 200}\n",
      "Test:  0.0027827958136039774  - Train:  0.00239311059001077    {'booster': 'gblinear', 'learning_rate': 0.07, 'max_depth': 3, 'n_estimators': 50}\n",
      "Test:  0.0026929859986883032  - Train:  0.002322347005573954    {'booster': 'gblinear', 'learning_rate': 0.07, 'max_depth': 3, 'n_estimators': 80}\n",
      "Test:  0.002689943571390693  - Train:  0.0023190062045377866    {'booster': 'gblinear', 'learning_rate': 0.07, 'max_depth': 3, 'n_estimators': 100}\n",
      "Test:  0.0026887786680166947  - Train:  0.002317646267871795    {'booster': 'gblinear', 'learning_rate': 0.07, 'max_depth': 3, 'n_estimators': 150}\n",
      "Test:  0.0026886328435898506  - Train:  0.0023175144363415095    {'booster': 'gblinear', 'learning_rate': 0.07, 'max_depth': 3, 'n_estimators': 200}\n",
      "Test:  0.0026963709540171093  - Train:  0.002325605795185883    {'booster': 'gblinear', 'learning_rate': 0.1, 'max_depth': 3, 'n_estimators': 50}\n",
      "Test:  0.002689215621127095  - Train:  0.002318136103712143    {'booster': 'gblinear', 'learning_rate': 0.1, 'max_depth': 3, 'n_estimators': 80}\n",
      "Test:  0.002688795768978621  - Train:  0.00231766485048452    {'booster': 'gblinear', 'learning_rate': 0.1, 'max_depth': 3, 'n_estimators': 100}\n",
      "Test:  0.002688620047613015  - Train:  0.0023175039322587757    {'booster': 'gblinear', 'learning_rate': 0.1, 'max_depth': 3, 'n_estimators': 150}\n",
      "Test:  0.0026886114954847353  - Train:  0.002317496484910555    {'booster': 'gblinear', 'learning_rate': 0.1, 'max_depth': 3, 'n_estimators': 200}\n",
      "Test:  0.004104268142756935  - Train:  0.002619210426962777    {'booster': 'dart', 'learning_rate': 0.04, 'max_depth': 3, 'n_estimators': 50}\n",
      "Test:  0.002771704611318062  - Train:  0.00084619405683791    {'booster': 'dart', 'learning_rate': 0.04, 'max_depth': 3, 'n_estimators': 80}\n",
      "Test:  0.002681648215524145  - Train:  0.0005576561268251546    {'booster': 'dart', 'learning_rate': 0.04, 'max_depth': 3, 'n_estimators': 100}\n",
      "Test:  0.00267880726314431  - Train:  0.0003036488226080099    {'booster': 'dart', 'learning_rate': 0.04, 'max_depth': 3, 'n_estimators': 150}\n",
      "Test:  0.0027234318547410172  - Train:  0.0001853351078577105    {'booster': 'dart', 'learning_rate': 0.04, 'max_depth': 3, 'n_estimators': 200}\n",
      "Test:  0.002843207508701277  - Train:  0.0009587744773657886    {'booster': 'dart', 'learning_rate': 0.06, 'max_depth': 3, 'n_estimators': 50}\n",
      "Test:  0.002683277134431952  - Train:  0.0004241854905757247    {'booster': 'dart', 'learning_rate': 0.06, 'max_depth': 3, 'n_estimators': 80}\n",
      "Test:  0.0027050152269937804  - Train:  0.00029872513067191113    {'booster': 'dart', 'learning_rate': 0.06, 'max_depth': 3, 'n_estimators': 100}\n",
      "Test:  0.0027494765137141292  - Train:  0.00014597189697501193    {'booster': 'dart', 'learning_rate': 0.06, 'max_depth': 3, 'n_estimators': 150}\n",
      "Test:  0.002784450117503353  - Train:  6.982976973547566e-05    {'booster': 'dart', 'learning_rate': 0.06, 'max_depth': 3, 'n_estimators': 200}\n",
      "Test:  0.0027700472394471508  - Train:  0.0007016814048901356    {'booster': 'dart', 'learning_rate': 0.07, 'max_depth': 3, 'n_estimators': 50}\n",
      "Test:  0.0027169118637564334  - Train:  0.00033211253790053615    {'booster': 'dart', 'learning_rate': 0.07, 'max_depth': 3, 'n_estimators': 80}\n",
      "Test:  0.002745224454396511  - Train:  0.00023458550977893    {'booster': 'dart', 'learning_rate': 0.07, 'max_depth': 3, 'n_estimators': 100}\n",
      "Test:  0.0027909461557449693  - Train:  0.00010219570664699117    {'booster': 'dart', 'learning_rate': 0.07, 'max_depth': 3, 'n_estimators': 150}\n",
      "Test:  0.0028083120049121474  - Train:  4.7199481020714545e-05    {'booster': 'dart', 'learning_rate': 0.07, 'max_depth': 3, 'n_estimators': 200}\n",
      "Test:  0.002791706422161663  - Train:  0.00038622764202709214    {'booster': 'dart', 'learning_rate': 0.1, 'max_depth': 3, 'n_estimators': 50}\n",
      "Test:  0.0028761328399186928  - Train:  0.00017184974352392533    {'booster': 'dart', 'learning_rate': 0.1, 'max_depth': 3, 'n_estimators': 80}\n",
      "Test:  0.002895346687541658  - Train:  0.00010195712646770684    {'booster': 'dart', 'learning_rate': 0.1, 'max_depth': 3, 'n_estimators': 100}\n",
      "Test:  0.0029465947647561155  - Train:  3.149695882628938e-05    {'booster': 'dart', 'learning_rate': 0.1, 'max_depth': 3, 'n_estimators': 150}\n",
      "Test:  0.002968739389774179  - Train:  1.0624785918689098e-05    {'booster': 'dart', 'learning_rate': 0.1, 'max_depth': 3, 'n_estimators': 200}\n"
     ]
    },
    {
     "data": {
      "text/plain": [
       "<matplotlib.collections.PathCollection at 0x23736be3a58>"
      ]
     },
     "execution_count": 434,
     "metadata": {},
     "output_type": "execute_result"
    },
    {
     "data": {
      "image/png": "[encoded data removed]",
      "text/plain": [
       "<matplotlib.figure.Figure at 0x23736ddad30>"
      ]
     },
     "metadata": {},
     "output_type": "display_data"
    }
   ],
   "source": [
    "cvres = grid_search.cv_results_\n",
    "for sc1, sc2, sc3 in zip(cvres[\"mean_test_score\"], cvres[\"mean_train_score\"], cvres[\"params\"]):\n",
    "    print(\"Test: \", -sc1, \" - Train: \", -sc2, \"  \", sc3)\n",
    "    \n",
    "RFbest = grid_search.best_estimator_\n",
    "plt.scatter(y_train,RFbest.predict(X_train_scaled)-y_train)\n",
    "plt.scatter(y_test,RFbest.predict(X_test_scaled)-y_test)"
   ]
  },
  {
   "cell_type": "markdown",
   "metadata": {},
   "source": [
    "#### Regression on the sum of bins"
   ]
  },
  {
   "cell_type": "code",
   "execution_count": 435,
   "metadata": {},
   "outputs": [
    {
     "name": "stdout",
     "output_type": "stream",
     "text": [
      "Best parameters:   {'n_neighbors': 12, 'weights': 'distance'}\n",
      "Test:  0.5964834920429674   Train:  1.0\n"
     ]
    }
   ],
   "source": [
    "scaler = MinMaxScaler()\n",
    "scaler.fit(Feature_train)\n",
    "X_train_bin = scaler.transform(Feature_train)\n",
    "X_test_bin = scaler.transform(Feature_test)\n",
    "\n",
    "bin_pred = np.zeros((np.shape(X_test_bin)[0],12))\n",
    "b_sum_train = np.zeros((np.shape(X_train_bin)[0],1))\n",
    "b_sum_test = np.zeros((np.shape(X_test_bin)[0],1))\n",
    "for idx in range(12):\n",
    "    bin = \"bin \" + str(idx+1)\n",
    "    b_sum_train = b_sum_train + outputs_train[bin].values.reshape(np.shape(b_sum_train))\n",
    "    b_sum_test = b_sum_test + outputs_test[bin].values.reshape(np.shape(b_sum_test))\n",
    "    \n",
    "param_grid = [{'n_neighbors':[1,2,3,4,5,8,10,12,15,16,17,18,19,20,25], 'weights':['uniform', 'distance']}]\n",
    "RF_bin = KNeighborsRegressor()\n",
    "\n",
    "#param_grid = [{'n_estimators':[30,50,70,100,150,200], 'learning_rate': [0.04, 0.06, 0.07, 0.1, 0.12, 0.14]}]\n",
    "#RF_bin = xgb.XGBRegressor()\n",
    "\n",
    "grid_search = GridSearchCV(RF_bin, param_grid, cv=4, scoring='neg_mean_squared_error', return_train_score=True)\n",
    "grid_search.fit(X_train_bin,b_sum_train)\n",
    "print(\"Best parameters:  \", grid_search.best_params_)\n",
    "RF_bin_best = grid_search.best_estimator_\n",
    "\n",
    "print(\"Test: \", RF_bin_best.score(X_test_bin,b_sum_test), \"  Train: \",  RF_bin_best.score(X_train_bin,b_sum_train))\n",
    "\n",
    "pred = np.ravel(RF_bin_best.predict(X_test_bin))\n",
    "for idx in range(12):\n",
    "    bin_pred[:,idx] = pred /12"
   ]
  },
  {
   "cell_type": "code",
   "execution_count": 436,
   "metadata": {
    "collapsed": true
   },
   "outputs": [],
   "source": [
    "bin_pred = np.zeros((np.shape(X_test_bin)[0],12))"
   ]
  },
  {
   "cell_type": "markdown",
   "metadata": {},
   "source": [
    "#### Evaluation of the score on the test set"
   ]
  },
  {
   "cell_type": "code",
   "execution_count": 437,
   "metadata": {},
   "outputs": [
    {
     "name": "stdout",
     "output_type": "stream",
     "text": [
      "0.774178916055362\n"
     ]
    }
   ],
   "source": [
    "#Compute prediction output for score (bin pred are set to 0)\n",
    "y_all_true = np.ones((np.shape(Feature_test)[0],14))\n",
    "y_all_pred = np.ones((np.shape(Feature_test)[0],14))\n",
    "\n",
    "\n",
    "y_all_true[:,0] = mat_encod_test\n",
    "y_all_true[:,1] = y_test\n",
    "\n",
    "for idx in range(12):\n",
    "    bin = \"bin \" + str(idx+1)\n",
    "    y_all_true[:,idx+2] = outputs_test[bin]\n",
    "\n",
    "y_all_pred[:,0] = mat_pred\n",
    "y_all_pred[:,1] = y_sor\n",
    "#y_all_pred[:,1] = y_test\n",
    "\n",
    "y_all_pred[:,2:14] = bin_pred\n",
    "#For the moment, the pred value for the bins is the averaged one on the whole input data.\n",
    "#for idx in range(12):      \n",
    "    #bin = \"bin \" + str(idx+1)    \n",
    "    #y_all_pred[:,idx+2] = np.tile(np.mean(outputs[bin]),np.shape(y_all_pred)[0])\n",
    "    #y_all_pred[:,idx+2] = np.tile(0,np.shape(y_all_pred)[0])\n",
    "\n",
    "\n",
    "scr = compute_q2(y_all_true,y_all_pred)\n",
    "print(scr)"
   ]
  },
  {
   "cell_type": "code",
   "execution_count": null,
   "metadata": {
    "collapsed": true
   },
   "outputs": [],
   "source": []
  },
  {
   "cell_type": "code",
   "execution_count": null,
   "metadata": {
    "collapsed": true
   },
   "outputs": [],
   "source": []
  }
 ],
 "metadata": {
  "kernelspec": {
   "display_name": "Python 3",
   "language": "python",
   "name": "python3"
  },
  "language_info": {
   "codemirror_mode": {
    "name": "ipython",
    "version": 3
   },
   "file_extension": ".py",
   "mimetype": "text/x-python",
   "name": "python",
   "nbconvert_exporter": "python",
   "pygments_lexer": "ipython3",
   "version": "3.6.3"
  },
  "varInspector": {
   "cols": {
    "lenName": 16,
    "lenType": 16,
    "lenVar": 40
   },
   "kernels_config": {
    "python": {
     "delete_cmd_postfix": "",
     "delete_cmd_prefix": "del ",
     "library": "var_list.py",
     "varRefreshCmd": "print(var_dic_list())"
    },
    "r": {
     "delete_cmd_postfix": ") ",
     "delete_cmd_prefix": "rm(",
     "library": "var_list.r",
     "varRefreshCmd": "cat(var_dic_list()) "
    }
   },
   "types_to_exclude": [
    "module",
    "function",
    "builtin_function_or_method",
    "instance",
    "_Feature"
   ],
   "window_display": false
  }
 },
 "nbformat": 4,
 "nbformat_minor": 2
}
