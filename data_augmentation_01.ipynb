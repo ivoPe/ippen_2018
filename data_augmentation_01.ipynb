{
 "cells": [
  {
   "cell_type": "markdown",
   "metadata": {},
   "source": [
    "## Check data augmentation"
   ]
  },
  {
   "cell_type": "code",
   "execution_count": 1,
   "metadata": {
    "collapsed": true
   },
   "outputs": [],
   "source": [
    "import os\n",
    "import sys\n",
    "import numpy as np\n",
    "from skimage.measure import label, regionprops\n",
    "from skimage.morphology import remove_small_objects, erosion\n",
    "import matplotlib.pyplot as plt\n",
    "%matplotlib inline\n",
    "\n",
    "CHALLENGE_PATH = '../challenge_data/'\n",
    "TRAIN_PATH = os.path.join(CHALLENGE_PATH, 'challenge_fichier_dentrees_dentrainement_prediction_de_la_saturation_dhuile_residuelle/Data/')\n",
    "TEST_PATH = os.path.join(CHALLENGE_PATH, 'challenge_fichiers_dentrees_de_test_prediction_de_la_saturation_dhuile_residuelle/')\n",
    "TOOLS_PATH = os.path.join(CHALLENGE_PATH, 'challenge_fichier_dentrees_dentrainement_prediction_de_la_saturation_dhuile_residuelle/Tools/')\n",
    "DEFAULT_SIZE = [175,152,152]\n",
    "sys.path.append(TOOLS_PATH)\n",
    "from Image3D import Image3D\n",
    "from ImageIO import ImageIO\n",
    "from sklearn.decomposition import PCA\n",
    "from sklearn.linear_model import LinearRegression, LogisticRegression\n",
    "from sklearn.model_selection import train_test_split\n",
    "import sklearn.metrics as met\n",
    "import pandas as pd\n",
    "from sklearn.preprocessing import StandardScaler\n",
    "from xgboost import XGBRegressor\n",
    "from progressbar import ProgressBar\n",
    "\n",
    "def load_outputs(output_path=CHALLENGE_PATH):\n",
    "    csv_path = os.path.join(output_path,\"challenge_fichier_de_sortie_dentrainement_prediction_de_la_saturation_dhuile_residuelle.csv\")\n",
    "    return pd.read_csv(csv_path,sep=';')\n",
    "\n",
    "input_ims = [os.path.join(TRAIN_PATH, pa) for pa in os.listdir(TRAIN_PATH) if 'input' in pa]\n",
    "outputs_ims = [os.path.join(TRAIN_PATH, pa) for pa in os.listdir(TRAIN_PATH) if 'output' in pa]\n",
    "# Targets\n",
    "outputs = load_outputs()\n",
    "# Sort by sor values\n",
    "input_idx = np.array([int(pa.split('/')[-1].split('_')[-1].split('.')[0]) for pa in input_ims])\n",
    "output_idx = np.array([int(pa.split('/')[-1].split('_')[-1].split('.')[0]) for pa in outputs_ims])\n",
    "# Sort the values\n",
    "input_ims = np.array(input_ims)[np.argsort(input_idx)]\n",
    "outputs_ims = np.array(outputs_ims)[np.argsort(output_idx)]"
   ]
  },
  {
   "cell_type": "markdown",
   "metadata": {},
   "source": [
    "## Get the SOR formula"
   ]
  },
  {
   "cell_type": "code",
   "execution_count": 2,
   "metadata": {
    "collapsed": true
   },
   "outputs": [],
   "source": [
    "from sor_formula import compute_sor"
   ]
  },
  {
   "cell_type": "markdown",
   "metadata": {},
   "source": [
    "### Create new samples of size 30 x 152 x 152 and use compute_sor\n",
    "If from the compute_sor features of the sub-blocks we can get the whole SOR easily it's win"
   ]
  },
  {
   "cell_type": "code",
   "execution_count": 3,
   "metadata": {
    "collapsed": true
   },
   "outputs": [],
   "source": [
    "compute_sor_features = []\n",
    "\n",
    "volumes_starts = [0, 20, 40, 60, 80, 100, 120, 140]\n",
    "volume = 30\n",
    "\n",
    "for idi, outpa in enumerate(outputs_ims):\n",
    "    # Load Binary image and output image\n",
    "    outim = ImageIO(outpa).read(DEFAULT_SIZE[0], DEFAULT_SIZE[1], DEFAULT_SIZE[2])\n",
    "    out_image = outim.get_whole_array()\n",
    "    sample_sor_feats = []\n",
    "    # Create the smaller volumes\n",
    "    for multite in volumes_starts:\n",
    "        small_outimage = out_image[multite:multite + volume]\n",
    "        sample_sor_feats.append(np.mean(1. * (small_outimage[small_outimage > 1] == 4)))\n",
    "    compute_sor_features.append(sample_sor_feats)\n",
    "\n",
    "compute_sor_features = np.array(compute_sor_features)\n",
    "# Get the real outputs\n",
    "y_classi = 1 * (outputs.material.values == 'Clash')\n",
    "y_sor = outputs.sor.values"
   ]
  },
  {
   "cell_type": "markdown",
   "metadata": {},
   "source": [
    "## Try to predict sor"
   ]
  },
  {
   "cell_type": "code",
   "execution_count": 5,
   "metadata": {},
   "outputs": [
    {
     "name": "stdout",
     "output_type": "stream",
     "text": [
      "R2 train: 0.9975508394384673\n",
      "MSE train: 2.7841330775505493e-05\n",
      "R2 test: 0.9983462807116726\n",
      "MSE test: 1.7205005074705476e-05\n"
     ]
    }
   ],
   "source": [
    "# Add the y_classi to the features \n",
    "X = np.concatenate([compute_sor_features, y_classi.reshape(-1,1)], axis=1)\n",
    "train, test, y_sor_train, y_sor_test = train_test_split(X, y_sor, test_size=0.3)\n",
    "\n",
    "clf = LinearRegression()\n",
    "clf.fit(train, y_sor_train)\n",
    "\n",
    "print('R2 train:', met.r2_score(y_sor_train, clf.predict(train)))\n",
    "print('MSE train:', met.mean_squared_error(y_sor_train, clf.predict(train)))\n",
    "print('R2 test:', met.r2_score(y_sor_test, clf.predict(test)))\n",
    "print('MSE test:', met.mean_squared_error(y_sor_test, clf.predict(test)))"
   ]
  },
  {
   "cell_type": "code",
   "execution_count": 8,
   "metadata": {},
   "outputs": [
    {
     "data": {
      "text/plain": [
       "[<matplotlib.lines.Line2D at 0x7f4045d994e0>]"
      ]
     },
     "execution_count": 8,
     "metadata": {},
     "output_type": "execute_result"
    },
    {
     "data": {
      "image/png": "[encoded data removed]",
      "text/plain": [
       "<matplotlib.figure.Figure at 0x7f4045ca37f0>"
      ]
     },
     "metadata": {},
     "output_type": "display_data"
    }
   ],
   "source": [
    "plt.figure()\n",
    "plt.plot(y_sor_train, clf.predict(train), 'bo')\n",
    "plt.plot(y_sor_test, clf.predict(test), 'ro')"
   ]
  },
  {
   "cell_type": "code",
   "execution_count": null,
   "metadata": {
    "collapsed": true
   },
   "outputs": [],
   "source": []
  }
 ],
 "metadata": {
  "kernelspec": {
   "display_name": "Python 3",
   "language": "python",
   "name": "python3"
  },
  "language_info": {
   "codemirror_mode": {
    "name": "ipython",
    "version": 3
   },
   "file_extension": ".py",
   "mimetype": "text/x-python",
   "name": "python",
   "nbconvert_exporter": "python",
   "pygments_lexer": "ipython3",
   "version": "3.6.3"
  }
 },
 "nbformat": 4,
 "nbformat_minor": 2
}
