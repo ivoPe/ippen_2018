{
 "cells": [
  {
   "cell_type": "markdown",
   "metadata": {},
   "source": [
    "# Compute and save features for IFPEN data (test and train set)"
   ]
  },
  {
   "cell_type": "code",
   "execution_count": 304,
   "metadata": {
    "collapsed": true
   },
   "outputs": [],
   "source": [
    "#Chose Train or test set\n",
    "TrainTest = \"Test\" # \"Train\" or \"Test\""
   ]
  },
  {
   "cell_type": "code",
   "execution_count": 305,
   "metadata": {
    "collapsed": true
   },
   "outputs": [],
   "source": [
    "import os\n",
    "import numpy as np\n",
    "import pandas as pd\n",
    "import matplotlib.pyplot as plt\n",
    "import gudhi as gd\n",
    "import pickle\n",
    "import xgboost as xgb\n",
    "\n",
    "from sklearn.preprocessing import LabelEncoder\n",
    "\n",
    "%matplotlib inline\n",
    "\n",
    "#Paths \n",
    "CHALLENGE_PATH = \"C:/Chazal/ChallengeIFPEN2018/\"\n",
    "\n",
    "if TrainTest == \"Train\":\n",
    "    DATA_PATH = \"C:/Chazal/ChallengeIFPEN2018/challenge_fichier_dentrees_dentrainement_prediction_de_la_saturation_dhuile_residuelle/Data/\"\n",
    "else:\n",
    "    DATA_PATH = \"C:/Chazal/ChallengeIFPEN2018/challenge_fichiers_dentrees_de_test_prediction_de_la_saturation_dhuile_residuelle/\"\n",
    "\n",
    "TOOLS_PATH = \"C:/Chazal/ChallengeIFPEN2018/challenge_fichier_dentrees_dentrainement_prediction_de_la_saturation_dhuile_residuelle/Tools/\"\n",
    "\n",
    "#Some constants\n",
    "DEFAULT_SIZE = [175,152,152]\n",
    "\n",
    "if TrainTest == \"Train\":\n",
    "    NB_INPUT_IMG = 400\n",
    "    StartIdx = 0\n",
    "else:\n",
    "    NB_INPUT_IMG = 112\n",
    "    StartIdx = 400\n",
    "\n",
    "#Home made tools for persistence features\n",
    "os.chdir(\"C:/Seafile/Ma bibliothèque/Chazal2/MyPython36\") \n",
    "from DTM import *\n",
    "#from persistent_surface import *\n",
    "from PdiagFeatures import *\n",
    "\n",
    "#Classes provided with the data \n",
    "os.chdir(TOOLS_PATH)\n",
    "from Image3D import Image3D\n",
    "from ImageIO import ImageIO"
   ]
  },
  {
   "cell_type": "code",
   "execution_count": 306,
   "metadata": {
    "collapsed": true
   },
   "outputs": [],
   "source": [
    "from sklearn.ensemble import RandomForestClassifier, GradientBoostingClassifier\n",
    "from sklearn.ensemble import RandomForestRegressor, GradientBoostingRegressor\n",
    "from sklearn.model_selection import train_test_split\n",
    "from sklearn.metrics import confusion_matrix    \n",
    "from sklearn.linear_model import SGDClassifier\n",
    "from sklearn.linear_model import ElasticNet\n",
    "from sklearn.pipeline import Pipeline\n",
    "from sklearn.preprocessing import StandardScaler\n",
    "from sklearn.preprocessing import MinMaxScaler\n",
    "from sklearn.pipeline import FeatureUnion\n",
    "from sklearn.model_selection import cross_val_score\n",
    "from sklearn.metrics import mean_squared_error\n",
    "from sklearn.metrics import mean_absolute_error\n",
    "from sklearn.model_selection import GridSearchCV\n",
    "from sklearn.externals import joblib\n",
    "from sklearn.decomposition import PCA\n",
    "from sklearn.neighbors import KNeighborsRegressor"
   ]
  },
  {
   "cell_type": "markdown",
   "metadata": {},
   "source": [
    "### Functions to load the data and the output files"
   ]
  },
  {
   "cell_type": "code",
   "execution_count": 307,
   "metadata": {
    "collapsed": true
   },
   "outputs": [],
   "source": [
    "def load_outputs(output_path=CHALLENGE_PATH):\n",
    "    csv_path = os.path.join(output_path,\"challenge_fichier_de_sortie_dentrainement_prediction_de_la_saturation_dhuile_residuelle.csv\")\n",
    "    return pd.read_csv(csv_path,sep=';')\n",
    "\n",
    "DEFAULT_SIZE = [175,152,152]\n",
    "\n",
    "def load_data(data_path=DATA_PATH, nb_files=400, size=DEFAULT_SIZE):\n",
    "    list_img3D = []\n",
    "    for nb in range(StartIdx,StartIdx+NB_INPUT_IMG):\n",
    "        file_name = data_path + \"input_\" + str(nb) + \".raw\"\n",
    "        io = ImageIO(file_name)\n",
    "        img = io.read(size[0], size[1], size[2])\n",
    "        list_img3D.append(img)\n",
    "    return list_img3D\n",
    "\n",
    "def load_output_data(data_path=DATA_PATH, nb_files=400, size=DEFAULT_SIZE):\n",
    "    list_out_img3D = []\n",
    "    for nb in range(StartIdx,StartIdx+NB_INPUT_IMG):\n",
    "        file_name = data_path + \"output_\" + str(nb) + \".raw\"\n",
    "        io = ImageIO(file_name)\n",
    "        img = io.read(size[0], size[1], size[2])\n",
    "        list_out_img3D.append(img)\n",
    "    return list_out_img3D"
   ]
  },
  {
   "cell_type": "markdown",
   "metadata": {},
   "source": [
    "### Functions to extract images from the input data"
   ]
  },
  {
   "cell_type": "markdown",
   "metadata": {},
   "source": [
    "#### Function to compute DTM from an image"
   ]
  },
  {
   "cell_type": "code",
   "execution_count": 112,
   "metadata": {
    "collapsed": true
   },
   "outputs": [],
   "source": [
    "#This function compute the DTM to the voxels with value different from void_id \n",
    "\n",
    "def img_DTM(img,kNN,void_id=1):\n",
    "    buf = img.get_whole_array()\n",
    "    pt_cloud = []\n",
    "    query_pts = []\n",
    "    for k in range(DEFAULT_SIZE[2]):\n",
    "        for j in range(DEFAULT_SIZE[1]):\n",
    "            for i in range(DEFAULT_SIZE[0]):\n",
    "                query_pts.append([i,j,k])\n",
    "                if buf[i,j,k] != void_id:\n",
    "                    pt_cloud.append([i,j,k])\n",
    "    pt_cloud = np.array(pt_cloud)\n",
    "    list_DTM = DTM(pt_cloud,query_pts,kNN)\n",
    "    buff = np.zeros((DEFAULT_SIZE[0],DEFAULT_SIZE[1],DEFAULT_SIZE[2]))\n",
    "    it=0\n",
    "    for k in range(DEFAULT_SIZE[2]):\n",
    "        for j in range(DEFAULT_SIZE[1]):\n",
    "            for i in range(DEFAULT_SIZE[0]):\n",
    "                buff[i,j,k]=list_DTM[it]\n",
    "                it +=1\n",
    "    DTM_img = Image3D(buff)\n",
    "    return DTM_img"
   ]
  },
  {
   "cell_type": "markdown",
   "metadata": {},
   "source": [
    "#### Compute DTM images (slow!)"
   ]
  },
  {
   "cell_type": "code",
   "execution_count": 16,
   "metadata": {},
   "outputs": [
    {
     "name": "stdout",
     "output_type": "stream",
     "text": [
      "Image saved:  400\n",
      "Image saved:  401\n",
      "Image saved:  402\n",
      "Image saved:  403\n",
      "Image saved:  404\n",
      "Image saved:  405\n",
      "Image saved:  406\n",
      "Image saved:  407\n",
      "Image saved:  408\n",
      "Image saved:  409\n",
      "Image saved:  410\n",
      "Image saved:  411\n",
      "Image saved:  412\n",
      "Image saved:  413\n",
      "Image saved:  414\n",
      "Image saved:  415\n",
      "Image saved:  416\n",
      "Image saved:  417\n",
      "Image saved:  418\n",
      "Image saved:  419\n",
      "Image saved:  420\n",
      "Image saved:  421\n",
      "Image saved:  422\n",
      "Image saved:  423\n",
      "Image saved:  424\n",
      "Image saved:  425\n",
      "Image saved:  426\n",
      "Image saved:  427\n",
      "Image saved:  428\n",
      "Image saved:  429\n",
      "Image saved:  430\n",
      "Image saved:  431\n",
      "Image saved:  432\n",
      "Image saved:  433\n",
      "Image saved:  434\n",
      "Image saved:  435\n",
      "Image saved:  436\n",
      "Image saved:  437\n",
      "Image saved:  438\n",
      "Image saved:  439\n",
      "Image saved:  440\n",
      "Image saved:  441\n",
      "Image saved:  442\n",
      "Image saved:  443\n",
      "Image saved:  444\n",
      "Image saved:  445\n",
      "Image saved:  446\n",
      "Image saved:  447\n",
      "Image saved:  448\n",
      "Image saved:  449\n",
      "Image saved:  450\n",
      "Image saved:  451\n",
      "Image saved:  452\n",
      "Image saved:  453\n",
      "Image saved:  454\n",
      "Image saved:  455\n",
      "Image saved:  456\n",
      "Image saved:  457\n",
      "Image saved:  458\n",
      "Image saved:  459\n",
      "Image saved:  460\n",
      "Image saved:  461\n",
      "Image saved:  462\n",
      "Image saved:  463\n",
      "Image saved:  464\n",
      "Image saved:  465\n",
      "Image saved:  466\n",
      "Image saved:  467\n",
      "Image saved:  468\n",
      "Image saved:  469\n",
      "Image saved:  470\n",
      "Image saved:  471\n",
      "Image saved:  472\n",
      "Image saved:  473\n",
      "Image saved:  474\n",
      "Image saved:  475\n",
      "Image saved:  476\n",
      "Image saved:  477\n",
      "Image saved:  478\n",
      "Image saved:  479\n",
      "Image saved:  480\n",
      "Image saved:  481\n",
      "Image saved:  482\n",
      "Image saved:  483\n",
      "Image saved:  484\n",
      "Image saved:  485\n",
      "Image saved:  486\n",
      "Image saved:  487\n",
      "Image saved:  488\n",
      "Image saved:  489\n",
      "Image saved:  490\n",
      "Image saved:  491\n",
      "Image saved:  492\n",
      "Image saved:  493\n",
      "Image saved:  494\n",
      "Image saved:  495\n",
      "Image saved:  496\n",
      "Image saved:  497\n",
      "Image saved:  498\n",
      "Image saved:  499\n",
      "Image saved:  500\n",
      "Image saved:  501\n",
      "Image saved:  502\n",
      "Image saved:  503\n",
      "Image saved:  504\n",
      "Image saved:  505\n",
      "Image saved:  506\n",
      "Image saved:  507\n",
      "Image saved:  508\n",
      "Image saved:  509\n",
      "Image saved:  510\n",
      "Image saved:  511\n"
     ]
    }
   ],
   "source": [
    "kNN = 1\n",
    "\n",
    "for idx in range(StartIdx,StartIdx+NB_INPUT_IMG):\n",
    "    img = list_img3D[idx-StartIdx]\n",
    "    imgDTM = img_DTM(img,kNN)\n",
    "    file_name = CHALLENGE_PATH + \"DTM/\" + \"img_DTM\" + str(kNN) + \"_\" + str(idx) + \".dat\"    \n",
    "    pickle.dump(imgDTM,open(file_name, \"wb\"))\n",
    "    print(\"Image saved: \", idx)"
   ]
  },
  {
   "cell_type": "markdown",
   "metadata": {},
   "source": [
    "#### Funtion to extract boundary points\n",
    "Warning: pretty slow!"
   ]
  },
  {
   "cell_type": "code",
   "execution_count": 11,
   "metadata": {
    "collapsed": true
   },
   "outputs": [],
   "source": [
    "def boundary_extract(img):\n",
    "    bd_img = Image3D(np.zeros((DEFAULT_SIZE[0],DEFAULT_SIZE[1],DEFAULT_SIZE[2])))\n",
    "    max_idx = DEFAULT_SIZE[0]*DEFAULT_SIZE[1]*DEFAULT_SIZE[2]\n",
    "    for id in range(max_idx):\n",
    "        [i,j,k] = img.get_indices(id)\n",
    "        val = img.get_value(i,j,k)\n",
    "        if val == 0:\n",
    "            nghb = img.neighbors(id)\n",
    "            sum_val = 0\n",
    "            for p in nghb:\n",
    "                [i1,j1,k1] = img.get_indices(p)\n",
    "                sum_val += img.get_value(i1,j1,k1)\n",
    "            if sum_val > 0:\n",
    "                #[i,j,k] = img.get_indices(id)\n",
    "                bd_img.set_value(i,j,k,1)\n",
    "    return bd_img"
   ]
  },
  {
   "cell_type": "markdown",
   "metadata": {},
   "source": [
    "#### Compute boundary of input images"
   ]
  },
  {
   "cell_type": "code",
   "execution_count": 19,
   "metadata": {},
   "outputs": [
    {
     "name": "stdout",
     "output_type": "stream",
     "text": [
      "Image saved:  400\n",
      "Image saved:  401\n",
      "Image saved:  402\n",
      "Image saved:  403\n",
      "Image saved:  404\n",
      "Image saved:  405\n",
      "Image saved:  406\n",
      "Image saved:  407\n",
      "Image saved:  408\n",
      "Image saved:  409\n",
      "Image saved:  410\n",
      "Image saved:  411\n",
      "Image saved:  412\n",
      "Image saved:  413\n",
      "Image saved:  414\n",
      "Image saved:  415\n",
      "Image saved:  416\n",
      "Image saved:  417\n",
      "Image saved:  418\n",
      "Image saved:  419\n",
      "Image saved:  420\n",
      "Image saved:  421\n",
      "Image saved:  422\n",
      "Image saved:  423\n",
      "Image saved:  424\n",
      "Image saved:  425\n",
      "Image saved:  426\n",
      "Image saved:  427\n",
      "Image saved:  428\n",
      "Image saved:  429\n",
      "Image saved:  430\n",
      "Image saved:  431\n",
      "Image saved:  432\n",
      "Image saved:  433\n",
      "Image saved:  434\n",
      "Image saved:  435\n",
      "Image saved:  436\n",
      "Image saved:  437\n",
      "Image saved:  438\n",
      "Image saved:  439\n",
      "Image saved:  440\n",
      "Image saved:  441\n",
      "Image saved:  442\n",
      "Image saved:  443\n",
      "Image saved:  444\n",
      "Image saved:  445\n",
      "Image saved:  446\n",
      "Image saved:  447\n",
      "Image saved:  448\n",
      "Image saved:  449\n",
      "Image saved:  450\n",
      "Image saved:  451\n",
      "Image saved:  452\n",
      "Image saved:  453\n",
      "Image saved:  454\n",
      "Image saved:  455\n",
      "Image saved:  456\n",
      "Image saved:  457\n",
      "Image saved:  458\n",
      "Image saved:  459\n",
      "Image saved:  460\n",
      "Image saved:  461\n",
      "Image saved:  462\n",
      "Image saved:  463\n",
      "Image saved:  464\n",
      "Image saved:  465\n",
      "Image saved:  466\n",
      "Image saved:  467\n",
      "Image saved:  468\n",
      "Image saved:  469\n",
      "Image saved:  470\n",
      "Image saved:  471\n",
      "Image saved:  472\n",
      "Image saved:  473\n",
      "Image saved:  474\n",
      "Image saved:  475\n",
      "Image saved:  476\n",
      "Image saved:  477\n",
      "Image saved:  478\n",
      "Image saved:  479\n",
      "Image saved:  480\n",
      "Image saved:  481\n",
      "Image saved:  482\n",
      "Image saved:  483\n",
      "Image saved:  484\n",
      "Image saved:  485\n",
      "Image saved:  486\n",
      "Image saved:  487\n",
      "Image saved:  488\n",
      "Image saved:  489\n",
      "Image saved:  490\n",
      "Image saved:  491\n",
      "Image saved:  492\n",
      "Image saved:  493\n",
      "Image saved:  494\n",
      "Image saved:  495\n",
      "Image saved:  496\n",
      "Image saved:  497\n",
      "Image saved:  498\n",
      "Image saved:  499\n",
      "Image saved:  500\n",
      "Image saved:  501\n",
      "Image saved:  502\n",
      "Image saved:  503\n",
      "Image saved:  504\n",
      "Image saved:  505\n",
      "Image saved:  506\n",
      "Image saved:  507\n",
      "Image saved:  508\n",
      "Image saved:  509\n",
      "Image saved:  510\n",
      "Image saved:  511\n"
     ]
    }
   ],
   "source": [
    "for idx in range(StartIdx,StartIdx+NB_INPUT_IMG):\n",
    "    img = list_img3D[idx-StartIdx]\n",
    "    imgBd = boundary_extract(img)\n",
    "    file_name = CHALLENGE_PATH + \"ImgBD/\" + \"imgBD_\" + str(idx) + \".dat\"    \n",
    "    pickle.dump(imgBd,open(file_name, \"wb\"))\n",
    "    print(\"Image saved: \", idx)"
   ]
  },
  {
   "cell_type": "markdown",
   "metadata": {},
   "source": [
    "#### Compute and save local max of distance function (DTM1)\n",
    "Warning this takes a moment"
   ]
  },
  {
   "cell_type": "code",
   "execution_count": 20,
   "metadata": {},
   "outputs": [
    {
     "name": "stdout",
     "output_type": "stream",
     "text": [
      "Local max computed for image:  400\n",
      "Local max computed for image:  401\n",
      "Local max computed for image:  402\n",
      "Local max computed for image:  403\n",
      "Local max computed for image:  404\n",
      "Local max computed for image:  405\n",
      "Local max computed for image:  406\n",
      "Local max computed for image:  407\n",
      "Local max computed for image:  408\n",
      "Local max computed for image:  409\n",
      "Local max computed for image:  410\n",
      "Local max computed for image:  411\n",
      "Local max computed for image:  412\n",
      "Local max computed for image:  413\n",
      "Local max computed for image:  414\n",
      "Local max computed for image:  415\n",
      "Local max computed for image:  416\n",
      "Local max computed for image:  417\n",
      "Local max computed for image:  418\n",
      "Local max computed for image:  419\n",
      "Local max computed for image:  420\n",
      "Local max computed for image:  421\n",
      "Local max computed for image:  422\n",
      "Local max computed for image:  423\n",
      "Local max computed for image:  424\n",
      "Local max computed for image:  425\n",
      "Local max computed for image:  426\n",
      "Local max computed for image:  427\n",
      "Local max computed for image:  428\n",
      "Local max computed for image:  429\n",
      "Local max computed for image:  430\n",
      "Local max computed for image:  431\n",
      "Local max computed for image:  432\n",
      "Local max computed for image:  433\n",
      "Local max computed for image:  434\n",
      "Local max computed for image:  435\n",
      "Local max computed for image:  436\n",
      "Local max computed for image:  437\n",
      "Local max computed for image:  438\n",
      "Local max computed for image:  439\n",
      "Local max computed for image:  440\n",
      "Local max computed for image:  441\n",
      "Local max computed for image:  442\n",
      "Local max computed for image:  443\n",
      "Local max computed for image:  444\n",
      "Local max computed for image:  445\n",
      "Local max computed for image:  446\n",
      "Local max computed for image:  447\n",
      "Local max computed for image:  448\n",
      "Local max computed for image:  449\n",
      "Local max computed for image:  450\n",
      "Local max computed for image:  451\n",
      "Local max computed for image:  452\n",
      "Local max computed for image:  453\n",
      "Local max computed for image:  454\n",
      "Local max computed for image:  455\n",
      "Local max computed for image:  456\n",
      "Local max computed for image:  457\n",
      "Local max computed for image:  458\n",
      "Local max computed for image:  459\n",
      "Local max computed for image:  460\n",
      "Local max computed for image:  461\n",
      "Local max computed for image:  462\n",
      "Local max computed for image:  463\n",
      "Local max computed for image:  464\n",
      "Local max computed for image:  465\n",
      "Local max computed for image:  466\n",
      "Local max computed for image:  467\n",
      "Local max computed for image:  468\n",
      "Local max computed for image:  469\n",
      "Local max computed for image:  470\n",
      "Local max computed for image:  471\n",
      "Local max computed for image:  472\n",
      "Local max computed for image:  473\n",
      "Local max computed for image:  474\n",
      "Local max computed for image:  475\n",
      "Local max computed for image:  476\n",
      "Local max computed for image:  477\n",
      "Local max computed for image:  478\n",
      "Local max computed for image:  479\n",
      "Local max computed for image:  480\n",
      "Local max computed for image:  481\n",
      "Local max computed for image:  482\n",
      "Local max computed for image:  483\n",
      "Local max computed for image:  484\n",
      "Local max computed for image:  485\n",
      "Local max computed for image:  486\n",
      "Local max computed for image:  487\n",
      "Local max computed for image:  488\n",
      "Local max computed for image:  489\n",
      "Local max computed for image:  490\n",
      "Local max computed for image:  491\n",
      "Local max computed for image:  492\n",
      "Local max computed for image:  493\n",
      "Local max computed for image:  494\n",
      "Local max computed for image:  495\n",
      "Local max computed for image:  496\n",
      "Local max computed for image:  497\n",
      "Local max computed for image:  498\n",
      "Local max computed for image:  499\n",
      "Local max computed for image:  500\n",
      "Local max computed for image:  501\n",
      "Local max computed for image:  502\n",
      "Local max computed for image:  503\n",
      "Local max computed for image:  504\n",
      "Local max computed for image:  505\n",
      "Local max computed for image:  506\n",
      "Local max computed for image:  507\n",
      "Local max computed for image:  508\n",
      "Local max computed for image:  509\n",
      "Local max computed for image:  510\n",
      "Local max computed for image:  511\n"
     ]
    }
   ],
   "source": [
    "max_idx = DEFAULT_SIZE[0]*DEFAULT_SIZE[1]*DEFAULT_SIZE[2]\n",
    "local_max_list = []\n",
    "for idx in range(StartIdx,StartIdx+NB_INPUT_IMG):\n",
    "    loc_max = []\n",
    "    file_name_img = \"img_DTM1_\" + str(idx) + \".dat\"\n",
    "    img = pickle.load(open(CHALLENGE_PATH + \"DTM/\"+ file_name_img, \"rb\"),encoding=\"latin1\")\n",
    "    for id in range(max_idx):\n",
    "        [i,j,k] = img.get_indices(id)\n",
    "        val = img.get_value(i,j,k)\n",
    "        nghb = img.neighbors(id)\n",
    "        val_nghb = []\n",
    "        for p in nghb:\n",
    "            [i1,j1,k1] = img.get_indices(p)\n",
    "            val_nghb.append(img.get_value(i1,j1,k1))\n",
    "        if np.max(val_nghb) < val:\n",
    "            loc_max.append([id,val])\n",
    "    pickle.dump(loc_max,open(CHALLENGE_PATH + \"DTM/loc_max_DTM1_\"+ str(idx) + \".dat\", \"wb\"))\n",
    "    print(\"Local max computed for image: \", idx)\n",
    "    local_max_list.append(loc_max)"
   ]
  },
  {
   "cell_type": "markdown",
   "metadata": {},
   "source": [
    "#### #To load input and output images + DTM images (if already computed)"
   ]
  },
  {
   "cell_type": "code",
   "execution_count": 12,
   "metadata": {
    "collapsed": true
   },
   "outputs": [],
   "source": [
    "def load_img_and_out_DTM(idx,kNN=1):  \n",
    "    file_name_img = DATA_PATH + \"input_\" + str(idx) + \".raw\"\n",
    "    file_name_out = DATA_PATH + \"output_\" + str(idx) + \".raw\"\n",
    "    file_name_DTM = CHALLENGE_PATH + \"DTM/img_DTM\"+ str(kNN) +\"_\" + str(idx) + \".dat\"\n",
    "    io = ImageIO(file_name_img)\n",
    "    img = io.read(DEFAULT_SIZE[0], DEFAULT_SIZE[1], DEFAULT_SIZE[2])\n",
    "    io = ImageIO(file_name_out)\n",
    "    img_out = io.read(DEFAULT_SIZE[0], DEFAULT_SIZE[1], DEFAULT_SIZE[2])\n",
    "    DTM_img = pickle.load(open(file_name_DTM, \"rb\"),encoding=\"latin1\")\n",
    "    return img, img_out, DTM_img\n",
    "\n",
    "def load_img_and_DTM(idx,kNN=1):  \n",
    "    file_name_img = DATA_PATH + \"input_\" + str(idx) + \".raw\"\n",
    "    file_name_DTM = CHALLENGE_PATH + \"DTM/img_DTM\"+ str(kNN) +\"_\" + str(idx) + \".dat\"\n",
    "    io = ImageIO(file_name_img)\n",
    "    img = io.read(DEFAULT_SIZE[0], DEFAULT_SIZE[1], DEFAULT_SIZE[2])\n",
    "    DTM_img = pickle.load(open(file_name_DTM, \"rb\"),encoding=\"latin1\")\n",
    "    return img, DTM_img"
   ]
  },
  {
   "cell_type": "markdown",
   "metadata": {},
   "source": [
    "## 2. Computation of basic features"
   ]
  },
  {
   "cell_type": "markdown",
   "metadata": {},
   "source": [
    "### 2.1 Computation of volume of voids"
   ]
  },
  {
   "cell_type": "code",
   "execution_count": 22,
   "metadata": {},
   "outputs": [
    {
     "name": "stdout",
     "output_type": "stream",
     "text": [
      ".read file C:/Chazal/ChallengeIFPEN2018/challenge_fichiers_dentrees_de_test_prediction_de_la_saturation_dhuile_residuelle/input_400.raw with dim 175x152x152\n",
      ".read file C:/Chazal/ChallengeIFPEN2018/challenge_fichiers_dentrees_de_test_prediction_de_la_saturation_dhuile_residuelle/input_401.raw with dim 175x152x152\n",
      ".read file C:/Chazal/ChallengeIFPEN2018/challenge_fichiers_dentrees_de_test_prediction_de_la_saturation_dhuile_residuelle/input_402.raw with dim 175x152x152\n",
      ".read file C:/Chazal/ChallengeIFPEN2018/challenge_fichiers_dentrees_de_test_prediction_de_la_saturation_dhuile_residuelle/input_403.raw with dim 175x152x152\n",
      ".read file C:/Chazal/ChallengeIFPEN2018/challenge_fichiers_dentrees_de_test_prediction_de_la_saturation_dhuile_residuelle/input_404.raw with dim 175x152x152\n",
      ".read file C:/Chazal/ChallengeIFPEN2018/challenge_fichiers_dentrees_de_test_prediction_de_la_saturation_dhuile_residuelle/input_405.raw with dim 175x152x152\n",
      ".read file C:/Chazal/ChallengeIFPEN2018/challenge_fichiers_dentrees_de_test_prediction_de_la_saturation_dhuile_residuelle/input_406.raw with dim 175x152x152\n",
      ".read file C:/Chazal/ChallengeIFPEN2018/challenge_fichiers_dentrees_de_test_prediction_de_la_saturation_dhuile_residuelle/input_407.raw with dim 175x152x152\n",
      ".read file C:/Chazal/ChallengeIFPEN2018/challenge_fichiers_dentrees_de_test_prediction_de_la_saturation_dhuile_residuelle/input_408.raw with dim 175x152x152\n",
      ".read file C:/Chazal/ChallengeIFPEN2018/challenge_fichiers_dentrees_de_test_prediction_de_la_saturation_dhuile_residuelle/input_409.raw with dim 175x152x152\n",
      ".read file C:/Chazal/ChallengeIFPEN2018/challenge_fichiers_dentrees_de_test_prediction_de_la_saturation_dhuile_residuelle/input_410.raw with dim 175x152x152\n",
      ".read file C:/Chazal/ChallengeIFPEN2018/challenge_fichiers_dentrees_de_test_prediction_de_la_saturation_dhuile_residuelle/input_411.raw with dim 175x152x152\n",
      ".read file C:/Chazal/ChallengeIFPEN2018/challenge_fichiers_dentrees_de_test_prediction_de_la_saturation_dhuile_residuelle/input_412.raw with dim 175x152x152\n",
      ".read file C:/Chazal/ChallengeIFPEN2018/challenge_fichiers_dentrees_de_test_prediction_de_la_saturation_dhuile_residuelle/input_413.raw with dim 175x152x152\n",
      ".read file C:/Chazal/ChallengeIFPEN2018/challenge_fichiers_dentrees_de_test_prediction_de_la_saturation_dhuile_residuelle/input_414.raw with dim 175x152x152\n",
      ".read file C:/Chazal/ChallengeIFPEN2018/challenge_fichiers_dentrees_de_test_prediction_de_la_saturation_dhuile_residuelle/input_415.raw with dim 175x152x152\n",
      ".read file C:/Chazal/ChallengeIFPEN2018/challenge_fichiers_dentrees_de_test_prediction_de_la_saturation_dhuile_residuelle/input_416.raw with dim 175x152x152\n",
      ".read file C:/Chazal/ChallengeIFPEN2018/challenge_fichiers_dentrees_de_test_prediction_de_la_saturation_dhuile_residuelle/input_417.raw with dim 175x152x152\n",
      ".read file C:/Chazal/ChallengeIFPEN2018/challenge_fichiers_dentrees_de_test_prediction_de_la_saturation_dhuile_residuelle/input_418.raw with dim 175x152x152\n",
      ".read file C:/Chazal/ChallengeIFPEN2018/challenge_fichiers_dentrees_de_test_prediction_de_la_saturation_dhuile_residuelle/input_419.raw with dim 175x152x152\n",
      ".read file C:/Chazal/ChallengeIFPEN2018/challenge_fichiers_dentrees_de_test_prediction_de_la_saturation_dhuile_residuelle/input_420.raw with dim 175x152x152\n",
      ".read file C:/Chazal/ChallengeIFPEN2018/challenge_fichiers_dentrees_de_test_prediction_de_la_saturation_dhuile_residuelle/input_421.raw with dim 175x152x152\n",
      ".read file C:/Chazal/ChallengeIFPEN2018/challenge_fichiers_dentrees_de_test_prediction_de_la_saturation_dhuile_residuelle/input_422.raw with dim 175x152x152\n",
      ".read file C:/Chazal/ChallengeIFPEN2018/challenge_fichiers_dentrees_de_test_prediction_de_la_saturation_dhuile_residuelle/input_423.raw with dim 175x152x152\n",
      ".read file C:/Chazal/ChallengeIFPEN2018/challenge_fichiers_dentrees_de_test_prediction_de_la_saturation_dhuile_residuelle/input_424.raw with dim 175x152x152\n",
      ".read file C:/Chazal/ChallengeIFPEN2018/challenge_fichiers_dentrees_de_test_prediction_de_la_saturation_dhuile_residuelle/input_425.raw with dim 175x152x152\n",
      ".read file C:/Chazal/ChallengeIFPEN2018/challenge_fichiers_dentrees_de_test_prediction_de_la_saturation_dhuile_residuelle/input_426.raw with dim 175x152x152\n",
      ".read file C:/Chazal/ChallengeIFPEN2018/challenge_fichiers_dentrees_de_test_prediction_de_la_saturation_dhuile_residuelle/input_427.raw with dim 175x152x152\n",
      ".read file C:/Chazal/ChallengeIFPEN2018/challenge_fichiers_dentrees_de_test_prediction_de_la_saturation_dhuile_residuelle/input_428.raw with dim 175x152x152\n",
      ".read file C:/Chazal/ChallengeIFPEN2018/challenge_fichiers_dentrees_de_test_prediction_de_la_saturation_dhuile_residuelle/input_429.raw with dim 175x152x152\n",
      ".read file C:/Chazal/ChallengeIFPEN2018/challenge_fichiers_dentrees_de_test_prediction_de_la_saturation_dhuile_residuelle/input_430.raw with dim 175x152x152\n",
      ".read file C:/Chazal/ChallengeIFPEN2018/challenge_fichiers_dentrees_de_test_prediction_de_la_saturation_dhuile_residuelle/input_431.raw with dim 175x152x152\n",
      ".read file C:/Chazal/ChallengeIFPEN2018/challenge_fichiers_dentrees_de_test_prediction_de_la_saturation_dhuile_residuelle/input_432.raw with dim 175x152x152\n",
      ".read file C:/Chazal/ChallengeIFPEN2018/challenge_fichiers_dentrees_de_test_prediction_de_la_saturation_dhuile_residuelle/input_433.raw with dim 175x152x152\n",
      ".read file C:/Chazal/ChallengeIFPEN2018/challenge_fichiers_dentrees_de_test_prediction_de_la_saturation_dhuile_residuelle/input_434.raw with dim 175x152x152\n",
      ".read file C:/Chazal/ChallengeIFPEN2018/challenge_fichiers_dentrees_de_test_prediction_de_la_saturation_dhuile_residuelle/input_435.raw with dim 175x152x152\n",
      ".read file C:/Chazal/ChallengeIFPEN2018/challenge_fichiers_dentrees_de_test_prediction_de_la_saturation_dhuile_residuelle/input_436.raw with dim 175x152x152\n",
      ".read file C:/Chazal/ChallengeIFPEN2018/challenge_fichiers_dentrees_de_test_prediction_de_la_saturation_dhuile_residuelle/input_437.raw with dim 175x152x152\n",
      ".read file C:/Chazal/ChallengeIFPEN2018/challenge_fichiers_dentrees_de_test_prediction_de_la_saturation_dhuile_residuelle/input_438.raw with dim 175x152x152\n",
      ".read file C:/Chazal/ChallengeIFPEN2018/challenge_fichiers_dentrees_de_test_prediction_de_la_saturation_dhuile_residuelle/input_439.raw with dim 175x152x152\n",
      ".read file C:/Chazal/ChallengeIFPEN2018/challenge_fichiers_dentrees_de_test_prediction_de_la_saturation_dhuile_residuelle/input_440.raw with dim 175x152x152\n",
      ".read file C:/Chazal/ChallengeIFPEN2018/challenge_fichiers_dentrees_de_test_prediction_de_la_saturation_dhuile_residuelle/input_441.raw with dim 175x152x152\n",
      ".read file C:/Chazal/ChallengeIFPEN2018/challenge_fichiers_dentrees_de_test_prediction_de_la_saturation_dhuile_residuelle/input_442.raw with dim 175x152x152\n",
      ".read file C:/Chazal/ChallengeIFPEN2018/challenge_fichiers_dentrees_de_test_prediction_de_la_saturation_dhuile_residuelle/input_443.raw with dim 175x152x152\n",
      ".read file C:/Chazal/ChallengeIFPEN2018/challenge_fichiers_dentrees_de_test_prediction_de_la_saturation_dhuile_residuelle/input_444.raw with dim 175x152x152\n",
      ".read file C:/Chazal/ChallengeIFPEN2018/challenge_fichiers_dentrees_de_test_prediction_de_la_saturation_dhuile_residuelle/input_445.raw with dim 175x152x152\n",
      ".read file C:/Chazal/ChallengeIFPEN2018/challenge_fichiers_dentrees_de_test_prediction_de_la_saturation_dhuile_residuelle/input_446.raw with dim 175x152x152\n",
      ".read file C:/Chazal/ChallengeIFPEN2018/challenge_fichiers_dentrees_de_test_prediction_de_la_saturation_dhuile_residuelle/input_447.raw with dim 175x152x152\n",
      ".read file C:/Chazal/ChallengeIFPEN2018/challenge_fichiers_dentrees_de_test_prediction_de_la_saturation_dhuile_residuelle/input_448.raw with dim 175x152x152\n",
      ".read file C:/Chazal/ChallengeIFPEN2018/challenge_fichiers_dentrees_de_test_prediction_de_la_saturation_dhuile_residuelle/input_449.raw with dim 175x152x152\n",
      ".read file C:/Chazal/ChallengeIFPEN2018/challenge_fichiers_dentrees_de_test_prediction_de_la_saturation_dhuile_residuelle/input_450.raw with dim 175x152x152\n",
      ".read file C:/Chazal/ChallengeIFPEN2018/challenge_fichiers_dentrees_de_test_prediction_de_la_saturation_dhuile_residuelle/input_451.raw with dim 175x152x152\n",
      ".read file C:/Chazal/ChallengeIFPEN2018/challenge_fichiers_dentrees_de_test_prediction_de_la_saturation_dhuile_residuelle/input_452.raw with dim 175x152x152\n",
      ".read file C:/Chazal/ChallengeIFPEN2018/challenge_fichiers_dentrees_de_test_prediction_de_la_saturation_dhuile_residuelle/input_453.raw with dim 175x152x152\n",
      ".read file C:/Chazal/ChallengeIFPEN2018/challenge_fichiers_dentrees_de_test_prediction_de_la_saturation_dhuile_residuelle/input_454.raw with dim 175x152x152\n",
      ".read file C:/Chazal/ChallengeIFPEN2018/challenge_fichiers_dentrees_de_test_prediction_de_la_saturation_dhuile_residuelle/input_455.raw with dim 175x152x152\n",
      ".read file C:/Chazal/ChallengeIFPEN2018/challenge_fichiers_dentrees_de_test_prediction_de_la_saturation_dhuile_residuelle/input_456.raw with dim 175x152x152\n",
      ".read file C:/Chazal/ChallengeIFPEN2018/challenge_fichiers_dentrees_de_test_prediction_de_la_saturation_dhuile_residuelle/input_457.raw with dim 175x152x152\n",
      ".read file C:/Chazal/ChallengeIFPEN2018/challenge_fichiers_dentrees_de_test_prediction_de_la_saturation_dhuile_residuelle/input_458.raw with dim 175x152x152\n",
      ".read file C:/Chazal/ChallengeIFPEN2018/challenge_fichiers_dentrees_de_test_prediction_de_la_saturation_dhuile_residuelle/input_459.raw with dim 175x152x152\n",
      ".read file C:/Chazal/ChallengeIFPEN2018/challenge_fichiers_dentrees_de_test_prediction_de_la_saturation_dhuile_residuelle/input_460.raw with dim 175x152x152\n",
      ".read file C:/Chazal/ChallengeIFPEN2018/challenge_fichiers_dentrees_de_test_prediction_de_la_saturation_dhuile_residuelle/input_461.raw with dim 175x152x152\n",
      ".read file C:/Chazal/ChallengeIFPEN2018/challenge_fichiers_dentrees_de_test_prediction_de_la_saturation_dhuile_residuelle/input_462.raw with dim 175x152x152\n",
      ".read file C:/Chazal/ChallengeIFPEN2018/challenge_fichiers_dentrees_de_test_prediction_de_la_saturation_dhuile_residuelle/input_463.raw with dim 175x152x152\n",
      ".read file C:/Chazal/ChallengeIFPEN2018/challenge_fichiers_dentrees_de_test_prediction_de_la_saturation_dhuile_residuelle/input_464.raw with dim 175x152x152\n",
      ".read file C:/Chazal/ChallengeIFPEN2018/challenge_fichiers_dentrees_de_test_prediction_de_la_saturation_dhuile_residuelle/input_465.raw with dim 175x152x152\n",
      ".read file C:/Chazal/ChallengeIFPEN2018/challenge_fichiers_dentrees_de_test_prediction_de_la_saturation_dhuile_residuelle/input_466.raw with dim 175x152x152\n",
      ".read file C:/Chazal/ChallengeIFPEN2018/challenge_fichiers_dentrees_de_test_prediction_de_la_saturation_dhuile_residuelle/input_467.raw with dim 175x152x152\n",
      ".read file C:/Chazal/ChallengeIFPEN2018/challenge_fichiers_dentrees_de_test_prediction_de_la_saturation_dhuile_residuelle/input_468.raw with dim 175x152x152\n",
      ".read file C:/Chazal/ChallengeIFPEN2018/challenge_fichiers_dentrees_de_test_prediction_de_la_saturation_dhuile_residuelle/input_469.raw with dim 175x152x152\n",
      ".read file C:/Chazal/ChallengeIFPEN2018/challenge_fichiers_dentrees_de_test_prediction_de_la_saturation_dhuile_residuelle/input_470.raw with dim 175x152x152\n",
      ".read file C:/Chazal/ChallengeIFPEN2018/challenge_fichiers_dentrees_de_test_prediction_de_la_saturation_dhuile_residuelle/input_471.raw with dim 175x152x152\n",
      ".read file C:/Chazal/ChallengeIFPEN2018/challenge_fichiers_dentrees_de_test_prediction_de_la_saturation_dhuile_residuelle/input_472.raw with dim 175x152x152\n",
      ".read file C:/Chazal/ChallengeIFPEN2018/challenge_fichiers_dentrees_de_test_prediction_de_la_saturation_dhuile_residuelle/input_473.raw with dim 175x152x152\n",
      ".read file C:/Chazal/ChallengeIFPEN2018/challenge_fichiers_dentrees_de_test_prediction_de_la_saturation_dhuile_residuelle/input_474.raw with dim 175x152x152\n",
      ".read file C:/Chazal/ChallengeIFPEN2018/challenge_fichiers_dentrees_de_test_prediction_de_la_saturation_dhuile_residuelle/input_475.raw with dim 175x152x152\n",
      ".read file C:/Chazal/ChallengeIFPEN2018/challenge_fichiers_dentrees_de_test_prediction_de_la_saturation_dhuile_residuelle/input_476.raw with dim 175x152x152\n"
     ]
    },
    {
     "name": "stdout",
     "output_type": "stream",
     "text": [
      ".read file C:/Chazal/ChallengeIFPEN2018/challenge_fichiers_dentrees_de_test_prediction_de_la_saturation_dhuile_residuelle/input_477.raw with dim 175x152x152\n",
      ".read file C:/Chazal/ChallengeIFPEN2018/challenge_fichiers_dentrees_de_test_prediction_de_la_saturation_dhuile_residuelle/input_478.raw with dim 175x152x152\n",
      ".read file C:/Chazal/ChallengeIFPEN2018/challenge_fichiers_dentrees_de_test_prediction_de_la_saturation_dhuile_residuelle/input_479.raw with dim 175x152x152\n",
      ".read file C:/Chazal/ChallengeIFPEN2018/challenge_fichiers_dentrees_de_test_prediction_de_la_saturation_dhuile_residuelle/input_480.raw with dim 175x152x152\n",
      ".read file C:/Chazal/ChallengeIFPEN2018/challenge_fichiers_dentrees_de_test_prediction_de_la_saturation_dhuile_residuelle/input_481.raw with dim 175x152x152\n",
      ".read file C:/Chazal/ChallengeIFPEN2018/challenge_fichiers_dentrees_de_test_prediction_de_la_saturation_dhuile_residuelle/input_482.raw with dim 175x152x152\n",
      ".read file C:/Chazal/ChallengeIFPEN2018/challenge_fichiers_dentrees_de_test_prediction_de_la_saturation_dhuile_residuelle/input_483.raw with dim 175x152x152\n",
      ".read file C:/Chazal/ChallengeIFPEN2018/challenge_fichiers_dentrees_de_test_prediction_de_la_saturation_dhuile_residuelle/input_484.raw with dim 175x152x152\n",
      ".read file C:/Chazal/ChallengeIFPEN2018/challenge_fichiers_dentrees_de_test_prediction_de_la_saturation_dhuile_residuelle/input_485.raw with dim 175x152x152\n",
      ".read file C:/Chazal/ChallengeIFPEN2018/challenge_fichiers_dentrees_de_test_prediction_de_la_saturation_dhuile_residuelle/input_486.raw with dim 175x152x152\n",
      ".read file C:/Chazal/ChallengeIFPEN2018/challenge_fichiers_dentrees_de_test_prediction_de_la_saturation_dhuile_residuelle/input_487.raw with dim 175x152x152\n",
      ".read file C:/Chazal/ChallengeIFPEN2018/challenge_fichiers_dentrees_de_test_prediction_de_la_saturation_dhuile_residuelle/input_488.raw with dim 175x152x152\n",
      ".read file C:/Chazal/ChallengeIFPEN2018/challenge_fichiers_dentrees_de_test_prediction_de_la_saturation_dhuile_residuelle/input_489.raw with dim 175x152x152\n",
      ".read file C:/Chazal/ChallengeIFPEN2018/challenge_fichiers_dentrees_de_test_prediction_de_la_saturation_dhuile_residuelle/input_490.raw with dim 175x152x152\n",
      ".read file C:/Chazal/ChallengeIFPEN2018/challenge_fichiers_dentrees_de_test_prediction_de_la_saturation_dhuile_residuelle/input_491.raw with dim 175x152x152\n",
      ".read file C:/Chazal/ChallengeIFPEN2018/challenge_fichiers_dentrees_de_test_prediction_de_la_saturation_dhuile_residuelle/input_492.raw with dim 175x152x152\n",
      ".read file C:/Chazal/ChallengeIFPEN2018/challenge_fichiers_dentrees_de_test_prediction_de_la_saturation_dhuile_residuelle/input_493.raw with dim 175x152x152\n",
      ".read file C:/Chazal/ChallengeIFPEN2018/challenge_fichiers_dentrees_de_test_prediction_de_la_saturation_dhuile_residuelle/input_494.raw with dim 175x152x152\n",
      ".read file C:/Chazal/ChallengeIFPEN2018/challenge_fichiers_dentrees_de_test_prediction_de_la_saturation_dhuile_residuelle/input_495.raw with dim 175x152x152\n",
      ".read file C:/Chazal/ChallengeIFPEN2018/challenge_fichiers_dentrees_de_test_prediction_de_la_saturation_dhuile_residuelle/input_496.raw with dim 175x152x152\n",
      ".read file C:/Chazal/ChallengeIFPEN2018/challenge_fichiers_dentrees_de_test_prediction_de_la_saturation_dhuile_residuelle/input_497.raw with dim 175x152x152\n",
      ".read file C:/Chazal/ChallengeIFPEN2018/challenge_fichiers_dentrees_de_test_prediction_de_la_saturation_dhuile_residuelle/input_498.raw with dim 175x152x152\n",
      ".read file C:/Chazal/ChallengeIFPEN2018/challenge_fichiers_dentrees_de_test_prediction_de_la_saturation_dhuile_residuelle/input_499.raw with dim 175x152x152\n",
      ".read file C:/Chazal/ChallengeIFPEN2018/challenge_fichiers_dentrees_de_test_prediction_de_la_saturation_dhuile_residuelle/input_500.raw with dim 175x152x152\n",
      ".read file C:/Chazal/ChallengeIFPEN2018/challenge_fichiers_dentrees_de_test_prediction_de_la_saturation_dhuile_residuelle/input_501.raw with dim 175x152x152\n",
      ".read file C:/Chazal/ChallengeIFPEN2018/challenge_fichiers_dentrees_de_test_prediction_de_la_saturation_dhuile_residuelle/input_502.raw with dim 175x152x152\n",
      ".read file C:/Chazal/ChallengeIFPEN2018/challenge_fichiers_dentrees_de_test_prediction_de_la_saturation_dhuile_residuelle/input_503.raw with dim 175x152x152\n",
      ".read file C:/Chazal/ChallengeIFPEN2018/challenge_fichiers_dentrees_de_test_prediction_de_la_saturation_dhuile_residuelle/input_504.raw with dim 175x152x152\n",
      ".read file C:/Chazal/ChallengeIFPEN2018/challenge_fichiers_dentrees_de_test_prediction_de_la_saturation_dhuile_residuelle/input_505.raw with dim 175x152x152\n",
      ".read file C:/Chazal/ChallengeIFPEN2018/challenge_fichiers_dentrees_de_test_prediction_de_la_saturation_dhuile_residuelle/input_506.raw with dim 175x152x152\n",
      ".read file C:/Chazal/ChallengeIFPEN2018/challenge_fichiers_dentrees_de_test_prediction_de_la_saturation_dhuile_residuelle/input_507.raw with dim 175x152x152\n",
      ".read file C:/Chazal/ChallengeIFPEN2018/challenge_fichiers_dentrees_de_test_prediction_de_la_saturation_dhuile_residuelle/input_508.raw with dim 175x152x152\n",
      ".read file C:/Chazal/ChallengeIFPEN2018/challenge_fichiers_dentrees_de_test_prediction_de_la_saturation_dhuile_residuelle/input_509.raw with dim 175x152x152\n",
      ".read file C:/Chazal/ChallengeIFPEN2018/challenge_fichiers_dentrees_de_test_prediction_de_la_saturation_dhuile_residuelle/input_510.raw with dim 175x152x152\n",
      ".read file C:/Chazal/ChallengeIFPEN2018/challenge_fichiers_dentrees_de_test_prediction_de_la_saturation_dhuile_residuelle/input_511.raw with dim 175x152x152\n"
     ]
    },
    {
     "ename": "NameError",
     "evalue": "name 'TrainTestestestTest' is not defined",
     "output_type": "error",
     "traceback": [
      "\u001b[1;31m---------------------------------------------------------------------------\u001b[0m",
      "\u001b[1;31mNameError\u001b[0m                                 Traceback (most recent call last)",
      "\u001b[1;32m<ipython-input-22-a9638dfad54f>\u001b[0m in \u001b[0;36m<module>\u001b[1;34m()\u001b[0m\n\u001b[0;32m      8\u001b[0m     \u001b[0mFeat_vol_voids\u001b[0m\u001b[1;33m.\u001b[0m\u001b[0mappend\u001b[0m\u001b[1;33m(\u001b[0m\u001b[0mnp\u001b[0m\u001b[1;33m.\u001b[0m\u001b[0msum\u001b[0m\u001b[1;33m(\u001b[0m\u001b[0mimg\u001b[0m\u001b[1;33m.\u001b[0m\u001b[0mget_whole_array\u001b[0m\u001b[1;33m(\u001b[0m\u001b[1;33m)\u001b[0m\u001b[1;33m)\u001b[0m\u001b[1;33m/\u001b[0m\u001b[1;33m(\u001b[0m\u001b[0mtotal_vol\u001b[0m\u001b[1;33m)\u001b[0m\u001b[1;33m)\u001b[0m\u001b[1;33m\u001b[0m\u001b[0m\n\u001b[0;32m      9\u001b[0m \u001b[0mFeat_vol_voids\u001b[0m \u001b[1;33m=\u001b[0m \u001b[0mnp\u001b[0m\u001b[1;33m.\u001b[0m\u001b[0marray\u001b[0m\u001b[1;33m(\u001b[0m\u001b[0mFeat_vol_voids\u001b[0m\u001b[1;33m)\u001b[0m\u001b[1;33m\u001b[0m\u001b[0m\n\u001b[1;32m---> 10\u001b[1;33m \u001b[1;32mif\u001b[0m \u001b[0mTrainTestestestTest\u001b[0m \u001b[1;33m==\u001b[0m \u001b[1;34m\"Train\"\u001b[0m\u001b[1;33m:\u001b[0m\u001b[1;33m\u001b[0m\u001b[0m\n\u001b[0m\u001b[0;32m     11\u001b[0m     \u001b[0mpickle\u001b[0m\u001b[1;33m.\u001b[0m\u001b[0mdump\u001b[0m\u001b[1;33m(\u001b[0m\u001b[0mFeat_vol_voids\u001b[0m\u001b[1;33m,\u001b[0m\u001b[0mopen\u001b[0m\u001b[1;33m(\u001b[0m\u001b[0mCHALLENGE_PATH\u001b[0m \u001b[1;33m+\u001b[0m \u001b[1;34m\"Feat_vol_voids.dat\"\u001b[0m\u001b[1;33m,\u001b[0m \u001b[1;34m\"wb\"\u001b[0m\u001b[1;33m)\u001b[0m\u001b[1;33m)\u001b[0m\u001b[1;33m\u001b[0m\u001b[0m\n\u001b[0;32m     12\u001b[0m \u001b[1;32melse\u001b[0m\u001b[1;33m:\u001b[0m\u001b[1;33m\u001b[0m\u001b[0m\n",
      "\u001b[1;31mNameError\u001b[0m: name 'TrainTestestestTest' is not defined"
     ]
    }
   ],
   "source": [
    "#The list of input image must have been loaded in list_img3D\n",
    "Feat_vol_voids = []\n",
    "total_vol = DEFAULT_SIZE[0]*DEFAULT_SIZE[1]*DEFAULT_SIZE[2]\n",
    "for idx in range(StartIdx,StartIdx+NB_INPUT_IMG):\n",
    "    file_name_img = DATA_PATH + \"input_\" + str(idx) + \".raw\"\n",
    "    io = ImageIO(file_name_img)\n",
    "    img = io.read(DEFAULT_SIZE[0], DEFAULT_SIZE[1], DEFAULT_SIZE[2])\n",
    "    Feat_vol_voids.append(np.sum(img.get_whole_array())/(total_vol))\n",
    "Feat_vol_voids = np.array(Feat_vol_voids)\n",
    "if TrainTest == \"Train\":\n",
    "    pickle.dump(Feat_vol_voids,open(CHALLENGE_PATH + \"Feat_vol_voids.dat\", \"wb\"))\n",
    "else:\n",
    "    pickle.dump(Feat_vol_voids,open(CHALLENGE_PATH + \"Feat_vol_voids_test.dat\", \"wb\"))"
   ]
  },
  {
   "cell_type": "markdown",
   "metadata": {},
   "source": [
    "### 2.2 Compute the (normalized) sum of the values of the DTM in the void part of input images"
   ]
  },
  {
   "cell_type": "code",
   "execution_count": 26,
   "metadata": {},
   "outputs": [
    {
     "name": "stdout",
     "output_type": "stream",
     "text": [
      ".read file C:/Chazal/ChallengeIFPEN2018/challenge_fichiers_dentrees_de_test_prediction_de_la_saturation_dhuile_residuelle/input_400.raw with dim 175x152x152\n",
      ".read file C:/Chazal/ChallengeIFPEN2018/challenge_fichiers_dentrees_de_test_prediction_de_la_saturation_dhuile_residuelle/input_401.raw with dim 175x152x152\n",
      ".read file C:/Chazal/ChallengeIFPEN2018/challenge_fichiers_dentrees_de_test_prediction_de_la_saturation_dhuile_residuelle/input_402.raw with dim 175x152x152\n",
      ".read file C:/Chazal/ChallengeIFPEN2018/challenge_fichiers_dentrees_de_test_prediction_de_la_saturation_dhuile_residuelle/input_403.raw with dim 175x152x152\n",
      ".read file C:/Chazal/ChallengeIFPEN2018/challenge_fichiers_dentrees_de_test_prediction_de_la_saturation_dhuile_residuelle/input_404.raw with dim 175x152x152\n",
      ".read file C:/Chazal/ChallengeIFPEN2018/challenge_fichiers_dentrees_de_test_prediction_de_la_saturation_dhuile_residuelle/input_405.raw with dim 175x152x152\n",
      ".read file C:/Chazal/ChallengeIFPEN2018/challenge_fichiers_dentrees_de_test_prediction_de_la_saturation_dhuile_residuelle/input_406.raw with dim 175x152x152\n",
      ".read file C:/Chazal/ChallengeIFPEN2018/challenge_fichiers_dentrees_de_test_prediction_de_la_saturation_dhuile_residuelle/input_407.raw with dim 175x152x152\n",
      ".read file C:/Chazal/ChallengeIFPEN2018/challenge_fichiers_dentrees_de_test_prediction_de_la_saturation_dhuile_residuelle/input_408.raw with dim 175x152x152\n",
      ".read file C:/Chazal/ChallengeIFPEN2018/challenge_fichiers_dentrees_de_test_prediction_de_la_saturation_dhuile_residuelle/input_409.raw with dim 175x152x152\n",
      ".read file C:/Chazal/ChallengeIFPEN2018/challenge_fichiers_dentrees_de_test_prediction_de_la_saturation_dhuile_residuelle/input_410.raw with dim 175x152x152\n",
      ".read file C:/Chazal/ChallengeIFPEN2018/challenge_fichiers_dentrees_de_test_prediction_de_la_saturation_dhuile_residuelle/input_411.raw with dim 175x152x152\n",
      ".read file C:/Chazal/ChallengeIFPEN2018/challenge_fichiers_dentrees_de_test_prediction_de_la_saturation_dhuile_residuelle/input_412.raw with dim 175x152x152\n",
      ".read file C:/Chazal/ChallengeIFPEN2018/challenge_fichiers_dentrees_de_test_prediction_de_la_saturation_dhuile_residuelle/input_413.raw with dim 175x152x152\n",
      ".read file C:/Chazal/ChallengeIFPEN2018/challenge_fichiers_dentrees_de_test_prediction_de_la_saturation_dhuile_residuelle/input_414.raw with dim 175x152x152\n",
      ".read file C:/Chazal/ChallengeIFPEN2018/challenge_fichiers_dentrees_de_test_prediction_de_la_saturation_dhuile_residuelle/input_415.raw with dim 175x152x152\n",
      ".read file C:/Chazal/ChallengeIFPEN2018/challenge_fichiers_dentrees_de_test_prediction_de_la_saturation_dhuile_residuelle/input_416.raw with dim 175x152x152\n",
      ".read file C:/Chazal/ChallengeIFPEN2018/challenge_fichiers_dentrees_de_test_prediction_de_la_saturation_dhuile_residuelle/input_417.raw with dim 175x152x152\n",
      ".read file C:/Chazal/ChallengeIFPEN2018/challenge_fichiers_dentrees_de_test_prediction_de_la_saturation_dhuile_residuelle/input_418.raw with dim 175x152x152\n",
      ".read file C:/Chazal/ChallengeIFPEN2018/challenge_fichiers_dentrees_de_test_prediction_de_la_saturation_dhuile_residuelle/input_419.raw with dim 175x152x152\n",
      ".read file C:/Chazal/ChallengeIFPEN2018/challenge_fichiers_dentrees_de_test_prediction_de_la_saturation_dhuile_residuelle/input_420.raw with dim 175x152x152\n",
      ".read file C:/Chazal/ChallengeIFPEN2018/challenge_fichiers_dentrees_de_test_prediction_de_la_saturation_dhuile_residuelle/input_421.raw with dim 175x152x152\n",
      ".read file C:/Chazal/ChallengeIFPEN2018/challenge_fichiers_dentrees_de_test_prediction_de_la_saturation_dhuile_residuelle/input_422.raw with dim 175x152x152\n",
      ".read file C:/Chazal/ChallengeIFPEN2018/challenge_fichiers_dentrees_de_test_prediction_de_la_saturation_dhuile_residuelle/input_423.raw with dim 175x152x152\n",
      ".read file C:/Chazal/ChallengeIFPEN2018/challenge_fichiers_dentrees_de_test_prediction_de_la_saturation_dhuile_residuelle/input_424.raw with dim 175x152x152\n",
      ".read file C:/Chazal/ChallengeIFPEN2018/challenge_fichiers_dentrees_de_test_prediction_de_la_saturation_dhuile_residuelle/input_425.raw with dim 175x152x152\n",
      ".read file C:/Chazal/ChallengeIFPEN2018/challenge_fichiers_dentrees_de_test_prediction_de_la_saturation_dhuile_residuelle/input_426.raw with dim 175x152x152\n",
      ".read file C:/Chazal/ChallengeIFPEN2018/challenge_fichiers_dentrees_de_test_prediction_de_la_saturation_dhuile_residuelle/input_427.raw with dim 175x152x152\n",
      ".read file C:/Chazal/ChallengeIFPEN2018/challenge_fichiers_dentrees_de_test_prediction_de_la_saturation_dhuile_residuelle/input_428.raw with dim 175x152x152\n",
      ".read file C:/Chazal/ChallengeIFPEN2018/challenge_fichiers_dentrees_de_test_prediction_de_la_saturation_dhuile_residuelle/input_429.raw with dim 175x152x152\n",
      ".read file C:/Chazal/ChallengeIFPEN2018/challenge_fichiers_dentrees_de_test_prediction_de_la_saturation_dhuile_residuelle/input_430.raw with dim 175x152x152\n",
      ".read file C:/Chazal/ChallengeIFPEN2018/challenge_fichiers_dentrees_de_test_prediction_de_la_saturation_dhuile_residuelle/input_431.raw with dim 175x152x152\n",
      ".read file C:/Chazal/ChallengeIFPEN2018/challenge_fichiers_dentrees_de_test_prediction_de_la_saturation_dhuile_residuelle/input_432.raw with dim 175x152x152\n",
      ".read file C:/Chazal/ChallengeIFPEN2018/challenge_fichiers_dentrees_de_test_prediction_de_la_saturation_dhuile_residuelle/input_433.raw with dim 175x152x152\n",
      ".read file C:/Chazal/ChallengeIFPEN2018/challenge_fichiers_dentrees_de_test_prediction_de_la_saturation_dhuile_residuelle/input_434.raw with dim 175x152x152\n",
      ".read file C:/Chazal/ChallengeIFPEN2018/challenge_fichiers_dentrees_de_test_prediction_de_la_saturation_dhuile_residuelle/input_435.raw with dim 175x152x152\n",
      ".read file C:/Chazal/ChallengeIFPEN2018/challenge_fichiers_dentrees_de_test_prediction_de_la_saturation_dhuile_residuelle/input_436.raw with dim 175x152x152\n",
      ".read file C:/Chazal/ChallengeIFPEN2018/challenge_fichiers_dentrees_de_test_prediction_de_la_saturation_dhuile_residuelle/input_437.raw with dim 175x152x152\n",
      ".read file C:/Chazal/ChallengeIFPEN2018/challenge_fichiers_dentrees_de_test_prediction_de_la_saturation_dhuile_residuelle/input_438.raw with dim 175x152x152\n",
      ".read file C:/Chazal/ChallengeIFPEN2018/challenge_fichiers_dentrees_de_test_prediction_de_la_saturation_dhuile_residuelle/input_439.raw with dim 175x152x152\n",
      ".read file C:/Chazal/ChallengeIFPEN2018/challenge_fichiers_dentrees_de_test_prediction_de_la_saturation_dhuile_residuelle/input_440.raw with dim 175x152x152\n",
      ".read file C:/Chazal/ChallengeIFPEN2018/challenge_fichiers_dentrees_de_test_prediction_de_la_saturation_dhuile_residuelle/input_441.raw with dim 175x152x152\n",
      ".read file C:/Chazal/ChallengeIFPEN2018/challenge_fichiers_dentrees_de_test_prediction_de_la_saturation_dhuile_residuelle/input_442.raw with dim 175x152x152\n",
      ".read file C:/Chazal/ChallengeIFPEN2018/challenge_fichiers_dentrees_de_test_prediction_de_la_saturation_dhuile_residuelle/input_443.raw with dim 175x152x152\n",
      ".read file C:/Chazal/ChallengeIFPEN2018/challenge_fichiers_dentrees_de_test_prediction_de_la_saturation_dhuile_residuelle/input_444.raw with dim 175x152x152\n",
      ".read file C:/Chazal/ChallengeIFPEN2018/challenge_fichiers_dentrees_de_test_prediction_de_la_saturation_dhuile_residuelle/input_445.raw with dim 175x152x152\n",
      ".read file C:/Chazal/ChallengeIFPEN2018/challenge_fichiers_dentrees_de_test_prediction_de_la_saturation_dhuile_residuelle/input_446.raw with dim 175x152x152\n",
      ".read file C:/Chazal/ChallengeIFPEN2018/challenge_fichiers_dentrees_de_test_prediction_de_la_saturation_dhuile_residuelle/input_447.raw with dim 175x152x152\n",
      ".read file C:/Chazal/ChallengeIFPEN2018/challenge_fichiers_dentrees_de_test_prediction_de_la_saturation_dhuile_residuelle/input_448.raw with dim 175x152x152\n",
      ".read file C:/Chazal/ChallengeIFPEN2018/challenge_fichiers_dentrees_de_test_prediction_de_la_saturation_dhuile_residuelle/input_449.raw with dim 175x152x152\n",
      ".read file C:/Chazal/ChallengeIFPEN2018/challenge_fichiers_dentrees_de_test_prediction_de_la_saturation_dhuile_residuelle/input_450.raw with dim 175x152x152\n",
      ".read file C:/Chazal/ChallengeIFPEN2018/challenge_fichiers_dentrees_de_test_prediction_de_la_saturation_dhuile_residuelle/input_451.raw with dim 175x152x152\n",
      ".read file C:/Chazal/ChallengeIFPEN2018/challenge_fichiers_dentrees_de_test_prediction_de_la_saturation_dhuile_residuelle/input_452.raw with dim 175x152x152\n",
      ".read file C:/Chazal/ChallengeIFPEN2018/challenge_fichiers_dentrees_de_test_prediction_de_la_saturation_dhuile_residuelle/input_453.raw with dim 175x152x152\n",
      ".read file C:/Chazal/ChallengeIFPEN2018/challenge_fichiers_dentrees_de_test_prediction_de_la_saturation_dhuile_residuelle/input_454.raw with dim 175x152x152\n",
      ".read file C:/Chazal/ChallengeIFPEN2018/challenge_fichiers_dentrees_de_test_prediction_de_la_saturation_dhuile_residuelle/input_455.raw with dim 175x152x152\n"
     ]
    },
    {
     "name": "stdout",
     "output_type": "stream",
     "text": [
      ".read file C:/Chazal/ChallengeIFPEN2018/challenge_fichiers_dentrees_de_test_prediction_de_la_saturation_dhuile_residuelle/input_456.raw with dim 175x152x152\n",
      ".read file C:/Chazal/ChallengeIFPEN2018/challenge_fichiers_dentrees_de_test_prediction_de_la_saturation_dhuile_residuelle/input_457.raw with dim 175x152x152\n",
      ".read file C:/Chazal/ChallengeIFPEN2018/challenge_fichiers_dentrees_de_test_prediction_de_la_saturation_dhuile_residuelle/input_458.raw with dim 175x152x152\n",
      ".read file C:/Chazal/ChallengeIFPEN2018/challenge_fichiers_dentrees_de_test_prediction_de_la_saturation_dhuile_residuelle/input_459.raw with dim 175x152x152\n",
      ".read file C:/Chazal/ChallengeIFPEN2018/challenge_fichiers_dentrees_de_test_prediction_de_la_saturation_dhuile_residuelle/input_460.raw with dim 175x152x152\n",
      ".read file C:/Chazal/ChallengeIFPEN2018/challenge_fichiers_dentrees_de_test_prediction_de_la_saturation_dhuile_residuelle/input_461.raw with dim 175x152x152\n",
      ".read file C:/Chazal/ChallengeIFPEN2018/challenge_fichiers_dentrees_de_test_prediction_de_la_saturation_dhuile_residuelle/input_462.raw with dim 175x152x152\n",
      ".read file C:/Chazal/ChallengeIFPEN2018/challenge_fichiers_dentrees_de_test_prediction_de_la_saturation_dhuile_residuelle/input_463.raw with dim 175x152x152\n",
      ".read file C:/Chazal/ChallengeIFPEN2018/challenge_fichiers_dentrees_de_test_prediction_de_la_saturation_dhuile_residuelle/input_464.raw with dim 175x152x152\n",
      ".read file C:/Chazal/ChallengeIFPEN2018/challenge_fichiers_dentrees_de_test_prediction_de_la_saturation_dhuile_residuelle/input_465.raw with dim 175x152x152\n",
      ".read file C:/Chazal/ChallengeIFPEN2018/challenge_fichiers_dentrees_de_test_prediction_de_la_saturation_dhuile_residuelle/input_466.raw with dim 175x152x152\n",
      ".read file C:/Chazal/ChallengeIFPEN2018/challenge_fichiers_dentrees_de_test_prediction_de_la_saturation_dhuile_residuelle/input_467.raw with dim 175x152x152\n",
      ".read file C:/Chazal/ChallengeIFPEN2018/challenge_fichiers_dentrees_de_test_prediction_de_la_saturation_dhuile_residuelle/input_468.raw with dim 175x152x152\n",
      ".read file C:/Chazal/ChallengeIFPEN2018/challenge_fichiers_dentrees_de_test_prediction_de_la_saturation_dhuile_residuelle/input_469.raw with dim 175x152x152\n",
      ".read file C:/Chazal/ChallengeIFPEN2018/challenge_fichiers_dentrees_de_test_prediction_de_la_saturation_dhuile_residuelle/input_470.raw with dim 175x152x152\n",
      ".read file C:/Chazal/ChallengeIFPEN2018/challenge_fichiers_dentrees_de_test_prediction_de_la_saturation_dhuile_residuelle/input_471.raw with dim 175x152x152\n",
      ".read file C:/Chazal/ChallengeIFPEN2018/challenge_fichiers_dentrees_de_test_prediction_de_la_saturation_dhuile_residuelle/input_472.raw with dim 175x152x152\n",
      ".read file C:/Chazal/ChallengeIFPEN2018/challenge_fichiers_dentrees_de_test_prediction_de_la_saturation_dhuile_residuelle/input_473.raw with dim 175x152x152\n",
      ".read file C:/Chazal/ChallengeIFPEN2018/challenge_fichiers_dentrees_de_test_prediction_de_la_saturation_dhuile_residuelle/input_474.raw with dim 175x152x152\n",
      ".read file C:/Chazal/ChallengeIFPEN2018/challenge_fichiers_dentrees_de_test_prediction_de_la_saturation_dhuile_residuelle/input_475.raw with dim 175x152x152\n",
      ".read file C:/Chazal/ChallengeIFPEN2018/challenge_fichiers_dentrees_de_test_prediction_de_la_saturation_dhuile_residuelle/input_476.raw with dim 175x152x152\n",
      ".read file C:/Chazal/ChallengeIFPEN2018/challenge_fichiers_dentrees_de_test_prediction_de_la_saturation_dhuile_residuelle/input_477.raw with dim 175x152x152\n",
      ".read file C:/Chazal/ChallengeIFPEN2018/challenge_fichiers_dentrees_de_test_prediction_de_la_saturation_dhuile_residuelle/input_478.raw with dim 175x152x152\n",
      ".read file C:/Chazal/ChallengeIFPEN2018/challenge_fichiers_dentrees_de_test_prediction_de_la_saturation_dhuile_residuelle/input_479.raw with dim 175x152x152\n",
      ".read file C:/Chazal/ChallengeIFPEN2018/challenge_fichiers_dentrees_de_test_prediction_de_la_saturation_dhuile_residuelle/input_480.raw with dim 175x152x152\n",
      ".read file C:/Chazal/ChallengeIFPEN2018/challenge_fichiers_dentrees_de_test_prediction_de_la_saturation_dhuile_residuelle/input_481.raw with dim 175x152x152\n",
      ".read file C:/Chazal/ChallengeIFPEN2018/challenge_fichiers_dentrees_de_test_prediction_de_la_saturation_dhuile_residuelle/input_482.raw with dim 175x152x152\n",
      ".read file C:/Chazal/ChallengeIFPEN2018/challenge_fichiers_dentrees_de_test_prediction_de_la_saturation_dhuile_residuelle/input_483.raw with dim 175x152x152\n",
      ".read file C:/Chazal/ChallengeIFPEN2018/challenge_fichiers_dentrees_de_test_prediction_de_la_saturation_dhuile_residuelle/input_484.raw with dim 175x152x152\n",
      ".read file C:/Chazal/ChallengeIFPEN2018/challenge_fichiers_dentrees_de_test_prediction_de_la_saturation_dhuile_residuelle/input_485.raw with dim 175x152x152\n",
      ".read file C:/Chazal/ChallengeIFPEN2018/challenge_fichiers_dentrees_de_test_prediction_de_la_saturation_dhuile_residuelle/input_486.raw with dim 175x152x152\n",
      ".read file C:/Chazal/ChallengeIFPEN2018/challenge_fichiers_dentrees_de_test_prediction_de_la_saturation_dhuile_residuelle/input_487.raw with dim 175x152x152\n",
      ".read file C:/Chazal/ChallengeIFPEN2018/challenge_fichiers_dentrees_de_test_prediction_de_la_saturation_dhuile_residuelle/input_488.raw with dim 175x152x152\n",
      ".read file C:/Chazal/ChallengeIFPEN2018/challenge_fichiers_dentrees_de_test_prediction_de_la_saturation_dhuile_residuelle/input_489.raw with dim 175x152x152\n",
      ".read file C:/Chazal/ChallengeIFPEN2018/challenge_fichiers_dentrees_de_test_prediction_de_la_saturation_dhuile_residuelle/input_490.raw with dim 175x152x152\n",
      ".read file C:/Chazal/ChallengeIFPEN2018/challenge_fichiers_dentrees_de_test_prediction_de_la_saturation_dhuile_residuelle/input_491.raw with dim 175x152x152\n",
      ".read file C:/Chazal/ChallengeIFPEN2018/challenge_fichiers_dentrees_de_test_prediction_de_la_saturation_dhuile_residuelle/input_492.raw with dim 175x152x152\n",
      ".read file C:/Chazal/ChallengeIFPEN2018/challenge_fichiers_dentrees_de_test_prediction_de_la_saturation_dhuile_residuelle/input_493.raw with dim 175x152x152\n",
      ".read file C:/Chazal/ChallengeIFPEN2018/challenge_fichiers_dentrees_de_test_prediction_de_la_saturation_dhuile_residuelle/input_494.raw with dim 175x152x152\n",
      ".read file C:/Chazal/ChallengeIFPEN2018/challenge_fichiers_dentrees_de_test_prediction_de_la_saturation_dhuile_residuelle/input_495.raw with dim 175x152x152\n",
      ".read file C:/Chazal/ChallengeIFPEN2018/challenge_fichiers_dentrees_de_test_prediction_de_la_saturation_dhuile_residuelle/input_496.raw with dim 175x152x152\n",
      ".read file C:/Chazal/ChallengeIFPEN2018/challenge_fichiers_dentrees_de_test_prediction_de_la_saturation_dhuile_residuelle/input_497.raw with dim 175x152x152\n",
      ".read file C:/Chazal/ChallengeIFPEN2018/challenge_fichiers_dentrees_de_test_prediction_de_la_saturation_dhuile_residuelle/input_498.raw with dim 175x152x152\n",
      ".read file C:/Chazal/ChallengeIFPEN2018/challenge_fichiers_dentrees_de_test_prediction_de_la_saturation_dhuile_residuelle/input_499.raw with dim 175x152x152\n",
      ".read file C:/Chazal/ChallengeIFPEN2018/challenge_fichiers_dentrees_de_test_prediction_de_la_saturation_dhuile_residuelle/input_500.raw with dim 175x152x152\n",
      ".read file C:/Chazal/ChallengeIFPEN2018/challenge_fichiers_dentrees_de_test_prediction_de_la_saturation_dhuile_residuelle/input_501.raw with dim 175x152x152\n",
      ".read file C:/Chazal/ChallengeIFPEN2018/challenge_fichiers_dentrees_de_test_prediction_de_la_saturation_dhuile_residuelle/input_502.raw with dim 175x152x152\n",
      ".read file C:/Chazal/ChallengeIFPEN2018/challenge_fichiers_dentrees_de_test_prediction_de_la_saturation_dhuile_residuelle/input_503.raw with dim 175x152x152\n",
      ".read file C:/Chazal/ChallengeIFPEN2018/challenge_fichiers_dentrees_de_test_prediction_de_la_saturation_dhuile_residuelle/input_504.raw with dim 175x152x152\n",
      ".read file C:/Chazal/ChallengeIFPEN2018/challenge_fichiers_dentrees_de_test_prediction_de_la_saturation_dhuile_residuelle/input_505.raw with dim 175x152x152\n",
      ".read file C:/Chazal/ChallengeIFPEN2018/challenge_fichiers_dentrees_de_test_prediction_de_la_saturation_dhuile_residuelle/input_506.raw with dim 175x152x152\n",
      ".read file C:/Chazal/ChallengeIFPEN2018/challenge_fichiers_dentrees_de_test_prediction_de_la_saturation_dhuile_residuelle/input_507.raw with dim 175x152x152\n",
      ".read file C:/Chazal/ChallengeIFPEN2018/challenge_fichiers_dentrees_de_test_prediction_de_la_saturation_dhuile_residuelle/input_508.raw with dim 175x152x152\n",
      ".read file C:/Chazal/ChallengeIFPEN2018/challenge_fichiers_dentrees_de_test_prediction_de_la_saturation_dhuile_residuelle/input_509.raw with dim 175x152x152\n",
      ".read file C:/Chazal/ChallengeIFPEN2018/challenge_fichiers_dentrees_de_test_prediction_de_la_saturation_dhuile_residuelle/input_510.raw with dim 175x152x152\n",
      ".read file C:/Chazal/ChallengeIFPEN2018/challenge_fichiers_dentrees_de_test_prediction_de_la_saturation_dhuile_residuelle/input_511.raw with dim 175x152x152\n"
     ]
    },
    {
     "ename": "NameError",
     "evalue": "name 'TrainTestest' is not defined",
     "output_type": "error",
     "traceback": [
      "\u001b[1;31m---------------------------------------------------------------------------\u001b[0m",
      "\u001b[1;31mNameError\u001b[0m                                 Traceback (most recent call last)",
      "\u001b[1;32m<ipython-input-26-6c9815b1f427>\u001b[0m in \u001b[0;36m<module>\u001b[1;34m()\u001b[0m\n\u001b[0;32m     10\u001b[0m \u001b[0mFeat_volDTM_voids\u001b[0m \u001b[1;33m=\u001b[0m \u001b[0mnp\u001b[0m\u001b[1;33m.\u001b[0m\u001b[0marray\u001b[0m\u001b[1;33m(\u001b[0m\u001b[0mFeat_volDTM_voids\u001b[0m\u001b[1;33m)\u001b[0m\u001b[1;33m\u001b[0m\u001b[0m\n\u001b[0;32m     11\u001b[0m \u001b[1;33m\u001b[0m\u001b[0m\n\u001b[1;32m---> 12\u001b[1;33m \u001b[1;32mif\u001b[0m \u001b[0mTrainTestest\u001b[0m \u001b[1;33m==\u001b[0m \u001b[1;34m\"Train\"\u001b[0m\u001b[1;33m:\u001b[0m\u001b[1;33m\u001b[0m\u001b[0m\n\u001b[0m\u001b[0;32m     13\u001b[0m     \u001b[0mpickle\u001b[0m\u001b[1;33m.\u001b[0m\u001b[0mdump\u001b[0m\u001b[1;33m(\u001b[0m\u001b[0mFeat_volDTM_voids\u001b[0m\u001b[1;33m,\u001b[0m\u001b[0mopen\u001b[0m\u001b[1;33m(\u001b[0m\u001b[0mCHALLENGE_PATH\u001b[0m \u001b[1;33m+\u001b[0m \u001b[1;34m\"Feat_volDTM\"\u001b[0m\u001b[1;33m+\u001b[0m \u001b[0mstr\u001b[0m\u001b[1;33m(\u001b[0m\u001b[0mkNN\u001b[0m\u001b[1;33m)\u001b[0m \u001b[1;33m+\u001b[0m\u001b[1;34m\"_voids.dat\"\u001b[0m\u001b[1;33m,\u001b[0m \u001b[1;34m\"wb\"\u001b[0m\u001b[1;33m)\u001b[0m\u001b[1;33m)\u001b[0m\u001b[1;33m\u001b[0m\u001b[0m\n\u001b[0;32m     14\u001b[0m \u001b[1;32melse\u001b[0m\u001b[1;33m:\u001b[0m\u001b[1;33m\u001b[0m\u001b[0m\n",
      "\u001b[1;31mNameError\u001b[0m: name 'TrainTestest' is not defined"
     ]
    }
   ],
   "source": [
    "kNN = 1\n",
    "\n",
    "Feat_volDTM_voids = []\n",
    "total_vol = DEFAULT_SIZE[0]*DEFAULT_SIZE[1]*DEFAULT_SIZE[2]\n",
    "for idx in range(StartIdx,StartIdx+NB_INPUT_IMG):\n",
    "    img, DTM_img =load_img_and_DTM(idx,kNN)\n",
    "    buff = DTM_img.get_whole_array()\n",
    "    buff_in_void = np.multiply(buff, img.get_whole_array())\n",
    "    Feat_volDTM_voids.append(np.sum(buff_in_void)/(total_vol))\n",
    "Feat_volDTM_voids = np.array(Feat_volDTM_voids)\n",
    "\n",
    "if TrainTest == \"Train\":\n",
    "    pickle.dump(Feat_volDTM_voids,open(CHALLENGE_PATH + \"Feat_volDTM\"+ str(kNN) +\"_voids.dat\", \"wb\"))\n",
    "else:\n",
    "    pickle.dump(Feat_volDTM_voids,open(CHALLENGE_PATH + \"Feat_volDTM\"+ str(kNN) +\"_voids_test.dat\", \"wb\"))\n",
    "#Don't forget to rename the Feat_volDTM_voids variable if several values of kNN are considered"
   ]
  },
  {
   "cell_type": "markdown",
   "metadata": {},
   "source": [
    "### 2.3 Computation of the area (normalized) of the boundary of the voids"
   ]
  },
  {
   "cell_type": "code",
   "execution_count": 28,
   "metadata": {
    "collapsed": true
   },
   "outputs": [],
   "source": [
    "Feat_area_bd = []\n",
    "normalize_factor = DEFAULT_SIZE[0]*DEFAULT_SIZE[1]\n",
    "for idx in range(StartIdx,StartIdx+NB_INPUT_IMG):\n",
    "    bdimg = pickle.load(open(CHALLENGE_PATH + \"ImgBD/ImgBD_\" + str(idx) + \".dat\", \"rb\"),encoding=\"latin1\")\n",
    "    nb_pts = np.sum(bdimg.get_whole_array())\n",
    "    Feat_area_bd.append(nb_pts/normalize_factor)\n",
    "Feat_area_bd = np.array(Feat_area_bd)\n",
    "Feat_area_bd =np.reshape(Feat_area_bd,(NB_INPUT_IMG,1))\n",
    "\n",
    "if TrainTest == \"Train\":\n",
    "    pickle.dump(Feat_area_bd,open(CHALLENGE_PATH + \"Feat_area_bd.dat\", \"wb\"))\n",
    "else:\n",
    "    pickle.dump(Feat_area_bd,open(CHALLENGE_PATH + \"Feat_area_bd_test.dat\", \"wb\"))"
   ]
  },
  {
   "cell_type": "markdown",
   "metadata": {},
   "source": [
    "### 2.4 Getting the distribution of areas of voids of slices"
   ]
  },
  {
   "cell_type": "code",
   "execution_count": 29,
   "metadata": {},
   "outputs": [
    {
     "name": "stdout",
     "output_type": "stream",
     "text": [
      ".read file C:/Chazal/ChallengeIFPEN2018/challenge_fichiers_dentrees_de_test_prediction_de_la_saturation_dhuile_residuelle/input_400.raw with dim 175x152x152\n",
      ".read file C:/Chazal/ChallengeIFPEN2018/challenge_fichiers_dentrees_de_test_prediction_de_la_saturation_dhuile_residuelle/input_401.raw with dim 175x152x152\n",
      ".read file C:/Chazal/ChallengeIFPEN2018/challenge_fichiers_dentrees_de_test_prediction_de_la_saturation_dhuile_residuelle/input_402.raw with dim 175x152x152\n",
      ".read file C:/Chazal/ChallengeIFPEN2018/challenge_fichiers_dentrees_de_test_prediction_de_la_saturation_dhuile_residuelle/input_403.raw with dim 175x152x152\n",
      ".read file C:/Chazal/ChallengeIFPEN2018/challenge_fichiers_dentrees_de_test_prediction_de_la_saturation_dhuile_residuelle/input_404.raw with dim 175x152x152\n",
      ".read file C:/Chazal/ChallengeIFPEN2018/challenge_fichiers_dentrees_de_test_prediction_de_la_saturation_dhuile_residuelle/input_405.raw with dim 175x152x152\n",
      ".read file C:/Chazal/ChallengeIFPEN2018/challenge_fichiers_dentrees_de_test_prediction_de_la_saturation_dhuile_residuelle/input_406.raw with dim 175x152x152\n",
      ".read file C:/Chazal/ChallengeIFPEN2018/challenge_fichiers_dentrees_de_test_prediction_de_la_saturation_dhuile_residuelle/input_407.raw with dim 175x152x152\n",
      ".read file C:/Chazal/ChallengeIFPEN2018/challenge_fichiers_dentrees_de_test_prediction_de_la_saturation_dhuile_residuelle/input_408.raw with dim 175x152x152\n",
      ".read file C:/Chazal/ChallengeIFPEN2018/challenge_fichiers_dentrees_de_test_prediction_de_la_saturation_dhuile_residuelle/input_409.raw with dim 175x152x152\n",
      ".read file C:/Chazal/ChallengeIFPEN2018/challenge_fichiers_dentrees_de_test_prediction_de_la_saturation_dhuile_residuelle/input_410.raw with dim 175x152x152\n",
      ".read file C:/Chazal/ChallengeIFPEN2018/challenge_fichiers_dentrees_de_test_prediction_de_la_saturation_dhuile_residuelle/input_411.raw with dim 175x152x152\n",
      ".read file C:/Chazal/ChallengeIFPEN2018/challenge_fichiers_dentrees_de_test_prediction_de_la_saturation_dhuile_residuelle/input_412.raw with dim 175x152x152\n",
      ".read file C:/Chazal/ChallengeIFPEN2018/challenge_fichiers_dentrees_de_test_prediction_de_la_saturation_dhuile_residuelle/input_413.raw with dim 175x152x152\n",
      ".read file C:/Chazal/ChallengeIFPEN2018/challenge_fichiers_dentrees_de_test_prediction_de_la_saturation_dhuile_residuelle/input_414.raw with dim 175x152x152\n",
      ".read file C:/Chazal/ChallengeIFPEN2018/challenge_fichiers_dentrees_de_test_prediction_de_la_saturation_dhuile_residuelle/input_415.raw with dim 175x152x152\n",
      ".read file C:/Chazal/ChallengeIFPEN2018/challenge_fichiers_dentrees_de_test_prediction_de_la_saturation_dhuile_residuelle/input_416.raw with dim 175x152x152\n",
      ".read file C:/Chazal/ChallengeIFPEN2018/challenge_fichiers_dentrees_de_test_prediction_de_la_saturation_dhuile_residuelle/input_417.raw with dim 175x152x152\n",
      ".read file C:/Chazal/ChallengeIFPEN2018/challenge_fichiers_dentrees_de_test_prediction_de_la_saturation_dhuile_residuelle/input_418.raw with dim 175x152x152\n",
      ".read file C:/Chazal/ChallengeIFPEN2018/challenge_fichiers_dentrees_de_test_prediction_de_la_saturation_dhuile_residuelle/input_419.raw with dim 175x152x152\n",
      ".read file C:/Chazal/ChallengeIFPEN2018/challenge_fichiers_dentrees_de_test_prediction_de_la_saturation_dhuile_residuelle/input_420.raw with dim 175x152x152\n",
      ".read file C:/Chazal/ChallengeIFPEN2018/challenge_fichiers_dentrees_de_test_prediction_de_la_saturation_dhuile_residuelle/input_421.raw with dim 175x152x152\n",
      ".read file C:/Chazal/ChallengeIFPEN2018/challenge_fichiers_dentrees_de_test_prediction_de_la_saturation_dhuile_residuelle/input_422.raw with dim 175x152x152\n",
      ".read file C:/Chazal/ChallengeIFPEN2018/challenge_fichiers_dentrees_de_test_prediction_de_la_saturation_dhuile_residuelle/input_423.raw with dim 175x152x152\n",
      ".read file C:/Chazal/ChallengeIFPEN2018/challenge_fichiers_dentrees_de_test_prediction_de_la_saturation_dhuile_residuelle/input_424.raw with dim 175x152x152\n",
      ".read file C:/Chazal/ChallengeIFPEN2018/challenge_fichiers_dentrees_de_test_prediction_de_la_saturation_dhuile_residuelle/input_425.raw with dim 175x152x152\n",
      ".read file C:/Chazal/ChallengeIFPEN2018/challenge_fichiers_dentrees_de_test_prediction_de_la_saturation_dhuile_residuelle/input_426.raw with dim 175x152x152\n",
      ".read file C:/Chazal/ChallengeIFPEN2018/challenge_fichiers_dentrees_de_test_prediction_de_la_saturation_dhuile_residuelle/input_427.raw with dim 175x152x152\n",
      ".read file C:/Chazal/ChallengeIFPEN2018/challenge_fichiers_dentrees_de_test_prediction_de_la_saturation_dhuile_residuelle/input_428.raw with dim 175x152x152\n",
      ".read file C:/Chazal/ChallengeIFPEN2018/challenge_fichiers_dentrees_de_test_prediction_de_la_saturation_dhuile_residuelle/input_429.raw with dim 175x152x152\n",
      ".read file C:/Chazal/ChallengeIFPEN2018/challenge_fichiers_dentrees_de_test_prediction_de_la_saturation_dhuile_residuelle/input_430.raw with dim 175x152x152\n",
      ".read file C:/Chazal/ChallengeIFPEN2018/challenge_fichiers_dentrees_de_test_prediction_de_la_saturation_dhuile_residuelle/input_431.raw with dim 175x152x152\n",
      ".read file C:/Chazal/ChallengeIFPEN2018/challenge_fichiers_dentrees_de_test_prediction_de_la_saturation_dhuile_residuelle/input_432.raw with dim 175x152x152\n",
      ".read file C:/Chazal/ChallengeIFPEN2018/challenge_fichiers_dentrees_de_test_prediction_de_la_saturation_dhuile_residuelle/input_433.raw with dim 175x152x152\n",
      ".read file C:/Chazal/ChallengeIFPEN2018/challenge_fichiers_dentrees_de_test_prediction_de_la_saturation_dhuile_residuelle/input_434.raw with dim 175x152x152\n",
      ".read file C:/Chazal/ChallengeIFPEN2018/challenge_fichiers_dentrees_de_test_prediction_de_la_saturation_dhuile_residuelle/input_435.raw with dim 175x152x152\n",
      ".read file C:/Chazal/ChallengeIFPEN2018/challenge_fichiers_dentrees_de_test_prediction_de_la_saturation_dhuile_residuelle/input_436.raw with dim 175x152x152\n",
      ".read file C:/Chazal/ChallengeIFPEN2018/challenge_fichiers_dentrees_de_test_prediction_de_la_saturation_dhuile_residuelle/input_437.raw with dim 175x152x152\n",
      ".read file C:/Chazal/ChallengeIFPEN2018/challenge_fichiers_dentrees_de_test_prediction_de_la_saturation_dhuile_residuelle/input_438.raw with dim 175x152x152\n",
      ".read file C:/Chazal/ChallengeIFPEN2018/challenge_fichiers_dentrees_de_test_prediction_de_la_saturation_dhuile_residuelle/input_439.raw with dim 175x152x152\n",
      ".read file C:/Chazal/ChallengeIFPEN2018/challenge_fichiers_dentrees_de_test_prediction_de_la_saturation_dhuile_residuelle/input_440.raw with dim 175x152x152\n",
      ".read file C:/Chazal/ChallengeIFPEN2018/challenge_fichiers_dentrees_de_test_prediction_de_la_saturation_dhuile_residuelle/input_441.raw with dim 175x152x152\n",
      ".read file C:/Chazal/ChallengeIFPEN2018/challenge_fichiers_dentrees_de_test_prediction_de_la_saturation_dhuile_residuelle/input_442.raw with dim 175x152x152\n",
      ".read file C:/Chazal/ChallengeIFPEN2018/challenge_fichiers_dentrees_de_test_prediction_de_la_saturation_dhuile_residuelle/input_443.raw with dim 175x152x152\n",
      ".read file C:/Chazal/ChallengeIFPEN2018/challenge_fichiers_dentrees_de_test_prediction_de_la_saturation_dhuile_residuelle/input_444.raw with dim 175x152x152\n",
      ".read file C:/Chazal/ChallengeIFPEN2018/challenge_fichiers_dentrees_de_test_prediction_de_la_saturation_dhuile_residuelle/input_445.raw with dim 175x152x152\n",
      ".read file C:/Chazal/ChallengeIFPEN2018/challenge_fichiers_dentrees_de_test_prediction_de_la_saturation_dhuile_residuelle/input_446.raw with dim 175x152x152\n",
      ".read file C:/Chazal/ChallengeIFPEN2018/challenge_fichiers_dentrees_de_test_prediction_de_la_saturation_dhuile_residuelle/input_447.raw with dim 175x152x152\n",
      ".read file C:/Chazal/ChallengeIFPEN2018/challenge_fichiers_dentrees_de_test_prediction_de_la_saturation_dhuile_residuelle/input_448.raw with dim 175x152x152\n",
      ".read file C:/Chazal/ChallengeIFPEN2018/challenge_fichiers_dentrees_de_test_prediction_de_la_saturation_dhuile_residuelle/input_449.raw with dim 175x152x152\n",
      ".read file C:/Chazal/ChallengeIFPEN2018/challenge_fichiers_dentrees_de_test_prediction_de_la_saturation_dhuile_residuelle/input_450.raw with dim 175x152x152\n",
      ".read file C:/Chazal/ChallengeIFPEN2018/challenge_fichiers_dentrees_de_test_prediction_de_la_saturation_dhuile_residuelle/input_451.raw with dim 175x152x152\n",
      ".read file C:/Chazal/ChallengeIFPEN2018/challenge_fichiers_dentrees_de_test_prediction_de_la_saturation_dhuile_residuelle/input_452.raw with dim 175x152x152\n",
      ".read file C:/Chazal/ChallengeIFPEN2018/challenge_fichiers_dentrees_de_test_prediction_de_la_saturation_dhuile_residuelle/input_453.raw with dim 175x152x152\n",
      ".read file C:/Chazal/ChallengeIFPEN2018/challenge_fichiers_dentrees_de_test_prediction_de_la_saturation_dhuile_residuelle/input_454.raw with dim 175x152x152\n",
      ".read file C:/Chazal/ChallengeIFPEN2018/challenge_fichiers_dentrees_de_test_prediction_de_la_saturation_dhuile_residuelle/input_455.raw with dim 175x152x152\n",
      ".read file C:/Chazal/ChallengeIFPEN2018/challenge_fichiers_dentrees_de_test_prediction_de_la_saturation_dhuile_residuelle/input_456.raw with dim 175x152x152\n",
      ".read file C:/Chazal/ChallengeIFPEN2018/challenge_fichiers_dentrees_de_test_prediction_de_la_saturation_dhuile_residuelle/input_457.raw with dim 175x152x152\n",
      ".read file C:/Chazal/ChallengeIFPEN2018/challenge_fichiers_dentrees_de_test_prediction_de_la_saturation_dhuile_residuelle/input_458.raw with dim 175x152x152\n",
      ".read file C:/Chazal/ChallengeIFPEN2018/challenge_fichiers_dentrees_de_test_prediction_de_la_saturation_dhuile_residuelle/input_459.raw with dim 175x152x152\n",
      ".read file C:/Chazal/ChallengeIFPEN2018/challenge_fichiers_dentrees_de_test_prediction_de_la_saturation_dhuile_residuelle/input_460.raw with dim 175x152x152\n",
      ".read file C:/Chazal/ChallengeIFPEN2018/challenge_fichiers_dentrees_de_test_prediction_de_la_saturation_dhuile_residuelle/input_461.raw with dim 175x152x152\n",
      ".read file C:/Chazal/ChallengeIFPEN2018/challenge_fichiers_dentrees_de_test_prediction_de_la_saturation_dhuile_residuelle/input_462.raw with dim 175x152x152\n",
      ".read file C:/Chazal/ChallengeIFPEN2018/challenge_fichiers_dentrees_de_test_prediction_de_la_saturation_dhuile_residuelle/input_463.raw with dim 175x152x152\n",
      ".read file C:/Chazal/ChallengeIFPEN2018/challenge_fichiers_dentrees_de_test_prediction_de_la_saturation_dhuile_residuelle/input_464.raw with dim 175x152x152\n"
     ]
    },
    {
     "name": "stdout",
     "output_type": "stream",
     "text": [
      ".read file C:/Chazal/ChallengeIFPEN2018/challenge_fichiers_dentrees_de_test_prediction_de_la_saturation_dhuile_residuelle/input_465.raw with dim 175x152x152\n",
      ".read file C:/Chazal/ChallengeIFPEN2018/challenge_fichiers_dentrees_de_test_prediction_de_la_saturation_dhuile_residuelle/input_466.raw with dim 175x152x152\n",
      ".read file C:/Chazal/ChallengeIFPEN2018/challenge_fichiers_dentrees_de_test_prediction_de_la_saturation_dhuile_residuelle/input_467.raw with dim 175x152x152\n",
      ".read file C:/Chazal/ChallengeIFPEN2018/challenge_fichiers_dentrees_de_test_prediction_de_la_saturation_dhuile_residuelle/input_468.raw with dim 175x152x152\n",
      ".read file C:/Chazal/ChallengeIFPEN2018/challenge_fichiers_dentrees_de_test_prediction_de_la_saturation_dhuile_residuelle/input_469.raw with dim 175x152x152\n",
      ".read file C:/Chazal/ChallengeIFPEN2018/challenge_fichiers_dentrees_de_test_prediction_de_la_saturation_dhuile_residuelle/input_470.raw with dim 175x152x152\n",
      ".read file C:/Chazal/ChallengeIFPEN2018/challenge_fichiers_dentrees_de_test_prediction_de_la_saturation_dhuile_residuelle/input_471.raw with dim 175x152x152\n",
      ".read file C:/Chazal/ChallengeIFPEN2018/challenge_fichiers_dentrees_de_test_prediction_de_la_saturation_dhuile_residuelle/input_472.raw with dim 175x152x152\n",
      ".read file C:/Chazal/ChallengeIFPEN2018/challenge_fichiers_dentrees_de_test_prediction_de_la_saturation_dhuile_residuelle/input_473.raw with dim 175x152x152\n",
      ".read file C:/Chazal/ChallengeIFPEN2018/challenge_fichiers_dentrees_de_test_prediction_de_la_saturation_dhuile_residuelle/input_474.raw with dim 175x152x152\n",
      ".read file C:/Chazal/ChallengeIFPEN2018/challenge_fichiers_dentrees_de_test_prediction_de_la_saturation_dhuile_residuelle/input_475.raw with dim 175x152x152\n",
      ".read file C:/Chazal/ChallengeIFPEN2018/challenge_fichiers_dentrees_de_test_prediction_de_la_saturation_dhuile_residuelle/input_476.raw with dim 175x152x152\n",
      ".read file C:/Chazal/ChallengeIFPEN2018/challenge_fichiers_dentrees_de_test_prediction_de_la_saturation_dhuile_residuelle/input_477.raw with dim 175x152x152\n",
      ".read file C:/Chazal/ChallengeIFPEN2018/challenge_fichiers_dentrees_de_test_prediction_de_la_saturation_dhuile_residuelle/input_478.raw with dim 175x152x152\n",
      ".read file C:/Chazal/ChallengeIFPEN2018/challenge_fichiers_dentrees_de_test_prediction_de_la_saturation_dhuile_residuelle/input_479.raw with dim 175x152x152\n",
      ".read file C:/Chazal/ChallengeIFPEN2018/challenge_fichiers_dentrees_de_test_prediction_de_la_saturation_dhuile_residuelle/input_480.raw with dim 175x152x152\n",
      ".read file C:/Chazal/ChallengeIFPEN2018/challenge_fichiers_dentrees_de_test_prediction_de_la_saturation_dhuile_residuelle/input_481.raw with dim 175x152x152\n",
      ".read file C:/Chazal/ChallengeIFPEN2018/challenge_fichiers_dentrees_de_test_prediction_de_la_saturation_dhuile_residuelle/input_482.raw with dim 175x152x152\n",
      ".read file C:/Chazal/ChallengeIFPEN2018/challenge_fichiers_dentrees_de_test_prediction_de_la_saturation_dhuile_residuelle/input_483.raw with dim 175x152x152\n",
      ".read file C:/Chazal/ChallengeIFPEN2018/challenge_fichiers_dentrees_de_test_prediction_de_la_saturation_dhuile_residuelle/input_484.raw with dim 175x152x152\n",
      ".read file C:/Chazal/ChallengeIFPEN2018/challenge_fichiers_dentrees_de_test_prediction_de_la_saturation_dhuile_residuelle/input_485.raw with dim 175x152x152\n",
      ".read file C:/Chazal/ChallengeIFPEN2018/challenge_fichiers_dentrees_de_test_prediction_de_la_saturation_dhuile_residuelle/input_486.raw with dim 175x152x152\n",
      ".read file C:/Chazal/ChallengeIFPEN2018/challenge_fichiers_dentrees_de_test_prediction_de_la_saturation_dhuile_residuelle/input_487.raw with dim 175x152x152\n",
      ".read file C:/Chazal/ChallengeIFPEN2018/challenge_fichiers_dentrees_de_test_prediction_de_la_saturation_dhuile_residuelle/input_488.raw with dim 175x152x152\n",
      ".read file C:/Chazal/ChallengeIFPEN2018/challenge_fichiers_dentrees_de_test_prediction_de_la_saturation_dhuile_residuelle/input_489.raw with dim 175x152x152\n",
      ".read file C:/Chazal/ChallengeIFPEN2018/challenge_fichiers_dentrees_de_test_prediction_de_la_saturation_dhuile_residuelle/input_490.raw with dim 175x152x152\n",
      ".read file C:/Chazal/ChallengeIFPEN2018/challenge_fichiers_dentrees_de_test_prediction_de_la_saturation_dhuile_residuelle/input_491.raw with dim 175x152x152\n",
      ".read file C:/Chazal/ChallengeIFPEN2018/challenge_fichiers_dentrees_de_test_prediction_de_la_saturation_dhuile_residuelle/input_492.raw with dim 175x152x152\n",
      ".read file C:/Chazal/ChallengeIFPEN2018/challenge_fichiers_dentrees_de_test_prediction_de_la_saturation_dhuile_residuelle/input_493.raw with dim 175x152x152\n",
      ".read file C:/Chazal/ChallengeIFPEN2018/challenge_fichiers_dentrees_de_test_prediction_de_la_saturation_dhuile_residuelle/input_494.raw with dim 175x152x152\n",
      ".read file C:/Chazal/ChallengeIFPEN2018/challenge_fichiers_dentrees_de_test_prediction_de_la_saturation_dhuile_residuelle/input_495.raw with dim 175x152x152\n",
      ".read file C:/Chazal/ChallengeIFPEN2018/challenge_fichiers_dentrees_de_test_prediction_de_la_saturation_dhuile_residuelle/input_496.raw with dim 175x152x152\n",
      ".read file C:/Chazal/ChallengeIFPEN2018/challenge_fichiers_dentrees_de_test_prediction_de_la_saturation_dhuile_residuelle/input_497.raw with dim 175x152x152\n",
      ".read file C:/Chazal/ChallengeIFPEN2018/challenge_fichiers_dentrees_de_test_prediction_de_la_saturation_dhuile_residuelle/input_498.raw with dim 175x152x152\n",
      ".read file C:/Chazal/ChallengeIFPEN2018/challenge_fichiers_dentrees_de_test_prediction_de_la_saturation_dhuile_residuelle/input_499.raw with dim 175x152x152\n",
      ".read file C:/Chazal/ChallengeIFPEN2018/challenge_fichiers_dentrees_de_test_prediction_de_la_saturation_dhuile_residuelle/input_500.raw with dim 175x152x152\n",
      ".read file C:/Chazal/ChallengeIFPEN2018/challenge_fichiers_dentrees_de_test_prediction_de_la_saturation_dhuile_residuelle/input_501.raw with dim 175x152x152\n",
      ".read file C:/Chazal/ChallengeIFPEN2018/challenge_fichiers_dentrees_de_test_prediction_de_la_saturation_dhuile_residuelle/input_502.raw with dim 175x152x152\n",
      ".read file C:/Chazal/ChallengeIFPEN2018/challenge_fichiers_dentrees_de_test_prediction_de_la_saturation_dhuile_residuelle/input_503.raw with dim 175x152x152\n",
      ".read file C:/Chazal/ChallengeIFPEN2018/challenge_fichiers_dentrees_de_test_prediction_de_la_saturation_dhuile_residuelle/input_504.raw with dim 175x152x152\n",
      ".read file C:/Chazal/ChallengeIFPEN2018/challenge_fichiers_dentrees_de_test_prediction_de_la_saturation_dhuile_residuelle/input_505.raw with dim 175x152x152\n",
      ".read file C:/Chazal/ChallengeIFPEN2018/challenge_fichiers_dentrees_de_test_prediction_de_la_saturation_dhuile_residuelle/input_506.raw with dim 175x152x152\n",
      ".read file C:/Chazal/ChallengeIFPEN2018/challenge_fichiers_dentrees_de_test_prediction_de_la_saturation_dhuile_residuelle/input_507.raw with dim 175x152x152\n",
      ".read file C:/Chazal/ChallengeIFPEN2018/challenge_fichiers_dentrees_de_test_prediction_de_la_saturation_dhuile_residuelle/input_508.raw with dim 175x152x152\n",
      ".read file C:/Chazal/ChallengeIFPEN2018/challenge_fichiers_dentrees_de_test_prediction_de_la_saturation_dhuile_residuelle/input_509.raw with dim 175x152x152\n",
      ".read file C:/Chazal/ChallengeIFPEN2018/challenge_fichiers_dentrees_de_test_prediction_de_la_saturation_dhuile_residuelle/input_510.raw with dim 175x152x152\n",
      ".read file C:/Chazal/ChallengeIFPEN2018/challenge_fichiers_dentrees_de_test_prediction_de_la_saturation_dhuile_residuelle/input_511.raw with dim 175x152x152\n"
     ]
    }
   ],
   "source": [
    "### Getting the distribution of areas of voids of slices\n",
    "Feat_vol_slices = []\n",
    "total_area = DEFAULT_SIZE[1]*DEFAULT_SIZE[2]\n",
    "for idx in range(StartIdx,StartIdx+NB_INPUT_IMG):\n",
    "    areas = []\n",
    "    file_name_img = DATA_PATH + \"input_\" + str(idx) + \".raw\"\n",
    "    io = ImageIO(file_name_img)\n",
    "    img = io.read(DEFAULT_SIZE[0], DEFAULT_SIZE[1], DEFAULT_SIZE[2])\n",
    "    for k in range(DEFAULT_SIZE[0]):\n",
    "        areas.append(np.sum(img.get_plane(k))/total_area)\n",
    "    Feat_vol_slices.append([np.mean(areas),np.std(areas)])\n",
    "Feat_vol_slices = np.array(Feat_vol_slices)\n",
    "if TrainTest == \"Train\":\n",
    "    pickle.dump(Feat_vol_slices,open(CHALLENGE_PATH + \"Voids_slices.dat\", \"wb\"))\n",
    "else:\n",
    "    pickle.dump(Feat_vol_slices,open(CHALLENGE_PATH + \"Voids_slices_test.dat\", \"wb\"))"
   ]
  },
  {
   "cell_type": "markdown",
   "metadata": {},
   "source": [
    "### 2.5 Getting the distribution of length of boundaries in slices"
   ]
  },
  {
   "cell_type": "code",
   "execution_count": 30,
   "metadata": {
    "collapsed": true
   },
   "outputs": [],
   "source": [
    "### Getting the distribution of length of boundaries in slices\n",
    "Feat_length_slices = []\n",
    "total_length = DEFAULT_SIZE[1]\n",
    "for idx in range(StartIdx,StartIdx+NB_INPUT_IMG):\n",
    "    lengths = []\n",
    "    file_name_img = CHALLENGE_PATH + \"ImgBD/ImgBD_\" + str(idx) + \".dat\"\n",
    "    img = pickle.load(open(file_name_img, \"rb\"),encoding=\"latin1\")\n",
    "    for k in range(DEFAULT_SIZE[0]):\n",
    "        lengths.append(np.sum(img.get_plane(k))/total_length)\n",
    "    Feat_length_slices.append([np.mean(lengths),np.std(lengths)])\n",
    "Feat_length_slices = np.array(Feat_length_slices)\n",
    "\n",
    "if TrainTest == \"Train\":\n",
    "    pickle.dump(Feat_length_slices,open(CHALLENGE_PATH + \"Length_slices.dat\", \"wb\"))\n",
    "else:\n",
    "    pickle.dump(Feat_length_slices,open(CHALLENGE_PATH + \"Length_slices_test.dat\", \"wb\"))"
   ]
  },
  {
   "cell_type": "markdown",
   "metadata": {},
   "source": [
    "### 2.6 Compute histogram or percentiles of the distance values at local max of the distance function"
   ]
  },
  {
   "cell_type": "code",
   "execution_count": 31,
   "metadata": {
    "collapsed": true
   },
   "outputs": [],
   "source": [
    "#Compute percentiles of the distribution of the distance values of the local max\n",
    "Feat_loc_max = []\n",
    "list_loc_max = []\n",
    "#percents = [10,20,30,40,50,60,70,80,90,95,98,99]\n",
    "\n",
    "for idx in range(StartIdx,StartIdx+NB_INPUT_IMG):\n",
    "    loc_max = pickle.load(open(CHALLENGE_PATH + \"DTM/loc_max_DTM1_\"+ str(idx) + \".dat\", \"rb\"), encoding=\"latin1\")\n",
    "    loc_max = np.array(loc_max)\n",
    "    list_loc_max.append(loc_max)\n",
    "    #prc = []\n",
    "    #for ip in percents:\n",
    "    #    prc.append(np.percentile(loc_max[:,1],ip))\n",
    "    hst = np.histogram(loc_max[:,1],bins=20)\n",
    "    Feat_loc_max.append(np.concatenate([hst[0],hst[1]],axis=0))\n",
    "Feat_loc_max = np.array(Feat_loc_max)\n",
    "\n",
    "if TrainTest == \"Train\":\n",
    "    pickle.dump(Feat_loc_max,open(CHALLENGE_PATH + \"Feat_Locmax.dat\", \"wb\"))\n",
    "else:\n",
    "    pickle.dump(Feat_loc_max,open(CHALLENGE_PATH + \"Feat_Locmax_test.dat\", \"wb\"))"
   ]
  },
  {
   "cell_type": "markdown",
   "metadata": {},
   "source": [
    "### 2.7 Compute density of 3D images"
   ]
  },
  {
   "cell_type": "code",
   "execution_count": 32,
   "metadata": {
    "collapsed": true
   },
   "outputs": [],
   "source": [
    "def get_density(img, ngbh=2):\n",
    "    buff = img.get_whole_array()\n",
    "    vol_tot = (2*ngbh+1)*(2*ngbh+1)*(2*ngbh+1)\n",
    "    density_img = Image3D(np.zeros((DEFAULT_SIZE[0],DEFAULT_SIZE[1],DEFAULT_SIZE[2])))\n",
    "    for i in range(ngbh,DEFAULT_SIZE[0]-ngbh):\n",
    "        for j in range(ngbh,DEFAULT_SIZE[1]-ngbh):\n",
    "            for k in range(ngbh,DEFAULT_SIZE[2]-ngbh):\n",
    "                density_img.set_value(j,k,i,np.sum(buff[i-ngbh:i+ngbh+1,j-ngbh:j+ngbh+1,k-ngbh:k+ngbh+1])/vol_tot)\n",
    "    return density_img"
   ]
  },
  {
   "cell_type": "code",
   "execution_count": 33,
   "metadata": {},
   "outputs": [
    {
     "name": "stdout",
     "output_type": "stream",
     "text": [
      "400\n",
      "405\n",
      "410\n",
      "415\n",
      "420\n",
      "425\n",
      "430\n",
      "435\n",
      "440\n",
      "445\n",
      "450\n",
      "455\n",
      "460\n",
      "465\n",
      "470\n",
      "475\n",
      "480\n",
      "485\n",
      "490\n",
      "495\n",
      "500\n",
      "505\n",
      "510\n"
     ]
    }
   ],
   "source": [
    "for idx in range(StartIdx,StartIdx+NB_INPUT_IMG):\n",
    "    img = list_img3D[idx-StartIdx]\n",
    "    d_img = get_density(img,ngbh=2)\n",
    "    filename = \"SetDensity2_\" + str(idx) + \".dat\"\n",
    "    pickle.dump(d_img, open(CHALLENGE_PATH + \"SetDensity2/\" + filename,\"wb\"))\n",
    "    if idx%5 == 0:\n",
    "        print(idx)"
   ]
  },
  {
   "cell_type": "markdown",
   "metadata": {},
   "source": [
    "#### histograms of density values"
   ]
  },
  {
   "cell_type": "code",
   "execution_count": 34,
   "metadata": {
    "collapsed": true
   },
   "outputs": [],
   "source": [
    "nb_bins = 12\n",
    "Feat_density_hist = []\n",
    "for idx in range(StartIdx,StartIdx+NB_INPUT_IMG):\n",
    "    filename = \"SetDensity2_\" + str(idx) + \".dat\"\n",
    "    d_img = pickle.load(open(CHALLENGE_PATH + \"SetDensity2/\" + filename, \"rb\"),encoding=\"latin1\")\n",
    "    hst = np.histogram(d_img.get_whole_array(),bins=nb_bins)\n",
    "    tot = np.sum(hst[0][1:nb_bins-1]) #total number of pixels where the boundary value is different from extremal values (0 and 1).\n",
    "    Feat_density_hist.append(hst[0][1:nb_bins-1]/tot) #numbers of voxels per bins are normalized\n",
    "Feat_density_hist = np.array(Feat_density_hist)\n",
    "\n",
    "#save the density histograms features \n",
    "if TrainTest == \"Train\":\n",
    "    pickle.dump(Feat_density_hist,open(CHALLENGE_PATH + \"SetDensity2_hist.dat\", \"wb\"))\n",
    "else:\n",
    "    pickle.dump(Feat_density_hist,open(CHALLENGE_PATH + \"SetDensity2_hist_test.dat\", \"wb\"))"
   ]
  },
  {
   "cell_type": "markdown",
   "metadata": {},
   "source": [
    "## 3. Load all non persistence features"
   ]
  },
  {
   "cell_type": "code",
   "execution_count": 308,
   "metadata": {
    "collapsed": true
   },
   "outputs": [],
   "source": [
    "if TrainTest == \"Test\":\n",
    "    Feat_vol_voids = pickle.load(open(CHALLENGE_PATH + \"Feat_vol_voids_test.dat\", \"rb\"), encoding=\"latin1\")\n",
    "    kNN=1\n",
    "    Feat_volDTM_voids = pickle.load(open(CHALLENGE_PATH + \"Feat_volDTM\"+ str(kNN) +\"_voids_test.dat\", \"rb\"), encoding=\"latin1\")\n",
    "    Feat_area_bd = pickle.load(open(CHALLENGE_PATH + \"Feat_area_bd_test.dat\", \"rb\"), encoding=\"latin1\")\n",
    "    Feat_vol_slices = pickle.load(open(CHALLENGE_PATH + \"Voids_slices_test.dat\", \"rb\"), encoding=\"latin1\")\n",
    "    Feat_length_slices = pickle.load(open(CHALLENGE_PATH + \"Length_slices_test.dat\",\"rb\"),encoding=\"latin1\")\n",
    "    Feat_loc_max = pickle.load(open(CHALLENGE_PATH + \"Feat_Locmax_test.dat\", \"rb\"),encoding=\"latin1\")\n",
    "    Feat_density_hist = pickle.load(open(CHALLENGE_PATH + \"SetDensity2_hist_test.dat\", \"rb\"),encoding=\"latin1\")\n",
    "else:\n",
    "    Feat_vol_voids = pickle.load(open(CHALLENGE_PATH + \"Feat_vol_voids.dat\", \"rb\"), encoding=\"latin1\")\n",
    "    kNN=1\n",
    "    Feat_volDTM_voids = pickle.load(open(CHALLENGE_PATH + \"Feat_volDTM\"+ str(kNN) +\"_voids.dat\", \"rb\"), encoding=\"latin1\")\n",
    "    Feat_area_bd = pickle.load(open(CHALLENGE_PATH + \"Feat_area_bd.dat\", \"rb\"), encoding=\"latin1\")\n",
    "    Feat_vol_slices = pickle.load(open(CHALLENGE_PATH + \"Voids_slices.dat\", \"rb\"), encoding=\"latin1\")\n",
    "    Feat_length_slices = pickle.load(open(CHALLENGE_PATH + \"Length_slices.dat\",\"rb\"),encoding=\"latin1\")\n",
    "    Feat_loc_max = pickle.load(open(CHALLENGE_PATH + \"Feat_Locmax.dat\", \"rb\"),encoding=\"latin1\")\n",
    "    Feat_density_hist = pickle.load(open(CHALLENGE_PATH + \"SetDensity2_hist.dat\", \"rb\"),encoding=\"latin1\")"
   ]
  },
  {
   "cell_type": "markdown",
   "metadata": {},
   "source": [
    "## 4. Persistence diagrams"
   ]
  },
  {
   "cell_type": "markdown",
   "metadata": {},
   "source": [
    "### 4.1Functions to compute persistence"
   ]
  },
  {
   "cell_type": "code",
   "execution_count": 114,
   "metadata": {
    "collapsed": true
   },
   "outputs": [],
   "source": [
    "#Function to compute persistence on cubical complexes\n",
    "def persist_img(img):\n",
    "    buf = img.get_whole_array()\n",
    "    lval = []\n",
    "    for k in range(DEFAULT_SIZE[2]):\n",
    "        for j in range(DEFAULT_SIZE[1]):\n",
    "            for i in range(DEFAULT_SIZE[0]):\n",
    "                lval.append(buf[i,j,k]) \n",
    "    cub_cpx = gd.CubicalComplex(DEFAULT_SIZE,lval)\n",
    "    return cub_cpx, cub_cpx.persistence(homology_coeff_field=2, min_persistence=0)"
   ]
  },
  {
   "cell_type": "code",
   "execution_count": 115,
   "metadata": {
    "collapsed": true
   },
   "outputs": [],
   "source": [
    "#Function to compute persistence\n",
    "def persist_img_fn(img, fn, void_id=1, void_val=1000): #void_id has to be the value taken by img at the \"void\" points \n",
    "    buf = img.get_whole_array()\n",
    "    lval = []\n",
    "    for k in range(DEFAULT_SIZE[2]):\n",
    "        for j in range(DEFAULT_SIZE[1]):\n",
    "            for i in range(DEFAULT_SIZE[0]):\n",
    "                if buf[i,j,k]==void_id :\n",
    "                    lval.append(void_val)\n",
    "                else:\n",
    "                    lval.append(fn(i,j,k)) \n",
    "    cub_cpx = gd.CubicalComplex(DEFAULT_SIZE,lval)\n",
    "    return cub_cpx, cub_cpx.persistence(homology_coeff_field=2, min_persistence=0)\n",
    "\n",
    "#Persistence for the z-coordinate\n",
    "def fn_z(i,j,k):\n",
    "    return k\n",
    "\n",
    "def fn_x(i,j,k):\n",
    "    return i\n",
    "\n",
    "def fn_y(i,j,k):\n",
    "    return j"
   ]
  },
  {
   "cell_type": "markdown",
   "metadata": {},
   "source": [
    "### 4.2 Various function to deal with diagrams and compute persistence images"
   ]
  },
  {
   "cell_type": "markdown",
   "metadata": {},
   "source": [
    "#### To get diagrams per dimension"
   ]
  },
  {
   "cell_type": "code",
   "execution_count": 116,
   "metadata": {
    "collapsed": true
   },
   "outputs": [],
   "source": [
    "def get_dgm_dim012(dgm,details=False):\n",
    "    dgm0 = []\n",
    "    dgm1 = []\n",
    "    dgm2 = []\n",
    "    for p in dgm:\n",
    "        if (p[0]==0):\n",
    "            dgm0.append(p)\n",
    "        elif (p[0]==1):\n",
    "            dgm1.append(p)\n",
    "        elif (p[0]==2):\n",
    "            dgm2.append(p)\n",
    "    if details == True:\n",
    "        print(\"number of pairs in dim 0: \", len(dgm0))\n",
    "        print(\"number of pairs in dim 1: \", len(dgm1))\n",
    "        print(\"number of pairs in dim 2: \", len(dgm2))\n",
    "        print(\"number of pairs in dim 3: \", len(dgm3))\n",
    "        print(\"total number of pairs (for check): \", len(dgm0)+len(dgm1)+len(dgm2)+len(dgm3))\n",
    "    return dgm0, dgm1, dgm2"
   ]
  },
  {
   "cell_type": "code",
   "execution_count": 117,
   "metadata": {
    "collapsed": true
   },
   "outputs": [],
   "source": [
    "def get_list_dgm_per_dim(list_dgm):\n",
    "    list_dgm0 =[]\n",
    "    list_dgm1 =[]\n",
    "    list_dgm2 =[]\n",
    "    for dgm in list_dgm:\n",
    "        dgm0, dgm1, dgm2 = get_dgm_dim012(dgm)\n",
    "        list_dgm0.append(dgm0)\n",
    "        list_dgm1.append(dgm1)\n",
    "        list_dgm2.append(dgm2)\n",
    "    return list_dgm0, list_dgm1, list_dgm2"
   ]
  },
  {
   "cell_type": "markdown",
   "metadata": {},
   "source": [
    "#### Remove the dimension in persistence diagrams + essential part to prepare for persistence images computation"
   ]
  },
  {
   "cell_type": "code",
   "execution_count": 118,
   "metadata": {
    "collapsed": true
   },
   "outputs": [],
   "source": [
    "def remove_essential(dgm,max_death=np.inf):\n",
    "    dgm_ne =[]\n",
    "    for p in dgm:\n",
    "        if (p[1][1] < max_death):\n",
    "                dgm_ne.append(p)\n",
    "    return dgm_ne\n",
    "\n"
   ]
  },
  {
   "cell_type": "code",
   "execution_count": 119,
   "metadata": {
    "collapsed": true
   },
   "outputs": [],
   "source": [
    "def remove_dim_and_essential(list_dgm, max_death=np.inf):\n",
    "    list_dgm_nd = []   #for dim 0, also remove the point with infinite persistence\n",
    "    for dgm in list_dgm:\n",
    "        dgm_nd = []\n",
    "        for p in dgm:\n",
    "            if (p[1][1] < max_death):\n",
    "                dgm_nd.append(p[1])\n",
    "        list_dgm_nd.append(dgm_nd)\n",
    "    return list_dgm_nd"
   ]
  },
  {
   "cell_type": "markdown",
   "metadata": {},
   "source": [
    "#### To help to chose bounds in persistence images"
   ]
  },
  {
   "cell_type": "code",
   "execution_count": 120,
   "metadata": {
    "collapsed": true
   },
   "outputs": [],
   "source": [
    "def plot_dgm(list_dgm,idx,max_pts=100):\n",
    "    gd.plot_persistence_diagram(list_dgm[idx],max_plots=max_pts)\n",
    "    print(\"number of points in diagram: \", len(list_dgm[idx]))\n",
    "    print(\"Material: \", outputs[\"material\"][idx])"
   ]
  },
  {
   "cell_type": "markdown",
   "metadata": {},
   "source": [
    "#### Functions to compute persistence images"
   ]
  },
  {
   "cell_type": "code",
   "execution_count": 158,
   "metadata": {
    "collapsed": true
   },
   "outputs": [],
   "source": [
    "def weight_fn(x,y):\n",
    "    return np.abs(y)   #y*y for DTM (DTM30)\n",
    "\n",
    "def get_persistence_images(list_dgm_nd,x_min,x_max,nb_x_step,y_min,y_max,nb_y_step,sigma2, weight=weight_fn):\n",
    "    Feat_pers = []\n",
    "    Pers_img = []\n",
    "    for dgm in list_dgm_nd:\n",
    "        X,Y,IPers = persistence_surf(dgm,x_min,x_max,nb_x_step,y_min,y_max,nb_y_step,sigma2,\\\n",
    "                          weight=weight_fn)\n",
    "        Pers_img.append(IPers)\n",
    "        Feat_pers.append(np.ravel(IPers))\n",
    "    Feat_pers = np.array(Feat_pers)\n",
    "    return Feat_pers, Pers_img"
   ]
  },
  {
   "cell_type": "markdown",
   "metadata": {},
   "source": [
    "### Functions to load already computed images, persistence diagrams"
   ]
  },
  {
   "cell_type": "code",
   "execution_count": 159,
   "metadata": {
    "collapsed": true
   },
   "outputs": [],
   "source": [
    "#To load persistence diagrams of DTM function\n",
    "def load_DTM_dgm(idx,kNN=1):\n",
    "    file_name_dgm = CHALLENGE_PATH + \"DTM/dgm_DTM\" + str(kNN) + \"_\" + str(idx) + \".dat\"\n",
    "    return pickle.load(open(file_name_dgm, \"rb\"), encoding=\"latin1\")\n",
    "\n",
    "#To get all DTM diagrams\n",
    "def load_all_DTM_dgm(kNN=1):\n",
    "    list_dgm_DTM = []\n",
    "    for idx in range(StartIdx,StartIdx+NB_INPUT_IMG):\n",
    "        list_dgm_DTM.append(load_DTM_dgm(idx,kNN))\n",
    "    return list_dgm_DTM\n",
    "\n",
    "#To load the persistence diagrams of the alpha-shape filtration built on the local max of distance function (DTM1)\n",
    "def load_all_dgm_loc_max():\n",
    "    list_loc_max_dgm = []\n",
    "    for idx in range(StartIdx,StartIdx+NB_INPUT_IMG):\n",
    "        file_name_dgm = \"dgm_loc_max_\" + str(idx) + \".dat\"\n",
    "        dgm = pickle.load(open(CHALLENGE_PATH + \"DTM/\"+ file_name_dgm, \"rb\"),encoding=\"latin1\")\n",
    "        list_loc_max_dgm.append(dgm)\n",
    "    return list_loc_max_dgm\n",
    "\n",
    "\n",
    "#To load persistence diagrams of the distance function on the Delaunay triang built on top of local max\n",
    "def load_all_dgm_locmax_dist():\n",
    "    list_locmax_dist_dgm = []\n",
    "    for idx in range(StartIdx,StartIdx+NB_INPUT_IMG):\n",
    "        dgm = pickle.load(open(CHALLENGE_PATH + \"LocMaxDist/dgm_loc_max_dist\" + str(idx) + \".dat\", \"rb\"), encoding=\"latin1\")\n",
    "        list_locmax_dist_dgm.append(dgm)\n",
    "    return list_locmax_dist_dgm\n",
    "\n",
    "#To load persistence diagrams of the SetIntensity function\n",
    "def load_all_dgm_SetIntensity2():\n",
    "    list_intensity2_dgm = []\n",
    "    for idx in range(StartIdx,StartIdx+NB_INPUT_IMG):\n",
    "        file_dgm=  \"dgm_SetDensity2_\" + str(idx) + \".dat\"\n",
    "        dgm = pickle.load(open(CHALLENGE_PATH + \"SetDensity2/\" + file_dgm,\"rb\"),encoding=\"latin1\")\n",
    "        list_intensity2_dgm.append(dgm)\n",
    "    return list_intensity2_dgm\n",
    "\n",
    "#To load persistence diagrams of the height functions\n",
    "def load_all_dgm_height(coord=\"X\"):\n",
    "    if coord == \"X\":\n",
    "        file_path = CHALLENGE_PATH + \"DgmX/\"\n",
    "    elif coord == \"Y\":\n",
    "        file_path = CHALLENGE_PATH + \"DgmY/\"\n",
    "    elif coord == \"Z\":\n",
    "        file_path = CHALLENGE_PATH + \"DgmZ/\"\n",
    "    else :\n",
    "        print(\"Problem! Chose a correct value for coord\")\n",
    "    list_dgm = []\n",
    "    for idx in  range(StartIdx,StartIdx+NB_INPUT_IMG):\n",
    "        file_name = \"dgm_\" + str(idx) + \".dat\"\n",
    "        dgm = pickle.load(open(file_path + file_name,\"rb\"),encoding=\"latin1\")\n",
    "        list_dgm.append(dgm)\n",
    "    return list_dgm"
   ]
  },
  {
   "cell_type": "markdown",
   "metadata": {},
   "source": [
    "### 4.2 Compute persistence diagrams of DTM1 (indeed 30 - DTM1)"
   ]
  },
  {
   "cell_type": "code",
   "execution_count": 46,
   "metadata": {},
   "outputs": [
    {
     "name": "stdout",
     "output_type": "stream",
     "text": [
      "DTM dgm computed:  400\n",
      "DTM dgm computed:  401\n",
      "DTM dgm computed:  402\n",
      "DTM dgm computed:  403\n",
      "DTM dgm computed:  404\n",
      "DTM dgm computed:  405\n",
      "DTM dgm computed:  406\n",
      "DTM dgm computed:  407\n",
      "DTM dgm computed:  408\n",
      "DTM dgm computed:  409\n",
      "DTM dgm computed:  410\n",
      "DTM dgm computed:  411\n",
      "DTM dgm computed:  412\n",
      "DTM dgm computed:  413\n",
      "DTM dgm computed:  414\n",
      "DTM dgm computed:  415\n",
      "DTM dgm computed:  416\n",
      "DTM dgm computed:  417\n",
      "DTM dgm computed:  418\n",
      "DTM dgm computed:  419\n",
      "DTM dgm computed:  420\n",
      "DTM dgm computed:  421\n",
      "DTM dgm computed:  422\n",
      "DTM dgm computed:  423\n",
      "DTM dgm computed:  424\n",
      "DTM dgm computed:  425\n",
      "DTM dgm computed:  426\n",
      "DTM dgm computed:  427\n",
      "DTM dgm computed:  428\n",
      "DTM dgm computed:  429\n",
      "DTM dgm computed:  430\n",
      "DTM dgm computed:  431\n",
      "DTM dgm computed:  432\n",
      "DTM dgm computed:  433\n",
      "DTM dgm computed:  434\n",
      "DTM dgm computed:  435\n",
      "DTM dgm computed:  436\n",
      "DTM dgm computed:  437\n",
      "DTM dgm computed:  438\n",
      "DTM dgm computed:  439\n",
      "DTM dgm computed:  440\n",
      "DTM dgm computed:  441\n",
      "DTM dgm computed:  442\n",
      "DTM dgm computed:  443\n",
      "DTM dgm computed:  444\n",
      "DTM dgm computed:  445\n",
      "DTM dgm computed:  446\n",
      "DTM dgm computed:  447\n",
      "DTM dgm computed:  448\n",
      "DTM dgm computed:  449\n",
      "DTM dgm computed:  450\n",
      "DTM dgm computed:  451\n",
      "DTM dgm computed:  452\n",
      "DTM dgm computed:  453\n",
      "DTM dgm computed:  454\n",
      "DTM dgm computed:  455\n",
      "DTM dgm computed:  456\n",
      "DTM dgm computed:  457\n",
      "DTM dgm computed:  458\n",
      "DTM dgm computed:  459\n",
      "DTM dgm computed:  460\n",
      "DTM dgm computed:  461\n",
      "DTM dgm computed:  462\n",
      "DTM dgm computed:  463\n",
      "DTM dgm computed:  464\n",
      "DTM dgm computed:  465\n",
      "DTM dgm computed:  466\n",
      "DTM dgm computed:  467\n",
      "DTM dgm computed:  468\n",
      "DTM dgm computed:  469\n",
      "DTM dgm computed:  470\n",
      "DTM dgm computed:  471\n",
      "DTM dgm computed:  472\n",
      "DTM dgm computed:  473\n",
      "DTM dgm computed:  474\n",
      "DTM dgm computed:  475\n",
      "DTM dgm computed:  476\n",
      "DTM dgm computed:  477\n",
      "DTM dgm computed:  478\n",
      "DTM dgm computed:  479\n",
      "DTM dgm computed:  480\n",
      "DTM dgm computed:  481\n",
      "DTM dgm computed:  482\n",
      "DTM dgm computed:  483\n",
      "DTM dgm computed:  484\n",
      "DTM dgm computed:  485\n",
      "DTM dgm computed:  486\n",
      "DTM dgm computed:  487\n",
      "DTM dgm computed:  488\n",
      "DTM dgm computed:  489\n",
      "DTM dgm computed:  490\n",
      "DTM dgm computed:  491\n",
      "DTM dgm computed:  492\n",
      "DTM dgm computed:  493\n",
      "DTM dgm computed:  494\n",
      "DTM dgm computed:  495\n",
      "DTM dgm computed:  496\n",
      "DTM dgm computed:  497\n",
      "DTM dgm computed:  498\n",
      "DTM dgm computed:  499\n",
      "DTM dgm computed:  500\n",
      "DTM dgm computed:  501\n",
      "DTM dgm computed:  502\n",
      "DTM dgm computed:  503\n",
      "DTM dgm computed:  504\n",
      "DTM dgm computed:  505\n",
      "DTM dgm computed:  506\n",
      "DTM dgm computed:  507\n",
      "DTM dgm computed:  508\n",
      "DTM dgm computed:  509\n",
      "DTM dgm computed:  510\n",
      "DTM dgm computed:  511\n"
     ]
    }
   ],
   "source": [
    "kNN = 1\n",
    "MAX_INV = 30\n",
    "\n",
    "for nb in range(StartIdx,StartIdx+NB_INPUT_IMG):\n",
    "    file_name = \"img_DTM\" + str(kNN) + \"_\" + str(nb) + \".dat\"\n",
    "    DTM_img = pickle.load(open(CHALLENGE_PATH + \"DTM/\"+ file_name, \"rb\"),encoding=\"latin1\")\n",
    "    DTM_img_inv = Image3D(MAX_INV - DTM_img.get_whole_array())\n",
    "    cub_cpx, dgm = persist_img(DTM_img_inv)\n",
    "    file_name_dgm = \"dgm_DTM\" + str(kNN) + \"_\" + str(nb) + \".dat\"\n",
    "    pickle.dump(dgm,open(CHALLENGE_PATH + \"DTM/\"+ file_name_dgm, \"wb\"))\n",
    "    print(\"DTM dgm computed: \", nb)"
   ]
  },
  {
   "cell_type": "markdown",
   "metadata": {},
   "source": [
    "### 4.3 Computation of the persistence diagrams of the intensity function"
   ]
  },
  {
   "cell_type": "code",
   "execution_count": 47,
   "metadata": {},
   "outputs": [
    {
     "name": "stdout",
     "output_type": "stream",
     "text": [
      "Dgm computed: 400\n",
      "Dgm computed: 401\n",
      "Dgm computed: 402\n",
      "Dgm computed: 403\n",
      "Dgm computed: 404\n",
      "Dgm computed: 405\n",
      "Dgm computed: 406\n",
      "Dgm computed: 407\n",
      "Dgm computed: 408\n",
      "Dgm computed: 409\n",
      "Dgm computed: 410\n",
      "Dgm computed: 411\n",
      "Dgm computed: 412\n",
      "Dgm computed: 413\n",
      "Dgm computed: 414\n",
      "Dgm computed: 415\n",
      "Dgm computed: 416\n",
      "Dgm computed: 417\n",
      "Dgm computed: 418\n",
      "Dgm computed: 419\n",
      "Dgm computed: 420\n",
      "Dgm computed: 421\n",
      "Dgm computed: 422\n",
      "Dgm computed: 423\n",
      "Dgm computed: 424\n",
      "Dgm computed: 425\n",
      "Dgm computed: 426\n",
      "Dgm computed: 427\n",
      "Dgm computed: 428\n",
      "Dgm computed: 429\n",
      "Dgm computed: 430\n",
      "Dgm computed: 431\n",
      "Dgm computed: 432\n",
      "Dgm computed: 433\n",
      "Dgm computed: 434\n",
      "Dgm computed: 435\n",
      "Dgm computed: 436\n",
      "Dgm computed: 437\n",
      "Dgm computed: 438\n",
      "Dgm computed: 439\n",
      "Dgm computed: 440\n",
      "Dgm computed: 441\n",
      "Dgm computed: 442\n",
      "Dgm computed: 443\n",
      "Dgm computed: 444\n",
      "Dgm computed: 445\n",
      "Dgm computed: 446\n",
      "Dgm computed: 447\n",
      "Dgm computed: 448\n",
      "Dgm computed: 449\n",
      "Dgm computed: 450\n",
      "Dgm computed: 451\n",
      "Dgm computed: 452\n",
      "Dgm computed: 453\n",
      "Dgm computed: 454\n",
      "Dgm computed: 455\n",
      "Dgm computed: 456\n",
      "Dgm computed: 457\n",
      "Dgm computed: 458\n",
      "Dgm computed: 459\n",
      "Dgm computed: 460\n",
      "Dgm computed: 461\n",
      "Dgm computed: 462\n",
      "Dgm computed: 463\n",
      "Dgm computed: 464\n",
      "Dgm computed: 465\n",
      "Dgm computed: 466\n",
      "Dgm computed: 467\n",
      "Dgm computed: 468\n",
      "Dgm computed: 469\n",
      "Dgm computed: 470\n",
      "Dgm computed: 471\n",
      "Dgm computed: 472\n",
      "Dgm computed: 473\n",
      "Dgm computed: 474\n",
      "Dgm computed: 475\n",
      "Dgm computed: 476\n",
      "Dgm computed: 477\n",
      "Dgm computed: 478\n",
      "Dgm computed: 479\n",
      "Dgm computed: 480\n",
      "Dgm computed: 481\n",
      "Dgm computed: 482\n",
      "Dgm computed: 483\n",
      "Dgm computed: 484\n",
      "Dgm computed: 485\n",
      "Dgm computed: 486\n",
      "Dgm computed: 487\n",
      "Dgm computed: 488\n",
      "Dgm computed: 489\n",
      "Dgm computed: 490\n",
      "Dgm computed: 491\n",
      "Dgm computed: 492\n",
      "Dgm computed: 493\n",
      "Dgm computed: 494\n",
      "Dgm computed: 495\n",
      "Dgm computed: 496\n",
      "Dgm computed: 497\n",
      "Dgm computed: 498\n",
      "Dgm computed: 499\n",
      "Dgm computed: 500\n",
      "Dgm computed: 501\n",
      "Dgm computed: 502\n",
      "Dgm computed: 503\n",
      "Dgm computed: 504\n",
      "Dgm computed: 505\n",
      "Dgm computed: 506\n",
      "Dgm computed: 507\n",
      "Dgm computed: 508\n",
      "Dgm computed: 509\n",
      "Dgm computed: 510\n",
      "Dgm computed: 511\n"
     ]
    }
   ],
   "source": [
    "for idx in range(StartIdx,StartIdx+NB_INPUT_IMG):\n",
    "    filename = \"SetDensity2_\" + str(idx) + \".dat\"\n",
    "    img = pickle.load(open(CHALLENGE_PATH + \"SetDensity2/\" + filename,\"rb\"),encoding=\"latin1\")\n",
    "    cub_cpx, dgm = persist_img(img)\n",
    "    file_dgm=  \"dgm_SetDensity2_\" + str(idx) + \".dat\"\n",
    "    pickle.dump(dgm,open(CHALLENGE_PATH + \"SetDensity2/\" + file_dgm,\"wb\"))\n",
    "    print(\"Dgm computed:\", idx)"
   ]
  },
  {
   "cell_type": "markdown",
   "metadata": {},
   "source": [
    "### 4.4 Computation of the persistence diagrams of the X, Y and Z functions "
   ]
  },
  {
   "cell_type": "code",
   "execution_count": 50,
   "metadata": {},
   "outputs": [
    {
     "name": "stdout",
     "output_type": "stream",
     "text": [
      ".read file C:/Chazal/ChallengeIFPEN2018/challenge_fichiers_dentrees_de_test_prediction_de_la_saturation_dhuile_residuelle/input_400.raw with dim 175x152x152\n",
      "Dgm computed: 400\n",
      ".read file C:/Chazal/ChallengeIFPEN2018/challenge_fichiers_dentrees_de_test_prediction_de_la_saturation_dhuile_residuelle/input_401.raw with dim 175x152x152\n",
      ".read file C:/Chazal/ChallengeIFPEN2018/challenge_fichiers_dentrees_de_test_prediction_de_la_saturation_dhuile_residuelle/input_402.raw with dim 175x152x152\n",
      ".read file C:/Chazal/ChallengeIFPEN2018/challenge_fichiers_dentrees_de_test_prediction_de_la_saturation_dhuile_residuelle/input_403.raw with dim 175x152x152\n",
      ".read file C:/Chazal/ChallengeIFPEN2018/challenge_fichiers_dentrees_de_test_prediction_de_la_saturation_dhuile_residuelle/input_404.raw with dim 175x152x152\n",
      ".read file C:/Chazal/ChallengeIFPEN2018/challenge_fichiers_dentrees_de_test_prediction_de_la_saturation_dhuile_residuelle/input_405.raw with dim 175x152x152\n",
      "Dgm computed: 405\n",
      ".read file C:/Chazal/ChallengeIFPEN2018/challenge_fichiers_dentrees_de_test_prediction_de_la_saturation_dhuile_residuelle/input_406.raw with dim 175x152x152\n",
      ".read file C:/Chazal/ChallengeIFPEN2018/challenge_fichiers_dentrees_de_test_prediction_de_la_saturation_dhuile_residuelle/input_407.raw with dim 175x152x152\n",
      ".read file C:/Chazal/ChallengeIFPEN2018/challenge_fichiers_dentrees_de_test_prediction_de_la_saturation_dhuile_residuelle/input_408.raw with dim 175x152x152\n",
      ".read file C:/Chazal/ChallengeIFPEN2018/challenge_fichiers_dentrees_de_test_prediction_de_la_saturation_dhuile_residuelle/input_409.raw with dim 175x152x152\n",
      ".read file C:/Chazal/ChallengeIFPEN2018/challenge_fichiers_dentrees_de_test_prediction_de_la_saturation_dhuile_residuelle/input_410.raw with dim 175x152x152\n",
      "Dgm computed: 410\n",
      ".read file C:/Chazal/ChallengeIFPEN2018/challenge_fichiers_dentrees_de_test_prediction_de_la_saturation_dhuile_residuelle/input_411.raw with dim 175x152x152\n",
      ".read file C:/Chazal/ChallengeIFPEN2018/challenge_fichiers_dentrees_de_test_prediction_de_la_saturation_dhuile_residuelle/input_412.raw with dim 175x152x152\n",
      ".read file C:/Chazal/ChallengeIFPEN2018/challenge_fichiers_dentrees_de_test_prediction_de_la_saturation_dhuile_residuelle/input_413.raw with dim 175x152x152\n",
      ".read file C:/Chazal/ChallengeIFPEN2018/challenge_fichiers_dentrees_de_test_prediction_de_la_saturation_dhuile_residuelle/input_414.raw with dim 175x152x152\n",
      ".read file C:/Chazal/ChallengeIFPEN2018/challenge_fichiers_dentrees_de_test_prediction_de_la_saturation_dhuile_residuelle/input_415.raw with dim 175x152x152\n",
      "Dgm computed: 415\n",
      ".read file C:/Chazal/ChallengeIFPEN2018/challenge_fichiers_dentrees_de_test_prediction_de_la_saturation_dhuile_residuelle/input_416.raw with dim 175x152x152\n",
      ".read file C:/Chazal/ChallengeIFPEN2018/challenge_fichiers_dentrees_de_test_prediction_de_la_saturation_dhuile_residuelle/input_417.raw with dim 175x152x152\n",
      ".read file C:/Chazal/ChallengeIFPEN2018/challenge_fichiers_dentrees_de_test_prediction_de_la_saturation_dhuile_residuelle/input_418.raw with dim 175x152x152\n",
      ".read file C:/Chazal/ChallengeIFPEN2018/challenge_fichiers_dentrees_de_test_prediction_de_la_saturation_dhuile_residuelle/input_419.raw with dim 175x152x152\n",
      ".read file C:/Chazal/ChallengeIFPEN2018/challenge_fichiers_dentrees_de_test_prediction_de_la_saturation_dhuile_residuelle/input_420.raw with dim 175x152x152\n",
      "Dgm computed: 420\n",
      ".read file C:/Chazal/ChallengeIFPEN2018/challenge_fichiers_dentrees_de_test_prediction_de_la_saturation_dhuile_residuelle/input_421.raw with dim 175x152x152\n",
      ".read file C:/Chazal/ChallengeIFPEN2018/challenge_fichiers_dentrees_de_test_prediction_de_la_saturation_dhuile_residuelle/input_422.raw with dim 175x152x152\n",
      ".read file C:/Chazal/ChallengeIFPEN2018/challenge_fichiers_dentrees_de_test_prediction_de_la_saturation_dhuile_residuelle/input_423.raw with dim 175x152x152\n",
      ".read file C:/Chazal/ChallengeIFPEN2018/challenge_fichiers_dentrees_de_test_prediction_de_la_saturation_dhuile_residuelle/input_424.raw with dim 175x152x152\n",
      ".read file C:/Chazal/ChallengeIFPEN2018/challenge_fichiers_dentrees_de_test_prediction_de_la_saturation_dhuile_residuelle/input_425.raw with dim 175x152x152\n",
      "Dgm computed: 425\n",
      ".read file C:/Chazal/ChallengeIFPEN2018/challenge_fichiers_dentrees_de_test_prediction_de_la_saturation_dhuile_residuelle/input_426.raw with dim 175x152x152\n",
      ".read file C:/Chazal/ChallengeIFPEN2018/challenge_fichiers_dentrees_de_test_prediction_de_la_saturation_dhuile_residuelle/input_427.raw with dim 175x152x152\n",
      ".read file C:/Chazal/ChallengeIFPEN2018/challenge_fichiers_dentrees_de_test_prediction_de_la_saturation_dhuile_residuelle/input_428.raw with dim 175x152x152\n",
      ".read file C:/Chazal/ChallengeIFPEN2018/challenge_fichiers_dentrees_de_test_prediction_de_la_saturation_dhuile_residuelle/input_429.raw with dim 175x152x152\n",
      ".read file C:/Chazal/ChallengeIFPEN2018/challenge_fichiers_dentrees_de_test_prediction_de_la_saturation_dhuile_residuelle/input_430.raw with dim 175x152x152\n",
      "Dgm computed: 430\n",
      ".read file C:/Chazal/ChallengeIFPEN2018/challenge_fichiers_dentrees_de_test_prediction_de_la_saturation_dhuile_residuelle/input_431.raw with dim 175x152x152\n",
      ".read file C:/Chazal/ChallengeIFPEN2018/challenge_fichiers_dentrees_de_test_prediction_de_la_saturation_dhuile_residuelle/input_432.raw with dim 175x152x152\n",
      ".read file C:/Chazal/ChallengeIFPEN2018/challenge_fichiers_dentrees_de_test_prediction_de_la_saturation_dhuile_residuelle/input_433.raw with dim 175x152x152\n",
      ".read file C:/Chazal/ChallengeIFPEN2018/challenge_fichiers_dentrees_de_test_prediction_de_la_saturation_dhuile_residuelle/input_434.raw with dim 175x152x152\n",
      ".read file C:/Chazal/ChallengeIFPEN2018/challenge_fichiers_dentrees_de_test_prediction_de_la_saturation_dhuile_residuelle/input_435.raw with dim 175x152x152\n",
      "Dgm computed: 435\n",
      ".read file C:/Chazal/ChallengeIFPEN2018/challenge_fichiers_dentrees_de_test_prediction_de_la_saturation_dhuile_residuelle/input_436.raw with dim 175x152x152\n",
      ".read file C:/Chazal/ChallengeIFPEN2018/challenge_fichiers_dentrees_de_test_prediction_de_la_saturation_dhuile_residuelle/input_437.raw with dim 175x152x152\n",
      ".read file C:/Chazal/ChallengeIFPEN2018/challenge_fichiers_dentrees_de_test_prediction_de_la_saturation_dhuile_residuelle/input_438.raw with dim 175x152x152\n",
      ".read file C:/Chazal/ChallengeIFPEN2018/challenge_fichiers_dentrees_de_test_prediction_de_la_saturation_dhuile_residuelle/input_439.raw with dim 175x152x152\n",
      ".read file C:/Chazal/ChallengeIFPEN2018/challenge_fichiers_dentrees_de_test_prediction_de_la_saturation_dhuile_residuelle/input_440.raw with dim 175x152x152\n",
      "Dgm computed: 440\n",
      ".read file C:/Chazal/ChallengeIFPEN2018/challenge_fichiers_dentrees_de_test_prediction_de_la_saturation_dhuile_residuelle/input_441.raw with dim 175x152x152\n",
      ".read file C:/Chazal/ChallengeIFPEN2018/challenge_fichiers_dentrees_de_test_prediction_de_la_saturation_dhuile_residuelle/input_442.raw with dim 175x152x152\n",
      ".read file C:/Chazal/ChallengeIFPEN2018/challenge_fichiers_dentrees_de_test_prediction_de_la_saturation_dhuile_residuelle/input_443.raw with dim 175x152x152\n",
      ".read file C:/Chazal/ChallengeIFPEN2018/challenge_fichiers_dentrees_de_test_prediction_de_la_saturation_dhuile_residuelle/input_444.raw with dim 175x152x152\n",
      ".read file C:/Chazal/ChallengeIFPEN2018/challenge_fichiers_dentrees_de_test_prediction_de_la_saturation_dhuile_residuelle/input_445.raw with dim 175x152x152\n",
      "Dgm computed: 445\n",
      ".read file C:/Chazal/ChallengeIFPEN2018/challenge_fichiers_dentrees_de_test_prediction_de_la_saturation_dhuile_residuelle/input_446.raw with dim 175x152x152\n",
      ".read file C:/Chazal/ChallengeIFPEN2018/challenge_fichiers_dentrees_de_test_prediction_de_la_saturation_dhuile_residuelle/input_447.raw with dim 175x152x152\n",
      ".read file C:/Chazal/ChallengeIFPEN2018/challenge_fichiers_dentrees_de_test_prediction_de_la_saturation_dhuile_residuelle/input_448.raw with dim 175x152x152\n",
      ".read file C:/Chazal/ChallengeIFPEN2018/challenge_fichiers_dentrees_de_test_prediction_de_la_saturation_dhuile_residuelle/input_449.raw with dim 175x152x152\n",
      ".read file C:/Chazal/ChallengeIFPEN2018/challenge_fichiers_dentrees_de_test_prediction_de_la_saturation_dhuile_residuelle/input_450.raw with dim 175x152x152\n",
      "Dgm computed: 450\n",
      ".read file C:/Chazal/ChallengeIFPEN2018/challenge_fichiers_dentrees_de_test_prediction_de_la_saturation_dhuile_residuelle/input_451.raw with dim 175x152x152\n"
     ]
    },
    {
     "name": "stdout",
     "output_type": "stream",
     "text": [
      ".read file C:/Chazal/ChallengeIFPEN2018/challenge_fichiers_dentrees_de_test_prediction_de_la_saturation_dhuile_residuelle/input_452.raw with dim 175x152x152\n",
      ".read file C:/Chazal/ChallengeIFPEN2018/challenge_fichiers_dentrees_de_test_prediction_de_la_saturation_dhuile_residuelle/input_453.raw with dim 175x152x152\n",
      ".read file C:/Chazal/ChallengeIFPEN2018/challenge_fichiers_dentrees_de_test_prediction_de_la_saturation_dhuile_residuelle/input_454.raw with dim 175x152x152\n",
      ".read file C:/Chazal/ChallengeIFPEN2018/challenge_fichiers_dentrees_de_test_prediction_de_la_saturation_dhuile_residuelle/input_455.raw with dim 175x152x152\n",
      "Dgm computed: 455\n",
      ".read file C:/Chazal/ChallengeIFPEN2018/challenge_fichiers_dentrees_de_test_prediction_de_la_saturation_dhuile_residuelle/input_456.raw with dim 175x152x152\n",
      ".read file C:/Chazal/ChallengeIFPEN2018/challenge_fichiers_dentrees_de_test_prediction_de_la_saturation_dhuile_residuelle/input_457.raw with dim 175x152x152\n",
      ".read file C:/Chazal/ChallengeIFPEN2018/challenge_fichiers_dentrees_de_test_prediction_de_la_saturation_dhuile_residuelle/input_458.raw with dim 175x152x152\n",
      ".read file C:/Chazal/ChallengeIFPEN2018/challenge_fichiers_dentrees_de_test_prediction_de_la_saturation_dhuile_residuelle/input_459.raw with dim 175x152x152\n",
      ".read file C:/Chazal/ChallengeIFPEN2018/challenge_fichiers_dentrees_de_test_prediction_de_la_saturation_dhuile_residuelle/input_460.raw with dim 175x152x152\n",
      "Dgm computed: 460\n",
      ".read file C:/Chazal/ChallengeIFPEN2018/challenge_fichiers_dentrees_de_test_prediction_de_la_saturation_dhuile_residuelle/input_461.raw with dim 175x152x152\n",
      ".read file C:/Chazal/ChallengeIFPEN2018/challenge_fichiers_dentrees_de_test_prediction_de_la_saturation_dhuile_residuelle/input_462.raw with dim 175x152x152\n",
      ".read file C:/Chazal/ChallengeIFPEN2018/challenge_fichiers_dentrees_de_test_prediction_de_la_saturation_dhuile_residuelle/input_463.raw with dim 175x152x152\n",
      ".read file C:/Chazal/ChallengeIFPEN2018/challenge_fichiers_dentrees_de_test_prediction_de_la_saturation_dhuile_residuelle/input_464.raw with dim 175x152x152\n",
      ".read file C:/Chazal/ChallengeIFPEN2018/challenge_fichiers_dentrees_de_test_prediction_de_la_saturation_dhuile_residuelle/input_465.raw with dim 175x152x152\n",
      "Dgm computed: 465\n",
      ".read file C:/Chazal/ChallengeIFPEN2018/challenge_fichiers_dentrees_de_test_prediction_de_la_saturation_dhuile_residuelle/input_466.raw with dim 175x152x152\n",
      ".read file C:/Chazal/ChallengeIFPEN2018/challenge_fichiers_dentrees_de_test_prediction_de_la_saturation_dhuile_residuelle/input_467.raw with dim 175x152x152\n",
      ".read file C:/Chazal/ChallengeIFPEN2018/challenge_fichiers_dentrees_de_test_prediction_de_la_saturation_dhuile_residuelle/input_468.raw with dim 175x152x152\n",
      ".read file C:/Chazal/ChallengeIFPEN2018/challenge_fichiers_dentrees_de_test_prediction_de_la_saturation_dhuile_residuelle/input_469.raw with dim 175x152x152\n",
      ".read file C:/Chazal/ChallengeIFPEN2018/challenge_fichiers_dentrees_de_test_prediction_de_la_saturation_dhuile_residuelle/input_470.raw with dim 175x152x152\n",
      "Dgm computed: 470\n",
      ".read file C:/Chazal/ChallengeIFPEN2018/challenge_fichiers_dentrees_de_test_prediction_de_la_saturation_dhuile_residuelle/input_471.raw with dim 175x152x152\n",
      ".read file C:/Chazal/ChallengeIFPEN2018/challenge_fichiers_dentrees_de_test_prediction_de_la_saturation_dhuile_residuelle/input_472.raw with dim 175x152x152\n",
      ".read file C:/Chazal/ChallengeIFPEN2018/challenge_fichiers_dentrees_de_test_prediction_de_la_saturation_dhuile_residuelle/input_473.raw with dim 175x152x152\n",
      ".read file C:/Chazal/ChallengeIFPEN2018/challenge_fichiers_dentrees_de_test_prediction_de_la_saturation_dhuile_residuelle/input_474.raw with dim 175x152x152\n",
      ".read file C:/Chazal/ChallengeIFPEN2018/challenge_fichiers_dentrees_de_test_prediction_de_la_saturation_dhuile_residuelle/input_475.raw with dim 175x152x152\n",
      "Dgm computed: 475\n",
      ".read file C:/Chazal/ChallengeIFPEN2018/challenge_fichiers_dentrees_de_test_prediction_de_la_saturation_dhuile_residuelle/input_476.raw with dim 175x152x152\n",
      ".read file C:/Chazal/ChallengeIFPEN2018/challenge_fichiers_dentrees_de_test_prediction_de_la_saturation_dhuile_residuelle/input_477.raw with dim 175x152x152\n",
      ".read file C:/Chazal/ChallengeIFPEN2018/challenge_fichiers_dentrees_de_test_prediction_de_la_saturation_dhuile_residuelle/input_478.raw with dim 175x152x152\n",
      ".read file C:/Chazal/ChallengeIFPEN2018/challenge_fichiers_dentrees_de_test_prediction_de_la_saturation_dhuile_residuelle/input_479.raw with dim 175x152x152\n",
      ".read file C:/Chazal/ChallengeIFPEN2018/challenge_fichiers_dentrees_de_test_prediction_de_la_saturation_dhuile_residuelle/input_480.raw with dim 175x152x152\n",
      "Dgm computed: 480\n",
      ".read file C:/Chazal/ChallengeIFPEN2018/challenge_fichiers_dentrees_de_test_prediction_de_la_saturation_dhuile_residuelle/input_481.raw with dim 175x152x152\n",
      ".read file C:/Chazal/ChallengeIFPEN2018/challenge_fichiers_dentrees_de_test_prediction_de_la_saturation_dhuile_residuelle/input_482.raw with dim 175x152x152\n",
      ".read file C:/Chazal/ChallengeIFPEN2018/challenge_fichiers_dentrees_de_test_prediction_de_la_saturation_dhuile_residuelle/input_483.raw with dim 175x152x152\n",
      ".read file C:/Chazal/ChallengeIFPEN2018/challenge_fichiers_dentrees_de_test_prediction_de_la_saturation_dhuile_residuelle/input_484.raw with dim 175x152x152\n",
      ".read file C:/Chazal/ChallengeIFPEN2018/challenge_fichiers_dentrees_de_test_prediction_de_la_saturation_dhuile_residuelle/input_485.raw with dim 175x152x152\n",
      "Dgm computed: 485\n",
      ".read file C:/Chazal/ChallengeIFPEN2018/challenge_fichiers_dentrees_de_test_prediction_de_la_saturation_dhuile_residuelle/input_486.raw with dim 175x152x152\n",
      ".read file C:/Chazal/ChallengeIFPEN2018/challenge_fichiers_dentrees_de_test_prediction_de_la_saturation_dhuile_residuelle/input_487.raw with dim 175x152x152\n",
      ".read file C:/Chazal/ChallengeIFPEN2018/challenge_fichiers_dentrees_de_test_prediction_de_la_saturation_dhuile_residuelle/input_488.raw with dim 175x152x152\n",
      ".read file C:/Chazal/ChallengeIFPEN2018/challenge_fichiers_dentrees_de_test_prediction_de_la_saturation_dhuile_residuelle/input_489.raw with dim 175x152x152\n",
      ".read file C:/Chazal/ChallengeIFPEN2018/challenge_fichiers_dentrees_de_test_prediction_de_la_saturation_dhuile_residuelle/input_490.raw with dim 175x152x152\n",
      "Dgm computed: 490\n",
      ".read file C:/Chazal/ChallengeIFPEN2018/challenge_fichiers_dentrees_de_test_prediction_de_la_saturation_dhuile_residuelle/input_491.raw with dim 175x152x152\n",
      ".read file C:/Chazal/ChallengeIFPEN2018/challenge_fichiers_dentrees_de_test_prediction_de_la_saturation_dhuile_residuelle/input_492.raw with dim 175x152x152\n",
      ".read file C:/Chazal/ChallengeIFPEN2018/challenge_fichiers_dentrees_de_test_prediction_de_la_saturation_dhuile_residuelle/input_493.raw with dim 175x152x152\n",
      ".read file C:/Chazal/ChallengeIFPEN2018/challenge_fichiers_dentrees_de_test_prediction_de_la_saturation_dhuile_residuelle/input_494.raw with dim 175x152x152\n",
      ".read file C:/Chazal/ChallengeIFPEN2018/challenge_fichiers_dentrees_de_test_prediction_de_la_saturation_dhuile_residuelle/input_495.raw with dim 175x152x152\n",
      "Dgm computed: 495\n",
      ".read file C:/Chazal/ChallengeIFPEN2018/challenge_fichiers_dentrees_de_test_prediction_de_la_saturation_dhuile_residuelle/input_496.raw with dim 175x152x152\n",
      ".read file C:/Chazal/ChallengeIFPEN2018/challenge_fichiers_dentrees_de_test_prediction_de_la_saturation_dhuile_residuelle/input_497.raw with dim 175x152x152\n",
      ".read file C:/Chazal/ChallengeIFPEN2018/challenge_fichiers_dentrees_de_test_prediction_de_la_saturation_dhuile_residuelle/input_498.raw with dim 175x152x152\n",
      ".read file C:/Chazal/ChallengeIFPEN2018/challenge_fichiers_dentrees_de_test_prediction_de_la_saturation_dhuile_residuelle/input_499.raw with dim 175x152x152\n",
      ".read file C:/Chazal/ChallengeIFPEN2018/challenge_fichiers_dentrees_de_test_prediction_de_la_saturation_dhuile_residuelle/input_500.raw with dim 175x152x152\n",
      "Dgm computed: 500\n",
      ".read file C:/Chazal/ChallengeIFPEN2018/challenge_fichiers_dentrees_de_test_prediction_de_la_saturation_dhuile_residuelle/input_501.raw with dim 175x152x152\n",
      ".read file C:/Chazal/ChallengeIFPEN2018/challenge_fichiers_dentrees_de_test_prediction_de_la_saturation_dhuile_residuelle/input_502.raw with dim 175x152x152\n",
      ".read file C:/Chazal/ChallengeIFPEN2018/challenge_fichiers_dentrees_de_test_prediction_de_la_saturation_dhuile_residuelle/input_503.raw with dim 175x152x152\n"
     ]
    },
    {
     "name": "stdout",
     "output_type": "stream",
     "text": [
      ".read file C:/Chazal/ChallengeIFPEN2018/challenge_fichiers_dentrees_de_test_prediction_de_la_saturation_dhuile_residuelle/input_504.raw with dim 175x152x152\n",
      ".read file C:/Chazal/ChallengeIFPEN2018/challenge_fichiers_dentrees_de_test_prediction_de_la_saturation_dhuile_residuelle/input_505.raw with dim 175x152x152\n",
      "Dgm computed: 505\n",
      ".read file C:/Chazal/ChallengeIFPEN2018/challenge_fichiers_dentrees_de_test_prediction_de_la_saturation_dhuile_residuelle/input_506.raw with dim 175x152x152\n",
      ".read file C:/Chazal/ChallengeIFPEN2018/challenge_fichiers_dentrees_de_test_prediction_de_la_saturation_dhuile_residuelle/input_507.raw with dim 175x152x152\n",
      ".read file C:/Chazal/ChallengeIFPEN2018/challenge_fichiers_dentrees_de_test_prediction_de_la_saturation_dhuile_residuelle/input_508.raw with dim 175x152x152\n",
      ".read file C:/Chazal/ChallengeIFPEN2018/challenge_fichiers_dentrees_de_test_prediction_de_la_saturation_dhuile_residuelle/input_509.raw with dim 175x152x152\n",
      ".read file C:/Chazal/ChallengeIFPEN2018/challenge_fichiers_dentrees_de_test_prediction_de_la_saturation_dhuile_residuelle/input_510.raw with dim 175x152x152\n",
      "Dgm computed: 510\n",
      ".read file C:/Chazal/ChallengeIFPEN2018/challenge_fichiers_dentrees_de_test_prediction_de_la_saturation_dhuile_residuelle/input_511.raw with dim 175x152x152\n"
     ]
    }
   ],
   "source": [
    "fn = fn_x\n",
    "folder = \"dgmX/\"\n",
    "\n",
    "for idx in range(StartIdx,StartIdx+NB_INPUT_IMG):\n",
    "    file_name = DATA_PATH + \"input_\" + str(idx) + \".raw\"\n",
    "    io = ImageIO(file_name)\n",
    "    img = io.read(DEFAULT_SIZE[0], DEFAULT_SIZE[1], DEFAULT_SIZE[2])\n",
    "    cub_cpx, dgm = persist_img_fn(img,fn,void_id=1,void_val=200)\n",
    "    file_dgm = \"dgm_\" + str(idx) + \".dat\"\n",
    "    pickle.dump(dgm,open(CHALLENGE_PATH + folder + file_dgm,\"wb\"))\n",
    "    if (idx % 5 ==0):\n",
    "        print(\"Dgm computed:\", idx)"
   ]
  },
  {
   "cell_type": "code",
   "execution_count": null,
   "metadata": {
    "collapsed": true
   },
   "outputs": [],
   "source": [
    "fn = fn_y\n",
    "folder = \"dgmY/\"\n",
    "\n",
    "for idx in range(StartIdx,StartIdx+NB_INPUT_IMG):\n",
    "    file_name = DATA_PATH + \"input_\" + str(idx) + \".raw\"\n",
    "    io = ImageIO(file_name)\n",
    "    img = io.read(DEFAULT_SIZE[0], DEFAULT_SIZE[1], DEFAULT_SIZE[2])\n",
    "    cub_cpx, dgm = persist_img_fn(img,fn,void_id=1,void_val=200)\n",
    "    file_dgm = \"dgm_\" + str(idx) + \".dat\"\n",
    "    pickle.dump(dgm,open(CHALLENGE_PATH + folder + file_dgm,\"wb\"))\n",
    "    if (idx % 5 ==0):\n",
    "        print(\"Dgm computed:\", idx)"
   ]
  },
  {
   "cell_type": "code",
   "execution_count": null,
   "metadata": {
    "collapsed": true
   },
   "outputs": [],
   "source": [
    "fn = fn_z\n",
    "folder = \"dgmZ/\"\n",
    "\n",
    "for idx in range(StartIdx,StartIdx+NB_INPUT_IMG):\n",
    "    file_name = DATA_PATH + \"input_\" + str(idx) + \".raw\"\n",
    "    io = ImageIO(file_name)\n",
    "    img = io.read(DEFAULT_SIZE[0], DEFAULT_SIZE[1], DEFAULT_SIZE[2])\n",
    "    cub_cpx, dgm = persist_img_fn(img,fn,void_id=1,void_val=200)\n",
    "    file_dgm = \"dgm_\" + str(idx) + \".dat\"\n",
    "    pickle.dump(dgm,open(CHALLENGE_PATH + folder + file_dgm,\"wb\"))\n",
    "    if (idx % 5 ==0):\n",
    "        print(\"Dgm computed:\", idx)"
   ]
  },
  {
   "cell_type": "code",
   "execution_count": null,
   "metadata": {
    "collapsed": true
   },
   "outputs": [],
   "source": []
  },
  {
   "cell_type": "markdown",
   "metadata": {},
   "source": [
    "### 4.5 Computation of the persistence diagrams of the alpha-complex built on top of the local max of DTM1 + DTM1 on the vertices of the Delaunay triang built on top of the local max of DTM1"
   ]
  },
  {
   "cell_type": "code",
   "execution_count": null,
   "metadata": {
    "collapsed": true
   },
   "outputs": [],
   "source": [
    "#Compute persistence of the alpha-complex built on top of local max\n",
    "noise = 0.001\n",
    "list_loc_max_dgm = []\n",
    "img = Image3D(np.zeros((DEFAULT_SIZE[0],DEFAULT_SIZE[1],DEFAULT_SIZE[2])))\n",
    "for idx in range(StartIdx,StartIdx+NB_INPUT_IMG):\n",
    "    loc_max = pickle.load(open(CHALLENGE_PATH + \"DTM/loc_max_DTM1_\"+ str(idx) + \".dat\", \"rb\"), encoding=\"latin1\")\n",
    "    loc_max = np.array(loc_max)\n",
    "    pt_cloud = []\n",
    "    for id in loc_max[:,0]:\n",
    "        [i,j,k] = img.get_indices(id)\n",
    "        pt_cloud.append([i,j,k]+noise*np.random.rand(3))\n",
    "    alpha_complex = gd.AlphaComplex(points=pt_cloud)\n",
    "    st = alpha_complex.create_simplex_tree(max_alpha_square=1000000000)\n",
    "    dgm = st.persistence(homology_coeff_field=2, min_persistence=0)\n",
    "    file_name_dgm = \"dgm_loc_max_\" + str(idx) + \".dat\"\n",
    "    pickle.dump(dgm,open(CHALLENGE_PATH + \"LocMaxDist/\"+ file_name_dgm, \"wb\"))\n",
    "    list_loc_max_dgm.append(dgm)\n",
    "    print(\"Loc max dgm computed: \", idx)"
   ]
  },
  {
   "cell_type": "code",
   "execution_count": null,
   "metadata": {
    "collapsed": true
   },
   "outputs": [],
   "source": [
    "#Compute persistence of the distance function on the Delaunay triang built on top of local max\n",
    "noise = 0.001\n",
    "list_locmax_dist_dgm = []\n",
    "img = Image3D(np.zeros((DEFAULT_SIZE[0],DEFAULT_SIZE[1],DEFAULT_SIZE[2])))\n",
    "for idx in range(StartIdx,StartIdx+NB_INPUT_IMG):\n",
    "    loc_max = pickle.load(open(CHALLENGE_PATH + \"DTM/loc_max_DTM1_\"+ str(idx) + \".dat\", \"rb\"), encoding=\"latin1\")\n",
    "    loc_max = np.array(loc_max)\n",
    "    pt_cloud = []\n",
    "    F = []\n",
    "    for id in range(len(loc_max[:,0])):\n",
    "        [i,j,k] = img.get_indices(loc_max[id,0])\n",
    "        pt_cloud.append([i,j,k]+noise*np.random.rand(3))\n",
    "        F.append(30 - loc_max[id,1])\n",
    "    alpha_complex = gd.AlphaComplex(points=pt_cloud)\n",
    "    st = alpha_complex.create_simplex_tree(max_alpha_square=1000000000)\n",
    "    st_new = gd.SimplexTree()\n",
    "    L = st.get_filtration()\n",
    "    for splx in L:\n",
    "        fval = np.max([F[i] for i in splx[0]])\n",
    "        st_new.insert(splx[0],filtration=fval)\n",
    "    dgm = st_new.persistence(homology_coeff_field=2, min_persistence=0)\n",
    "    file_name_dgm = \"dgm_loc_max_dist\" + str(idx) + \".dat\"\n",
    "    pickle.dump(dgm,open(CHALLENGE_PATH + \"LocMaxDist/\"+ file_name_dgm, \"wb\"))\n",
    "    list_locmax_dist_dgm.append(dgm)\n",
    "    print(\"Loc max dgm computed: \", idx)"
   ]
  },
  {
   "cell_type": "markdown",
   "metadata": {},
   "source": [
    "## 5. Compute (and save) persistence images"
   ]
  },
  {
   "cell_type": "markdown",
   "metadata": {},
   "source": [
    "### 5.1 Getting DTM1 diagrams and images"
   ]
  },
  {
   "cell_type": "code",
   "execution_count": 51,
   "metadata": {
    "collapsed": true
   },
   "outputs": [],
   "source": [
    "list_dgm_DTM1 = load_all_DTM_dgm(kNN=1)"
   ]
  },
  {
   "cell_type": "code",
   "execution_count": 52,
   "metadata": {
    "collapsed": true
   },
   "outputs": [],
   "source": [
    "#For DTM1, prepare lists of diagrams\n",
    "list_dgm0, list_dgm1, list_dgm2 = get_list_dgm_per_dim(list_dgm_DTM1)\n",
    "list_dgm0_nd = remove_dim_and_essential(list_dgm0, max_death=np.inf)\n",
    "list_dgm1_nd = remove_dim_and_essential(list_dgm1, max_death=np.inf)\n",
    "list_dgm2_nd = remove_dim_and_essential(list_dgm2, max_death=np.inf)"
   ]
  },
  {
   "cell_type": "code",
   "execution_count": 53,
   "metadata": {
    "collapsed": true
   },
   "outputs": [],
   "source": [
    "#Persistence images for DTM1 in dim 0\n",
    "nb_x_step = 6 #6\n",
    "nb_y_step = 5  #5\n",
    "ratio_sigma = 4 #4\n",
    "\n",
    "x_min = 20 #27.8\n",
    "x_max = 27 #28.8\n",
    "y_min = 0.0 #0.0\n",
    "y_max = 5.5 #1.0\n",
    "\n",
    "sigma2 = ( (x_max-x_min) / ratio_sigma) * ( (y_max - y_min) / ratio_sigma)\n",
    "\n",
    "Feat_DTM1_pers0, Pers_img_DTM1_0 = get_persistence_images(list_dgm0_nd,x_min,x_max,nb_x_step,y_min,y_max,nb_y_step,sigma2,\\\n",
    "                                                          weight=weight_fn)\n",
    "\n",
    "file_name_dgm = \"Feat_DTM1_pers0_test.dat\"\n",
    "pickle.dump(Feat_DTM1_pers0,open(CHALLENGE_PATH + file_name_dgm, \"wb\"))"
   ]
  },
  {
   "cell_type": "code",
   "execution_count": 54,
   "metadata": {
    "collapsed": true
   },
   "outputs": [],
   "source": [
    "#Persistence images for DTM1 in dim 1\n",
    "nb_x_step = 6 #6\n",
    "nb_y_step = 5  #5\n",
    "ratio_sigma = 4 #4\n",
    "\n",
    "x_min = 25 #27.8\n",
    "x_max = 28.8 #28.8\n",
    "y_min = 0.0 #0.0\n",
    "y_max = 2.5 #1.0\n",
    "\n",
    "sigma2 = ( (x_max-x_min) / ratio_sigma) * ( (y_max - y_min) / ratio_sigma)\n",
    "\n",
    "Feat_DTM1_pers1, Pers_img_DTM1_1 = get_persistence_images(list_dgm1_nd,x_min,x_max,nb_x_step,y_min,y_max,nb_y_step,sigma2,\\\n",
    "                                                          weight=weight_fn)\n",
    "\n",
    "file_name_dgm = \"Feat_DTM1_pers1_test.dat\"\n",
    "pickle.dump(Feat_DTM1_pers1,open(CHALLENGE_PATH + file_name_dgm, \"wb\"))"
   ]
  },
  {
   "cell_type": "code",
   "execution_count": 58,
   "metadata": {
    "collapsed": true
   },
   "outputs": [],
   "source": [
    "#Persistence images for DTM1 in dim 2\n",
    "nb_x_step = 6 #6\n",
    "nb_y_step = 5  #5\n",
    "ratio_sigma = 4 #4\n",
    "\n",
    "x_min = 27.8 #27.8\n",
    "x_max = 28.8 #28.8\n",
    "y_min = 0.0 #0.0\n",
    "y_max = 0.5 #1.0\n",
    "\n",
    "sigma2 = ( (x_max-x_min) / ratio_sigma) * ( (y_max - y_min) / ratio_sigma)\n",
    "\n",
    "Feat_DTM1_pers2, Pers_img_DTM1_2 = get_persistence_images(list_dgm2_nd,x_min,x_max,nb_x_step,y_min,y_max,nb_y_step,sigma2,\\\n",
    "                                                          weight=weight_fn)\n",
    "\n",
    "file_name_dgm = \"Feat_DTM1_pers2_test.dat\"\n",
    "pickle.dump(Feat_DTM1_pers2,open(CHALLENGE_PATH + file_name_dgm, \"wb\"))"
   ]
  },
  {
   "cell_type": "markdown",
   "metadata": {},
   "source": [
    "### 5.2 Getting persistence diagrams and image for Density2"
   ]
  },
  {
   "cell_type": "code",
   "execution_count": 56,
   "metadata": {
    "collapsed": true
   },
   "outputs": [],
   "source": [
    "list_intensity2_dgm = load_all_dgm_SetIntensity2()"
   ]
  },
  {
   "cell_type": "code",
   "execution_count": 57,
   "metadata": {
    "collapsed": true
   },
   "outputs": [],
   "source": [
    "#Getting all diagrams per dimension and removing dimension and essential part\n",
    "list_dgm0, list_dgm1, list_dgm2 = get_list_dgm_per_dim(list_intensity2_dgm)\n",
    "list_dgm0_nd = remove_dim_and_essential(list_dgm0, max_death=np.inf)\n",
    "list_dgm1_nd = remove_dim_and_essential(list_dgm1, max_death=np.inf)\n",
    "list_dgm2_nd = remove_dim_and_essential(list_dgm2, max_death=np.inf)"
   ]
  },
  {
   "cell_type": "code",
   "execution_count": 59,
   "metadata": {
    "collapsed": true
   },
   "outputs": [],
   "source": [
    "#Persistence images in dim 0\n",
    "nb_x_step = 6#6\n",
    "nb_y_step = 5  #5\n",
    "ratio_sigma = 4 #4\n",
    "\n",
    "x_min = 0.0 \n",
    "x_max = 1.0 \n",
    "y_min = 0.0 \n",
    "y_max = 1.0 \n",
    "\n",
    "sigma2 = ( (x_max-x_min) / ratio_sigma) * ( (y_max - y_min) / ratio_sigma)\n",
    "\n",
    "Feat_SetIntensity2_pers0, Pers_img_SetIntensity2_0 = get_persistence_images(list_dgm0_nd,x_min,x_max,nb_x_step,\\\n",
    "                                                                            y_min,y_max,nb_y_step,sigma2, weight=weight_fn)\n",
    "\n",
    "file_name_dgm = \"Feat_SetIntensity2_pers0_test.dat\"\n",
    "pickle.dump(Feat_SetIntensity2_pers0,open(CHALLENGE_PATH + file_name_dgm, \"wb\"))"
   ]
  },
  {
   "cell_type": "code",
   "execution_count": 60,
   "metadata": {
    "collapsed": true
   },
   "outputs": [],
   "source": [
    "#Persistence images in dim 1\n",
    "nb_x_step = 6 #6\n",
    "nb_y_step = 5  #5\n",
    "ratio_sigma = 4 #4\n",
    "\n",
    "x_min = 0.0 \n",
    "x_max = 1.0 \n",
    "y_min = 0.0 \n",
    "y_max = 1.0 \n",
    "\n",
    "sigma2 = ( (x_max-x_min) / ratio_sigma) * ( (y_max - y_min) / ratio_sigma)\n",
    "\n",
    "Feat_SetIntensity2_pers1, Pers_img_SetIntensity2_1 = get_persistence_images(list_dgm1_nd,x_min,x_max,nb_x_step,\\\n",
    "                                                                            y_min,y_max,nb_y_step,sigma2, weight=weight_fn)\n",
    "\n",
    "file_name_dgm = \"Feat_SetIntensity2_pers1_test.dat\"\n",
    "pickle.dump(Feat_SetIntensity2_pers1,open(CHALLENGE_PATH + file_name_dgm, \"wb\"))"
   ]
  },
  {
   "cell_type": "code",
   "execution_count": 61,
   "metadata": {
    "collapsed": true
   },
   "outputs": [],
   "source": [
    "#Persistence images in dim 2\n",
    "nb_x_step = 6 #6\n",
    "nb_y_step = 5  #5\n",
    "ratio_sigma = 4 #4\n",
    "\n",
    "x_min = 0.0 \n",
    "x_max = 1.0 \n",
    "y_min = 0.0 \n",
    "y_max = 1.0 \n",
    "\n",
    "sigma2 = ( (x_max-x_min) / ratio_sigma) * ( (y_max - y_min) / ratio_sigma)\n",
    "\n",
    "Feat_SetIntensity2_pers2, Pers_img_SetIntensity2_2 = get_persistence_images(list_dgm2_nd,x_min,x_max,nb_x_step,\\\n",
    "                                                                            y_min,y_max,nb_y_step,sigma2, weight=weight_fn)\n",
    "\n",
    "file_name_dgm = \"Feat_SetIntensity2_pers2_test.dat\"\n",
    "pickle.dump(Feat_SetIntensity2_pers2,open(CHALLENGE_PATH + file_name_dgm, \"wb\"))"
   ]
  },
  {
   "cell_type": "markdown",
   "metadata": {},
   "source": [
    "### 5.3 Getting persistence diagrams and images for height functions (X, Y, Z)"
   ]
  },
  {
   "cell_type": "code",
   "execution_count": 26,
   "metadata": {
    "collapsed": true
   },
   "outputs": [],
   "source": [
    "list_dgm_hX = load_all_dgm_height(coord=\"X\")\n",
    "list_dgm_hY = load_all_dgm_height(coord=\"Y\")\n",
    "list_dgm_hZ = load_all_dgm_height(coord=\"Z\")"
   ]
  },
  {
   "cell_type": "markdown",
   "metadata": {},
   "source": [
    "### 5.3.1 Function X"
   ]
  },
  {
   "cell_type": "code",
   "execution_count": 63,
   "metadata": {
    "collapsed": true
   },
   "outputs": [],
   "source": [
    "list_dgm0, list_dgm1, list_dgm2 = get_list_dgm_per_dim(list_dgm_hX)\n",
    "list_dgm0_nd = remove_dim_and_essential(list_dgm0, max_death=199.9)\n",
    "list_dgm1_nd = remove_dim_and_essential(list_dgm1, max_death=199.9)\n",
    "list_dgm2_nd = remove_dim_and_essential(list_dgm2, max_death=np.inf)"
   ]
  },
  {
   "cell_type": "code",
   "execution_count": 64,
   "metadata": {
    "collapsed": true
   },
   "outputs": [],
   "source": [
    "#Persistence images in dim 0\n",
    "nb_x_step = 6 #6\n",
    "nb_y_step = 5  #5\n",
    "ratio_sigma = 4 #4\n",
    "\n",
    "x_min = 0.0 \n",
    "x_max = 175.0 \n",
    "y_min = 0.0 \n",
    "y_max = 12.0 \n",
    "\n",
    "sigma2 = ( (x_max-x_min) / ratio_sigma) * ( (y_max - y_min) / ratio_sigma)\n",
    "\n",
    "Feat_hX_pers0, Pers_img_hX_0 = get_persistence_images(list_dgm0_nd,x_min,x_max,nb_x_step,y_min,y_max,nb_y_step,\\\n",
    "                                                      sigma2, weight=weight_fn)\n",
    "\n",
    "file_name_dgm = \"Feat_hX_pers0_test.dat\"\n",
    "pickle.dump(Feat_hX_pers0,open(CHALLENGE_PATH + file_name_dgm, \"wb\"))"
   ]
  },
  {
   "cell_type": "code",
   "execution_count": 65,
   "metadata": {
    "collapsed": true
   },
   "outputs": [],
   "source": [
    "#Persistence images in dim 1\n",
    "nb_x_step = 6 #6\n",
    "nb_y_step = 5  #5\n",
    "ratio_sigma = 4 #4\n",
    "\n",
    "x_min = 0.0 \n",
    "x_max = 175.0 \n",
    "y_min = 0.0 \n",
    "y_max = 20.0 \n",
    "\n",
    "sigma2 = ( (x_max-x_min) / ratio_sigma) * ( (y_max - y_min) / ratio_sigma)\n",
    "\n",
    "Feat_hX_pers1, Pers_img_hX_1 = get_persistence_images(list_dgm1_nd,x_min,x_max,nb_x_step,y_min,y_max,nb_y_step,\\\n",
    "                                                      sigma2, weight=weight_fn)\n",
    "\n",
    "file_name_dgm = \"Feat_hX_pers1_test.dat\"\n",
    "pickle.dump(Feat_hX_pers1,open(CHALLENGE_PATH + file_name_dgm, \"wb\"))"
   ]
  },
  {
   "cell_type": "code",
   "execution_count": 66,
   "metadata": {
    "collapsed": true
   },
   "outputs": [],
   "source": [
    "#Persistence images in dim 2\n",
    "nb_x_step = 12 #6\n",
    "nb_y_step = 2  #5\n",
    "ratio_sigma = 0.1 #4\n",
    "\n",
    "x_min = 0.0 \n",
    "x_max = 175.0 \n",
    "y_min = 199.99\n",
    "y_max = 200.01 \n",
    "\n",
    "sigma2 = ( (x_max-x_min) / ratio_sigma) * ( (y_max - y_min) / ratio_sigma)\n",
    "#sigma2 = 100000\n",
    "\n",
    "Feat_hX_pers2, Pers_img_hX_2 = get_persistence_images(list_dgm2_nd,x_min,x_max,nb_x_step,y_min,\\\n",
    "                                                      y_max,nb_y_step,sigma2, weight=weight_fn)\n",
    "\n",
    "file_name_dgm = \"Feat_hX_pers2_test.dat\"\n",
    "pickle.dump(Feat_hX_pers2,open(CHALLENGE_PATH + file_name_dgm, \"wb\"))"
   ]
  },
  {
   "cell_type": "markdown",
   "metadata": {},
   "source": [
    "### 5.3.2 Function Y"
   ]
  },
  {
   "cell_type": "code",
   "execution_count": 67,
   "metadata": {
    "collapsed": true
   },
   "outputs": [],
   "source": [
    "list_dgm0, list_dgm1, list_dgm2 = get_list_dgm_per_dim(list_dgm_hY)\n",
    "list_dgm0_nd = remove_dim_and_essential(list_dgm0, max_death=199.9)\n",
    "list_dgm1_nd = remove_dim_and_essential(list_dgm1, max_death=199.9)\n",
    "list_dgm2_nd = remove_dim_and_essential(list_dgm2, max_death=np.inf)"
   ]
  },
  {
   "cell_type": "code",
   "execution_count": 68,
   "metadata": {
    "collapsed": true
   },
   "outputs": [],
   "source": [
    "#Persistence images in dim 0\n",
    "nb_x_step = 6 #6\n",
    "nb_y_step = 5  #5\n",
    "ratio_sigma = 4 #4\n",
    "\n",
    "x_min = 0.0 \n",
    "x_max = 175.0 \n",
    "y_min = 0.0 \n",
    "y_max = 12.0 \n",
    "\n",
    "sigma2 = ( (x_max-x_min) / ratio_sigma) * ( (y_max - y_min) / ratio_sigma)\n",
    "\n",
    "Feat_hY_pers0, Pers_img_hY_0 = get_persistence_images(list_dgm0_nd,x_min,x_max,nb_x_step,y_min,y_max,nb_y_step,\\\n",
    "                                                      sigma2, weight=weight_fn)\n",
    "\n",
    "file_name_dgm = \"Feat_hY_pers0_test.dat\"\n",
    "pickle.dump(Feat_hY_pers0,open(CHALLENGE_PATH + file_name_dgm, \"wb\"))\n"
   ]
  },
  {
   "cell_type": "code",
   "execution_count": 69,
   "metadata": {
    "collapsed": true
   },
   "outputs": [],
   "source": [
    "#Persistence images in dim 1\n",
    "nb_x_step = 6 #6\n",
    "nb_y_step = 5  #5\n",
    "ratio_sigma = 4 #4\n",
    "\n",
    "x_min = 0.0 \n",
    "x_max = 175.0 \n",
    "y_min = 0.0 \n",
    "y_max = 21.0 \n",
    "\n",
    "sigma2 = ( (x_max-x_min) / ratio_sigma) * ( (y_max - y_min) / ratio_sigma)\n",
    "\n",
    "Feat_hY_pers1, Pers_img_hY_1 = get_persistence_images(list_dgm1_nd,x_min,x_max,nb_x_step,y_min,y_max,nb_y_step,\\\n",
    "                                                      sigma2, weight=weight_fn)\n",
    "\n",
    "file_name_dgm = \"Feat_hY_pers1_test.dat\"\n",
    "pickle.dump(Feat_hY_pers1,open(CHALLENGE_PATH + file_name_dgm, \"wb\"))"
   ]
  },
  {
   "cell_type": "code",
   "execution_count": 70,
   "metadata": {
    "collapsed": true
   },
   "outputs": [],
   "source": [
    "#Persistence images in dim 2\n",
    "nb_x_step = 12 #6\n",
    "nb_y_step = 2  #5\n",
    "ratio_sigma = 0.1 #4\n",
    "\n",
    "x_min = 0.0 \n",
    "x_max = 175.0 \n",
    "y_min = 199.99\n",
    "y_max = 200.01 \n",
    "\n",
    "sigma2 = ( (x_max-x_min) / ratio_sigma) * ( (y_max - y_min) / ratio_sigma)\n",
    "#sigma2 = 100000\n",
    "\n",
    "Feat_hY_pers2, Pers_img_hY_2 = get_persistence_images(list_dgm2_nd,x_min,x_max,nb_x_step,y_min,\\\n",
    "                                                      y_max,nb_y_step,sigma2, weight=weight_fn)\n",
    "\n",
    "file_name_dgm = \"Feat_hY_pers2_test.dat\"\n",
    "pickle.dump(Feat_hY_pers2,open(CHALLENGE_PATH + file_name_dgm, \"wb\"))"
   ]
  },
  {
   "cell_type": "markdown",
   "metadata": {},
   "source": [
    "### 5.3.3 Function Z"
   ]
  },
  {
   "cell_type": "code",
   "execution_count": 27,
   "metadata": {},
   "outputs": [],
   "source": [
    "list_dgm0, list_dgm1, list_dgm2 = get_list_dgm_per_dim(list_dgm_hZ)\n",
    "list_dgm0_nd = remove_dim_and_essential(list_dgm0, max_death=199.9)\n",
    "list_dgm1_nd = remove_dim_and_essential(list_dgm1, max_death=199.9)\n",
    "list_dgm2_nd = remove_dim_and_essential(list_dgm2, max_death=np.inf)"
   ]
  },
  {
   "cell_type": "code",
   "execution_count": 72,
   "metadata": {
    "collapsed": true
   },
   "outputs": [],
   "source": [
    "#Persistence images in dim 0\n",
    "nb_x_step = 6 #6\n",
    "nb_y_step = 5  #5\n",
    "ratio_sigma = 4 #4\n",
    "\n",
    "x_min = 0.0 \n",
    "x_max = 175.0 \n",
    "y_min = 0.0 \n",
    "y_max = 16.0 \n",
    "\n",
    "sigma2 = ( (x_max-x_min) / ratio_sigma) * ( (y_max - y_min) / ratio_sigma)\n",
    "\n",
    "Feat_hZ_pers0, Pers_img_hZ_0 = get_persistence_images(list_dgm0_nd,x_min,x_max,nb_x_step,y_min,y_max,nb_y_step,\\\n",
    "                                                      sigma2, weight=weight_fn)\n",
    "\n",
    "file_name_dgm = \"Feat_hZ_pers0_test.dat\"\n",
    "pickle.dump(Feat_hZ_pers0,open(CHALLENGE_PATH + file_name_dgm, \"wb\"))"
   ]
  },
  {
   "cell_type": "code",
   "execution_count": 74,
   "metadata": {
    "collapsed": true
   },
   "outputs": [],
   "source": [
    "#Persistence images in dim 1\n",
    "nb_x_step = 6 #6\n",
    "nb_y_step = 5  #5\n",
    "ratio_sigma = 4 #4\n",
    "\n",
    "x_min = 0.0 \n",
    "x_max = 175.0 \n",
    "y_min = 0.0 \n",
    "y_max = 13.0 \n",
    "\n",
    "sigma2 = ( (x_max-x_min) / ratio_sigma) * ( (y_max - y_min) / ratio_sigma)\n",
    "\n",
    "Feat_hZ_pers1, Pers_img_hZ_1 = get_persistence_images(list_dgm1_nd,x_min,x_max,nb_x_step,y_min,y_max,nb_y_step,\\\n",
    "                                                      sigma2, weight=weight_fn)\n",
    "\n",
    "file_name_dgm = \"Feat_hZ_pers1_test.dat\"\n",
    "pickle.dump(Feat_hZ_pers1,open(CHALLENGE_PATH + file_name_dgm, \"wb\"))"
   ]
  },
  {
   "cell_type": "code",
   "execution_count": 75,
   "metadata": {
    "collapsed": true
   },
   "outputs": [],
   "source": [
    "#Persistence images in dim 2\n",
    "nb_x_step = 12 #6\n",
    "nb_y_step = 2  #5\n",
    "ratio_sigma = 0.1 #4\n",
    "\n",
    "x_min = 0.0 \n",
    "x_max = 175.0 \n",
    "y_min = 199.99\n",
    "y_max = 200.01 \n",
    "\n",
    "sigma2 = ( (x_max-x_min) / ratio_sigma) * ( (y_max - y_min) / ratio_sigma)\n",
    "#sigma2 = 100000\n",
    "\n",
    "Feat_hZ_pers2, Pers_img_hZ_2 = get_persistence_images(list_dgm2_nd,x_min,x_max,nb_x_step,y_min,\\\n",
    "                                                      y_max,nb_y_step,sigma2, weight=weight_fn)\n",
    "\n",
    "file_name_dgm = \"Feat_hZ_pers2_test.dat\"\n",
    "pickle.dump(Feat_hZ_pers2,open(CHALLENGE_PATH + file_name_dgm, \"wb\"))"
   ]
  },
  {
   "cell_type": "markdown",
   "metadata": {},
   "source": [
    "## 5bis. Computation of persistence images on normalized diagrams"
   ]
  },
  {
   "cell_type": "markdown",
   "metadata": {},
   "source": [
    "#### Min-max normalization of diagrams (special normalization adapted to images)\n"
   ]
  },
  {
   "cell_type": "code",
   "execution_count": 212,
   "metadata": {
    "collapsed": true
   },
   "outputs": [],
   "source": [
    "#def birth_lifespan_min_max(diag_list,max_death=np.inf):\n",
    "#    bd_min_max = []\n",
    "#    for dgm in diag_list:\n",
    "#        if len(dgm) == 0:\n",
    "#            bd_min_max.append([0,1,0,1])\n",
    "#        else:\n",
    "#            birth = []\n",
    "#            lifespan = []\n",
    "#            for pt in dgm:\n",
    "#                birth.append(pt[0])\n",
    "#                if  pt[1] < max_death:\n",
    "#                    lifespan.append(pt[1]-pt[0])\n",
    "#            bd_min_max.append([np.min(birth),np.max(birth),np.min(lifespan),np.max(lifespan)])\n",
    "#    return bd_min_max\n",
    "\n",
    "def birth_lifespan_min_max(diag_list,max_death=np.inf): #Warning!!!!!!  this one is not about lifespan\n",
    "    bd_min_max = []\n",
    "    for dgm in diag_list:\n",
    "        if len(dgm) == 0:\n",
    "            bd_min_max.append([0,1,0,1])\n",
    "        else:\n",
    "            birth = []\n",
    "            lifespan = []\n",
    "            for pt in dgm:\n",
    "                birth.append(pt[0])\n",
    "                if  pt[1] < max_death:\n",
    "                    lifespan.append(pt[1])\n",
    "            bd_min_max.append([np.min(birth),np.max(birth),np.min(lifespan),np.max(lifespan)])\n",
    "    return bd_min_max\n",
    "\n",
    "\n",
    "\n",
    "def fn_scale(x,a,b):\n",
    "    if a == b:\n",
    "        sx = 1.0\n",
    "    else:\n",
    "        sx = (x-a)/(b-a)\n",
    "    return sx\n",
    "\n",
    "def min_max_dgm_normalize(diag_list,max_death=np.inf):\n",
    "    bd_min_max = birth_lifespan_min_max(diag_list,max_death)\n",
    "    diag_norm_list = []\n",
    "    for idx in range(len(diag_list)):\n",
    "        dgm = diag_list[idx]\n",
    "        dgm_n = []\n",
    "        for pt in dgm:\n",
    "            b = fn_scale(pt[0],bd_min_max[idx][0],bd_min_max[idx][1])\n",
    "            #d = b + fn_scale(pt[1]-pt[0],bd_min_max[idx][2],0)\n",
    "            #d = fn_scale(pt[1],bd_min_max[idx][2],bd_min_max[idx][3])\n",
    "            d = fn_scale(pt[1],0.0,bd_min_max[idx][3])\n",
    "            dgm_n.append((b,d))\n",
    "        diag_norm_list.append(dgm_n)\n",
    "    return diag_norm_list\n",
    "\n",
    "def weight_fn(x,y):\n",
    "    return np.abs(y)   #y*y for DTM (DTM30)"
   ]
  },
  {
   "cell_type": "markdown",
   "metadata": {},
   "source": [
    "#### Compute persistence images for a list of diagrams"
   ]
  },
  {
   "cell_type": "code",
   "execution_count": 241,
   "metadata": {},
   "outputs": [],
   "source": [
    "def pers_img_Feat(list_dgm, save_filename, nb_x_step, nb_y_step, sigma_2=0.0025, max_death=np.inf,w_fn=weight_fn):\n",
    "    list_dgm0, list_dgm1, list_dgm2 = get_list_dgm_per_dim(list_dgm)\n",
    "    list_dgm0_nd = min_max_dgm_normalize(remove_dim_and_essential(list_dgm0, max_death),max_death)\n",
    "    list_dgm1_nd = min_max_dgm_normalize(remove_dim_and_essential(list_dgm1, max_death),max_death)\n",
    "\n",
    "    list_dgm2_nd = min_max_dgm_normalize(remove_dim_and_essential(list_dgm2, max_death),max_death)\n",
    "    \n",
    "    Feat_pers0, Pers_img_0 = get_persistence_images(list_dgm0_nd,0.0,1.0,nb_x_step,0.0,1.0,nb_y_step,sigma_2,\\\n",
    "                                                          weight=w_fn)\n",
    "    if TrainTest == \"Train\":\n",
    "        file_name_dgm = save_filename + \"_pers0.dat\"\n",
    "    else:\n",
    "        file_name_dgm = save_filename + \"_pers0_test.dat\"\n",
    "    pickle.dump(Feat_pers0,open(CHALLENGE_PATH + file_name_dgm, \"wb\"))\n",
    "    print(file_name_dgm, \"has been computed and saved\")\n",
    "    \n",
    "    Feat_pers1, Pers_img_1 = get_persistence_images(list_dgm1_nd,0.0,1.0,nb_x_step,0.0,1.0,nb_y_step,sigma_2,\\\n",
    "                                                          weight=w_fn)\n",
    "    if TrainTest == \"Train\":\n",
    "        file_name_dgm = save_filename + \"_pers1.dat\"\n",
    "    else:\n",
    "        file_name_dgm = save_filename + \"_pers1_test.dat\"\n",
    "    pickle.dump(Feat_pers1,open(CHALLENGE_PATH + file_name_dgm, \"wb\"))\n",
    "    print(file_name_dgm, \"has been computed and saved\")\n",
    "    \n",
    "    Feat_pers2, Pers_img_2 = get_persistence_images(list_dgm2_nd,0.0,1.0,nb_x_step,0.0,1.0,nb_y_step,sigma_2,\\\n",
    "                                                          weight=w_fn)\n",
    "    if TrainTest == \"Train\":\n",
    "        file_name_dgm = save_filename + \"_pers2.dat\"\n",
    "    else:\n",
    "        file_name_dgm = save_filename + \"_pers2_test.dat\"\n",
    "    pickle.dump(Feat_pers2,open(CHALLENGE_PATH + file_name_dgm, \"wb\"))\n",
    "    print(file_name_dgm, \"has been computed and saved\")"
   ]
  },
  {
   "cell_type": "markdown",
   "metadata": {},
   "source": [
    "#### Compute and save all persistence images"
   ]
  },
  {
   "cell_type": "code",
   "execution_count": 309,
   "metadata": {},
   "outputs": [
    {
     "name": "stdout",
     "output_type": "stream",
     "text": [
      "Feat_DTM1_scaled_pers0_test.dat has been computed and saved\n",
      "Feat_DTM1_scaled_pers1_test.dat has been computed and saved\n",
      "Feat_DTM1_scaled_pers2_test.dat has been computed and saved\n",
      "Feat_SetIntensity2_scaled_pers0_test.dat has been computed and saved\n",
      "Feat_SetIntensity2_scaled_pers1_test.dat has been computed and saved\n",
      "Feat_SetIntensity2_scaled_pers2_test.dat has been computed and saved\n",
      "Feat_hX_scaled_pers0_test.dat has been computed and saved\n",
      "Feat_hX_scaled_pers1_test.dat has been computed and saved\n",
      "Feat_hX_scaled_pers2_test.dat has been computed and saved\n",
      "Feat_hY_scaled_pers0_test.dat has been computed and saved\n",
      "Feat_hY_scaled_pers1_test.dat has been computed and saved\n",
      "Feat_hY_scaled_pers2_test.dat has been computed and saved\n",
      "Feat_hZ_scaled_pers0_test.dat has been computed and saved\n",
      "Feat_hZ_scaled_pers1_test.dat has been computed and saved\n",
      "Feat_hZ_scaled_pers2_test.dat has been computed and saved\n",
      "Feat_locmax_dist_scaled_pers0_test.dat has been computed and saved\n",
      "Feat_locmax_dist_scaled_pers1_test.dat has been computed and saved\n",
      "Feat_locmax_dist_scaled_pers2_test.dat has been computed and saved\n"
     ]
    }
   ],
   "source": [
    "nb_x_step = 5 #8\n",
    "nb_y_step = 6 #5\n",
    "sigma_2 = 0.025 #0.025\n",
    "\n",
    "list_dgm_DTM1 = load_all_DTM_dgm(kNN=1)\n",
    "list_intensity2_dgm = load_all_dgm_SetIntensity2()\n",
    "list_dgm_hX = load_all_dgm_height(coord=\"X\")\n",
    "list_dgm_hY = load_all_dgm_height(coord=\"Y\")\n",
    "list_dgm_hZ = load_all_dgm_height(coord=\"Z\")\n",
    "list_locmax_dist_dgm = load_all_dgm_locmax_dist() #persistence of dist fn on the vertices of the Delaunay triang. of local max\n",
    "list_loc_max_dgm = load_all_dgm_loc_max()  #persistence of alpha-complex built on the local max of DTM1\n",
    "\n",
    "\n",
    "dgm_names = [list_dgm_DTM1,list_intensity2_dgm,list_dgm_hX,list_dgm_hY,list_dgm_hZ,list_locmax_dist_dgm]\n",
    "file_names = [\"Feat_DTM1_scaled\",\"Feat_SetIntensity2_scaled\",\"Feat_hX_scaled\",\"Feat_hY_scaled\",\"Feat_hZ_scaled\",\\\n",
    "              \"Feat_locmax_dist_scaled\"]\n",
    "\n",
    "\n",
    "for idx in range(len(dgm_names)):\n",
    "    list_dgm = dgm_names[idx]\n",
    "    file_name_dgm = file_names[idx]\n",
    "    pers_img_Feat(list_dgm,file_name_dgm,nb_x_step,nb_y_step,sigma_2,199.9,weight_fn)"
   ]
  },
  {
   "cell_type": "markdown",
   "metadata": {},
   "source": [
    "## 5ter. Compute and save min and max birth and death dates on diagrams and entropy curves"
   ]
  },
  {
   "cell_type": "code",
   "execution_count": 289,
   "metadata": {
    "collapsed": true
   },
   "outputs": [],
   "source": [
    "def birth_death_min_max(diag_list,max_death=np.inf): #Warning!!!!!!  this one is not about lifespan\n",
    "    bd_min_max = []\n",
    "    for dgm in diag_list:\n",
    "        if len(dgm) == 0:\n",
    "            bd_min_max.append([0,0,0,0])\n",
    "        else:\n",
    "            birth = []\n",
    "            lifespan = []\n",
    "            for pt in dgm:\n",
    "                birth.append(pt[0])\n",
    "                if  pt[1] < max_death:\n",
    "                    lifespan.append(pt[1])\n",
    "            bd_min_max.append([np.min(birth),np.max(birth),np.min(lifespan),np.max(lifespan)])\n",
    "    return bd_min_max\n",
    "\n"
   ]
  },
  {
   "cell_type": "code",
   "execution_count": 291,
   "metadata": {
    "collapsed": true
   },
   "outputs": [],
   "source": [
    "def birth_death_Feat(list_dgm,save_filename,max_death=np.inf):\n",
    "    list_dgm0, list_dgm1, list_dgm2 = get_list_dgm_per_dim(list_dgm)\n",
    "    Feat_bd0 = np.array(birth_death_min_max(remove_dim_and_essential(list_dgm0,max_death)))\n",
    "    Feat_bd1 = np.array(birth_death_min_max(remove_dim_and_essential(list_dgm1,max_death)))\n",
    "    Feat_bd2 = np.array(birth_death_min_max(remove_dim_and_essential(list_dgm2,max_death)))\n",
    "    \n",
    "    if TrainTest == \"Train\":\n",
    "        file_name_dgm = save_filename + \"_bd0.dat\"\n",
    "    else:\n",
    "        file_name_dgm = save_filename + \"_bd0_test.dat\"\n",
    "    pickle.dump(Feat_bd0,open(CHALLENGE_PATH + file_name_dgm, \"wb\"))\n",
    "    print(file_name_dgm, \"has been computed and saved\")\n",
    "       \n",
    "    if TrainTest == \"Train\":\n",
    "        file_name_dgm = save_filename + \"_bd1.dat\"\n",
    "    else:\n",
    "        file_name_dgm = save_filename + \"_bd1_test.dat\"\n",
    "    pickle.dump(Feat_bd1,open(CHALLENGE_PATH + file_name_dgm, \"wb\"))\n",
    "    print(file_name_dgm, \"has been computed and saved\")\n",
    "    \n",
    "    if TrainTest == \"Train\":\n",
    "        file_name_dgm = save_filename + \"_bd2.dat\"\n",
    "    else:\n",
    "        file_name_dgm = save_filename + \"_bd2_test.dat\"\n",
    "    pickle.dump(Feat_bd2,open(CHALLENGE_PATH + file_name_dgm, \"wb\"))\n",
    "    print(file_name_dgm, \"has been computed and saved\")"
   ]
  },
  {
   "cell_type": "code",
   "execution_count": 310,
   "metadata": {
    "collapsed": true
   },
   "outputs": [],
   "source": [
    "list_dgm_DTM1 = load_all_DTM_dgm(kNN=1)\n",
    "list_intensity2_dgm = load_all_dgm_SetIntensity2()\n",
    "list_dgm_hX = load_all_dgm_height(coord=\"X\")\n",
    "list_dgm_hY = load_all_dgm_height(coord=\"Y\")\n",
    "list_dgm_hZ = load_all_dgm_height(coord=\"Z\")\n",
    "list_locmax_dist_dgm = load_all_dgm_locmax_dist() #persistence of dist fn on the vertices of the Delaunay triang. of local max\n",
    "list_loc_max_dgm = load_all_dgm_loc_max()  #persistence of alpha-complex built on the local max of DTM1"
   ]
  },
  {
   "cell_type": "code",
   "execution_count": 311,
   "metadata": {},
   "outputs": [
    {
     "name": "stdout",
     "output_type": "stream",
     "text": [
      "Feat_DTM1_bd0_test.dat has been computed and saved\n",
      "Feat_DTM1_bd1_test.dat has been computed and saved\n",
      "Feat_DTM1_bd2_test.dat has been computed and saved\n",
      "Feat_SetIntensity2_bd0_test.dat has been computed and saved\n",
      "Feat_SetIntensity2_bd1_test.dat has been computed and saved\n",
      "Feat_SetIntensity2_bd2_test.dat has been computed and saved\n",
      "Feat_hX_bd0_test.dat has been computed and saved\n",
      "Feat_hX_bd1_test.dat has been computed and saved\n",
      "Feat_hX_bd2_test.dat has been computed and saved\n",
      "Feat_hY_bd0_test.dat has been computed and saved\n",
      "Feat_hY_bd1_test.dat has been computed and saved\n",
      "Feat_hY_bd2_test.dat has been computed and saved\n",
      "Feat_hZ_bd0_test.dat has been computed and saved\n",
      "Feat_hZ_bd1_test.dat has been computed and saved\n",
      "Feat_hZ_bd2_test.dat has been computed and saved\n",
      "Feat_locmax_dist_bd0_test.dat has been computed and saved\n",
      "Feat_locmax_dist_bd1_test.dat has been computed and saved\n",
      "Feat_locmax_dist_bd2_test.dat has been computed and saved\n"
     ]
    }
   ],
   "source": [
    "dgm_names = [list_dgm_DTM1,list_intensity2_dgm,list_dgm_hX,list_dgm_hY,list_dgm_hZ,list_locmax_dist_dgm]\n",
    "file_names = [\"Feat_DTM1\",\"Feat_SetIntensity2\",\"Feat_hX\",\"Feat_hY\",\"Feat_hZ\",\\\n",
    "              \"Feat_locmax_dist\"]\n",
    "\n",
    "\n",
    "for idx in range(len(dgm_names)):\n",
    "    list_dgm = dgm_names[idx]\n",
    "    file_name_dgm = file_names[idx]\n",
    "    birth_death_Feat(list_dgm,file_name_dgm,199.9)"
   ]
  },
  {
   "cell_type": "markdown",
   "metadata": {},
   "source": [
    "## 5.4 Compute persistence entropy curves."
   ]
  },
  {
   "cell_type": "code",
   "execution_count": 297,
   "metadata": {
    "collapsed": true
   },
   "outputs": [],
   "source": [
    "#Here we assume that the diagrams are normalized, and the curve is evaluated on a regular grid on [0,1]\n",
    "def entropy_dgm(dgm,nb_x_steps,life_min=0.0):\n",
    "    entropy_cv = []\n",
    "    for step_idx in range(nb_x_steps):\n",
    "        x = 0.0 + step_idx / (nb_x_steps - 1)\n",
    "        intervals = []\n",
    "        total_pers = 0.0\n",
    "        for pt in dgm:\n",
    "            if x >= pt[0] and x <= pt[1] and pt[1] - pt[0] >= life_min:\n",
    "                intervals.append(pt[1] - pt[0])\n",
    "                total_pers += pt[1] - pt[0]\n",
    "        if total_pers == 0.0:\n",
    "            entropy_cv.append(0)\n",
    "        else:\n",
    "            tot = 0.0\n",
    "            for l_span in intervals:\n",
    "                tot += (l_span / total_pers) * np.log2(l_span / total_pers)\n",
    "            entropy_cv.append(-tot)\n",
    "    return entropy_cv\n",
    "\n",
    "def entropy_curves(list_dgm, nb_x_steps,life_min=0.0):\n",
    "    entropy_cvs  = [] \n",
    "    for dgm in list_dgm:\n",
    "        entropy_cvs.append(entropy_dgm(dgm,nb_x_steps,life_min))\n",
    "    return entropy_cvs"
   ]
  },
  {
   "cell_type": "code",
   "execution_count": 298,
   "metadata": {},
   "outputs": [],
   "source": [
    "def entropy_Feat(list_dgm,save_filename,nb_x_steps,life_min=0.0,max_death=np.inf):\n",
    "    list_dgm0, list_dgm1, list_dgm2 = get_list_dgm_per_dim(list_dgm)\n",
    "    Feat_ent0 = np.array(entropy_curves(min_max_dgm_normalize(remove_dim_and_essential(list_dgm0,max_death),max_death),\\\n",
    "                                                              nb_x_steps,life_min))\n",
    "    Feat_ent1 = np.array(entropy_curves(min_max_dgm_normalize(remove_dim_and_essential(list_dgm1,max_death),max_death),\\\n",
    "                                        nb_x_steps,life_min))\n",
    "    Feat_ent2 = np.array(entropy_curves(min_max_dgm_normalize(remove_dim_and_essential(list_dgm2,max_death),max_death),\\\n",
    "                                        nb_x_steps,life_min))\n",
    "    \n",
    "    if TrainTest == \"Train\":\n",
    "        file_name_dgm = save_filename + \"_ent0.dat\"\n",
    "    else:\n",
    "        file_name_dgm = save_filename + \"_ent0_test.dat\"\n",
    "    pickle.dump(Feat_ent0,open(CHALLENGE_PATH + file_name_dgm, \"wb\"))\n",
    "    print(file_name_dgm, \"has been computed and saved\")\n",
    "       \n",
    "    if TrainTest == \"Train\":\n",
    "        file_name_dgm = save_filename + \"_ent1.dat\"\n",
    "    else:\n",
    "        file_name_dgm = save_filename + \"_ent1_test.dat\"\n",
    "    pickle.dump(Feat_ent1,open(CHALLENGE_PATH + file_name_dgm, \"wb\"))\n",
    "    print(file_name_dgm, \"has been computed and saved\")\n",
    "    \n",
    "    if TrainTest == \"Train\":\n",
    "        file_name_dgm = save_filename + \"_ent2.dat\"\n",
    "    else:\n",
    "        file_name_dgm = save_filename + \"_ent2_test.dat\"\n",
    "    pickle.dump(Feat_ent2,open(CHALLENGE_PATH + file_name_dgm, \"wb\"))\n",
    "    print(file_name_dgm, \"has been computed and saved\")"
   ]
  },
  {
   "cell_type": "code",
   "execution_count": 312,
   "metadata": {},
   "outputs": [
    {
     "name": "stdout",
     "output_type": "stream",
     "text": [
      "Feat_DTM1_ent0_test.dat has been computed and saved\n",
      "Feat_DTM1_ent1_test.dat has been computed and saved\n",
      "Feat_DTM1_ent2_test.dat has been computed and saved\n",
      "Feat_SetIntensity2_ent0_test.dat has been computed and saved\n",
      "Feat_SetIntensity2_ent1_test.dat has been computed and saved\n",
      "Feat_SetIntensity2_ent2_test.dat has been computed and saved\n",
      "Feat_hX_ent0_test.dat has been computed and saved\n",
      "Feat_hX_ent1_test.dat has been computed and saved\n",
      "Feat_hX_ent2_test.dat has been computed and saved\n",
      "Feat_hY_ent0_test.dat has been computed and saved\n",
      "Feat_hY_ent1_test.dat has been computed and saved\n",
      "Feat_hY_ent2_test.dat has been computed and saved\n",
      "Feat_hZ_ent0_test.dat has been computed and saved\n",
      "Feat_hZ_ent1_test.dat has been computed and saved\n",
      "Feat_hZ_ent2_test.dat has been computed and saved\n",
      "Feat_locmax_dist_ent0_test.dat has been computed and saved\n",
      "Feat_locmax_dist_ent1_test.dat has been computed and saved\n",
      "Feat_locmax_dist_ent2_test.dat has been computed and saved\n"
     ]
    }
   ],
   "source": [
    "nb_x_steps = 20\n",
    "life_min = 1/nb_x_steps #1/nb_x_steps\n",
    "\n",
    "dgm_names = [list_dgm_DTM1,list_intensity2_dgm,list_dgm_hX,list_dgm_hY,list_dgm_hZ,list_locmax_dist_dgm]\n",
    "file_names = [\"Feat_DTM1\",\"Feat_SetIntensity2\",\"Feat_hX\",\"Feat_hY\",\"Feat_hZ\",\\\n",
    "              \"Feat_locmax_dist\"]\n",
    "\n",
    "\n",
    "for idx in range(len(dgm_names)):\n",
    "    list_dgm = dgm_names[idx]\n",
    "    file_name_dgm = file_names[idx]\n",
    "    entropy_Feat(list_dgm,file_name_dgm,nb_x_steps,life_min)"
   ]
  },
  {
   "cell_type": "markdown",
   "metadata": {},
   "source": [
    "## 6. Load all persistent features"
   ]
  },
  {
   "cell_type": "markdown",
   "metadata": {},
   "source": [
    "### 6.1 Features from non scaled diagrams "
   ]
  },
  {
   "cell_type": "code",
   "execution_count": null,
   "metadata": {
    "collapsed": true
   },
   "outputs": [],
   "source": [
    "file_names = [\"Feat_DTM1_\",\"Feat_SetIntensity2_\",\"Feat_hX_\",\"Feat_hY_\",\"Feat_hZ_\",\"Feat_locmax_dist_\"]\n",
    "\n",
    "pers_test = [\"pers0_test.dat\",\"pers1_test.dat\",\"pers2_test.dat\"]\n",
    "pers_train = [\"pers0.dat\",\"pers1.dat\",\"pers2.dat\"]\n",
    "\n",
    "if TrainTest == \"Train\":\n",
    "    pers = pers_train\n",
    "else:\n",
    "    pers = pers_test\n",
    "\n",
    "Feat_names = [\"Feat_DTM1_\",\"Feat_SetIntensity2_\",\"Feat_hX_\",\"Feat_hY_\",\"Feat_hZ_\",\"Feat_locmax_dist_\"]\n",
    "Feat_names_pers = [\"pers0\",\"pers1\",\"pers2\"]\n",
    "\n",
    "variable_file_names=[]\n",
    "for idx in range(len(file_names)):\n",
    "    for jdx in range(len(pers_test)):\n",
    "        vn = Feat_names[idx] + Feat_names_pers[jdx]\n",
    "        fn = file_names[idx] + pers[jdx]\n",
    "        variable_file_names.append([vn,fn])\n",
    "            \n",
    "#Create the variables            \n",
    "dct = dict()\n",
    "for vn in variable_file_names:\n",
    "    dct[vn[0]] = []\n",
    "for k,v in dct.items():\n",
    "    exec(\"%s=%s\" % (k,v))\n",
    "\n",
    "v = locals()\n",
    "for vn in variable_file_names:\n",
    "    file_name = vn[1]\n",
    "    v[vn[0]] = pickle.load(open(CHALLENGE_PATH+file_name, \"rb\"), encoding=\"latin1\") "
   ]
  },
  {
   "cell_type": "markdown",
   "metadata": {},
   "source": [
    "### 6.1 Features from images of scaled diagrams "
   ]
  },
  {
   "cell_type": "code",
   "execution_count": 315,
   "metadata": {},
   "outputs": [],
   "source": [
    "file_names = [\"Feat_DTM1_scaled_\",\"Feat_SetIntensity2_scaled_\",\"Feat_hX_scaled_\",\"Feat_hY_scaled_\",\"Feat_hZ_scaled_\",\\\n",
    "             \"Feat_locmax_dist_scaled_\"]\n",
    "\n",
    "pers_test = [\"pers0_test.dat\",\"pers1_test.dat\",\"pers2_test.dat\"]\n",
    "pers_train = [\"pers0.dat\",\"pers1.dat\",\"pers2.dat\"]\n",
    "\n",
    "if TrainTest == \"Train\":\n",
    "    pers = pers_train\n",
    "else:\n",
    "    pers = pers_test\n",
    "\n",
    "Feat_names = [\"Feat_DTM1_\",\"Feat_SetIntensity2_\",\"Feat_hX_\",\"Feat_hY_\",\"Feat_hZ_\",\"Feat_locmax_dist_\"]\n",
    "Feat_names_pers = [\"pers0\",\"pers1\",\"pers2\"]\n",
    "\n",
    "variable_file_names=[]\n",
    "for idx in range(len(file_names)):\n",
    "    for jdx in range(len(pers_test)):\n",
    "        vn = Feat_names[idx] + Feat_names_pers[jdx]\n",
    "        fn = file_names[idx] + pers[jdx]\n",
    "        variable_file_names.append([vn,fn])\n",
    "            \n",
    "#Create the variables            \n",
    "dct = dict()\n",
    "for vn in variable_file_names:\n",
    "    dct[vn[0]] = []\n",
    "for k,v in dct.items():\n",
    "    exec(\"%s=%s\" % (k,v))\n",
    "\n",
    "v = locals()\n",
    "for vn in variable_file_names:\n",
    "    file_name = vn[1]\n",
    "    v[vn[0]] = pickle.load(open(CHALLENGE_PATH+file_name, \"rb\"), encoding=\"latin1\") "
   ]
  },
  {
   "cell_type": "markdown",
   "metadata": {},
   "source": [
    "### 6.2. Features from birth and death min and max"
   ]
  },
  {
   "cell_type": "code",
   "execution_count": 316,
   "metadata": {},
   "outputs": [],
   "source": [
    "file_names = [\"Feat_DTM1_\",\"Feat_SetIntensity2_\",\"Feat_hX_\",\"Feat_hY_\",\"Feat_hZ_\",\\\n",
    "             \"Feat_locmax_dist_\"]\n",
    "\n",
    "bd_test = [\"bd0_test.dat\",\"bd1_test.dat\",\"bd2_test.dat\"]\n",
    "bd_train = [\"bd0.dat\",\"bd1.dat\",\"bd2.dat\"]\n",
    "\n",
    "if TrainTest == \"Train\":\n",
    "    bd = bd_train\n",
    "else:\n",
    "    bd = bd_test\n",
    "\n",
    "Feat_names = [\"Feat_DTM1_\",\"Feat_SetIntensity2_\",\"Feat_hX_\",\"Feat_hY_\",\"Feat_hZ_\",\"Feat_locmax_dist_\"]\n",
    "Feat_names_bd = [\"bd0\",\"bd1\",\"bd2\"]\n",
    "\n",
    "variable_file_names=[]\n",
    "for idx in range(len(file_names)):\n",
    "    for jdx in range(len(bd)):\n",
    "        vn = Feat_names[idx] + Feat_names_bd[jdx]\n",
    "        fn = file_names[idx] + bd[jdx]\n",
    "        variable_file_names.append([vn,fn])\n",
    "            \n",
    "#Create the variables            \n",
    "dct = dict()\n",
    "for vn in variable_file_names:\n",
    "    dct[vn[0]] = []\n",
    "for k,v in dct.items():\n",
    "    exec(\"%s=%s\" % (k,v))\n",
    "\n",
    "list_Feat_bd = []\n",
    "v = locals()\n",
    "for vn in variable_file_names:\n",
    "    file_name = vn[1]\n",
    "    v[vn[0]] = pickle.load(open(CHALLENGE_PATH+file_name, \"rb\"), encoding=\"latin1\")\n",
    "    list_Feat_bd.append(v[vn[0]])\n",
    "\n",
    "Feat_bd = np.concatenate(list_Feat_bd,axis=1)"
   ]
  },
  {
   "cell_type": "markdown",
   "metadata": {},
   "source": [
    "### 6.3 Features: entropy curves"
   ]
  },
  {
   "cell_type": "code",
   "execution_count": 317,
   "metadata": {
    "collapsed": true
   },
   "outputs": [],
   "source": [
    "file_names = [\"Feat_DTM1_\",\"Feat_SetIntensity2_\",\"Feat_hX_\",\"Feat_hY_\",\"Feat_hZ_\",\\\n",
    "             \"Feat_locmax_dist_\"]\n",
    "\n",
    "ent_test = [\"ent0_test.dat\",\"ent1_test.dat\",\"ent2_test.dat\"]\n",
    "ent_train = [\"ent0.dat\",\"ent1.dat\",\"ent2.dat\"]\n",
    "\n",
    "if TrainTest == \"Train\":\n",
    "    ent = ent_train\n",
    "else:\n",
    "    ent = ent_test\n",
    "\n",
    "Feat_names = [\"Feat_DTM1_\",\"Feat_SetIntensity2_\",\"Feat_hX_\",\"Feat_hY_\",\"Feat_hZ_\",\"Feat_locmax_dist_\"]\n",
    "Feat_names_ent = [\"ent0\",\"ent1\",\"ent2\"]\n",
    "\n",
    "variable_file_names=[]\n",
    "for idx in range(len(file_names)):\n",
    "    for jdx in range(len(bd)):\n",
    "        vn = Feat_names[idx] + Feat_names_ent[jdx]\n",
    "        fn = file_names[idx] + ent[jdx]\n",
    "        variable_file_names.append([vn,fn])\n",
    "            \n",
    "#Create the variables            \n",
    "dct = dict()\n",
    "for vn in variable_file_names:\n",
    "    dct[vn[0]] = []\n",
    "for k,v in dct.items():\n",
    "    exec(\"%s=%s\" % (k,v))\n",
    "\n",
    "list_Feat_ent = []\n",
    "v = locals()\n",
    "for vn in variable_file_names:\n",
    "    file_name = vn[1]\n",
    "    v[vn[0]] = pickle.load(open(CHALLENGE_PATH+file_name, \"rb\"), encoding=\"latin1\") \n",
    "    list_Feat_ent.append(v[vn[0]])\n",
    "Feat_ent = np.concatenate(list_Feat_ent,axis=1)"
   ]
  },
  {
   "cell_type": "markdown",
   "metadata": {},
   "source": [
    "## 7. Building the set of selected features"
   ]
  },
  {
   "cell_type": "code",
   "execution_count": 331,
   "metadata": {
    "collapsed": true
   },
   "outputs": [],
   "source": [
    "Feat_vol_voids = np.reshape(Feat_vol_voids,(NB_INPUT_IMG,1))\n",
    "Feat_volDTM_voids = np.reshape(Feat_volDTM_voids,(NB_INPUT_IMG,1))\n",
    "\n",
    "#Feat_mat: encode material. WARNING! This is not a real feature, it needs to be predicted first.  \n",
    "\n",
    "#Feat_bd has been defined while laoding all the min_max birth_death above. \n",
    "#Feat_ent has been defined while loadin all the entropy features above\n",
    "\n",
    "#Subselect some of the Entropy curves: \n",
    "nb_x_steps = 20\n",
    "Feat_ent_DTM1 = Feat_ent[:,0:3*nb_x_steps]\n",
    "Feat_ent_Intensity2 = Feat_ent[:,3*nb_x_steps:6*nb_x_steps]\n",
    "Feat_ent_hX = Feat_ent[:,6*nb_x_steps:9*nb_x_steps]\n",
    "Feat_ent_hY = Feat_ent[:,9*nb_x_steps:12*nb_x_steps]\n",
    "Feat_ent_hZ = Feat_ent[:,12*nb_x_steps:15*nb_x_steps]\n",
    "Feat_ent_locmax_dist = Feat_ent[:,15*nb_x_steps:18*nb_x_steps]\n",
    "\n",
    "\n",
    "Feat_density = Feat_density_hist\n",
    "Feat_slices = np.concatenate([Feat_vol_slices,Feat_length_slices],axis=1)\n",
    "Feat_Voids = np.concatenate([Feat_vol_voids,Feat_volDTM_voids,Feat_area_bd],axis=1)\n",
    "#Feat_DTM30_pers = np.concatenate([Feat_DTM30_pers0,Feat_DTM30_pers1,Feat_DTM30_pers2],axis=1)\n",
    "Feat_DTM1_pers = np.concatenate([Feat_DTM1_pers0,Feat_DTM1_pers1,Feat_DTM1_pers2],axis=1)\n",
    "#Feat_locmax_pers = np.concatenate([Feat_locmax_pers0,Feat_locmax_pers1,Feat_locmax_pers2],axis=1)\n",
    "Feat_locmax_dist_pers = np.concatenate([Feat_locmax_dist_pers0,Feat_locmax_dist_pers1,Feat_locmax_dist_pers2],axis=1)\n",
    "Feat_SetIntensity2_pers = np.concatenate([Feat_SetIntensity2_pers0,Feat_SetIntensity2_pers1,Feat_SetIntensity2_pers2],axis=1)\n",
    "Feat_hX_pers =np.concatenate([Feat_hX_pers0,Feat_hX_pers1,Feat_hX_pers2],axis=1)\n",
    "Feat_hY_pers =np.concatenate([Feat_hY_pers0,Feat_hY_pers1,Feat_hY_pers2],axis=1)\n",
    "Feat_hZ_pers =np.concatenate([Feat_hZ_pers0,Feat_hZ_pers1,Feat_hZ_pers2],axis=1)"
   ]
  },
  {
   "cell_type": "code",
   "execution_count": 333,
   "metadata": {},
   "outputs": [
    {
     "name": "stdout",
     "output_type": "stream",
     "text": [
      "(112, 336)\n"
     ]
    }
   ],
   "source": [
    "#Feat = np.concatenate([Feat_Voids,Feat_loc_max,Feat_density,Feat_DTM1_pers,Feat_hX_pers,Feat_hZ_pers,\\\n",
    "#                       Feat_SetIntensity2_pers],axis=1)\n",
    "\n",
    "Feat = np.concatenate([Feat_Voids,Feat_loc_max,Feat_density,Feat_DTM1_pers,\\\n",
    "                       Feat_bd,Feat_ent_Intensity2,Feat_ent_locmax_dist],axis=1)\n",
    "\n",
    "print(np.shape(Feat))"
   ]
  },
  {
   "cell_type": "markdown",
   "metadata": {},
   "source": [
    "## 8. Evaluating the selected models on test set (case where TrainTest = \"Test\") "
   ]
  },
  {
   "cell_type": "markdown",
   "metadata": {},
   "source": [
    "### 8.1. Classification task"
   ]
  },
  {
   "cell_type": "markdown",
   "metadata": {},
   "source": [
    "### 0 is Benth and 1 is Clash "
   ]
  },
  {
   "cell_type": "code",
   "execution_count": 334,
   "metadata": {},
   "outputs": [
    {
     "name": "stdout",
     "output_type": "stream",
     "text": [
      "(112, 336)\n"
     ]
    }
   ],
   "source": [
    "#Feat_classif = np.concatenate([Feat_Voids,Feat_loc_max,Feat_density,Feat_DTM1_pers,Feat_hX_pers,Feat_hZ_pers,\\\n",
    "#                       Feat_SetIntensity2_pers],axis=1)\n",
    "\n",
    "Feat_classif = np.concatenate([Feat_Voids,Feat_loc_max,Feat_density,Feat_DTM1_pers,\\\n",
    "                       Feat_bd,Feat_ent_Intensity2,Feat_ent_locmax_dist],axis=1)\n",
    "\n",
    "print(np.shape(Feat))"
   ]
  },
  {
   "cell_type": "code",
   "execution_count": 335,
   "metadata": {
    "collapsed": true
   },
   "outputs": [],
   "source": [
    "#Load the classification model\n",
    "RFclassif = joblib.load(CHALLENGE_PATH + \"ModelClassif.pkl\")"
   ]
  },
  {
   "cell_type": "code",
   "execution_count": 336,
   "metadata": {},
   "outputs": [],
   "source": [
    "Classif_pred = RFclassif.predict(Feat_classif)"
   ]
  },
  {
   "cell_type": "markdown",
   "metadata": {},
   "source": [
    "###  8.2 Regression on sor (without splitting data in 2 classes)"
   ]
  },
  {
   "cell_type": "code",
   "execution_count": 337,
   "metadata": {
    "collapsed": true
   },
   "outputs": [],
   "source": [
    "###Warning Classif_pred is added as a new feature!\n",
    "#Feat_sor = np.concatenate([Classif_pred.reshape((NB_INPUT_IMG,1)),Feat_Voids,Feat_loc_max,Feat_density,Feat_DTM1_pers,Feat_hX_pers,Feat_hZ_pers,\\\n",
    "#                       Feat_SetIntensity2_pers],axis=1)\n",
    "\n",
    "#For ModelSorBis:\n",
    "#Feat_sor = np.concatenate([Classif_pred.reshape((NB_INPUT_IMG,1)),Feat_Voids,Feat_loc_max,Feat_density,Feat_DTM1_pers,\\\n",
    "#                           Feat_hX_pers,Feat_hZ_pers,Feat_SetIntensity2_pers],axis=1)\n",
    "\n",
    "Feat_sor = np.concatenate([Classif_pred.reshape((NB_INPUT_IMG,1)),Feat_Voids,Feat_loc_max,Feat_density,Feat_DTM1_pers,\\\n",
    "                       Feat_bd,Feat_ent_Intensity2,Feat_ent_locmax_dist],axis=1)"
   ]
  },
  {
   "cell_type": "code",
   "execution_count": 338,
   "metadata": {
    "collapsed": true
   },
   "outputs": [],
   "source": [
    "#load the regressors for each class\n",
    "scaler_sor = joblib.load(CHALLENGE_PATH + \"scalerSor.pkl\")\n",
    "Reg_sor = joblib.load(CHALLENGE_PATH + \"ModelSorBis.pkl\")"
   ]
  },
  {
   "cell_type": "code",
   "execution_count": 339,
   "metadata": {
    "collapsed": true
   },
   "outputs": [],
   "source": [
    "Feat_scaled = scaler_sor.transform(Feat_sor)\n",
    "sor_pred = Reg_sor.predict(Feat_scaled)"
   ]
  },
  {
   "cell_type": "markdown",
   "metadata": {},
   "source": [
    "### 8.3bis regression on sor with data splitted in two classes"
   ]
  },
  {
   "cell_type": "code",
   "execution_count": 225,
   "metadata": {},
   "outputs": [
    {
     "name": "stdout",
     "output_type": "stream",
     "text": [
      "(112, 414)\n"
     ]
    }
   ],
   "source": [
    "Feat_sor = np.concatenate([Feat_Voids,Feat_loc_max,Feat_density,Feat_DTM1_pers,\\\n",
    "                           Feat_hX_pers,Feat_hZ_pers,Feat_SetIntensity2_pers],axis=1)\n",
    "print(np.shape(Feat_sor))"
   ]
  },
  {
   "cell_type": "code",
   "execution_count": 149,
   "metadata": {
    "collapsed": true
   },
   "outputs": [],
   "source": [
    "scaler_sor = joblib.load(CHALLENGE_PATH + \"scalerSor.pkl\")\n",
    "sor_pred0 = joblib.load(CHALLENGE_PATH + \"modelSor0.pkl\")\n",
    "sor_pred1 = joblib.load(CHALLENGE_PATH + \"modelSor1.pkl\")"
   ]
  },
  {
   "cell_type": "code",
   "execution_count": 150,
   "metadata": {
    "collapsed": true
   },
   "outputs": [],
   "source": [
    "Feat_scaled = scaler_sor.transform(Feat_sor)"
   ]
  },
  {
   "cell_type": "code",
   "execution_count": 151,
   "metadata": {
    "collapsed": true
   },
   "outputs": [],
   "source": [
    "#Feat_mat = Classif_pred.reshape((NB_INPUT_IMG,1))\n",
    "Feat_mat = Classif_pred\n",
    "\n",
    "Tag0 = Feat_mat == 0 \n",
    "W0 = np.argwhere(Tag0)\n",
    "X0 = Feat_scaled[Tag0[:,0],:]\n",
    "\n",
    "Tag1 = Feat_mat == 1\n",
    "W1 = np.argwhere(Tag1)\n",
    "X1 = Feat_scaled[Tag1[:,0],:]"
   ]
  },
  {
   "cell_type": "code",
   "execution_count": 152,
   "metadata": {
    "collapsed": true
   },
   "outputs": [],
   "source": [
    "#Compute sor prediction when splitting into 2 classes\n",
    "#and merge back the two sets of predictions.\n",
    "sor_pred = np.zeros((NB_INPUT_IMG,1))\n",
    "y_sor0 = sor_pred0.predict(X0)\n",
    "y_sor1 = sor_pred1.predict(X1)\n",
    "for it in range(len(W0)):\n",
    "    sor_pred[W0[it],0] = y_sor0[it]\n",
    "for it in range(len(W1)):\n",
    "    sor_pred[W1[it],0] = y_sor1[it]"
   ]
  },
  {
   "cell_type": "markdown",
   "metadata": {},
   "source": [
    "### 8.3 Regression on the sum of bins"
   ]
  },
  {
   "cell_type": "code",
   "execution_count": 344,
   "metadata": {
    "collapsed": true
   },
   "outputs": [],
   "source": [
    "###Warning Classif_pred is added as a new feature!\n",
    "#Feat_bins = np.concatenate([Classif_pred.reshape((NB_INPUT_IMG,1)),Feat_Voids,Feat_loc_max,Feat_density,Feat_DTM1_pers,\\\n",
    "#                            Feat_hX_pers,Feat_hZ_pers,Feat_SetIntensity2_pers],axis=1)\n",
    "\n",
    "Feat_bins = np.concatenate([Classif_pred.reshape((NB_INPUT_IMG,1)),Feat_Voids,Feat_loc_max,Feat_density,Feat_DTM1_pers,\\\n",
    "                       Feat_bd,Feat_ent_Intensity2,Feat_ent_locmax_dist],axis=1)"
   ]
  },
  {
   "cell_type": "code",
   "execution_count": 345,
   "metadata": {
    "collapsed": true
   },
   "outputs": [],
   "source": [
    "#load the regressors for each class\n",
    "scaler_bins = joblib.load(CHALLENGE_PATH + \"scalerBins.pkl\")\n",
    "Reg_bins = joblib.load(CHALLENGE_PATH + \"ModelBins.pkl\")"
   ]
  },
  {
   "cell_type": "code",
   "execution_count": 346,
   "metadata": {},
   "outputs": [],
   "source": [
    "bin_pred = np.zeros((NB_INPUT_IMG,12))\n",
    "\n",
    "Feat_scaled = scaler_bins.transform(Feat_bins)\n",
    "pred = np.ravel(Reg_bins.predict(Feat_scaled))\n",
    "for idx in range(12):\n",
    "    bin_pred[:,idx] = pred /12"
   ]
  },
  {
   "cell_type": "markdown",
   "metadata": {},
   "source": [
    "## Prepare prediction file on test data for evaluation"
   ]
  },
  {
   "cell_type": "code",
   "execution_count": 347,
   "metadata": {
    "collapsed": true
   },
   "outputs": [],
   "source": [
    "Classif_pred = Classif_pred.reshape((NB_INPUT_IMG,1))\n",
    "sor_pred = sor_pred.reshape((NB_INPUT_IMG,1))\n",
    "all_pred = np.concatenate([Classif_pred,sor_pred,bin_pred],axis=1)\n",
    "\n",
    "pred_file = open(CHALLENGE_PATH + \"Pred_April_3.csv\", \"w\")\n",
    "\n",
    "pred_file.write(\"ID;material;sor;bin 1;bin 2;bin 3;bin 4;bin 5;bin 6;bin 7;bin 8;bin 9;bin 10;bin 11;bin 12\\n\")\n",
    "\n",
    "for idx in range(NB_INPUT_IMG):\n",
    "    if all_pred[idx,0] == 0:\n",
    "        mat = \"Benth\"\n",
    "    else:\n",
    "        mat = \"Clash\"\n",
    "    row = str(StartIdx+idx) + \";\" + mat + \";\" + str(round(all_pred[idx,1],9)) + \";\"\n",
    "    for j in range(11):\n",
    "        row = row + str(round(all_pred[idx,j+2],4)) + \";\"\n",
    "    row = row + str(round(all_pred[idx,13],4)) + \"\\n\"\n",
    "    pred_file.write(row)\n",
    "pred_file.close()"
   ]
  },
  {
   "cell_type": "code",
   "execution_count": null,
   "metadata": {
    "collapsed": true
   },
   "outputs": [],
   "source": []
  }
 ],
 "metadata": {
  "kernelspec": {
   "display_name": "Python 3",
   "language": "python",
   "name": "python3"
  },
  "language_info": {
   "codemirror_mode": {
    "name": "ipython",
    "version": 3
   },
   "file_extension": ".py",
   "mimetype": "text/x-python",
   "name": "python",
   "nbconvert_exporter": "python",
   "pygments_lexer": "ipython3",
   "version": "3.6.3"
  }
 },
 "nbformat": 4,
 "nbformat_minor": 2
}
